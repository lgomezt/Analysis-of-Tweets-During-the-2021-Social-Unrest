{
 "cells": [
  {
   "cell_type": "markdown",
   "metadata": {},
   "source": [
    "# Graph Construction: Network X"
   ]
  },
  {
   "cell_type": "markdown",
   "metadata": {},
   "source": [
    "In this Notebook, we construct the graph of the Rt's Users during the Paro Nacional. Each graph corresponds to the Rt Network in moving windows of three days between April 28 of 2021 and June 30 of 2021"
   ]
  },
  {
   "cell_type": "code",
   "execution_count": 3,
   "metadata": {},
   "outputs": [],
   "source": [
    "import pickle\n",
    "from glob import glob\n",
    "import numpy as np\n",
    "import pandas as pd\n",
    "import networkx as nx\n",
    "from datetime import datetime\n",
    "from tqdm import tqdm\n",
    "from scipy.sparse import csr_matrix\n",
    "from scipy.sparse import lil_matrix"
   ]
  },
  {
   "cell_type": "code",
   "execution_count": 4,
   "metadata": {},
   "outputs": [],
   "source": [
    "with open('/mnt/disk2/Data/Pickle/user_indices.pkl','rb') as file:\n",
    "    user_indices = pickle.load(file)\n",
    "\n",
    "with open('/mnt/disk2/Data/Pickle/user_to_party.pkl','rb') as file:\n",
    "    user_to_party = pickle.load(file)"
   ]
  },
  {
   "cell_type": "code",
   "execution_count": 5,
   "metadata": {},
   "outputs": [],
   "source": [
    "# from user_indices we transform the keys as values and the values as keys\n",
    "user_indices_2 = {value: key for key, value in user_indices.items()}"
   ]
  },
  {
   "cell_type": "markdown",
   "metadata": {},
   "source": [
    "Here we create the ```construct_graph``` that will allow us to create the required graph"
   ]
  },
  {
   "cell_type": "code",
   "execution_count": 6,
   "metadata": {},
   "outputs": [],
   "source": [
    "def construct_graph(adj, date_value):\n",
    "    \"\"\"\n",
    "    Description of your function.\n",
    "\n",
    "    Args:\n",
    "        adj (type): The adjacency matrix used to construct the graph. This matrices are saved as _.npz_ files in the _Data/Matrices_ Folder\n",
    "        date_value (type): Date in datetime format This will be the atributte that will characterices each graph belonging to a specific Date\n",
    "\n",
    "    Returns:\n",
    "        type: Graph\n",
    "\n",
    "    \"\"\"\n",
    "    # Make sure the diagonal is zeros.\n",
    "    csr = csr_matrix(adj)\n",
    "    lil_matrix = csr.tolil()\n",
    "    graph = nx.Graph()\n",
    "    num_nodes = adj.shape[0]\n",
    "    graph.add_nodes_from(range(num_nodes))\n",
    "\n",
    "    # Add edges to the graph\n",
    "    for i in range(num_nodes):\n",
    "        for j in lil_matrix.rows[i]:\n",
    "            graph.add_edge(i, j, weight = lil_matrix[i, j])\n",
    "\n",
    "    # Assign 'affiliation' attribute using list comprehension\n",
    "    aff_list = [user_to_party.get(user_indices_2.get(node)) for node in graph.nodes]\n",
    "    attributes = dict(zip(graph.nodes, aff_list))\n",
    "    nx.set_node_attributes(graph, attributes, 'affiliation')\n",
    "\n",
    "    # Date attribute for nodes\n",
    "    date_attribute = {node: date_value for node in graph.nodes}\n",
    "    nx.set_node_attributes(graph, date_attribute, 'date')\n",
    "    \n",
    "    # Date attribute for edges\n",
    "    date_attribute_edges = {(u,v): date_value for u,v in graph.edges}\n",
    "    nx.set_edge_attributes(graph, date_attribute_edges, 'date')\n",
    "\n",
    "    # re Labels\n",
    "    new_labels = {node: user_indices_2.get(node) for node in graph.nodes}\n",
    "    nx.relabel_nodes(graph, new_labels, copy = False)\n",
    "\n",
    "    return graph"
   ]
  },
  {
   "cell_type": "code",
   "execution_count": 7,
   "metadata": {},
   "outputs": [],
   "source": [
    "# Dates of the Paro Nacional\n",
    "v1_start = '2021-04-28 00:00:00'\n",
    "v1_end = '2021-06-27 00:00:00'\n",
    "date1 = pd.date_range(start = v1_start, end = v1_end, freq = 'D')\n",
    "\n",
    "v2_start = '2021-04-30 23:59:59'\n",
    "v2_end = '2021-06-29 23:59:59'\n",
    "date2 = pd.date_range(start = v2_start, end = v2_end, freq = 'D')\n",
    "datestr = list(date2.strftime(\"%d-%m\"))\n"
   ]
  },
  {
   "cell_type": "markdown",
   "metadata": {},
   "source": [
    "After declaring our constructor function, we now proceed to create the loop over the adjcency matrices to create the graphs"
   ]
  },
  {
   "cell_type": "code",
   "execution_count": null,
   "metadata": {},
   "outputs": [],
   "source": [
    "k = 0\n",
    "files = glob('../fcastrillon/Data/Matrices/*.npz')\n",
    "for file in tqdm(files):\n",
    "    \n",
    "    # First, we load the stored info into a normal CSR matrix.\n",
    "    data = np.load(file)\n",
    "    indices = data['indices']\n",
    "    indptr = data['indptr']\n",
    "    shape = data['shape']\n",
    "    data = data['data']\n",
    "    A = csr_matrix((data, indices, indptr), shape = shape)\n",
    "    \n",
    "    # Now we can create the graph using 'graph_tool'.\n",
    "    date = date2[k]\n",
    "    date = datetime.strftime(date, '%d-%m-%Y')\n",
    "    graph = construct_graph(A, date)\n",
    "         \n",
    "    # Finally we save the graph in .graphml format.\n",
    "    filename = f'graph_{date}.graphml'\n",
    "    output_filepath = '../fcastrillon/Data/Graphs/' + filename\n",
    "    nx.write_graphml(graph, output_filepath)\n",
    "    print(f\"File '{filename}' successfully created and stored.\")\n",
    "    k += 1"
   ]
  },
  {
   "cell_type": "code",
   "execution_count": 4,
   "metadata": {},
   "outputs": [
    {
     "name": "stderr",
     "output_type": "stream",
     "text": [
      "61it [24:17, 23.90s/it]\n"
     ]
    }
   ],
   "source": [
    "# Load the graph files first. (24 minutes to load)\n",
    "files = glob('/mnt/disk2/Data/Graphs/*.graphml')\n",
    "    \n",
    "graph_list = []  # List to store the loaded graphs\n",
    "\n",
    "for i, file in tqdm(enumerate(files)):\n",
    "    graph = nx.read_graphml(file)\n",
    "    graph_list.append(graph)\n",
    "    globals()[\"g\" + str(i + 1)] = graph\n",
    "    \n",
    "del graph  \n",
    "del graph_list"
   ]
  },
  {
   "cell_type": "markdown",
   "metadata": {},
   "source": [
    "## Node Processing"
   ]
  },
  {
   "cell_type": "code",
   "execution_count": 27,
   "metadata": {},
   "outputs": [
    {
     "name": "stderr",
     "output_type": "stream",
     "text": [
      "100%|██████████| 37308/37308 [00:00<00:00, 915169.04it/s]"
     ]
    },
    {
     "name": "stdout",
     "output_type": "stream",
     "text": [
      "(37308, 3)\n"
     ]
    },
    {
     "name": "stderr",
     "output_type": "stream",
     "text": [
      "\n"
     ]
    },
    {
     "data": {
      "text/html": [
       "<div>\n",
       "<style scoped>\n",
       "    .dataframe tbody tr th:only-of-type {\n",
       "        vertical-align: middle;\n",
       "    }\n",
       "\n",
       "    .dataframe tbody tr th {\n",
       "        vertical-align: top;\n",
       "    }\n",
       "\n",
       "    .dataframe thead th {\n",
       "        text-align: right;\n",
       "    }\n",
       "</style>\n",
       "<table border=\"1\" class=\"dataframe\">\n",
       "  <thead>\n",
       "    <tr style=\"text-align: right;\">\n",
       "      <th></th>\n",
       "      <th>ID</th>\n",
       "      <th>Affiliation</th>\n",
       "      <th>Date</th>\n",
       "    </tr>\n",
       "  </thead>\n",
       "  <tbody>\n",
       "    <tr>\n",
       "      <th>0</th>\n",
       "      <td>281521014</td>\n",
       "      <td>Retweets Izquierda</td>\n",
       "      <td>11-06-2021</td>\n",
       "    </tr>\n",
       "    <tr>\n",
       "      <th>1</th>\n",
       "      <td>1389784145417678848</td>\n",
       "      <td>Retweets Izquierda</td>\n",
       "      <td>11-06-2021</td>\n",
       "    </tr>\n",
       "    <tr>\n",
       "      <th>2</th>\n",
       "      <td>1389769251704147968</td>\n",
       "      <td>Retweets Izquierda</td>\n",
       "      <td>11-06-2021</td>\n",
       "    </tr>\n",
       "    <tr>\n",
       "      <th>3</th>\n",
       "      <td>1389741234370064384</td>\n",
       "      <td>No Retweets</td>\n",
       "      <td>11-06-2021</td>\n",
       "    </tr>\n",
       "    <tr>\n",
       "      <th>4</th>\n",
       "      <td>1389737202742071296</td>\n",
       "      <td>Retweets Derecha</td>\n",
       "      <td>11-06-2021</td>\n",
       "    </tr>\n",
       "  </tbody>\n",
       "</table>\n",
       "</div>"
      ],
      "text/plain": [
       "                    ID         Affiliation        Date\n",
       "0            281521014  Retweets Izquierda  11-06-2021\n",
       "1  1389784145417678848  Retweets Izquierda  11-06-2021\n",
       "2  1389769251704147968  Retweets Izquierda  11-06-2021\n",
       "3  1389741234370064384         No Retweets  11-06-2021\n",
       "4  1389737202742071296    Retweets Derecha  11-06-2021"
      ]
     },
     "execution_count": 27,
     "metadata": {},
     "output_type": "execute_result"
    }
   ],
   "source": [
    "node_list = []\n",
    "\n",
    "for node, data in tqdm(g1.nodes(data = True)):\n",
    "    node_data = {'node': node, 'attributes': data}\n",
    "    node_list.append(node_data)\n",
    "\n",
    "node_info = [[d['node']] + list(d['attributes'].values()) if isinstance(d['attributes'], dict) else [d['node']] + d['attributes'] for d in node_list]\n",
    "node_info = pd.DataFrame(node_info)\n",
    "\n",
    "# Set column names\n",
    "node_info.columns = ['ID', 'Affiliation', 'Date']\n",
    "\n",
    "# We check for duplicates\n",
    "duplicates = node_info.duplicated()\n",
    "duplicates.sum()\n",
    "node_info = node_info.drop_duplicates()\n",
    "\n",
    "print(node_info.shape)\n",
    "node_info.head()"
   ]
  },
  {
   "cell_type": "code",
   "execution_count": 28,
   "metadata": {},
   "outputs": [
    {
     "name": "stdout",
     "output_type": "stream",
     "text": [
      "(37139, 5)\n"
     ]
    },
    {
     "data": {
      "text/html": [
       "<div>\n",
       "<style scoped>\n",
       "    .dataframe tbody tr th:only-of-type {\n",
       "        vertical-align: middle;\n",
       "    }\n",
       "\n",
       "    .dataframe tbody tr th {\n",
       "        vertical-align: top;\n",
       "    }\n",
       "\n",
       "    .dataframe thead th {\n",
       "        text-align: right;\n",
       "    }\n",
       "</style>\n",
       "<table border=\"1\" class=\"dataframe\">\n",
       "  <thead>\n",
       "    <tr style=\"text-align: right;\">\n",
       "      <th></th>\n",
       "      <th>user_id</th>\n",
       "      <th>handle</th>\n",
       "      <th>n_tweets</th>\n",
       "      <th>followers</th>\n",
       "      <th>date</th>\n",
       "    </tr>\n",
       "  </thead>\n",
       "  <tbody>\n",
       "    <tr>\n",
       "      <th>0</th>\n",
       "      <td>17813487</td>\n",
       "      <td>NoticiasCaracol</td>\n",
       "      <td>9829</td>\n",
       "      <td>9369950</td>\n",
       "      <td>2023-05-21</td>\n",
       "    </tr>\n",
       "    <tr>\n",
       "      <th>1</th>\n",
       "      <td>7996082</td>\n",
       "      <td>el_pais</td>\n",
       "      <td>11393</td>\n",
       "      <td>8393111</td>\n",
       "      <td>2023-05-21</td>\n",
       "    </tr>\n",
       "    <tr>\n",
       "      <th>2</th>\n",
       "      <td>35013719</td>\n",
       "      <td>NoticiasRCN</td>\n",
       "      <td>4871</td>\n",
       "      <td>8246188</td>\n",
       "      <td>2023-05-21</td>\n",
       "    </tr>\n",
       "    <tr>\n",
       "      <th>3</th>\n",
       "      <td>9633802</td>\n",
       "      <td>ELTIEMPO</td>\n",
       "      <td>9604</td>\n",
       "      <td>7804384</td>\n",
       "      <td>2023-05-21</td>\n",
       "    </tr>\n",
       "    <tr>\n",
       "      <th>4</th>\n",
       "      <td>14834302</td>\n",
       "      <td>elespectador</td>\n",
       "      <td>20903</td>\n",
       "      <td>6101363</td>\n",
       "      <td>2023-05-21</td>\n",
       "    </tr>\n",
       "  </tbody>\n",
       "</table>\n",
       "</div>"
      ],
      "text/plain": [
       "    user_id           handle  n_tweets  followers        date\n",
       "0  17813487  NoticiasCaracol      9829    9369950  2023-05-21\n",
       "1   7996082          el_pais     11393    8393111  2023-05-21\n",
       "2  35013719      NoticiasRCN      4871    8246188  2023-05-21\n",
       "3   9633802         ELTIEMPO      9604    7804384  2023-05-21\n",
       "4  14834302     elespectador     20903    6101363  2023-05-21"
      ]
     },
     "execution_count": 28,
     "metadata": {},
     "output_type": "execute_result"
    }
   ],
   "source": [
    "# we import the list of users and some info from the Checkpoint users_to_date.pkl File\n",
    "users_to_date = pd.read_pickle('/mnt/disk2/Data/Pickle/users_to_date.pkl')\n",
    "print(users_to_date.shape)\n",
    "users_to_date.head()"
   ]
  },
  {
   "cell_type": "code",
   "execution_count": 29,
   "metadata": {},
   "outputs": [
    {
     "name": "stderr",
     "output_type": "stream",
     "text": [
      "37139it [00:14, 2481.34it/s]\n"
     ]
    }
   ],
   "source": [
    "users_to_date = users_to_date.drop(users_to_date.columns[-1], axis = 1)\n",
    "users_info = {}\n",
    "\n",
    "for index, row in tqdm(users_to_date.iterrows()):\n",
    "    key = row['user_id']\n",
    "    values = row.drop('user_id').to_dict()\n",
    "    users_info[key] = values"
   ]
  },
  {
   "cell_type": "code",
   "execution_count": 30,
   "metadata": {},
   "outputs": [
    {
     "name": "stdout",
     "output_type": "stream",
     "text": [
      "(37308, 6)\n"
     ]
    },
    {
     "data": {
      "text/html": [
       "<div>\n",
       "<style scoped>\n",
       "    .dataframe tbody tr th:only-of-type {\n",
       "        vertical-align: middle;\n",
       "    }\n",
       "\n",
       "    .dataframe tbody tr th {\n",
       "        vertical-align: top;\n",
       "    }\n",
       "\n",
       "    .dataframe thead th {\n",
       "        text-align: right;\n",
       "    }\n",
       "</style>\n",
       "<table border=\"1\" class=\"dataframe\">\n",
       "  <thead>\n",
       "    <tr style=\"text-align: right;\">\n",
       "      <th></th>\n",
       "      <th>ID</th>\n",
       "      <th>Affiliation</th>\n",
       "      <th>Date</th>\n",
       "      <th>handle</th>\n",
       "      <th>n_tweets</th>\n",
       "      <th>followers</th>\n",
       "    </tr>\n",
       "  </thead>\n",
       "  <tbody>\n",
       "    <tr>\n",
       "      <th>0</th>\n",
       "      <td>2.815210e+08</td>\n",
       "      <td>Retweets Izquierda</td>\n",
       "      <td>11-06-2021</td>\n",
       "      <td>Loucypher0</td>\n",
       "      <td>277.0</td>\n",
       "      <td>776.0</td>\n",
       "    </tr>\n",
       "    <tr>\n",
       "      <th>1</th>\n",
       "      <td>1.389784e+18</td>\n",
       "      <td>Retweets Izquierda</td>\n",
       "      <td>11-06-2021</td>\n",
       "      <td>kars0518</td>\n",
       "      <td>377.0</td>\n",
       "      <td>53.0</td>\n",
       "    </tr>\n",
       "    <tr>\n",
       "      <th>2</th>\n",
       "      <td>1.389769e+18</td>\n",
       "      <td>Retweets Izquierda</td>\n",
       "      <td>11-06-2021</td>\n",
       "      <td>VaneLen18</td>\n",
       "      <td>756.0</td>\n",
       "      <td>8.0</td>\n",
       "    </tr>\n",
       "    <tr>\n",
       "      <th>3</th>\n",
       "      <td>1.389741e+18</td>\n",
       "      <td>No Retweets</td>\n",
       "      <td>11-06-2021</td>\n",
       "      <td>JhonatanVRojo</td>\n",
       "      <td>84.0</td>\n",
       "      <td>103.0</td>\n",
       "    </tr>\n",
       "    <tr>\n",
       "      <th>4</th>\n",
       "      <td>1.389737e+18</td>\n",
       "      <td>Retweets Derecha</td>\n",
       "      <td>11-06-2021</td>\n",
       "      <td>JC13177979</td>\n",
       "      <td>1950.0</td>\n",
       "      <td>94.0</td>\n",
       "    </tr>\n",
       "  </tbody>\n",
       "</table>\n",
       "</div>"
      ],
      "text/plain": [
       "             ID         Affiliation        Date         handle  n_tweets  \\\n",
       "0  2.815210e+08  Retweets Izquierda  11-06-2021     Loucypher0     277.0   \n",
       "1  1.389784e+18  Retweets Izquierda  11-06-2021       kars0518     377.0   \n",
       "2  1.389769e+18  Retweets Izquierda  11-06-2021      VaneLen18     756.0   \n",
       "3  1.389741e+18         No Retweets  11-06-2021  JhonatanVRojo      84.0   \n",
       "4  1.389737e+18    Retweets Derecha  11-06-2021     JC13177979    1950.0   \n",
       "\n",
       "   followers  \n",
       "0      776.0  \n",
       "1       53.0  \n",
       "2        8.0  \n",
       "3      103.0  \n",
       "4       94.0  "
      ]
     },
     "execution_count": 30,
     "metadata": {},
     "output_type": "execute_result"
    }
   ],
   "source": [
    "# Change the name of the users_id column\n",
    "users_to_date.rename(columns={'user_id': 'ID'}, inplace = True)\n",
    "\n",
    "# change the type of the nod_info to float\n",
    "node_info['ID'] = node_info['ID'].astype(float)\n",
    "users_to_date['ID'] = users_to_date['ID'].astype(float)\n",
    "\n",
    "# We Add the info of the users_to_date\n",
    "node_info = pd.merge(node_info, users_to_date, on = 'ID', how = 'left')\n",
    "print(node_info.shape)\n",
    "node_info.head()"
   ]
  },
  {
   "cell_type": "code",
   "execution_count": 31,
   "metadata": {},
   "outputs": [
    {
     "data": {
      "text/plain": [
       "['ID', 'handle', 'Affiliation', 'Date']"
      ]
     },
     "execution_count": 31,
     "metadata": {},
     "output_type": "execute_result"
    }
   ],
   "source": [
    "# We filter our data to keep this columns\n",
    "columns = node_info.columns.tolist()\n",
    "columns = [columns[0], columns[3], columns[1], columns[2]]\n",
    "columns"
   ]
  },
  {
   "cell_type": "code",
   "execution_count": 32,
   "metadata": {},
   "outputs": [],
   "source": [
    "# Filter\n",
    "node_info = node_info[columns]\n",
    "node_info.rename(columns={'handle': 'label'}, inplace = True)\n",
    "\n",
    "# Drop Date\n",
    "node_info = node_info.drop(node_info.columns[-1], axis = 1)\n",
    "\n",
    "# Rename\n",
    "node_info['label'] = node_info['label'].astype(str)\n",
    "node_info['Affiliation'] = node_info['Affiliation'].astype(str)\n",
    "\n",
    "node_info.to_csv('/mnt/disk2/Data/nodes.csv', index = False)"
   ]
  },
  {
   "cell_type": "markdown",
   "metadata": {},
   "source": [
    "## Edge Processing"
   ]
  },
  {
   "cell_type": "code",
   "execution_count": 6,
   "metadata": {},
   "outputs": [],
   "source": [
    "graphs = []\n",
    "\n",
    "for i in range(1, 61):\n",
    "    g_name = 'g' + str(i)\n",
    "    graphs.append(g_name)\n",
    "\n",
    "edge_lists = []"
   ]
  },
  {
   "cell_type": "code",
   "execution_count": 7,
   "metadata": {},
   "outputs": [
    {
     "name": "stderr",
     "output_type": "stream",
     "text": [
      "60it [08:25,  8.42s/it]\n"
     ]
    }
   ],
   "source": [
    "for idx, graph_name in tqdm(enumerate(graphs, start = 1)):\n",
    "    edge_list = []\n",
    "    graph = globals()[graph_name]\n",
    "    \n",
    "    for u, v, data in graph.edges(data = True):\n",
    "        edge_data = {'source': u, 'target': v, 'attributes': data}\n",
    "        edge_list.append(edge_data)\n",
    "\n",
    "    edge_info = [[d['target']] + [d['source']] + list(d['attributes'].values()) if isinstance(d['attributes'], dict) else [d['node']] + d['attributes'] for d in edge_list]\n",
    "    edge_info = pd.DataFrame(edge_info)\n",
    "\n",
    "    # Set column names\n",
    "    edge_info.columns = ['target', 'source', 'weight', 'date']\n",
    "    duplicates = edge_info.duplicated()\n",
    "    edge_info = edge_info.drop_duplicates()\n",
    "    \n",
    "    edge_lists.append(edge_info)\n",
    "    del graph"
   ]
  },
  {
   "cell_type": "code",
   "execution_count": 8,
   "metadata": {},
   "outputs": [
    {
     "data": {
      "text/html": [
       "<div>\n",
       "<style scoped>\n",
       "    .dataframe tbody tr th:only-of-type {\n",
       "        vertical-align: middle;\n",
       "    }\n",
       "\n",
       "    .dataframe tbody tr th {\n",
       "        vertical-align: top;\n",
       "    }\n",
       "\n",
       "    .dataframe thead th {\n",
       "        text-align: right;\n",
       "    }\n",
       "</style>\n",
       "<table border=\"1\" class=\"dataframe\">\n",
       "  <thead>\n",
       "    <tr style=\"text-align: right;\">\n",
       "      <th></th>\n",
       "      <th>target</th>\n",
       "      <th>source</th>\n",
       "      <th>weight</th>\n",
       "      <th>date</th>\n",
       "    </tr>\n",
       "  </thead>\n",
       "  <tbody>\n",
       "    <tr>\n",
       "      <th>0</th>\n",
       "      <td>900469958106329088</td>\n",
       "      <td>1389769251704147968</td>\n",
       "      <td>1.0</td>\n",
       "      <td>11-06-2021</td>\n",
       "    </tr>\n",
       "    <tr>\n",
       "      <th>1</th>\n",
       "      <td>882711922830974976</td>\n",
       "      <td>1389769251704147968</td>\n",
       "      <td>1.0</td>\n",
       "      <td>11-06-2021</td>\n",
       "    </tr>\n",
       "    <tr>\n",
       "      <th>2</th>\n",
       "      <td>2351617668</td>\n",
       "      <td>1389769251704147968</td>\n",
       "      <td>2.0</td>\n",
       "      <td>11-06-2021</td>\n",
       "    </tr>\n",
       "    <tr>\n",
       "      <th>3</th>\n",
       "      <td>172343678</td>\n",
       "      <td>1389769251704147968</td>\n",
       "      <td>1.0</td>\n",
       "      <td>11-06-2021</td>\n",
       "    </tr>\n",
       "    <tr>\n",
       "      <th>4</th>\n",
       "      <td>141943866</td>\n",
       "      <td>1389769251704147968</td>\n",
       "      <td>1.0</td>\n",
       "      <td>11-06-2021</td>\n",
       "    </tr>\n",
       "  </tbody>\n",
       "</table>\n",
       "</div>"
      ],
      "text/plain": [
       "               target               source  weight        date\n",
       "0  900469958106329088  1389769251704147968     1.0  11-06-2021\n",
       "1  882711922830974976  1389769251704147968     1.0  11-06-2021\n",
       "2          2351617668  1389769251704147968     2.0  11-06-2021\n",
       "3           172343678  1389769251704147968     1.0  11-06-2021\n",
       "4           141943866  1389769251704147968     1.0  11-06-2021"
      ]
     },
     "execution_count": 8,
     "metadata": {},
     "output_type": "execute_result"
    }
   ],
   "source": [
    "edges_info = pd.concat(edge_lists)\n",
    "del edge_lists\n",
    "edges_info.head()"
   ]
  },
  {
   "cell_type": "code",
   "execution_count": 10,
   "metadata": {},
   "outputs": [
    {
     "name": "stdout",
     "output_type": "stream",
     "text": [
      "0\n"
     ]
    }
   ],
   "source": [
    "# Check for duplicates\n",
    "duplicates = edges_info.duplicated()\n",
    "print(sum(duplicates))\n"
   ]
  },
  {
   "cell_type": "code",
   "execution_count": 12,
   "metadata": {},
   "outputs": [],
   "source": [
    "# Change data type of the edges_info Data Frame for consistency in data\n",
    "edges_info['target'] = edges_info['target'].astype(float)\n",
    "edges_info['source'] = edges_info['source'].astype(float)\n",
    "edges_info['weight'] = edges_info['weight'].astype(int)\n",
    "edges_info['date'] = pd.to_datetime(edges_info['date'], dayfirst=True)\n",
    "\n",
    "edges_info = edges_info.sort_values('date')"
   ]
  },
  {
   "cell_type": "code",
   "execution_count": null,
   "metadata": {},
   "outputs": [],
   "source": [
    "edges_info.to_csv('C:/Users/Usuario/OneDrive - Universidad de los andes/TorniquetesLight/Twitter/Data/graph_v1/spreadsheet/edges.csv', index = False)"
   ]
  },
  {
   "cell_type": "markdown",
   "metadata": {},
   "source": [
    "## Subgraphs"
   ]
  },
  {
   "cell_type": "code",
   "execution_count": 13,
   "metadata": {},
   "outputs": [],
   "source": [
    "edges_info['date'] = pd.to_datetime(edges_info['date'])\n",
    "edges_info[r'Timeset'] = edges_info['date'].apply(lambda x: x.isoformat())"
   ]
  },
  {
   "cell_type": "code",
   "execution_count": 14,
   "metadata": {},
   "outputs": [],
   "source": [
    "min_date = edges_info['date'].min()\n",
    "max_date = edges_info['date'].max()\n",
    "min_date = pd.to_datetime(min_date)\n",
    "max_date = pd.to_datetime(max_date)"
   ]
  },
  {
   "cell_type": "code",
   "execution_count": 15,
   "metadata": {},
   "outputs": [],
   "source": [
    "# Define the number of days in each sub-dataframe\n",
    "interval = 7\n",
    "dates = pd.date_range(start = min_date,\n",
    "                      end = max_date + pd.Timedelta(days = 10), # 10 for 10 subgraphs\n",
    "                      freq = f'{interval}D')\n",
    "dates = [date.isoformat() for date in dates]"
   ]
  },
  {
   "cell_type": "code",
   "execution_count": 16,
   "metadata": {},
   "outputs": [],
   "source": [
    "sub_edges = []\n",
    "for i in range(len(dates) - 1):\n",
    "    start_date = dates[i]\n",
    "    end_date = dates[i + 1]\n",
    "    sub_df = edges_info[(edges_info['date'] >= start_date) & (edges_info['date'] < end_date)]\n",
    "    sub_edges.append(sub_df)"
   ]
  },
  {
   "cell_type": "markdown",
   "metadata": {},
   "source": [
    "### STEPS TO LOAD DYNAMIC GRAPH IN GEPHI\n",
    "##### 1) Open Gephi\n",
    "##### 2) Import spreadsheet - nodes.csv\n",
    "##### 3) Import timeset as TimeStamp\n",
    "##### 4) Import spreadsheet - edges.csv\n",
    "##### 5) Import timeset as TimeStamp"
   ]
  }
 ],
 "metadata": {
  "kernelspec": {
   "display_name": "Python 3",
   "language": "python",
   "name": "python3"
  },
  "language_info": {
   "codemirror_mode": {
    "name": "ipython",
    "version": 3
   },
   "file_extension": ".py",
   "mimetype": "text/x-python",
   "name": "python",
   "nbconvert_exporter": "python",
   "pygments_lexer": "ipython3",
   "version": "3.8.10"
  },
  "orig_nbformat": 4
 },
 "nbformat": 4,
 "nbformat_minor": 2
}
