{
 "cells": [
  {
   "cell_type": "markdown",
   "metadata": {},
   "source": [
    "# Graph Construction: Network X"
   ]
  },
  {
   "cell_type": "code",
   "execution_count": 33,
   "metadata": {},
   "outputs": [],
   "source": [
    "import pickle\n",
    "import os\n",
    "import glob\n",
    "import numpy as np\n",
    "import pandas as pd\n",
    "import networkx as nx\n",
    "from datetime import datetime\n",
    "from tqdm import tqdm\n",
    "from scipy.sparse import csr_matrix\n",
    "from scipy.sparse import lil_matrix"
   ]
  },
  {
   "cell_type": "code",
   "execution_count": 20,
   "metadata": {},
   "outputs": [
    {
     "data": {
      "text/plain": [
       "37308"
      ]
     },
     "execution_count": 20,
     "metadata": {},
     "output_type": "execute_result"
    }
   ],
   "source": [
    "with open('../fcastrillon/Data/user_indices','rb') as file:\n",
    "    user_indices = pickle.load(file)\n",
    "\n",
    "with open('../fcastrillon/Data/user_to_party.pkl','rb') as file:\n",
    "    user_to_party = pickle.load(file)"
   ]
  },
  {
   "cell_type": "code",
   "execution_count": 21,
   "metadata": {},
   "outputs": [],
   "source": [
    "# from user_indices we transform the keys as values and the values as keys\n",
    "user_indices_2 = {value: key for key, value in user_indices.items()}"
   ]
  },
  {
   "cell_type": "markdown",
   "metadata": {},
   "source": [
    "Here we create the ```construct_graph``` that will allow us to create the required graph"
   ]
  },
  {
   "cell_type": "code",
   "execution_count": 37,
   "metadata": {},
   "outputs": [],
   "source": [
    "def construct_graph(adj, date_value):\n",
    "    \"\"\"\n",
    "    Description of your function.\n",
    "\n",
    "    Args:\n",
    "        adj (type): The adjacency matrix used to construct the graph. This matrices are saved as _.npz_ files in the _Data/Matrices_ Folder\n",
    "        date_value (type): Date in datetime format This will be the atributte that will characterices each graph belonging to a specific Date\n",
    "\n",
    "    Returns:\n",
    "        type: Graph\n",
    "\n",
    "    \"\"\"\n",
    "    # Make sure the diagonal is zeros.\n",
    "    csr = csr_matrix(adj)\n",
    "    lil_matrix = csr.tolil()\n",
    "    graph = nx.Graph()\n",
    "    num_nodes = adj.shape[0]\n",
    "    graph.add_nodes_from(range(num_nodes))\n",
    "\n",
    "    # Add edges to the graph\n",
    "    for i in range(num_nodes):\n",
    "        for j in lil_matrix.rows[i]:\n",
    "            graph.add_edge(i, j, weight = lil_matrix[i, j])\n",
    "\n",
    "    # Assign 'affiliation' attribute using list comprehension\n",
    "    aff_list = [user_to_party.get(user_indices_2.get(node)) for node in graph.nodes]\n",
    "    attributes = dict(zip(graph.nodes, aff_list))\n",
    "    nx.set_node_attributes(graph, attributes, 'affiliation')\n",
    "\n",
    "    # Date attribute\n",
    "    date_attribute = {node: date_value for node in graph.nodes}\n",
    "    nx.set_node_attributes(graph, date_attribute, 'date')\n",
    "    \n",
    "    # Date attribute\n",
    "    date_attribute_edges = {(u,v): date_value for u,v in graph.edges}\n",
    "    nx.set_edge_attributes(graph, date_attribute_edges, 'date')\n",
    "\n",
    "    # re Labels\n",
    "    new_labels = {node: user_indices_2.get(node) for node in graph.nodes}\n",
    "    nx.relabel_nodes(graph, new_labels, copy = False)\n",
    "\n",
    "    return graph"
   ]
  },
  {
   "cell_type": "code",
   "execution_count": 35,
   "metadata": {},
   "outputs": [],
   "source": [
    "# Dates of the Paro Nacional\n",
    "v1_start = '2021-04-28 00:00:00'\n",
    "v1_end = '2021-06-27 00:00:00'\n",
    "date1 = pd.date_range(start = v1_start, end = v1_end, freq = 'D')\n",
    "\n",
    "v2_start = '2021-04-30 23:59:59'\n",
    "v2_end = '2021-06-29 23:59:59'\n",
    "date2 = pd.date_range(start = v2_start, end = v2_end, freq = 'D')\n"
   ]
  },
  {
   "cell_type": "code",
   "execution_count": null,
   "metadata": {},
   "outputs": [],
   "source": [
    "k = 0\n",
    "files = glob.glob('../fcastrillon/Data/Matrices/*.npz')\n",
    "for file in tqdm(files):\n",
    "    \n",
    "    # First, we load the stored info into a normal CSR matrix.\n",
    "    data = np.load(file)\n",
    "    indices = data['indices']\n",
    "    indptr = data['indptr']\n",
    "    shape = data['shape']\n",
    "    data = data['data']\n",
    "    A = csr_matrix((data, indices, indptr), shape = shape)\n",
    "    \n",
    "    # Now we can create the graph using 'graph_tool'.\n",
    "    date = date1[k]\n",
    "    date = datetime.strftime(date, '%Y-%m-%d')\n",
    "    graph = construct_graph(A, date)\n",
    "         \n",
    "    # Finally we save the graph in .graphml format.\n",
    "    filename = f'graph_{k}.graphml'\n",
    "    output_filepath = '../fcastrillon/Data/Graphs/' + filename\n",
    "    nx.write_graphml(graph, output_filepath)\n",
    "    print(f\"File '{filename}' successfully created and stored.\")\n",
    "    k += 1"
   ]
  },
  {
   "cell_type": "code",
   "execution_count": 39,
   "metadata": {},
   "outputs": [
    {
     "data": {
      "text/plain": [
       "61"
      ]
     },
     "execution_count": 39,
     "metadata": {},
     "output_type": "execute_result"
    }
   ],
   "source": [
    "data = np.load(file)\n",
    "indices = data['indices']\n",
    "indptr = data['indptr']\n",
    "shape = data['shape']\n",
    "data = data['data']\n",
    "A = csr_matrix((data, indices, indptr), shape = shape)\n",
    "    \n",
    "    # Now we can create the graph using 'graph_tool'.\n",
    "date = date1[k]\n",
    "date = datetime.strftime(date, '%Y-%m-%d')\n",
    "graph = construct_graph(A, date)\n",
    "         \n",
    "    # Finally we save the graph in .graphml format.\n",
    "filename = f'graph_{k}.graphml'\n",
    "output_filepath = '../fcastrillon/Data/Graphs/' + filename\n",
    "nx.write_graphml(graph, output_filepath)\n",
    "print(f\"File '{filename}' successfully created and stored.\")\n",
    " "
   ]
  }
 ],
 "metadata": {
  "kernelspec": {
   "display_name": "Python 3",
   "language": "python",
   "name": "python3"
  },
  "language_info": {
   "codemirror_mode": {
    "name": "ipython",
    "version": 3
   },
   "file_extension": ".py",
   "mimetype": "text/x-python",
   "name": "python",
   "nbconvert_exporter": "python",
   "pygments_lexer": "ipython3",
   "version": "3.8.10"
  },
  "orig_nbformat": 4
 },
 "nbformat": 4,
 "nbformat_minor": 2
}
