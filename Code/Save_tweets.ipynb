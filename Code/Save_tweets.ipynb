{
 "cells": [
  {
   "cell_type": "markdown",
   "metadata": {},
   "source": [
    "# Data Cleaning\n",
    "\n",
    "In this notebook we will dump all the tweets file into a consolidated pickle file compress so that we can load it there for further analysis. We Have 3 Main samples of Data which we have to store. First, We have Data from January 2021; Second, October 2021; and finally, From April 28 to June 30.\n",
    "\n",
    "Each of this samples corresponds to a Particular moment relevant for the analysis. Octaber data is used for the anaylisis of our community during election periods. October 2019 is the month of the regional elections in Colombia. January 2021 corresponds is 3 months before the so called \"Paro Nacional\". This can let us track aour community before the social out break. Finally we have the time of the \"Paro Nacional\" Which will be the center of our analysis.\n",
    "\n",
    "This Notebook has 3 Chapters.\n",
    "1. Concatenate Users:\n",
    "\n",
    "    1.1. January 2021\n",
    "\n",
    "    1.2. October 2019\n",
    "\n",
    "    1.3. Paro Nacional\n",
    "\n",
    "    1.4. Tweets Lite\n",
    "    \n",
    "2. Save Results\n",
    "3. Conclusion"
   ]
  },
  {
   "cell_type": "code",
   "execution_count": 45,
   "metadata": {},
   "outputs": [],
   "source": [
    "import os\n",
    "import pandas as pd\n",
    "import numpy as np\n",
    "from glob import glob\n",
    "from tqdm import tqdm"
   ]
  },
  {
   "cell_type": "code",
   "execution_count": 46,
   "metadata": {},
   "outputs": [
    {
     "data": {
      "text/plain": [
       "['Matrices',\n",
       " 'nodes.csv',\n",
       " 'Pickle',\n",
       " 'Usuarios_V1',\n",
       " 'Graphs',\n",
       " 'users_jan',\n",
       " 'Tweets_DataFrames']"
      ]
     },
     "execution_count": 46,
     "metadata": {},
     "output_type": "execute_result"
    }
   ],
   "source": [
    "path = r\"/mnt/disk2/Data/\"\n",
    "os.listdir(path)"
   ]
  },
  {
   "cell_type": "markdown",
   "metadata": {},
   "source": [
    "## 1. Concatenate Users\n",
    "\n",
    "### 1.1. January 2021"
   ]
  },
  {
   "cell_type": "markdown",
   "metadata": {},
   "source": [
    "We identify two users with their file corrupted: Usuario_82383620 and Usuario_2526574133"
   ]
  },
  {
   "cell_type": "code",
   "execution_count": null,
   "metadata": {},
   "outputs": [],
   "source": [
    "# We create an empty aux list that will store the tweets.\n",
    "tweets_aux = []\n",
    "files_jan = glob(os.path.join(path, \"users_jan/*.csv\"))"
   ]
  },
  {
   "cell_type": "code",
   "execution_count": null,
   "metadata": {},
   "outputs": [],
   "source": [
    "files_jan = glob(os.path.join(path, \"users_jan/*.csv\"))\n",
    "\n",
    "for file in tqdm(files_jan):\n",
    "    tweets_aux.append(pd.read_csv(file))"
   ]
  },
  {
   "cell_type": "code",
   "execution_count": null,
   "metadata": {},
   "outputs": [],
   "source": [
    "# Finally, the tweet dataframe is established and tweets_aux is deleted.  \n",
    "tweets = pd.concat(tweets_aux)\n",
    "del tweets_aux\n",
    "tweets = tweets.sort_values('ID').reset_index(drop = True)"
   ]
  },
  {
   "cell_type": "code",
   "execution_count": null,
   "metadata": {},
   "outputs": [],
   "source": [
    "# Store results\n",
    "tweets.to_pickle(os.path.join(path, \"users_jan/tweets_jan21.gzip\"), compression = \"gzip\")"
   ]
  },
  {
   "cell_type": "markdown",
   "metadata": {},
   "source": [
    "### 1.2. October 2021"
   ]
  },
  {
   "cell_type": "code",
   "execution_count": null,
   "metadata": {},
   "outputs": [],
   "source": [
    "# We create an empty aux list that will store the tweets.\n",
    "tweets_aux = []\n",
    "files_oct = glob(os.path.join(path, 'users_oct_19/*.csv'))"
   ]
  },
  {
   "cell_type": "code",
   "execution_count": null,
   "metadata": {},
   "outputs": [],
   "source": [
    "for file in tqdm(files_oct):\n",
    "    tweets_aux.append(pd.read_csv(file))"
   ]
  },
  {
   "cell_type": "code",
   "execution_count": null,
   "metadata": {},
   "outputs": [],
   "source": [
    "# Finally, the tweet dataframe is established and tweets_aux is deleted.  \n",
    "tweets = pd.concat(tweets_aux)\n",
    "del tweets_aux\n",
    "tweets = tweets.sort_values('ID').reset_index(drop = True)"
   ]
  },
  {
   "cell_type": "code",
   "execution_count": null,
   "metadata": {},
   "outputs": [],
   "source": [
    "# Store results\n",
    "tweets.to_pickle(os.path.join(path, \"users_oct_19/tweets_oct19.gzip\"), compression = \"gzip\")"
   ]
  },
  {
   "cell_type": "markdown",
   "metadata": {},
   "source": [
    "### 1.3. Paro Nacional: April 28 - June 30 2021"
   ]
  },
  {
   "cell_type": "markdown",
   "metadata": {},
   "source": [
    "In this section of the Notebook we will create the dataframe for all the tweets between **April 28 of 2021** to **June 30 of 2021**. For this task, the dataframe we eant to construct is made from 28 pieces that are saved as ```.pkl``` files in the Data/Tweets_Dataframes/Tweets Folder"
   ]
  },
  {
   "cell_type": "code",
   "execution_count": 47,
   "metadata": {},
   "outputs": [],
   "source": [
    "# We create an empty aux list that will store the tweets.\n",
    "tweets_aux = []\n",
    "\n",
    "files_v1 = glob(os.path.join(path, 'Usuarios_V1/*.csv'))"
   ]
  },
  {
   "cell_type": "code",
   "execution_count": 48,
   "metadata": {},
   "outputs": [
    {
     "name": "stderr",
     "output_type": "stream",
     "text": [
      " 43%|████▎     | 15945/37324 [04:01<03:32, 100.47it/s]/tmp/ipykernel_269405/2034048286.py:2: DtypeWarning: Columns (6,8,10,17) have mixed types. Specify dtype option on import or set low_memory=False.\n",
      "  tweets_aux.append(pd.read_csv(file))\n",
      " 47%|████▋     | 17648/37324 [04:27<04:16, 76.72it/s] /tmp/ipykernel_269405/2034048286.py:2: DtypeWarning: Columns (18) have mixed types. Specify dtype option on import or set low_memory=False.\n",
      "  tweets_aux.append(pd.read_csv(file))\n",
      " 54%|█████▎    | 20030/37324 [05:05<05:02, 57.21it/s]/tmp/ipykernel_269405/2034048286.py:2: DtypeWarning: Columns (6,8,10,17) have mixed types. Specify dtype option on import or set low_memory=False.\n",
      "  tweets_aux.append(pd.read_csv(file))\n",
      "100%|██████████| 37324/37324 [09:09<00:00, 67.96it/s] \n"
     ]
    }
   ],
   "source": [
    "# Run time: 9 minutes aprox\n",
    "for file in tqdm(files_v1):\n",
    "    tweets_aux.append(pd.read_csv(file))"
   ]
  },
  {
   "cell_type": "code",
   "execution_count": 50,
   "metadata": {},
   "outputs": [],
   "source": [
    "# Finally, the tweet dataframe is established and tweets_aux is deleted.\n",
    "# Run time: 50 sec. aprox.  \n",
    "tweets = pd.concat(tweets_aux)\n",
    "del tweets_aux\n",
    "# tweets = tweets.sort_values('ID').reset_index(drop = True)"
   ]
  },
  {
   "cell_type": "code",
   "execution_count": 51,
   "metadata": {},
   "outputs": [
    {
     "name": "stdout",
     "output_type": "stream",
     "text": [
      "(45330718, 26)\n"
     ]
    },
    {
     "data": {
      "text/html": [
       "<div>\n",
       "<style scoped>\n",
       "    .dataframe tbody tr th:only-of-type {\n",
       "        vertical-align: middle;\n",
       "    }\n",
       "\n",
       "    .dataframe tbody tr th {\n",
       "        vertical-align: top;\n",
       "    }\n",
       "\n",
       "    .dataframe thead th {\n",
       "        text-align: right;\n",
       "    }\n",
       "</style>\n",
       "<table border=\"1\" class=\"dataframe\">\n",
       "  <thead>\n",
       "    <tr style=\"text-align: right;\">\n",
       "      <th></th>\n",
       "      <th>ID</th>\n",
       "      <th>Permalink</th>\n",
       "      <th>Author ID</th>\n",
       "      <th>Author Name</th>\n",
       "      <th>Author Location</th>\n",
       "      <th>Author Description</th>\n",
       "      <th>Author Followers</th>\n",
       "      <th>Author Following</th>\n",
       "      <th>Author Tweets</th>\n",
       "      <th>Author Profile Image</th>\n",
       "      <th>...</th>\n",
       "      <th>Quotes</th>\n",
       "      <th>is Retweet?</th>\n",
       "      <th>Reply To User Name</th>\n",
       "      <th>Mentions</th>\n",
       "      <th>Referenced Tweet</th>\n",
       "      <th>Reference Type</th>\n",
       "      <th>Referenced Tweet Author ID</th>\n",
       "      <th>Media URLs</th>\n",
       "      <th>Media Keys</th>\n",
       "      <th>Unnamed: 0</th>\n",
       "    </tr>\n",
       "  </thead>\n",
       "  <tbody>\n",
       "    <tr>\n",
       "      <th>0</th>\n",
       "      <td>1.410095e+18</td>\n",
       "      <td>/Resistenciahera/status/1410095246730485760</td>\n",
       "      <td>9.180596e+17</td>\n",
       "      <td>Resistenciahera</td>\n",
       "      <td>Cali</td>\n",
       "      <td>café adicto☕️☕️☕️☕️☕️ orgulloso de tener el co...</td>\n",
       "      <td>3181</td>\n",
       "      <td>4972.0</td>\n",
       "      <td>55097</td>\n",
       "      <td>https://pbs.twimg.com/profile_images/147008408...</td>\n",
       "      <td>...</td>\n",
       "      <td>0.0</td>\n",
       "      <td>True</td>\n",
       "      <td>NaN</td>\n",
       "      <td>JUANCAELBROKY</td>\n",
       "      <td>1.410065e+18</td>\n",
       "      <td>retweeted</td>\n",
       "      <td>1.419439e+08</td>\n",
       "      <td>https://pbs.twimg.com/ext_tw_video_thumb/14100...</td>\n",
       "      <td>7_1410064556207058948</td>\n",
       "      <td>NaN</td>\n",
       "    </tr>\n",
       "    <tr>\n",
       "      <th>1</th>\n",
       "      <td>1.410095e+18</td>\n",
       "      <td>/Resistenciahera/status/1410095063800111104</td>\n",
       "      <td>9.180596e+17</td>\n",
       "      <td>Resistenciahera</td>\n",
       "      <td>Cali</td>\n",
       "      <td>café adicto☕️☕️☕️☕️☕️ orgulloso de tener el co...</td>\n",
       "      <td>3181</td>\n",
       "      <td>4972.0</td>\n",
       "      <td>55097</td>\n",
       "      <td>https://pbs.twimg.com/profile_images/147008408...</td>\n",
       "      <td>...</td>\n",
       "      <td>0.0</td>\n",
       "      <td>True</td>\n",
       "      <td>NaN</td>\n",
       "      <td>ElParcheCritico ClaudiaLopez</td>\n",
       "      <td>1.410063e+18</td>\n",
       "      <td>retweeted</td>\n",
       "      <td>8.628063e+17</td>\n",
       "      <td>NaN</td>\n",
       "      <td>NaN</td>\n",
       "      <td>NaN</td>\n",
       "    </tr>\n",
       "    <tr>\n",
       "      <th>2</th>\n",
       "      <td>1.410094e+18</td>\n",
       "      <td>/Resistenciahera/status/1410093637279571970</td>\n",
       "      <td>9.180596e+17</td>\n",
       "      <td>Resistenciahera</td>\n",
       "      <td>Cali</td>\n",
       "      <td>café adicto☕️☕️☕️☕️☕️ orgulloso de tener el co...</td>\n",
       "      <td>3181</td>\n",
       "      <td>4972.0</td>\n",
       "      <td>55097</td>\n",
       "      <td>https://pbs.twimg.com/profile_images/147008408...</td>\n",
       "      <td>...</td>\n",
       "      <td>0.0</td>\n",
       "      <td>True</td>\n",
       "      <td>NaN</td>\n",
       "      <td>Estudianteslas1</td>\n",
       "      <td>1.410092e+18</td>\n",
       "      <td>retweeted</td>\n",
       "      <td>1.402301e+18</td>\n",
       "      <td>NaN</td>\n",
       "      <td>7_1410091724656029700</td>\n",
       "      <td>NaN</td>\n",
       "    </tr>\n",
       "    <tr>\n",
       "      <th>3</th>\n",
       "      <td>1.410093e+18</td>\n",
       "      <td>/Resistenciahera/status/1410093409419894787</td>\n",
       "      <td>9.180596e+17</td>\n",
       "      <td>Resistenciahera</td>\n",
       "      <td>Cali</td>\n",
       "      <td>café adicto☕️☕️☕️☕️☕️ orgulloso de tener el co...</td>\n",
       "      <td>3181</td>\n",
       "      <td>4972.0</td>\n",
       "      <td>55097</td>\n",
       "      <td>https://pbs.twimg.com/profile_images/147008408...</td>\n",
       "      <td>...</td>\n",
       "      <td>0.0</td>\n",
       "      <td>True</td>\n",
       "      <td>NaN</td>\n",
       "      <td>ma_camiladiaz elpais_america</td>\n",
       "      <td>1.410015e+18</td>\n",
       "      <td>retweeted</td>\n",
       "      <td>3.824198e+08</td>\n",
       "      <td>NaN</td>\n",
       "      <td>3_1410015253472202757</td>\n",
       "      <td>NaN</td>\n",
       "    </tr>\n",
       "    <tr>\n",
       "      <th>4</th>\n",
       "      <td>1.410093e+18</td>\n",
       "      <td>/Resistenciahera/status/1410093148932608006</td>\n",
       "      <td>9.180596e+17</td>\n",
       "      <td>Resistenciahera</td>\n",
       "      <td>Cali</td>\n",
       "      <td>café adicto☕️☕️☕️☕️☕️ orgulloso de tener el co...</td>\n",
       "      <td>3181</td>\n",
       "      <td>4972.0</td>\n",
       "      <td>55097</td>\n",
       "      <td>https://pbs.twimg.com/profile_images/147008408...</td>\n",
       "      <td>...</td>\n",
       "      <td>0.0</td>\n",
       "      <td>True</td>\n",
       "      <td>NaN</td>\n",
       "      <td>elespectador</td>\n",
       "      <td>1.409839e+18</td>\n",
       "      <td>retweeted</td>\n",
       "      <td>1.483430e+07</td>\n",
       "      <td>NaN</td>\n",
       "      <td>NaN</td>\n",
       "      <td>NaN</td>\n",
       "    </tr>\n",
       "  </tbody>\n",
       "</table>\n",
       "<p>5 rows × 26 columns</p>\n",
       "</div>"
      ],
      "text/plain": [
       "             ID                                    Permalink     Author ID  \\\n",
       "0  1.410095e+18  /Resistenciahera/status/1410095246730485760  9.180596e+17   \n",
       "1  1.410095e+18  /Resistenciahera/status/1410095063800111104  9.180596e+17   \n",
       "2  1.410094e+18  /Resistenciahera/status/1410093637279571970  9.180596e+17   \n",
       "3  1.410093e+18  /Resistenciahera/status/1410093409419894787  9.180596e+17   \n",
       "4  1.410093e+18  /Resistenciahera/status/1410093148932608006  9.180596e+17   \n",
       "\n",
       "       Author Name Author Location  \\\n",
       "0  Resistenciahera            Cali   \n",
       "1  Resistenciahera            Cali   \n",
       "2  Resistenciahera            Cali   \n",
       "3  Resistenciahera            Cali   \n",
       "4  Resistenciahera            Cali   \n",
       "\n",
       "                                  Author Description Author Followers  \\\n",
       "0  café adicto☕️☕️☕️☕️☕️ orgulloso de tener el co...             3181   \n",
       "1  café adicto☕️☕️☕️☕️☕️ orgulloso de tener el co...             3181   \n",
       "2  café adicto☕️☕️☕️☕️☕️ orgulloso de tener el co...             3181   \n",
       "3  café adicto☕️☕️☕️☕️☕️ orgulloso de tener el co...             3181   \n",
       "4  café adicto☕️☕️☕️☕️☕️ orgulloso de tener el co...             3181   \n",
       "\n",
       "   Author Following Author Tweets  \\\n",
       "0            4972.0         55097   \n",
       "1            4972.0         55097   \n",
       "2            4972.0         55097   \n",
       "3            4972.0         55097   \n",
       "4            4972.0         55097   \n",
       "\n",
       "                                Author Profile Image  ... Quotes is Retweet?  \\\n",
       "0  https://pbs.twimg.com/profile_images/147008408...  ...    0.0        True   \n",
       "1  https://pbs.twimg.com/profile_images/147008408...  ...    0.0        True   \n",
       "2  https://pbs.twimg.com/profile_images/147008408...  ...    0.0        True   \n",
       "3  https://pbs.twimg.com/profile_images/147008408...  ...    0.0        True   \n",
       "4  https://pbs.twimg.com/profile_images/147008408...  ...    0.0        True   \n",
       "\n",
       "  Reply To User Name                       Mentions  Referenced Tweet  \\\n",
       "0                NaN                  JUANCAELBROKY      1.410065e+18   \n",
       "1                NaN   ElParcheCritico ClaudiaLopez      1.410063e+18   \n",
       "2                NaN                Estudianteslas1      1.410092e+18   \n",
       "3                NaN   ma_camiladiaz elpais_america      1.410015e+18   \n",
       "4                NaN                   elespectador      1.409839e+18   \n",
       "\n",
       "   Reference Type  Referenced Tweet Author ID  \\\n",
       "0       retweeted                1.419439e+08   \n",
       "1       retweeted                8.628063e+17   \n",
       "2       retweeted                1.402301e+18   \n",
       "3       retweeted                3.824198e+08   \n",
       "4       retweeted                1.483430e+07   \n",
       "\n",
       "                                          Media URLs             Media Keys  \\\n",
       "0  https://pbs.twimg.com/ext_tw_video_thumb/14100...  7_1410064556207058948   \n",
       "1                                                NaN                    NaN   \n",
       "2                                                NaN  7_1410091724656029700   \n",
       "3                                                NaN  3_1410015253472202757   \n",
       "4                                                NaN                    NaN   \n",
       "\n",
       "  Unnamed: 0  \n",
       "0        NaN  \n",
       "1        NaN  \n",
       "2        NaN  \n",
       "3        NaN  \n",
       "4        NaN  \n",
       "\n",
       "[5 rows x 26 columns]"
      ]
     },
     "execution_count": 51,
     "metadata": {},
     "output_type": "execute_result"
    }
   ],
   "source": [
    "# We check the correct concatenation of the the Data Frame.\n",
    "print(tweets.shape)\n",
    "tweets.head()"
   ]
  },
  {
   "cell_type": "markdown",
   "metadata": {},
   "source": [
    "### 4.1. Tweets Lite"
   ]
  },
  {
   "cell_type": "code",
   "execution_count": 52,
   "metadata": {},
   "outputs": [
    {
     "data": {
      "text/html": [
       "<div>\n",
       "<style scoped>\n",
       "    .dataframe tbody tr th:only-of-type {\n",
       "        vertical-align: middle;\n",
       "    }\n",
       "\n",
       "    .dataframe tbody tr th {\n",
       "        vertical-align: top;\n",
       "    }\n",
       "\n",
       "    .dataframe thead th {\n",
       "        text-align: right;\n",
       "    }\n",
       "</style>\n",
       "<table border=\"1\" class=\"dataframe\">\n",
       "  <thead>\n",
       "    <tr style=\"text-align: right;\">\n",
       "      <th></th>\n",
       "      <th>Author ID</th>\n",
       "      <th>Date</th>\n",
       "      <th>Reference Type</th>\n",
       "      <th>Referenced Tweet Author ID</th>\n",
       "    </tr>\n",
       "  </thead>\n",
       "  <tbody>\n",
       "    <tr>\n",
       "      <th>0</th>\n",
       "      <td>9.180596e+17</td>\n",
       "      <td>2021/06/29 23:37:59</td>\n",
       "      <td>retweeted</td>\n",
       "      <td>1.419439e+08</td>\n",
       "    </tr>\n",
       "    <tr>\n",
       "      <th>1</th>\n",
       "      <td>9.180596e+17</td>\n",
       "      <td>2021/06/29 23:37:16</td>\n",
       "      <td>retweeted</td>\n",
       "      <td>8.628063e+17</td>\n",
       "    </tr>\n",
       "    <tr>\n",
       "      <th>2</th>\n",
       "      <td>9.180596e+17</td>\n",
       "      <td>2021/06/29 23:31:36</td>\n",
       "      <td>retweeted</td>\n",
       "      <td>1.402301e+18</td>\n",
       "    </tr>\n",
       "    <tr>\n",
       "      <th>3</th>\n",
       "      <td>9.180596e+17</td>\n",
       "      <td>2021/06/29 23:30:41</td>\n",
       "      <td>retweeted</td>\n",
       "      <td>3.824198e+08</td>\n",
       "    </tr>\n",
       "    <tr>\n",
       "      <th>4</th>\n",
       "      <td>9.180596e+17</td>\n",
       "      <td>2021/06/29 23:29:39</td>\n",
       "      <td>retweeted</td>\n",
       "      <td>1.483430e+07</td>\n",
       "    </tr>\n",
       "    <tr>\n",
       "      <th>...</th>\n",
       "      <td>...</td>\n",
       "      <td>...</td>\n",
       "      <td>...</td>\n",
       "      <td>...</td>\n",
       "    </tr>\n",
       "    <tr>\n",
       "      <th>5529</th>\n",
       "      <td>3.127120e+08</td>\n",
       "      <td>2021/04/28 08:57:33</td>\n",
       "      <td>retweeted</td>\n",
       "      <td>3.430008e+09</td>\n",
       "    </tr>\n",
       "    <tr>\n",
       "      <th>5530</th>\n",
       "      <td>3.127120e+08</td>\n",
       "      <td>2021/04/28 08:57:09</td>\n",
       "      <td>replied_to</td>\n",
       "      <td>1.398586e+08</td>\n",
       "    </tr>\n",
       "    <tr>\n",
       "      <th>5531</th>\n",
       "      <td>3.127120e+08</td>\n",
       "      <td>2021/04/28 08:45:00</td>\n",
       "      <td>replied_to</td>\n",
       "      <td>9.818823e+17</td>\n",
       "    </tr>\n",
       "    <tr>\n",
       "      <th>5532</th>\n",
       "      <td>3.127120e+08</td>\n",
       "      <td>2021/04/28 07:49:14</td>\n",
       "      <td>NaN</td>\n",
       "      <td>NaN</td>\n",
       "    </tr>\n",
       "    <tr>\n",
       "      <th>5533</th>\n",
       "      <td>3.127120e+08</td>\n",
       "      <td>2021/04/28 00:06:21</td>\n",
       "      <td>retweeted</td>\n",
       "      <td>8.603641e+17</td>\n",
       "    </tr>\n",
       "  </tbody>\n",
       "</table>\n",
       "<p>45330718 rows × 4 columns</p>\n",
       "</div>"
      ],
      "text/plain": [
       "         Author ID                 Date Reference Type  \\\n",
       "0     9.180596e+17  2021/06/29 23:37:59      retweeted   \n",
       "1     9.180596e+17  2021/06/29 23:37:16      retweeted   \n",
       "2     9.180596e+17  2021/06/29 23:31:36      retweeted   \n",
       "3     9.180596e+17  2021/06/29 23:30:41      retweeted   \n",
       "4     9.180596e+17  2021/06/29 23:29:39      retweeted   \n",
       "...            ...                  ...            ...   \n",
       "5529  3.127120e+08  2021/04/28 08:57:33      retweeted   \n",
       "5530  3.127120e+08  2021/04/28 08:57:09     replied_to   \n",
       "5531  3.127120e+08  2021/04/28 08:45:00     replied_to   \n",
       "5532  3.127120e+08  2021/04/28 07:49:14            NaN   \n",
       "5533  3.127120e+08  2021/04/28 00:06:21      retweeted   \n",
       "\n",
       "      Referenced Tweet Author ID  \n",
       "0                   1.419439e+08  \n",
       "1                   8.628063e+17  \n",
       "2                   1.402301e+18  \n",
       "3                   3.824198e+08  \n",
       "4                   1.483430e+07  \n",
       "...                          ...  \n",
       "5529                3.430008e+09  \n",
       "5530                1.398586e+08  \n",
       "5531                9.818823e+17  \n",
       "5532                         NaN  \n",
       "5533                8.603641e+17  \n",
       "\n",
       "[45330718 rows x 4 columns]"
      ]
     },
     "execution_count": 52,
     "metadata": {},
     "output_type": "execute_result"
    }
   ],
   "source": [
    "# Get just the columns that we need for the Graph construction\n",
    "cols = ['Author ID',\n",
    "        'Date',\n",
    "        'Reference Type',\n",
    "        'Referenced Tweet Author ID']\n",
    "tweets_lite = tweets[cols]\n",
    "tweets_lite"
   ]
  },
  {
   "cell_type": "markdown",
   "metadata": {},
   "source": [
    "## 2. Save Results"
   ]
  },
  {
   "cell_type": "code",
   "execution_count": null,
   "metadata": {},
   "outputs": [
    {
     "ename": "",
     "evalue": "",
     "output_type": "error",
     "traceback": [
      "\u001b[1;31mThe Kernel crashed while executing code in the the current cell or a previous cell. Please review the code in the cell(s) to identify a possible cause of the failure. Click <a href='https://aka.ms/vscodeJupyterKernelCrash'>here</a> for more info. View Jupyter <a href='command:jupyter.viewOutput'>log</a> for further details."
     ]
    }
   ],
   "source": [
    "# Store results\n",
    "# run sudo chmod 777 Data/Tweets_DataFrames in bash if it is needed\n",
    "tweets.to_pickle(os.path.join(path, \"Tweets_DataFrames/tweets_Usuarios_V1.gzip\"), compression = \"gzip\")"
   ]
  },
  {
   "cell_type": "code",
   "execution_count": null,
   "metadata": {},
   "outputs": [],
   "source": [
    "# Store results\n",
    "# run sudo chmod 777 Data/Tweets_DataFrames in bash if it is needed\n",
    "tweets_lite.to_pickle(os.path.join(path, \"Tweets_DataFrames/tweets_lite.gzip\"), compression = \"gzip\")"
   ]
  },
  {
   "cell_type": "markdown",
   "metadata": {},
   "source": [
    "## 3. Conclusion\n",
    "\n",
    "The output of this Notebook is listed Below\n",
    "\n",
    "- **tweets_jan21.gzip**: Dataframe for the Tweets for our users during January of 2021. 3 Months before the social estallido\n",
    "\n",
    "- **tweets_oct19.gzip**: Dataframe for the Tweets for our users during October of 2019. Regional elections Period\n",
    "\n",
    "- **tweets_Usuarios_V1.gzip**: Dataframe for the tweets of our users between April 28 to June 30 of 2021\n",
    "\n",
    "- **tweets_lite.pkl**: Lite version of **tweets_Usuarios_V1.gzip** that contains just the colmns needed for the graph construction. Which is Author ID, Reference Type, Date and Retweet Author"
   ]
  }
 ],
 "metadata": {
  "kernelspec": {
   "display_name": "Python 3",
   "language": "python",
   "name": "python3"
  },
  "language_info": {
   "codemirror_mode": {
    "name": "ipython",
    "version": 3
   },
   "file_extension": ".py",
   "mimetype": "text/x-python",
   "name": "python",
   "nbconvert_exporter": "python",
   "pygments_lexer": "ipython3",
   "version": "3.11.5"
  },
  "orig_nbformat": 4
 },
 "nbformat": 4,
 "nbformat_minor": 2
}
