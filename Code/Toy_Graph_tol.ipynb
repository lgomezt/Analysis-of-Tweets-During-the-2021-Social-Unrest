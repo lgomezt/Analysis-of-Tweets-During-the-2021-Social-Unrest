{
 "cells": [
  {
   "cell_type": "markdown",
   "metadata": {},
   "source": [
    "# Graph Tool Sanbox"
   ]
  },
  {
   "cell_type": "code",
   "execution_count": 80,
   "metadata": {},
   "outputs": [
    {
     "data": {
      "text/plain": [
       "<module 'Functions' from '/mnt/disk2/fcastrillon/Analysis-of-Tweets-During-the-2021-Social-Unrest/Code/Functions.py'>"
      ]
     },
     "execution_count": 80,
     "metadata": {},
     "output_type": "execute_result"
    }
   ],
   "source": [
    "# Mathematical and Data Managment\n",
    "import numpy as np\n",
    "import pandas as pd\n",
    "import scipy.sparse as sp\n",
    "\n",
    "# Graph Managment\n",
    "import graph_tool.all as gt\n",
    "import networkx as nx\n",
    "import Functions as Fun\n",
    "import Segregation as Seg\n",
    " \n",
    "# Data Visualization\n",
    "import seaborn as sns\n",
    "import matplotlib.pyplot as plt\n",
    "from forceatlas2 import forceatlas2_networkx_layout\n",
    "\n",
    "# Miscellaneous\n",
    "from glob import glob\n",
    "from tqdm import tqdm\n",
    "import random\n",
    "\n",
    "# Reload Utils\n",
    "import importlib\n",
    "importlib.reload(Seg)\n",
    "importlib.reload(Fun)\n"
   ]
  },
  {
   "cell_type": "markdown",
   "metadata": {},
   "source": [
    "Grafo Minimo reproducible similar al grafo grande"
   ]
  },
  {
   "cell_type": "code",
   "execution_count": 72,
   "metadata": {},
   "outputs": [
    {
     "name": "stdout",
     "output_type": "stream",
     "text": [
      "This is our toy edge list [(0, 1), (1, 2), (2, 0), (3, 1), (4, 5), (5, 4)]\n",
      "This are our toy weights [8, 9, 7, 10, 12, 11]\n"
     ]
    },
    {
     "data": {
      "image/png": "[encoded data removed]",
      "text/plain": [
       "<IPython.core.display.Image object>"
      ]
     },
     "metadata": {
      "image/png": {
       "height": 162,
       "width": 200
      }
     },
     "output_type": "display_data"
    },
    {
     "data": {
      "text/plain": [
       "<VertexPropertyMap object with value type 'vector<double>', for Graph 0x7fde26d1a6d0, at 0x7fde08f46290>"
      ]
     },
     "execution_count": 72,
     "metadata": {},
     "output_type": "execute_result"
    }
   ],
   "source": [
    "# TOY GRAPH FOR CALCULATIONS\n",
    "random.seed(1)\n",
    "\n",
    "edge_list = [(0,1),(1,2),(2,0),(3,1),(4,5),(5,4)]\n",
    "vertex_dict = {\n",
    "    'label': 'a b c d e f'.split(' '),\n",
    "    'pa': 'd c d i i i'.split(' '),\n",
    "    'id': [i for i in range(10000,10006)]\n",
    "}\n",
    "color = {\n",
    "    'i': (0,0,1), # Azul\n",
    "    'd': (1,0,0), # Rojo\n",
    "    'c': (0,1,0) # Centro\n",
    "}\n",
    "weights = [8,9,7,10,12,11]\n",
    "g = gt.Graph(directed=True)\n",
    "print(f'This is our toy edge list {edge_list}')\n",
    "print(f'This are our toy weights {weights}')\n",
    "\n",
    "g.add_edge_list(edge_list=edge_list)\n",
    "\n",
    "# Create an edge property map for weights\n",
    "edge_weight_map = g.new_edge_property(\"double\")\n",
    "edge_date_map = g.new_edge_property('string')\n",
    "\n",
    "# Create a Vertex property map for labels\n",
    "vertex_PA_map = g.new_vertex_property('string')\n",
    "vertex_ID_map = g.new_vertex_property('int64_t')\n",
    "vertex_color_map = g.new_vertex_property('vector<double>')\n",
    "vertex_label_map = g.new_vertex_property('string')\n",
    "vertex_izquierda_map = g.new_vertex_property('bool')\n",
    "\n",
    "# Add edges properties\n",
    "edge_list = g.get_edges()\n",
    "for i, e in enumerate(edge_list):\n",
    "    edge_weight_map[e] = weights[i]\n",
    "    edge_date_map[e] = '2021-05-16'\n",
    "\n",
    "# Add Vertex properties\n",
    "vertex_list = g.get_vertices()\n",
    "for v in vertex_list:\n",
    "    vertex_PA_map[v] = vertex_dict['pa'][v]\n",
    "    vertex_ID_map[v] = vertex_dict['id'][v]\n",
    "    vertex_label_map[v] = vertex_dict['label'][v]\n",
    "    vertex_color_map[v] = color[vertex_dict['pa'][v]]\n",
    "    if vertex_dict['pa'][v] == 'i':\n",
    "        vertex_izquierda_map[v] = True\n",
    "    else:\n",
    "        vertex_izquierda_map[v] = False\n",
    "\n",
    "# Assign the maps to the Graph Object\n",
    "g.vp['Political Label'] = vertex_PA_map\n",
    "g.vp['User ID'] = vertex_ID_map\n",
    "g.vp['Label'] = vertex_label_map\n",
    "g.vp['Color'] = vertex_color_map\n",
    "g.vp['Izquierda'] = vertex_izquierda_map\n",
    "g.ep['Normal Weights'] = edge_weight_map\n",
    "g.ep['Ending date'] = edge_date_map\n",
    "\n",
    "# Create a graph layout and drawing\n",
    "pos = gt.sfdp_layout(g)\n",
    "\n",
    "gt.graph_draw(g,\n",
    "              pos=pos,\n",
    "              output_size=(200, 200),\n",
    "              vertex_fill_color=vertex_color_map, # Uncomment to show Vertex colors\n",
    "              #vertex_text=vertex_label_map,        # Uncomment to show vertex labels\n",
    "              vertex_shape = 'pentagon')"
   ]
  },
  {
   "cell_type": "code",
   "execution_count": 52,
   "metadata": {},
   "outputs": [
    {
     "name": "stdout",
     "output_type": "stream",
     "text": [
      "Adjacency Matrix (Can have weights or be simple 1-0)\n",
      "[[0. 1. 0. 0. 0. 0.]\n",
      " [0. 0. 1. 0. 0. 0.]\n",
      " [1. 0. 0. 0. 0. 0.]\n",
      " [0. 1. 0. 0. 0. 0.]\n",
      " [0. 0. 0. 0. 0. 1.]\n",
      " [0. 0. 0. 0. 1. 0.]]\n",
      " \n",
      "Nodes\n",
      "[0 1 2 3 4 5]\n",
      " \n",
      "Types Array\n",
      "['d' 'c' 'd' 'i' 'i' 'i']\n",
      " \n",
      "Types Dictionary\n",
      "{'c': [0, 1, 0, 0, 0, 0], 'd': [1, 0, 1, 0, 0, 0], 'i': [0, 0, 0, 1, 1, 1]}\n",
      " \n",
      "Types Index Dictionary\n",
      "{'c': 0, 'd': 1, 'i': 2}\n",
      " \n",
      "Types Matrix (A column is one of the arrays in the Types Dictionary)\n",
      "[[0 1 0]\n",
      " [1 0 0]\n",
      " [0 1 0]\n",
      " [0 0 1]\n",
      " [0 0 1]\n",
      " [0 0 1]]\n",
      " \n",
      "Contact Layer\n",
      "[[0. 1. 0.]\n",
      " [1. 1. 0.]\n",
      " [1. 0. 2.]]\n",
      " \n",
      "Non Contact Layer\n",
      "[[0. 1. 3.]\n",
      " [1. 1. 6.]\n",
      " [2. 6. 4.]]\n",
      " \n",
      "Me Vs Others (Contact Layer considering one group Against all others) for Derecha\n",
      "[[1. 1.]\n",
      " [1. 3.]]\n"
     ]
    }
   ],
   "source": [
    "# FUNCTION TESTING\n",
    "print('Adjacency Matrix (Can have weights or be simple 1-0)')\n",
    "print(Fun.get_adjacency(g))\n",
    "print(' ')\n",
    "print('Nodes')\n",
    "print(g.get_vertices())\n",
    "print(' ')\n",
    "print('Types Array')\n",
    "print(Fun.get_types_array(g,types='Political Label'))\n",
    "print(' ')\n",
    "print('Types Dictionary')\n",
    "print(Fun.get_types_dict(g,types='Political Label'))\n",
    "print(' ')\n",
    "print('Types Index Dictionary')\n",
    "print(Fun.get_types_index(g,types='Political Label'))\n",
    "print(' ')\n",
    "print('Types Matrix (A column is one of the arrays in the Types Dictionary)')\n",
    "print(Fun.get_types_matrix(g,types='Political Label'))\n",
    "print(' ')\n",
    "print('Contact Layer')\n",
    "print(Fun.get_contact_layer(g,types='Political Label'))\n",
    "print(' ')\n",
    "print('Non Contact Layer')\n",
    "print(Fun.get_non_contact_layer(g,types='Political Label'))\n",
    "print(' ')\n",
    "print('Me Vs Others (Contact Layer considering one group Against all others) for Derecha')\n",
    "print(Fun.me_vs_others(Fun.get_contact_layer(g,types='Political Label'), Fun.get_types_index(g,types='Political Label')['d'] ))"
   ]
  },
  {
   "cell_type": "code",
   "execution_count": 83,
   "metadata": {},
   "outputs": [
    {
     "data": {
      "text/plain": [
       "array([[2., 1.],\n",
       "       [0., 3.]])"
      ]
     },
     "execution_count": 83,
     "metadata": {},
     "output_type": "execute_result"
    }
   ],
   "source": [
    "Fun.get_contact_layer(g, 'Izquierda')"
   ]
  },
  {
   "cell_type": "code",
   "execution_count": 12,
   "metadata": {},
   "outputs": [],
   "source": [
    "# Segregation Index =================================================================================\n",
    "def ss_index(g:gt.Graph, type:str, weight:str):\n",
    "\n",
    "    # Take subgraphs of b-nodes\n",
    "    sub = gt.GraphView(g, vfilt=g.vp[type])\n",
    "\n",
    "    # Label components\n",
    "    components_map = gt.label_components(sub)[0]\n",
    "    comps = np.unique(components_map.a)\n",
    "    \n",
    "    component_subgraphs = [gt.GraphView(sub, vfilt=lambda v: components_map[v] == comp) for comp in comps]\n",
    "\n",
    "    # Compute eigen-decomposition\n",
    "    e = [gt.eigenvector(g, weight=g.ep[weight], max_iter=10) for g in component_subgraphs]\n",
    "\n",
    "    # # Component SSIs (largest eigenvalue)\n",
    "    # cssi = [float(x.a[0]) for x in e]\n",
    "\n",
    "    # # Eigenvectors of the largest eigenvalue\n",
    "    # ev = [list(x.get_array()) for x in e]\n",
    "\n",
    "    # issi = {}\n",
    "    # for i, component in enumerate(gt.component_subgraphs(sub, comps)):\n",
    "    #     rval = cssi[i] * ev[i] / ev[i].mean()\n",
    "    #     for v in component.iter_vertices():\n",
    "    #         issi[g.vp.id[v]] = rval[int(v)]\n",
    "    \n",
    "    # # Sort issi by node id\n",
    "    # issi = dict(sorted(issi.items(), key=lambda item: int(item[0])))\n",
    "\n",
    "    # # Create output\n",
    "    # issi_ids = {'id': list(issi.keys()), 'outcome': list(issi.values())}\n",
    "\n",
    "    # eturn issi_ids\n",
    "    return e\n",
    "\n",
    "XD = ss_index(g, 'Izquierda', 'Normal Weights')"
   ]
  },
  {
   "cell_type": "code",
   "execution_count": 18,
   "metadata": {},
   "outputs": [
    {
     "data": {
      "text/plain": [
       "(11.46742720894503,\n",
       " <VertexPropertyMap object with value type 'double', for Graph 0x7f1b8a4a0a90, at 0x7f1b89343d50>)"
      ]
     },
     "execution_count": 18,
     "metadata": {},
     "output_type": "execute_result"
    }
   ],
   "source": [
    "XD[1]"
   ]
  },
  {
   "cell_type": "code",
   "execution_count": 10,
   "metadata": {},
   "outputs": [
    {
     "ename": "AttributeError",
     "evalue": "'float' object has no attribute 'own_property'",
     "output_type": "error",
     "traceback": [
      "\u001b[0;31m---------------------------------------------------------------------------\u001b[0m",
      "\u001b[0;31mAttributeError\u001b[0m                            Traceback (most recent call last)",
      "\u001b[1;32m/mnt/disk2/fcastrillon/Analysis-of-Tweets-During-the-2021-Social-Unrest/Code/Toy_Graph_tol.ipynb Cell 8\u001b[0m line \u001b[0;36m1\n\u001b[0;32m----> <a href='vscode-notebook-cell://ssh-remote%2B157.253.242.110/mnt/disk2/fcastrillon/Analysis-of-Tweets-During-the-2021-Social-Unrest/Code/Toy_Graph_tol.ipynb#X11sdnNjb2RlLXJlbW90ZQ%3D%3D?line=0'>1</a>\u001b[0m gt\u001b[39m.\u001b[39;49mgraph_draw(XD[\u001b[39m0\u001b[39;49m],\n\u001b[1;32m      <a href='vscode-notebook-cell://ssh-remote%2B157.253.242.110/mnt/disk2/fcastrillon/Analysis-of-Tweets-During-the-2021-Social-Unrest/Code/Toy_Graph_tol.ipynb#X11sdnNjb2RlLXJlbW90ZQ%3D%3D?line=1'>2</a>\u001b[0m               pos\u001b[39m=\u001b[39;49mpos,\n\u001b[1;32m      <a href='vscode-notebook-cell://ssh-remote%2B157.253.242.110/mnt/disk2/fcastrillon/Analysis-of-Tweets-During-the-2021-Social-Unrest/Code/Toy_Graph_tol.ipynb#X11sdnNjb2RlLXJlbW90ZQ%3D%3D?line=2'>3</a>\u001b[0m               output_size\u001b[39m=\u001b[39;49m(\u001b[39m200\u001b[39;49m, \u001b[39m200\u001b[39;49m),\n\u001b[1;32m      <a href='vscode-notebook-cell://ssh-remote%2B157.253.242.110/mnt/disk2/fcastrillon/Analysis-of-Tweets-During-the-2021-Social-Unrest/Code/Toy_Graph_tol.ipynb#X11sdnNjb2RlLXJlbW90ZQ%3D%3D?line=3'>4</a>\u001b[0m               vertex_fill_color\u001b[39m=\u001b[39;49mvertex_color_map, \u001b[39m# Uncomment to show Vertex colors\u001b[39;49;00m\n\u001b[1;32m      <a href='vscode-notebook-cell://ssh-remote%2B157.253.242.110/mnt/disk2/fcastrillon/Analysis-of-Tweets-During-the-2021-Social-Unrest/Code/Toy_Graph_tol.ipynb#X11sdnNjb2RlLXJlbW90ZQ%3D%3D?line=4'>5</a>\u001b[0m               \u001b[39m#vertex_text=vertex_label_map,        # Uncomment to show vertex labels\u001b[39;49;00m\n\u001b[1;32m      <a href='vscode-notebook-cell://ssh-remote%2B157.253.242.110/mnt/disk2/fcastrillon/Analysis-of-Tweets-During-the-2021-Social-Unrest/Code/Toy_Graph_tol.ipynb#X11sdnNjb2RlLXJlbW90ZQ%3D%3D?line=5'>6</a>\u001b[0m               vertex_shape \u001b[39m=\u001b[39;49m \u001b[39m'\u001b[39;49m\u001b[39mpentagon\u001b[39;49m\u001b[39m'\u001b[39;49m)\n",
      "File \u001b[0;32m/mnt/disk2/anaconda3/envs/gt_global/lib/python3.11/site-packages/graph_tool/draw/cairo_draw.py:1083\u001b[0m, in \u001b[0;36mgraph_draw\u001b[0;34m(g, pos, vprops, eprops, vorder, eorder, nodesfirst, output_size, fit_view, fit_view_ink, adjust_aspect, ink_scale, inline, inline_scale, mplfig, output, fmt, bg_color, **kwargs)\u001b[0m\n\u001b[1;32m   1081\u001b[0m         pos \u001b[39m=\u001b[39m sfdp_layout(g)\n\u001b[1;32m   1082\u001b[0m \u001b[39melse\u001b[39;00m:\n\u001b[0;32m-> 1083\u001b[0m     pos \u001b[39m=\u001b[39m g\u001b[39m.\u001b[39;49mown_property(pos)\n\u001b[1;32m   1084\u001b[0m     _check_prop_vector(pos, name\u001b[39m=\u001b[39m\u001b[39m\"\u001b[39m\u001b[39mpos\u001b[39m\u001b[39m\"\u001b[39m, floating\u001b[39m=\u001b[39m\u001b[39mTrue\u001b[39;00m)\n\u001b[1;32m   1085\u001b[0m     \u001b[39mif\u001b[39;00m output \u001b[39mis\u001b[39;00m \u001b[39mNone\u001b[39;00m \u001b[39mand\u001b[39;00m \u001b[39mnot\u001b[39;00m inline \u001b[39mand\u001b[39;00m mplfig \u001b[39mis\u001b[39;00m \u001b[39mNone\u001b[39;00m:\n",
      "\u001b[0;31mAttributeError\u001b[0m: 'float' object has no attribute 'own_property'"
     ]
    }
   ],
   "source": [
    "gt.graph_draw(XD[0],\n",
    "              pos=pos,\n",
    "              output_size=(200, 200),\n",
    "              vertex_fill_color=vertex_color_map, # Uncomment to show Vertex colors\n",
    "              #vertex_text=vertex_label_map,        # Uncomment to show vertex labels\n",
    "              vertex_shape = 'pentagon')"
   ]
  },
  {
   "cell_type": "code",
   "execution_count": 19,
   "metadata": {},
   "outputs": [],
   "source": [
    "g_view = gt.GraphView(g, vfilt=g.vp['Izquierda'])"
   ]
  },
  {
   "cell_type": "code",
   "execution_count": 8,
   "metadata": {},
   "outputs": [
    {
     "data": {
      "text/plain": [
       "(11.467427208945033,\n",
       " <VertexPropertyMap object with value type 'double', for Graph 0x7fde0a615250, at 0x7fde0af72b10>)"
      ]
     },
     "execution_count": 8,
     "metadata": {},
     "output_type": "execute_result"
    }
   ],
   "source": [
    "gt.eigenvector(g, weight=g.ep['Normal Weights'], max_iter=100000)"
   ]
  },
  {
   "cell_type": "code",
   "execution_count": 12,
   "metadata": {},
   "outputs": [
    {
     "data": {
      "text/plain": [
       "PropertyArray([4.94065646e-324, 4.94065646e-324, 4.94065646e-324,\n",
       "               0.00000000e+000, 7.07106781e-001, 7.07106781e-001])"
      ]
     },
     "execution_count": 12,
     "metadata": {},
     "output_type": "execute_result"
    }
   ],
   "source": [
    "gt.eigenvector(g, weight=g.ep['Normal Weights'], max_iter=100000)[1].a"
   ]
  }
 ],
 "metadata": {
  "kernelspec": {
   "display_name": "gt_global",
   "language": "python",
   "name": "python3"
  },
  "language_info": {
   "codemirror_mode": {
    "name": "ipython",
    "version": 3
   },
   "file_extension": ".py",
   "mimetype": "text/x-python",
   "name": "python",
   "nbconvert_exporter": "python",
   "pygments_lexer": "ipython3",
   "version": "3.11.6"
  }
 },
 "nbformat": 4,
 "nbformat_minor": 2
}
