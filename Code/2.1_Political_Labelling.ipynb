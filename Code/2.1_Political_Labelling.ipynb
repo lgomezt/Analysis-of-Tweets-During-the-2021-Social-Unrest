{
 "cells": [
  {
   "cell_type": "markdown",
   "metadata": {},
   "source": [
    "# Political Labelling\n",
    "\n",
    "This Script categorices Twitter User IDs with a political affiliation. For that, We use a list of political influencers previously categorized as left, center, or right by La Silla Vacia, a Colombian news outlet and and ideological classification of congressmen based on the \"Partidos Políticos en Colombia\" database fro the Documento CEDE #36 \"Una caracterización histórica de los partidos políticos de Colombia: 1958-2022\"\n",
    "https://datoscede.uniandes.edu.co/es/catalogo-de-microdata\n"
   ]
  },
  {
   "cell_type": "code",
   "execution_count": 1,
   "metadata": {},
   "outputs": [],
   "source": [
    "import pandas as pd\n",
    "import pickle"
   ]
  },
  {
   "cell_type": "code",
   "execution_count": 2,
   "metadata": {},
   "outputs": [],
   "source": [
    "partidos = pd.read_excel(\"~/clasificacion_partidos_v1.xlsx\",\"Sheet1\")\n",
    "partidos = partidos.loc[:,['codigo_partido','ideologia']]\n",
    "\n",
    "congresistas = pd.read_excel(\"~/Twitter Congresistas.xlsx\",\"Sheet1\")\n",
    "congresistas = congresistas.loc[:,('Partido', 'Twitter')]\n",
    "\n",
    "# We load the tweets_lite DataFrame for the analysis\n",
    "retweets = pd.read_pickle('/mnt/disk2/Data/Tweets_DataFrames/retweets_lite.gzip', compression='gzip')\n",
    "\n",
    "# We load the map that relates an ID to a political Label\n",
    "with open(\"/mnt/disk2/Data/Pickle/User_Dicts/mapa.pkl\", \"rb\") as file:\n",
    "    mapa = pickle.load(file)"
   ]
  },
  {
   "cell_type": "code",
   "execution_count": 3,
   "metadata": {},
   "outputs": [],
   "source": [
    "def partidos_dict(x):\n",
    "    \n",
    "    d = {\n",
    "        \"PartidoSocialdeUnidadNacional\":20050002,#PartidodelaU\n",
    "        \"CentroDemocrático\":20130001,#CentroDemocrático\n",
    "        \"ListadelaDecencia\":20180008,#ListadelaDecencia\n",
    "        \"AlianzaVerde\":20090002,#AlianzaVerde\n",
    "        \"PartidoConservadorColombiano\":18490002,#PartidoConservadorColombiano\n",
    "        \"PartidoLiberalColombiano\":18480001,#PartidoLiberalColombiano\n",
    "        \"ColombiaJustaLibres\":20170001,#ColombiaJustaLibres\n",
    "        \"PoloDemocráticoAlternativo\":20050001,#PoloDemocráticoAlternativo\n",
    "        \"PartidoCambioRadical\":20030001,#PoloCambioRadical\n",
    "        \"ConsejoComunitariodeComunidadesNegrasPlayaRenaciente\":20180014,#ConsejoComunitarioPlayaRenaciente\n",
    "        \"Comunes\":20170003,#PartidoComunes\n",
    "        \"MovimientoAlternativoIndígenaySocial\":20130002,#MAIS\n",
    "        \"ConsejoComunitarioLaMamuncia\":20180029,#ConsejoComunitariolaMamuncia(wrongnameinexternaldatabase)\n",
    "        \"CoaliciónAlternativaSantandereana\":20180042,#CoaliciónAlternativaSantandereana\n",
    "        \"MovimientoIndependientedeRenovaciónAbsoluta\":20000036,#MIRA\n",
    "        \"OpciónCiudadana\":20090001#Partido Opción Ciudadana\n",
    "    }\n",
    "    \n",
    "    try:\n",
    "        return d[x]\n",
    "    except KeyError:\n",
    "        return 0\n",
    "\n",
    "def idelogias_dict(x):\n",
    "    d = {\n",
    "        1:'Izquierda',\n",
    "        2:'Derecha',\n",
    "        3:'Centro',\n",
    "        4:'Sin Clasificar'\n",
    "    }\n",
    "    \n",
    "    try:\n",
    "        return d[x]\n",
    "    except KeyError:\n",
    "        return 'nada'"
   ]
  },
  {
   "cell_type": "code",
   "execution_count": 4,
   "metadata": {},
   "outputs": [],
   "source": [
    "# Diccionario con ID Nombre de twittero\n",
    "user_name = (\n",
    "    retweets[['Referenced Tweet Author ID', 'Referenced Tweet Author Name']]\n",
    "    .drop_duplicates()\n",
    "    .astype({'Referenced Tweet Author ID':int})\n",
    "    .set_index('Referenced Tweet Author ID')\n",
    "    .to_dict()['Referenced Tweet Author Name']\n",
    ")\n",
    "\n",
    "# Limpiar nombres para agregar el ID de partido\n",
    "congresistas.Partido = congresistas.Partido.str.replace(' ','')\n",
    "congresistas['Partido ID'] = congresistas['Partido'].apply(partidos_dict)\n",
    "congresistas_new = congresistas.merge(partidos,left_on='Partido ID', right_on='codigo_partido', how = 'left')\n",
    "\n",
    "# Obetenemos la ideología\n",
    "congresistas_new['Afiliacion'] = congresistas_new.ideologia.apply(idelogias_dict)\n",
    "mapa_2 = (\n",
    "    congresistas_new.merge(retweets, left_on='Twitter', right_on='Referenced Tweet Author Name')\n",
    "    .loc[:,('Referenced Tweet Author ID','Afiliacion')]\n",
    "    .query(\"Afiliacion != 'nada'\")\n",
    "    .drop_duplicates()\n",
    "    .astype({'Referenced Tweet Author ID':int})\n",
    "    .set_index('Referenced Tweet Author ID')\n",
    "    .to_dict()['Afiliacion']\n",
    ")"
   ]
  },
  {
   "cell_type": "code",
   "execution_count": 5,
   "metadata": {},
   "outputs": [
    {
     "name": "stdout",
     "output_type": "stream",
     "text": [
      "Hay 93 usuarios identificados por la Silla\n",
      "Hay 228 congresistas identificados según su partido\n",
      "Hay 15 usuarios identificados por ambas fuentes\n",
      "\n",
      "JERobledo: Silla dice Centro pero partido es Izquierda\n",
      "RoyBarreras: Silla dice Izquierda pero partido es Derecha\n",
      "angelamrobledo: Silla dice Centro pero partido es Izquierda\n",
      "AABenedetti: Silla dice Izquierda pero partido es Derecha\n",
      "intiasprilla: Silla dice Izquierda pero partido es Centro\n",
      "\n",
      "Total de dicionarios 306\n"
     ]
    }
   ],
   "source": [
    "common_keys = list(set(mapa.keys()).intersection(set(mapa_2.keys())))\n",
    "print(f\"Hay {len(mapa)} usuarios identificados por la Silla\")\n",
    "print(f\"Hay {len(mapa_2)} congresistas identificados según su partido\")\n",
    "print(f\"Hay {len(common_keys)} usuarios identificados por ambas fuentes\")\n",
    "print('')\n",
    "for key in common_keys:\n",
    "    if mapa[key] != mapa_2[key]:\n",
    "        # Usar el criterio de la silla vacía\n",
    "        print(f\"{user_name[key]}: Silla dice {mapa[key]} pero partido es {mapa_2[key]}\")\n",
    "    mapa_2.pop(key)\n",
    "\n",
    "# Unir ambos diccioanrios\n",
    "mapa_full = mapa_2 | mapa\n",
    "print('')\n",
    "print(f\"Total de dicionarios {len(mapa_full)}\")\n",
    "\n",
    "# Guardar\n",
    "with open(\"/mnt/disk2/Data/Pickle/User_Dicts/mapa_full.pkl\", \"wb\") as file:\n",
    "    pickle.dump(mapa_full, file)"
   ]
  }
 ],
 "metadata": {
  "kernelspec": {
   "display_name": "gt_global",
   "language": "python",
   "name": "python3"
  },
  "language_info": {
   "codemirror_mode": {
    "name": "ipython",
    "version": 3
   },
   "file_extension": ".py",
   "mimetype": "text/x-python",
   "name": "python",
   "nbconvert_exporter": "python",
   "pygments_lexer": "ipython3",
   "version": "3.11.6"
  }
 },
 "nbformat": 4,
 "nbformat_minor": 2
}
