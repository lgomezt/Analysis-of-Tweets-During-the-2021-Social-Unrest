{
 "cells": [
  {
   "cell_type": "markdown",
   "metadata": {},
   "source": [
    "# Find unique users"
   ]
  },
  {
   "cell_type": "markdown",
   "metadata": {},
   "source": [
    "The conlusion of this script is that the folders `users_jan`, `users_oct_19`, and `Usuarios_V1` contain duplicate users; however, **the tweets within each folder are unique.**"
   ]
  },
  {
   "cell_type": "code",
   "execution_count": 49,
   "metadata": {},
   "outputs": [],
   "source": [
    "import os\n",
    "import glob\n",
    "import pandas as pd\n",
    "from tqdm import tqdm"
   ]
  },
  {
   "cell_type": "code",
   "execution_count": 2,
   "metadata": {},
   "outputs": [],
   "source": [
    "os.chdir(r\"C:\\Users\\Lucas\\OneDrive - Universidad de los Andes\\Economía Uniandes\\Asistencia de investigacion\\TorniquetesLight\\Twitter\\Data\")"
   ]
  },
  {
   "cell_type": "code",
   "execution_count": 3,
   "metadata": {},
   "outputs": [
    {
     "data": {
      "text/plain": [
       "['.ipynb_checkpoints',\n",
       " 'Checks',\n",
       " 'graph_v1',\n",
       " 'Keywords',\n",
       " 'useful_dicts',\n",
       " 'users_jan',\n",
       " 'users_oct_19',\n",
       " 'Usuarios',\n",
       " 'Usuarios_V1']"
      ]
     },
     "execution_count": 3,
     "metadata": {},
     "output_type": "execute_result"
    }
   ],
   "source": [
    "os.listdir()"
   ]
  },
  {
   "cell_type": "code",
   "execution_count": 57,
   "metadata": {},
   "outputs": [],
   "source": [
    "users_jan = glob.glob('users_jan\\*.csv')\n",
    "users_oct_19 = glob.glob('users_oct_19\\*.csv')\n",
    "Usuarios = glob.glob('Usuarios\\*.csv')\n",
    "Usuarios_V1 = glob.glob('Usuarios_V1\\*.csv')"
   ]
  },
  {
   "cell_type": "code",
   "execution_count": 58,
   "metadata": {},
   "outputs": [
    {
     "name": "stderr",
     "output_type": "stream",
     "text": [
      " 29%|██▉       | 9990/34048 [2:10:10<1:33:58,  4.27it/s] C:\\Users\\Lucas\\AppData\\Local\\Temp\\ipykernel_5584\\943593563.py:6: DtypeWarning: Columns (18) have mixed types. Specify dtype option on import or set low_memory=False.\n",
      "  temp = pd.read_csv('Usuarios_V1\\\\' + user0)\n",
      " 43%|████▎     | 14554/34048 [3:30:57<6:57:58,  1.29s/it] C:\\Users\\Lucas\\AppData\\Local\\Temp\\ipykernel_5584\\943593563.py:6: DtypeWarning: Columns (6,8,10,17) have mixed types. Specify dtype option on import or set low_memory=False.\n",
      "  temp = pd.read_csv('Usuarios_V1\\\\' + user0)\n",
      " 72%|███████▏  | 24627/34048 [6:56:33<43:45,  3.59it/s]   C:\\Users\\Lucas\\AppData\\Local\\Temp\\ipykernel_5584\\943593563.py:6: DtypeWarning: Columns (6,8,10,17) have mixed types. Specify dtype option on import or set low_memory=False.\n",
      "  temp = pd.read_csv('Usuarios_V1\\\\' + user0)\n",
      "100%|██████████| 34048/34048 [8:15:55<00:00,  1.14it/s]  \n"
     ]
    }
   ],
   "source": [
    "for user_i in tqdm(users_jan):\n",
    "    user0 = user_i.replace(\"users_jan\\\\\", \"\")\n",
    "    ids_jan = pd.read_csv(\"users_jan\\\\\" + user0)[\"ID\"].values\n",
    "\n",
    "    if any([user0 in i for i in Usuarios_V1]):\n",
    "        temp = pd.read_csv('Usuarios_V1\\\\' + user0)\n",
    "        repeated_tweets1 = temp[\"ID\"].isin(ids_jan).sum()\n",
    "        if any([user0 in i for i in users_oct_19]):\n",
    "            ids_oct = pd.read_csv(\"users_oct_19\\\\\" + user0)[\"ID\"].values \n",
    "            repeated_tweets2 = temp[\"ID\"].isin(ids_oct).sum()\n",
    "        else:\n",
    "            repeated_tweets2 = 0\n",
    "        repeated_tweets = repeated_tweets1 + repeated_tweets2\n",
    "    if repeated_tweets > 0:\n",
    "        break"
   ]
  },
  {
   "cell_type": "code",
   "execution_count": 59,
   "metadata": {},
   "outputs": [
    {
     "data": {
      "text/plain": [
       "34048"
      ]
     },
     "execution_count": 59,
     "metadata": {},
     "output_type": "execute_result"
    }
   ],
   "source": [
    "len(users_jan)"
   ]
  }
 ],
 "metadata": {
  "kernelspec": {
   "display_name": "base",
   "language": "python",
   "name": "python3"
  },
  "language_info": {
   "codemirror_mode": {
    "name": "ipython",
    "version": 3
   },
   "file_extension": ".py",
   "mimetype": "text/x-python",
   "name": "python",
   "nbconvert_exporter": "python",
   "pygments_lexer": "ipython3",
   "version": "3.9.13"
  },
  "orig_nbformat": 4
 },
 "nbformat": 4,
 "nbformat_minor": 2
}
