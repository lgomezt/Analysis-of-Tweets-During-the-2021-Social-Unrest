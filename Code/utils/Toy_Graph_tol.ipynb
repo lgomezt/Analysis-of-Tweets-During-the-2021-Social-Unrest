{
 "cells": [
  {
   "cell_type": "markdown",
   "metadata": {},
   "source": [
    "# Graph Tool Sanbox"
   ]
  },
  {
   "cell_type": "code",
   "execution_count": 6,
   "metadata": {},
   "outputs": [],
   "source": [
    "# Mathematical and Data Managment\n",
    "import numpy as np\n",
    "import pandas as pd\n",
    "import scipy.sparse as sp\n",
    "\n",
    "# Graph Managment\n",
    "import graph_tool.all as gt\n",
    "import networkx as nx\n",
    "from Functions import *\n",
    "from Segregation import *\n",
    "\n",
    "# Data Visualization\n",
    "import seaborn as sns\n",
    "import matplotlib.pyplot as plt\n",
    "from forceatlas2 import forceatlas2_networkx_layout\n",
    "\n",
    "# Miscellaneous\n",
    "from glob import glob\n",
    "from tqdm import tqdm\n",
    "import random"
   ]
  },
  {
   "cell_type": "markdown",
   "metadata": {},
   "source": [
    "Grafo Minimo reproducible similar al grafo grande"
   ]
  },
  {
   "cell_type": "code",
   "execution_count": 9,
   "metadata": {},
   "outputs": [
    {
     "name": "stdout",
     "output_type": "stream",
     "text": [
      "This is our toy edge list [(0, 1), (1, 2), (2, 0), (3, 1), (4, 5)]\n",
      "This are our toy weights [8, 9, 7, 10, 12, 11]\n"
     ]
    },
    {
     "data": {
      "image/png": "[encoded data removed]",
      "text/plain": [
       "<IPython.core.display.Image object>"
      ]
     },
     "metadata": {
      "image/png": {
       "height": 195,
       "width": 200
      }
     },
     "output_type": "display_data"
    },
    {
     "data": {
      "text/plain": [
       "<VertexPropertyMap object with value type 'vector<double>', for Graph 0x7fa5d841a650, at 0x7fa60053b250>"
      ]
     },
     "execution_count": 9,
     "metadata": {},
     "output_type": "execute_result"
    }
   ],
   "source": [
    "# TOY GRAPH FOR CALCULATIONS\n",
    "random.seed(1)\n",
    "\n",
    "edge_list = [(0,1),(1,2),(2,0),(3,1),(4,5)] # ,(5,4) vovler a colocarlo\n",
    "vertex_dict = {\n",
    "    'label': 'a b c d e f'.split(' '),\n",
    "    'pa': 'd c d i i i'.split(' '),\n",
    "    'id': [i for i in range(10000,10006)]\n",
    "}\n",
    "color = {\n",
    "    'i': (0,0,1), # Azul\n",
    "    'd': (1,0,0), # Rojo\n",
    "    'c': (0,1,0) # Centro\n",
    "}\n",
    "weights = [8,9,7,10,12,11]\n",
    "g = gt.Graph(directed=True)\n",
    "print(f'This is our toy edge list {edge_list}')\n",
    "print(f'This are our toy weights {weights}')\n",
    "\n",
    "g.add_edge_list(edge_list=edge_list)\n",
    "\n",
    "# Create an edge property map for weights\n",
    "edge_weight_map = g.new_edge_property(\"double\")\n",
    "edge_date_map = g.new_edge_property('string')\n",
    "\n",
    "# Create a Vertex property map for labels\n",
    "vertex_PA_map = g.new_vertex_property('string')\n",
    "vertex_ID_map = g.new_vertex_property('int64_t')\n",
    "vertex_color_map = g.new_vertex_property('vector<double>')\n",
    "vertex_label_map = g.new_vertex_property('string')\n",
    "\n",
    "# Add edges properties\n",
    "edge_list = g.get_edges()\n",
    "for i, e in enumerate(edge_list):\n",
    "    edge_weight_map[e] = weights[i]\n",
    "    edge_date_map[e] = '2021-05-16'\n",
    "\n",
    "# Add Vertex properties\n",
    "vertex_list = g.get_vertices()\n",
    "for v in vertex_list:\n",
    "    vertex_PA_map[v] = vertex_dict['pa'][v]\n",
    "    vertex_ID_map[v] = vertex_dict['id'][v]\n",
    "    vertex_label_map[v] = vertex_dict['label'][v]\n",
    "    vertex_color_map[v] = color[vertex_dict['pa'][v]]\n",
    "\n",
    "# Assign the maps to the Graph Object\n",
    "g.vp['Political Label'] = vertex_PA_map\n",
    "g.vp['User ID'] = vertex_ID_map\n",
    "g.vp['Label'] = vertex_label_map\n",
    "g.vp['Color'] = vertex_color_map\n",
    "g.ep['Normal Weights'] = edge_weight_map\n",
    "g.ep['Ending date'] = edge_date_map\n",
    "\n",
    "# Create a graph layout and drawing\n",
    "pos = gt.sfdp_layout(g)\n",
    "\n",
    "gt.graph_draw(g,\n",
    "              pos=pos,\n",
    "              output_size=(200, 200),\n",
    "              vertex_fill_color=vertex_color_map, # Uncomment to show Vertex colors\n",
    "              #vertex_text=vertex_label_map,        # Uncomment to show vertex labels\n",
    "              vertex_shape = 'pentagon')"
   ]
  },
  {
   "cell_type": "code",
   "execution_count": 131,
   "metadata": {},
   "outputs": [],
   "source": [
    "def fraction_graph(g,percentage, seed=437):\n",
    "    random.seed(seed)\n",
    "    # Get the total number of vertices and edges\n",
    "    edge_list = list(g.iter_edges())\n",
    "    vertex_list = list(g.iter_vertices())\n",
    "\n",
    "    # Calculate the number of vertices and edges for the subgraph\n",
    "    num_subgraph_vertices = int(len(vertex_list) * (percentage / 100))\n",
    "    num_subgraph_edges = int(len(edge_list) * (percentage / 100))\n",
    "\n",
    "    # Get random indices for vertices and edges\n",
    "    selected_vertices = random.sample(vertex_list, num_subgraph_vertices)\n",
    "    selected_edges = random.sample(edge_list, num_subgraph_edges)\n",
    "\n",
    "    # Filter edges connected to nodes labeled type\n",
    "    filtered_edges = g.new_edge_property(\"bool\")\n",
    "    filtered_edges.a = False\n",
    "\n",
    "    # Filter nodes with label type\n",
    "    filtered_nodes = g.new_vertex_property(\"bool\")\n",
    "    filtered_nodes.a = False\n",
    "            \n",
    "    for v in g.iter_vertices():\n",
    "        if v in selected_vertices:\n",
    "            vertex = g.vertex(v)\n",
    "            filtered_nodes[vertex] = True\n",
    "            for e in vertex.out_edges():\n",
    "                edge_tuple = [int(e.source()), int(e.target())]\n",
    "                if edge_tuple in selected_edges:\n",
    "                    filtered_edges[e] = True\n",
    "\n",
    "    subgraph = gt.GraphView(g,vfilt=filtered_nodes, efilt=filtered_edges)\n",
    "    return subgraph"
   ]
  },
  {
   "cell_type": "code",
   "execution_count": 133,
   "metadata": {},
   "outputs": [
    {
     "name": "stdout",
     "output_type": "stream",
     "text": [
      "[1, 4, 5, 3, 2] [[4, 5], [0, 1], [2, 0], [3, 1]]\n",
      "<GraphView object, undirected, with 5 vertices and 2 edges, 5 internal vertex properties, 3 internal edge properties, edges filtered by (<EdgePropertyMap object with value type 'bool', for Graph 0x7fdf847289d0, at 0x7fdf84784cd0>, False), vertices filtered by (<VertexPropertyMap object with value type 'bool', for Graph 0x7fdf847289d0, at 0x7fdf84785050>, False), at 0x7fdf847289d0>\n"
     ]
    }
   ],
   "source": [
    "print(fraction_graph(g,90, seed=3))"
   ]
  },
  {
   "cell_type": "code",
   "execution_count": 41,
   "metadata": {},
   "outputs": [
    {
     "data": {
      "image/png": "[encoded data removed]",
      "text/plain": [
       "<IPython.core.display.Image object>"
      ]
     },
     "metadata": {
      "image/png": {
       "height": 75,
       "width": 200
      }
     },
     "output_type": "display_data"
    },
    {
     "data": {
      "text/plain": [
       "<VertexPropertyMap object with value type 'vector<double>', for Graph 0x7fe9a14ed690, at 0x7fe9a215c050>"
      ]
     },
     "execution_count": 41,
     "metadata": {},
     "output_type": "execute_result"
    }
   ],
   "source": [
    "subgraph = filter_graph(g,'i')\n",
    "\n",
    "gt.graph_draw(subgraph,\n",
    "              pos=pos,\n",
    "              output_size=(200, 200),\n",
    "              vertex_fill_color=vertex_color_map, # Uncomment to show Vertex colors\n",
    "              #vertex_text=vertex_label_map,        # Uncomment to show vertex labels\n",
    "              vertex_shape = 'pentagon')"
   ]
  },
  {
   "cell_type": "code",
   "execution_count": 148,
   "metadata": {},
   "outputs": [
    {
     "name": "stdout",
     "output_type": "stream",
     "text": [
      "Adjacency Matrix\n",
      "[[ 0.  8.  7.  0.  0.  0.]\n",
      " [ 8.  0.  9. 10.  0.  0.]\n",
      " [ 7.  9.  0.  0.  0.  0.]\n",
      " [ 0. 10.  0.  0.  0.  0.]\n",
      " [ 0.  0.  0.  0.  0. 12.]\n",
      " [ 0.  0.  0.  0. 12.  0.]]\n",
      "Nodes\n",
      "[0 1 2 3 4 5]\n",
      "Types Array\n",
      "['d' 'c' 'd' 'i' 'i' 'i']\n",
      "Types Dictionary\n",
      "{'c': [0, 1, 0, 0, 0, 0], 'd': [1, 0, 1, 0, 0, 0], 'i': [0, 0, 0, 1, 1, 1]}\n",
      "Types Index Dictionary\n",
      "{'c': 0, 'd': 1, 'i': 2}\n",
      "Types Matrix (A column is one of the arrays in the Types Dictionary)\n",
      "[[0 1 0]\n",
      " [1 0 0]\n",
      " [0 1 0]\n",
      " [0 0 1]\n",
      " [0 0 1]\n",
      " [0 0 1]]\n",
      "Contact Layer\n",
      "[[0. 2. 1.]\n",
      " [0. 1. 0.]\n",
      " [0. 0. 1.]]\n",
      "Me Vs Others (Contact Layer cosidering one group Against all others) for Derecha\n",
      "[[1. 0.]\n",
      " [2. 2.]]\n"
     ]
    }
   ],
   "source": [
    "# FUNCTION TESTING\n",
    "print('Adjacency Matrix')\n",
    "print(get_adjacency(g,weight='Normal Weights'))\n",
    "print('Nodes')\n",
    "print(g.get_vertices())\n",
    "print('Types Array')\n",
    "print(get_types_array(g,types='Political Label'))\n",
    "print('Types Dictionary')\n",
    "print(get_types_dict(g,types='Political Label'))\n",
    "print('Types Index Dictionary')\n",
    "print(get_types_index(g,types='Political Label'))\n",
    "print('Types Matrix (A column is one of the arrays in the Types Dictionary)')\n",
    "print(get_types_matrix(g,types='Political Label'))\n",
    "print('Contact Layer')\n",
    "print(get_contact_layer(g,types='Political Label'))\n",
    "print('Me Vs Others (Contact Layer cosidering one group Against all others) for Derecha')\n",
    "print(me_vs_others(get_contact_layer(g,types='Political Label'), get_types_index(g,types='Political Label')['d'] ))"
   ]
  },
  {
   "cell_type": "code",
   "execution_count": 10,
   "metadata": {},
   "outputs": [],
   "source": [
    "def to_networkx(g: gt.Graph) -> nx.Graph:\n",
    "    \n",
    "    if g.is_directed():\n",
    "        nx_graph = nx.DiGraph()\n",
    "    else:\n",
    "        nx_graph = nx.Graph()\n",
    "\n",
    "    # Add nodes with their properties to the NetworkX graph\n",
    "    for v in g.vertices():\n",
    "        node_properties = {prop_name: g.vp[prop_name][v] for prop_name in g.vp}\n",
    "        nx_graph.add_node(int(v), **node_properties)\n",
    "\n",
    "    # Add edges with their properties to the NetworkX graph\n",
    "    for e in g.edges():\n",
    "        edge_properties = {prop_name: g.ep[prop_name][e] for prop_name in g.ep}\n",
    "        nx_graph.add_edge(int(e.source()), int(e.target()), **edge_properties)\n",
    "    \n",
    "    return nx_graph"
   ]
  },
  {
   "cell_type": "code",
   "execution_count": 57,
   "metadata": {},
   "outputs": [
    {
     "data": {
      "image/png": "[encoded data removed]",
      "text/plain": [
       "<Figure size 640x480 with 1 Axes>"
      ]
     },
     "metadata": {},
     "output_type": "display_data"
    }
   ],
   "source": [
    "random.seed(2)\n",
    "# Convert it to Network X\n",
    "g_nx = to_networkx(g)\n",
    "\n",
    "# Calculate aesthetics fo visualizatoin\n",
    "colors = [node[1]['Color'] for node in g_nx.nodes(data=True)]\n",
    "node_in_degree = [g_nx.in_degree(node) for node in g_nx.nodes]\n",
    "\n",
    "# For Layout Algorythim, calculate it as undirected\n",
    "g_nx_undir = g_nx.to_undirected()\n",
    "\n",
    "# Generate random positions for the nodes\n",
    "pos = {i: (random.random(), random.random()) for i in g_nx_undir.nodes}\n",
    "pos[923] = (12,3)\n",
    "pos[8917] = (23,1)\n",
    "# Apply ForceAtlas2 layout algorithm\n",
    "layout = forceatlas2_networkx_layout(g_nx_undir, pos, niter=50)\n",
    "\n",
    "# Draw the network using matplotlib\n",
    "nx.draw_networkx_nodes(g_nx_undir, layout, node_color=colors,\n",
    "                                      node_size = 100)\n",
    "\n",
    "# Display the plot\n",
    "plt.show()"
   ]
  },
  {
   "cell_type": "code",
   "execution_count": 54,
   "metadata": {},
   "outputs": [
    {
     "data": {
      "image/png": "[encoded data removed]",
      "text/plain": [
       "<Figure size 640x480 with 1 Axes>"
      ]
     },
     "metadata": {},
     "output_type": "display_data"
    }
   ],
   "source": [
    "g_nx = to_networkx(g)\n",
    "date = '2'\n",
    "random.seed(4)\n",
    "# Calculate aesthetics fo visualization\n",
    "colors = [node[1]['Color'] for node in g_nx.nodes(data=True)]\n",
    "node_in_degree = [g_nx.in_degree(node) for node in g_nx.nodes]\n",
    "\n",
    "# For Layout Algorythim, calculate it as undirected\n",
    "g_nx_undir = g_nx.to_undirected()\n",
    "    \n",
    "# Generate random positions for the nodes\n",
    "\n",
    "# Apply ForceAtlas2 layout algorithm\n",
    "layout = forceatlas2_networkx_layout(g_nx_undir, niter=50)\n",
    "\n",
    "# Draw the network using matplotlib\n",
    "nx.draw_networkx_nodes(g_nx_undir, layout, node_color=colors,\n",
    "                                        node_size = node_in_degree)\n",
    "\n",
    "# Display the plot\n",
    "plt.savefig('viz.png')"
   ]
  },
  {
   "cell_type": "code",
   "execution_count": 58,
   "metadata": {},
   "outputs": [
    {
     "data": {
      "text/plain": [
       "{0: (0.9560342718892494, 0.9478274870593494),\n",
       " 1: (0.05655136772680869, 0.08487199515892163),\n",
       " 2: (0.8354988781294496, 0.7359699890685233),\n",
       " 3: (0.6697304014402209, 0.3081364575891442),\n",
       " 4: (0.6059441656784624, 0.6068017336408379),\n",
       " 5: (0.5812040171120031, 0.15838287025480557),\n",
       " 923: (12, 3),\n",
       " 8917: (23, 1)}"
      ]
     },
     "execution_count": 58,
     "metadata": {},
     "output_type": "execute_result"
    }
   ],
   "source": [
    "pos"
   ]
  },
  {
   "cell_type": "code",
   "execution_count": 59,
   "metadata": {},
   "outputs": [
    {
     "data": {
      "text/plain": [
       "{0: (0.5779965344123201, 4.818327409606928),\n",
       " 1: (0.03940759086221892, 0.020260776501741688),\n",
       " 2: (3.9835400717828997, 3.0491709054878617),\n",
       " 3: (1.8764087395470492, -4.02870788546028),\n",
       " 4: (-11.2391963643905, -5.218568200415148),\n",
       " 5: (-9.892767129666385, -7.760039158043137)}"
      ]
     },
     "execution_count": 59,
     "metadata": {},
     "output_type": "execute_result"
    }
   ],
   "source": [
    "layout"
   ]
  }
 ],
 "metadata": {
  "kernelspec": {
   "display_name": "gt_global",
   "language": "python",
   "name": "python3"
  },
  "language_info": {
   "codemirror_mode": {
    "name": "ipython",
    "version": 3
   },
   "file_extension": ".py",
   "mimetype": "text/x-python",
   "name": "python",
   "nbconvert_exporter": "python",
   "pygments_lexer": "ipython3",
   "version": "3.11.6"
  }
 },
 "nbformat": 4,
 "nbformat_minor": 2
}
