{
 "cells": [
  {
   "cell_type": "markdown",
   "metadata": {},
   "source": [
    "# Graph Tool Sanbox"
   ]
  },
  {
   "cell_type": "code",
   "execution_count": 4,
   "metadata": {},
   "outputs": [],
   "source": [
    "# Mathematical and Data Managment\n",
    "import numpy as np\n",
    "import pandas as pd\n",
    "import scipy.sparse as sp\n",
    "\n",
    "# Graph Managment\n",
    "import graph_tool.all as gt\n",
    "import networkx as nx\n",
    "from Functions import *\n",
    "from Segregation import *\n",
    "\n",
    "# Data Visualization\n",
    "import seaborn as sns\n",
    "import matplotlib.pyplot as plt\n",
    "\n",
    "# Miscellaneous\n",
    "from glob import glob\n",
    "from tqdm import tqdm\n",
    "import random"
   ]
  },
  {
   "cell_type": "markdown",
   "metadata": {},
   "source": [
    "Grafo Minimo reproducible similar al grafo grande"
   ]
  },
  {
   "cell_type": "code",
   "execution_count": 5,
   "metadata": {},
   "outputs": [
    {
     "name": "stdout",
     "output_type": "stream",
     "text": [
      "This is our toy edge list [(0, 1), (1, 2), (2, 0), (3, 1), (4, 5)]\n",
      "This are our toy weights [8, 9, 7, 10, 12, 11]\n"
     ]
    },
    {
     "data": {
      "image/png": "[encoded data removed]",
      "text/plain": [
       "<IPython.core.display.Image object>"
      ]
     },
     "metadata": {
      "image/png": {
       "height": 200,
       "width": 162
      }
     },
     "output_type": "display_data"
    },
    {
     "data": {
      "text/plain": [
       "<VertexPropertyMap object with value type 'vector<double>', for Graph 0x7fdf859c2010, at 0x7fdf85e204d0>"
      ]
     },
     "execution_count": 5,
     "metadata": {},
     "output_type": "execute_result"
    }
   ],
   "source": [
    "# TOY GRAPH FOR CALCULATIONS\n",
    "random.seed(1)\n",
    "\n",
    "edge_list = [(0,1),(1,2),(2,0),(3,1),(4,5)] # ,(5,4) vovler a colocarlo\n",
    "vertex_dict = {\n",
    "    'label': 'a b c d e f'.split(' '),\n",
    "    'pa': 'd c d i i i'.split(' '),\n",
    "    'id': [i for i in range(10000,10006)]\n",
    "}\n",
    "color = {\n",
    "    'i': (0,0,1), # Azul\n",
    "    'd': (1,0,0), # Rojo\n",
    "    'c': (0,1,0) # Centro\n",
    "}\n",
    "weights = [8,9,7,10,12,11]\n",
    "g = gt.Graph(directed=False)\n",
    "print(f'This is our toy edge list {edge_list}')\n",
    "print(f'This are our toy weights {weights}')\n",
    "\n",
    "g.add_edge_list(edge_list=edge_list)\n",
    "\n",
    "# Create an edge property map for weights\n",
    "edge_weight_map = g.new_edge_property(\"double\")\n",
    "edge_date_map = g.new_edge_property('string')\n",
    "\n",
    "# Create a Vertex property map for labels\n",
    "vertex_PA_map = g.new_vertex_property('string')\n",
    "vertex_ID_map = g.new_vertex_property('int64_t')\n",
    "vertex_color_map = g.new_vertex_property('vector<double>')\n",
    "vertex_label_map = g.new_vertex_property('string')\n",
    "\n",
    "# Add edges properties\n",
    "edge_list = g.get_edges()\n",
    "for i, e in enumerate(edge_list):\n",
    "    edge_weight_map[e] = weights[i]\n",
    "    edge_date_map[e] = '2021-05-16'\n",
    "\n",
    "# Add Vertex properties\n",
    "vertex_list = g.get_vertices()\n",
    "for v in vertex_list:\n",
    "    vertex_PA_map[v] = vertex_dict['pa'][v]\n",
    "    vertex_ID_map[v] = vertex_dict['id'][v]\n",
    "    vertex_label_map[v] = vertex_dict['label'][v]\n",
    "    vertex_color_map[v] = color[vertex_dict['pa'][v]]\n",
    "\n",
    "# Assign the maps to the Graph Object\n",
    "g.vp['Political Label'] = vertex_PA_map\n",
    "g.vp['User ID'] = vertex_ID_map\n",
    "g.vp['Label'] = vertex_label_map\n",
    "g.vp['Color'] = vertex_color_map\n",
    "g.ep['Normal Weights'] = edge_weight_map\n",
    "g.ep['Ending date'] = edge_date_map\n",
    "\n",
    "# Create a graph layout and drawing\n",
    "pos = gt.sfdp_layout(g)\n",
    "\n",
    "gt.graph_draw(g,\n",
    "              pos=pos,\n",
    "              output_size=(200, 200),\n",
    "              vertex_fill_color=vertex_color_map, # Uncomment to show Vertex colors\n",
    "              #vertex_text=vertex_label_map,        # Uncomment to show vertex labels\n",
    "              vertex_shape = 'pentagon')"
   ]
  },
  {
   "cell_type": "code",
   "execution_count": 131,
   "metadata": {},
   "outputs": [],
   "source": [
    "from math import *\n",
    "\n",
    "def fraction_graph(g,percentage, seed=437):\n",
    "    random.seed(seed)\n",
    "    # Get the total number of vertices and edges\n",
    "    edge_list = list(g.iter_edges())\n",
    "    vertex_list = list(g.iter_vertices())\n",
    "\n",
    "    # Calculate the number of vertices and edges for the subgraph\n",
    "    num_subgraph_vertices = int(len(vertex_list) * (percentage / 100))\n",
    "    num_subgraph_edges = int(len(edge_list) * (percentage / 100))\n",
    "\n",
    "    # Get random indices for vertices and edges\n",
    "    selected_vertices = random.sample(vertex_list, num_subgraph_vertices)\n",
    "    selected_edges = random.sample(edge_list, num_subgraph_edges)\n",
    "    print(selected_vertices, selected_edges)\n",
    "\n",
    "    # Filter edges connected to nodes labeled type\n",
    "    filtered_edges = g.new_edge_property(\"bool\")\n",
    "    filtered_edges.a = False\n",
    "\n",
    "    # Filter nodes with label type\n",
    "    filtered_nodes = g.new_vertex_property(\"bool\")\n",
    "    filtered_nodes.a = False\n",
    "            \n",
    "    for v in g.iter_vertices():\n",
    "        if v in selected_vertices:\n",
    "            vertex = g.vertex(v)\n",
    "            filtered_nodes[vertex] = True\n",
    "            for e in vertex.out_edges():\n",
    "                edge_tuple = [int(e.source()), int(e.target())]\n",
    "                if edge_tuple in selected_edges:\n",
    "                    filtered_edges[e] = True\n",
    "\n",
    "    subgraph = gt.GraphView(g,vfilt=filtered_nodes, efilt=filtered_edges)\n",
    "    return subgraph"
   ]
  },
  {
   "cell_type": "code",
   "execution_count": 133,
   "metadata": {},
   "outputs": [
    {
     "name": "stdout",
     "output_type": "stream",
     "text": [
      "[1, 4, 5, 3, 2] [[4, 5], [0, 1], [2, 0], [3, 1]]\n",
      "<GraphView object, undirected, with 5 vertices and 2 edges, 5 internal vertex properties, 3 internal edge properties, edges filtered by (<EdgePropertyMap object with value type 'bool', for Graph 0x7fdf847289d0, at 0x7fdf84784cd0>, False), vertices filtered by (<VertexPropertyMap object with value type 'bool', for Graph 0x7fdf847289d0, at 0x7fdf84785050>, False), at 0x7fdf847289d0>\n"
     ]
    }
   ],
   "source": [
    "print(fraction_graph(g,90, seed=3))"
   ]
  },
  {
   "cell_type": "code",
   "execution_count": 119,
   "metadata": {},
   "outputs": [
    {
     "data": {
      "text/plain": [
       "(3, 1)"
      ]
     },
     "execution_count": 119,
     "metadata": {},
     "output_type": "execute_result"
    }
   ],
   "source": [
    "edge = list(g.vertex(3).out_edges())[0]\n",
    "\n",
    "edge_tuple = (int(edge.source()), int(edge.target()))\n",
    "edge_tuple"
   ]
  },
  {
   "cell_type": "code",
   "execution_count": 60,
   "metadata": {},
   "outputs": [
    {
     "data": {
      "text/plain": [
       "[[0, 1], [1, 2], [2, 0], [3, 1], [4, 5]]"
      ]
     },
     "execution_count": 60,
     "metadata": {},
     "output_type": "execute_result"
    }
   ],
   "source": [
    "# Given array\n",
    "edge_list = list(g.iter_edges())\n",
    "\n",
    "# Calculate the number of elements for the sample\n",
    "num_elements = len(edge_list)\n",
    "percentage = 50\n",
    "num_sample_elements = int(num_elements * (percentage / 100))\n",
    "\n",
    "# Get a random sample of elements\n",
    "sampled_portion = random.sample(edge_list, num_sample_elements)"
   ]
  },
  {
   "cell_type": "code",
   "execution_count": 56,
   "metadata": {},
   "outputs": [
    {
     "name": "stdout",
     "output_type": "stream",
     "text": [
      "xd\n"
     ]
    }
   ],
   "source": [
    "if g.vertex_index[0] in [1,2,3]:\n",
    "    print('XD')\n",
    "else:\n",
    "    print('xd')"
   ]
  },
  {
   "cell_type": "code",
   "execution_count": 54,
   "metadata": {},
   "outputs": [
    {
     "data": {
      "text/plain": [
       "2"
      ]
     },
     "execution_count": 54,
     "metadata": {},
     "output_type": "execute_result"
    }
   ],
   "source": [
    "g.vertex_index[2]"
   ]
  },
  {
   "cell_type": "code",
   "execution_count": 42,
   "metadata": {},
   "outputs": [
    {
     "data": {
      "text/plain": [
       "2"
      ]
     },
     "execution_count": 42,
     "metadata": {},
     "output_type": "execute_result"
    }
   ],
   "source": [
    "g.edge_index[0,2]"
   ]
  },
  {
   "cell_type": "code",
   "execution_count": 86,
   "metadata": {},
   "outputs": [],
   "source": [
    "for e in g.edges():\n",
    "    if g.edge_index in selected_edges:\n",
    "        # Do something with the sampled edge 'e'\n",
    "        print(f\"Sampled Edge ID: {e}\")"
   ]
  },
  {
   "cell_type": "code",
   "execution_count": 85,
   "metadata": {},
   "outputs": [
    {
     "data": {
      "text/plain": [
       "[<Edge object with source '0' and target '1' at 0x7fdf858ca950>,\n",
       " <Edge object with source '0' and target '2' at 0x7fdf84e4a7a0>]"
      ]
     },
     "execution_count": 85,
     "metadata": {},
     "output_type": "execute_result"
    }
   ],
   "source": [
    "vertex = g.vertex(0)\n",
    "list(vertex.all_edges())"
   ]
  },
  {
   "cell_type": "code",
   "execution_count": 41,
   "metadata": {},
   "outputs": [
    {
     "data": {
      "image/png": "[encoded data removed]",
      "text/plain": [
       "<IPython.core.display.Image object>"
      ]
     },
     "metadata": {
      "image/png": {
       "height": 75,
       "width": 200
      }
     },
     "output_type": "display_data"
    },
    {
     "data": {
      "text/plain": [
       "<VertexPropertyMap object with value type 'vector<double>', for Graph 0x7fe9a14ed690, at 0x7fe9a215c050>"
      ]
     },
     "execution_count": 41,
     "metadata": {},
     "output_type": "execute_result"
    }
   ],
   "source": [
    "subgraph = filter_graph(g,'i')\n",
    "\n",
    "gt.graph_draw(subgraph,\n",
    "              pos=pos,\n",
    "              output_size=(200, 200),\n",
    "              vertex_fill_color=vertex_color_map, # Uncomment to show Vertex colors\n",
    "              #vertex_text=vertex_label_map,        # Uncomment to show vertex labels\n",
    "              vertex_shape = 'pentagon')"
   ]
  },
  {
   "cell_type": "code",
   "execution_count": 90,
   "metadata": {},
   "outputs": [
    {
     "name": "stdout",
     "output_type": "stream",
     "text": [
      "Adjacency Matrix\n",
      "[[ 0.  8.  7.  0.  0.  0.]\n",
      " [ 8.  0.  9. 10.  0.  0.]\n",
      " [ 7.  9.  0.  0.  0.  0.]\n",
      " [ 0. 10.  0.  0.  0.  0.]\n",
      " [ 0.  0.  0.  0.  0. 12.]\n",
      " [ 0.  0.  0.  0. 12.  0.]]\n",
      "Nodes\n",
      "[0 1 2 3 4 5]\n",
      "Types Array\n",
      "['d' 'i' 'd' 'i' 'i' 'i']\n",
      "Types Dictionary\n",
      "{'d': [1, 0, 1, 0, 0, 0], 'i': [0, 1, 0, 1, 1, 1]}\n",
      "Types Index Dictionary\n",
      "{'d': 0, 'i': 1}\n",
      "Types Matrix (A column is one of the arrays in the Types Dictionary)\n",
      "[[1 0]\n",
      " [0 1]\n",
      " [1 0]\n",
      " [0 1]\n",
      " [0 1]\n",
      " [0 1]]\n",
      "Contact Layer\n",
      "[[1. 2.]\n",
      " [0. 2.]]\n",
      "Me Vs Others (Contact Layer cosidering one group Against all others) for Derecha\n",
      "[[1. 2.]\n",
      " [0. 2.]]\n"
     ]
    }
   ],
   "source": [
    "# FUNCTION TESTING\n",
    "print('Adjacency Matrix')\n",
    "print(get_adjacency(g,weight='Normal Weights'))\n",
    "print('Nodes')\n",
    "print(g.get_vertices())\n",
    "print('Types Array')\n",
    "print(get_types_array(g,types='Political Label'))\n",
    "print('Types Dictionary')\n",
    "print(get_types_dict(g,types='Political Label'))\n",
    "print('Types Index Dictionary')\n",
    "print(get_types_index(g,types='Political Label'))\n",
    "print('Types Matrix (A column is one of the arrays in the Types Dictionary)')\n",
    "print(get_types_matrix(g,types='Political Label'))\n",
    "print('Contact Layer')\n",
    "print(get_contact_layer(g,types='Political Label'))\n",
    "print('Me Vs Others (Contact Layer cosidering one group Against all others) for Derecha')\n",
    "print(me_vs_others(get_contact_layer(g,types='Political Label'), get_types_index(g,types='Political Label')['d'] ))"
   ]
  },
  {
   "cell_type": "code",
   "execution_count": 26,
   "metadata": {},
   "outputs": [
    {
     "data": {
      "image/png": "[encoded data removed]",
      "text/plain": [
       "<Figure size 640x480 with 1 Axes>"
      ]
     },
     "metadata": {},
     "output_type": "display_data"
    }
   ],
   "source": [
    "g_nx = to_networkx(g)\n",
    "colors = [node[1]['Color'] for node in g_nx.nodes(data=True)]\n",
    "pos = nx.spring_layout(g_nx) \n",
    "nx.draw(g_nx, pos,node_color=colors, with_labels=True)"
   ]
  }
 ],
 "metadata": {
  "kernelspec": {
   "display_name": "gt_global",
   "language": "python",
   "name": "python3"
  },
  "language_info": {
   "codemirror_mode": {
    "name": "ipython",
    "version": 3
   },
   "file_extension": ".py",
   "mimetype": "text/x-python",
   "name": "python",
   "nbconvert_exporter": "python",
   "pygments_lexer": "ipython3",
   "version": "3.11.6"
  }
 },
 "nbformat": 4,
 "nbformat_minor": 2
}
