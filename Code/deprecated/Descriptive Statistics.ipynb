{
 "cells": [
  {
   "cell_type": "markdown",
   "metadata": {},
   "source": [
    "# Descriptive Statistics\n",
    "\n",
    "This script follows the Morgan & Copeland (no date). It stores in a dataframe many descriptive statistics for the sixty graphs used."
   ]
  },
  {
   "cell_type": "code",
   "execution_count": 1,
   "metadata": {},
   "outputs": [],
   "source": [
    "import pandas as pd\n",
    "import os\n",
    "import numpy as np\n",
    "import pickle\n",
    "from tqdm import tqdm\n",
    "import networkx as nx\n",
    "import statistics\n",
    "from glob import glob"
   ]
  },
  {
   "cell_type": "markdown",
   "metadata": {},
   "source": [
    "### 1. Get all graphs"
   ]
  },
  {
   "cell_type": "code",
   "execution_count": 2,
   "metadata": {},
   "outputs": [
    {
     "name": "stderr",
     "output_type": "stream",
     "text": [
      "61it [23:40, 23.28s/it]\n"
     ]
    }
   ],
   "source": [
    "# 23 Minute runtime\n",
    "files = glob('/mnt/disk2/Data/Graphs/*.graphml')\n",
    "\n",
    "graphs = []  # List to store the loaded graphs\n",
    "\n",
    "for i, file in tqdm(enumerate(files)):\n",
    "    graph = nx.read_graphml(file)\n",
    "    graph_name = file[file.find('graph_'):file.find('.graphml')]\n",
    "    graph_name = graph_name.replace('-','_')\n",
    "    graphs.append(graph_name)\n",
    "    globals()[graph_name] = graph\n",
    "    \n",
    "del graph"
   ]
  },
  {
   "cell_type": "markdown",
   "metadata": {},
   "source": [
    "### 2. Basic Measures\n",
    "\n",
    "Number fo Nodes (V), Edges (E) and Dyads in each Graph"
   ]
  },
  {
   "cell_type": "code",
   "execution_count": 4,
   "metadata": {},
   "outputs": [],
   "source": [
    "description = pd.DataFrame() # Dataframe with al the descriptive stattistics for export\n",
    "# 4.1 Number of nodes (graph size)\n",
    "n_nodes = np.zeros(61)\n",
    "# 4.2 Number of edges\n",
    "n_edges = np.zeros(61)\n",
    "# 4.3 Number of dyads\n",
    "n_dyads = np.zeros(61)"
   ]
  },
  {
   "cell_type": "code",
   "execution_count": 5,
   "metadata": {},
   "outputs": [
    {
     "name": "stderr",
     "output_type": "stream",
     "text": [
      "61it [00:01, 39.17it/s]\n"
     ]
    },
    {
     "data": {
      "text/html": [
       "<div>\n",
       "<style scoped>\n",
       "    .dataframe tbody tr th:only-of-type {\n",
       "        vertical-align: middle;\n",
       "    }\n",
       "\n",
       "    .dataframe tbody tr th {\n",
       "        vertical-align: top;\n",
       "    }\n",
       "\n",
       "    .dataframe thead th {\n",
       "        text-align: right;\n",
       "    }\n",
       "</style>\n",
       "<table border=\"1\" class=\"dataframe\">\n",
       "  <thead>\n",
       "    <tr style=\"text-align: right;\">\n",
       "      <th></th>\n",
       "      <th>graph</th>\n",
       "      <th>n_nodes</th>\n",
       "      <th>n_edges</th>\n",
       "      <th>n_dyads</th>\n",
       "    </tr>\n",
       "  </thead>\n",
       "  <tbody>\n",
       "    <tr>\n",
       "      <th>0</th>\n",
       "      <td>graph_11_06_2021</td>\n",
       "      <td>37308.0</td>\n",
       "      <td>221709.0</td>\n",
       "      <td>110854.5</td>\n",
       "    </tr>\n",
       "    <tr>\n",
       "      <th>1</th>\n",
       "      <td>graph_01_06_2021</td>\n",
       "      <td>37308.0</td>\n",
       "      <td>293177.0</td>\n",
       "      <td>146588.5</td>\n",
       "    </tr>\n",
       "    <tr>\n",
       "      <th>2</th>\n",
       "      <td>graph_11_05_2021</td>\n",
       "      <td>37308.0</td>\n",
       "      <td>254221.0</td>\n",
       "      <td>127110.5</td>\n",
       "    </tr>\n",
       "    <tr>\n",
       "      <th>3</th>\n",
       "      <td>graph_10_05_2021</td>\n",
       "      <td>37308.0</td>\n",
       "      <td>675726.0</td>\n",
       "      <td>337863.0</td>\n",
       "    </tr>\n",
       "    <tr>\n",
       "      <th>4</th>\n",
       "      <td>graph_06_05_2021</td>\n",
       "      <td>37308.0</td>\n",
       "      <td>351881.0</td>\n",
       "      <td>175940.5</td>\n",
       "    </tr>\n",
       "  </tbody>\n",
       "</table>\n",
       "</div>"
      ],
      "text/plain": [
       "              graph  n_nodes   n_edges   n_dyads\n",
       "0  graph_11_06_2021  37308.0  221709.0  110854.5\n",
       "1  graph_01_06_2021  37308.0  293177.0  146588.5\n",
       "2  graph_11_05_2021  37308.0  254221.0  127110.5\n",
       "3  graph_10_05_2021  37308.0  675726.0  337863.0\n",
       "4  graph_06_05_2021  37308.0  351881.0  175940.5"
      ]
     },
     "execution_count": 5,
     "metadata": {},
     "output_type": "execute_result"
    }
   ],
   "source": [
    "# Calculate number of nodes, edges and dyads and store them in the description DataFrame\n",
    "for idx, graph_name in tqdm(enumerate(graphs)):\n",
    "    graph = globals()[graph_name]\n",
    "    n_nodes[idx] = graph.number_of_nodes()\n",
    "    n_edges[idx] = graph.number_of_edges()\n",
    "    n_dyads[idx] = n_edges[idx]/2\n",
    "\n",
    "description['graph'] = graphs\n",
    "description['n_nodes'] = n_nodes\n",
    "description['n_edges'] = n_edges\n",
    "description['n_dyads'] = n_dyads\n",
    "# del n_nodes\n",
    "# del n_edges\n",
    "# del n_dyads\n",
    "description.head()"
   ]
  },
  {
   "cell_type": "markdown",
   "metadata": {},
   "source": [
    "### 3. System Level Measures\n",
    "\n",
    "3.1. $Density_i = \\frac{2E_i}{V_i(V_i - 1)}$"
   ]
  },
  {
   "cell_type": "code",
   "execution_count": 6,
   "metadata": {},
   "outputs": [],
   "source": [
    "description['density'] = (2*description['n_edges']) / (description['n_nodes'] * (description['n_nodes'] - 1))"
   ]
  },
  {
   "cell_type": "markdown",
   "metadata": {},
   "source": [
    "3.2 Degree distribution"
   ]
  },
  {
   "cell_type": "code",
   "execution_count": 7,
   "metadata": {},
   "outputs": [
    {
     "name": "stderr",
     "output_type": "stream",
     "text": [
      "61it [00:02, 28.82it/s]\n"
     ]
    },
    {
     "data": {
      "text/html": [
       "<div>\n",
       "<style scoped>\n",
       "    .dataframe tbody tr th:only-of-type {\n",
       "        vertical-align: middle;\n",
       "    }\n",
       "\n",
       "    .dataframe tbody tr th {\n",
       "        vertical-align: top;\n",
       "    }\n",
       "\n",
       "    .dataframe thead th {\n",
       "        text-align: right;\n",
       "    }\n",
       "</style>\n",
       "<table border=\"1\" class=\"dataframe\">\n",
       "  <thead>\n",
       "    <tr style=\"text-align: right;\">\n",
       "      <th></th>\n",
       "      <th>graph</th>\n",
       "      <th>n_nodes</th>\n",
       "      <th>n_edges</th>\n",
       "      <th>n_dyads</th>\n",
       "      <th>density</th>\n",
       "      <th>mean_degree</th>\n",
       "      <th>median_degree</th>\n",
       "    </tr>\n",
       "  </thead>\n",
       "  <tbody>\n",
       "    <tr>\n",
       "      <th>0</th>\n",
       "      <td>graph_11_06_2021</td>\n",
       "      <td>37308.0</td>\n",
       "      <td>221709.0</td>\n",
       "      <td>110854.5</td>\n",
       "      <td>0.000319</td>\n",
       "      <td>11.885333</td>\n",
       "      <td>2.0</td>\n",
       "    </tr>\n",
       "    <tr>\n",
       "      <th>1</th>\n",
       "      <td>graph_01_06_2021</td>\n",
       "      <td>37308.0</td>\n",
       "      <td>293177.0</td>\n",
       "      <td>146588.5</td>\n",
       "      <td>0.000421</td>\n",
       "      <td>15.716576</td>\n",
       "      <td>2.0</td>\n",
       "    </tr>\n",
       "    <tr>\n",
       "      <th>2</th>\n",
       "      <td>graph_11_05_2021</td>\n",
       "      <td>37308.0</td>\n",
       "      <td>254221.0</td>\n",
       "      <td>127110.5</td>\n",
       "      <td>0.000365</td>\n",
       "      <td>13.628230</td>\n",
       "      <td>2.0</td>\n",
       "    </tr>\n",
       "    <tr>\n",
       "      <th>3</th>\n",
       "      <td>graph_10_05_2021</td>\n",
       "      <td>37308.0</td>\n",
       "      <td>675726.0</td>\n",
       "      <td>337863.0</td>\n",
       "      <td>0.000971</td>\n",
       "      <td>36.224188</td>\n",
       "      <td>8.0</td>\n",
       "    </tr>\n",
       "    <tr>\n",
       "      <th>4</th>\n",
       "      <td>graph_06_05_2021</td>\n",
       "      <td>37308.0</td>\n",
       "      <td>351881.0</td>\n",
       "      <td>175940.5</td>\n",
       "      <td>0.000506</td>\n",
       "      <td>18.863568</td>\n",
       "      <td>3.0</td>\n",
       "    </tr>\n",
       "  </tbody>\n",
       "</table>\n",
       "</div>"
      ],
      "text/plain": [
       "              graph  n_nodes   n_edges   n_dyads   density  mean_degree  \\\n",
       "0  graph_11_06_2021  37308.0  221709.0  110854.5  0.000319    11.885333   \n",
       "1  graph_01_06_2021  37308.0  293177.0  146588.5  0.000421    15.716576   \n",
       "2  graph_11_05_2021  37308.0  254221.0  127110.5  0.000365    13.628230   \n",
       "3  graph_10_05_2021  37308.0  675726.0  337863.0  0.000971    36.224188   \n",
       "4  graph_06_05_2021  37308.0  351881.0  175940.5  0.000506    18.863568   \n",
       "\n",
       "   median_degree  \n",
       "0            2.0  \n",
       "1            2.0  \n",
       "2            2.0  \n",
       "3            8.0  \n",
       "4            3.0  "
      ]
     },
     "execution_count": 7,
     "metadata": {},
     "output_type": "execute_result"
    }
   ],
   "source": [
    "# 5.2 Degree Distribution\n",
    "mean_degree = np.zeros(61)\n",
    "median_degree = np.zeros(61)\n",
    "\n",
    "for idx, graph_name in tqdm(enumerate(graphs)):\n",
    "    graph = globals()[graph_name]\n",
    "    degree = list(dict(graph.degree()).values())\n",
    "    mean_degree[idx] = sum(degree) / description['n_nodes'][idx]\n",
    "    median_degree[idx] = statistics.median(degree)\n",
    "\n",
    "description['mean_degree'] = mean_degree\n",
    "description['median_degree'] = median_degree\n",
    "del mean_degree\n",
    "del median_degree\n",
    "description.head()"
   ]
  },
  {
   "cell_type": "code",
   "execution_count": 8,
   "metadata": {},
   "outputs": [
    {
     "name": "stderr",
     "output_type": "stream",
     "text": [
      "0it [00:00, ?it/s]"
     ]
    }
   ],
   "source": [
    "geodesics = []\n",
    "mean_geopath = np.zeros(61)\n",
    "\n",
    "for idx, graph_name in tqdm(enumerate(graphs)):\n",
    "    graph = globals()[graph_name]\n",
    "    connected_components = nx.connected_components(graph)\n",
    "\n",
    "    for idy, component in enumerate(connected_components):\n",
    "        subgraph = graph.subgraph(component)\n",
    "        geodesics.append(nx.average_shortest_path_length(subgraph))\n",
    "    \n",
    "    geodesics = np.array(geodesics)\n",
    "    mean_geopath[idx] = np.mean(geodesics.append)\n",
    "    geodesics = geodesics.tolist()\n",
    "\n",
    "description.head()"
   ]
  }
 ],
 "metadata": {
  "kernelspec": {
   "display_name": "gt",
   "language": "python",
   "name": "python3"
  },
  "language_info": {
   "codemirror_mode": {
    "name": "ipython",
    "version": 3
   },
   "file_extension": ".py",
   "mimetype": "text/x-python",
   "name": "python",
   "nbconvert_exporter": "python",
   "pygments_lexer": "ipython3",
   "version": "3.11.5"
  },
  "orig_nbformat": 4
 },
 "nbformat": 4,
 "nbformat_minor": 2
}
