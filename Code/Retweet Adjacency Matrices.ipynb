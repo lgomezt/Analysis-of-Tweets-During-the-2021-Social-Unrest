{
 "cells": [
  {
   "cell_type": "markdown",
   "metadata": {},
   "source": [
    "# Adjacency Matrices"
   ]
  },
  {
   "cell_type": "markdown",
   "metadata": {},
   "source": [
    "In this Notebook, we create the adjacency matrices for the creation of the graph. Each matrix contains the Retweet Network in windows of 3 days between April 28 and June 27 of 2023"
   ]
  },
  {
   "cell_type": "code",
   "execution_count": 1,
   "metadata": {},
   "outputs": [],
   "source": [
    "import pandas as pd\n",
    "import numpy as np\n",
    "import pickle\n",
    "import os\n",
    "from tqdm import tqdm\n",
    "import scipy.sparse as sp\n",
    "from scipy.sparse import lil_matrix\n",
    "from scipy.sparse import csr_matrix\n",
    "from scipy.sparse import find\n",
    "import scipy.sparse"
   ]
  },
  {
   "cell_type": "markdown",
   "metadata": {},
   "source": [
    "Here We import the necessary data and then look it up"
   ]
  },
  {
   "cell_type": "code",
   "execution_count": 3,
   "metadata": {},
   "outputs": [],
   "source": [
    "tweets = pd.read_pickle('/mnt/disk2/Data/Pickle/tweets_lite.pkl')"
   ]
  },
  {
   "cell_type": "code",
   "execution_count": 4,
   "metadata": {},
   "outputs": [
    {
     "name": "stdout",
     "output_type": "stream",
     "text": [
      "Shape: (45330426, 4)\n"
     ]
    },
    {
     "data": {
      "text/html": [
       "<div>\n",
       "<style scoped>\n",
       "    .dataframe tbody tr th:only-of-type {\n",
       "        vertical-align: middle;\n",
       "    }\n",
       "\n",
       "    .dataframe tbody tr th {\n",
       "        vertical-align: top;\n",
       "    }\n",
       "\n",
       "    .dataframe thead th {\n",
       "        text-align: right;\n",
       "    }\n",
       "</style>\n",
       "<table border=\"1\" class=\"dataframe\">\n",
       "  <thead>\n",
       "    <tr style=\"text-align: right;\">\n",
       "      <th></th>\n",
       "      <th>Author ID</th>\n",
       "      <th>Date</th>\n",
       "      <th>Reference Type</th>\n",
       "      <th>Referenced Tweet Author ID</th>\n",
       "    </tr>\n",
       "  </thead>\n",
       "  <tbody>\n",
       "    <tr>\n",
       "      <th>0</th>\n",
       "      <td>1.000014e+18</td>\n",
       "      <td>2021/06/28 08:17:49</td>\n",
       "      <td>retweeted</td>\n",
       "      <td>352373166.0</td>\n",
       "    </tr>\n",
       "    <tr>\n",
       "      <th>1</th>\n",
       "      <td>1.000014e+18</td>\n",
       "      <td>2021/06/25 12:00:06</td>\n",
       "      <td>retweeted</td>\n",
       "      <td>14834302.0</td>\n",
       "    </tr>\n",
       "    <tr>\n",
       "      <th>2</th>\n",
       "      <td>1.000014e+18</td>\n",
       "      <td>2021/06/25 11:52:30</td>\n",
       "      <td>retweeted</td>\n",
       "      <td>528290945.0</td>\n",
       "    </tr>\n",
       "    <tr>\n",
       "      <th>3</th>\n",
       "      <td>1.000014e+18</td>\n",
       "      <td>2021/06/24 17:49:16</td>\n",
       "      <td>retweeted</td>\n",
       "      <td>753376280.0</td>\n",
       "    </tr>\n",
       "    <tr>\n",
       "      <th>4</th>\n",
       "      <td>1.000014e+18</td>\n",
       "      <td>2021/06/24 15:21:04</td>\n",
       "      <td>retweeted</td>\n",
       "      <td>132102878.0</td>\n",
       "    </tr>\n",
       "  </tbody>\n",
       "</table>\n",
       "</div>"
      ],
      "text/plain": [
       "      Author ID                 Date Reference Type  \\\n",
       "0  1.000014e+18  2021/06/28 08:17:49      retweeted   \n",
       "1  1.000014e+18  2021/06/25 12:00:06      retweeted   \n",
       "2  1.000014e+18  2021/06/25 11:52:30      retweeted   \n",
       "3  1.000014e+18  2021/06/24 17:49:16      retweeted   \n",
       "4  1.000014e+18  2021/06/24 15:21:04      retweeted   \n",
       "\n",
       "   Referenced Tweet Author ID  \n",
       "0                 352373166.0  \n",
       "1                  14834302.0  \n",
       "2                 528290945.0  \n",
       "3                 753376280.0  \n",
       "4                 132102878.0  "
      ]
     },
     "execution_count": 4,
     "metadata": {},
     "output_type": "execute_result"
    }
   ],
   "source": [
    "print('Shape:', tweets.shape)\n",
    "tweets.head()"
   ]
  },
  {
   "cell_type": "code",
   "execution_count": 5,
   "metadata": {},
   "outputs": [],
   "source": [
    "# We define a function which returns a Boolean specifying if matrix is Non Zero\n",
    "def is_matrix_nonzero(matrix):\n",
    "    return len(matrix.nonzero()[0]) > 0"
   ]
  },
  {
   "cell_type": "markdown",
   "metadata": {},
   "source": [
    "We create a Dictionary with all the Author IDs and their indexes in the Dataframe. This will help us query the Dataframe for the Tweets and ReTweets of each user"
   ]
  },
  {
   "cell_type": "code",
   "execution_count": 4,
   "metadata": {},
   "outputs": [],
   "source": [
    "tweets['Date'] = pd.to_datetime(tweets['Date'], errors = 'coerce')\n",
    "\n",
    "# List of Twitter users\n",
    "users = np.unique(tweets[['Author ID']].values)\n",
    "users = [ int(x) for x in users ]\n",
    "\n",
    "# Dates of the Paro Nacional\n",
    "v1_start = '2021-04-28 00:00:00'\n",
    "v1_end = '2021-06-27 00:00:00'\n",
    "date1 = pd.date_range(start = v1_start, end = v1_end, freq = 'D')\n",
    "\n",
    "v2_start = '2021-04-30 23:59:59'\n",
    "v2_end = '2021-06-29 23:59:59'\n",
    "date2 = pd.date_range(start = v2_start, end = v2_end, freq = 'D')\n",
    "\n",
    "user_indices = {user: idx for idx, user in enumerate(users)}\n",
    "datestr = list(date2.strftime(\"%d-%m-%Y\"))"
   ]
  },
  {
   "cell_type": "code",
   "execution_count": 7,
   "metadata": {},
   "outputs": [],
   "source": [
    "# We save this file for further usage\n",
    "with open('../fcastrillon/Data/user_indices.pkl', 'wb') as file:\n",
    "    pickle.dump(user_indices, file)"
   ]
  },
  {
   "cell_type": "markdown",
   "metadata": {},
   "source": [
    "In this _for loop_ we create the adjacency matrix for constructing the graph.\n",
    "\n",
    "Each cell _RT<sub>i,j</sub>_ is the amount of Tweets the _i_ user Retweeted from the _j_ user.\n",
    "\n",
    "This process is done for all the tweets done in intervals of 3 days during the Paro Nacional.\n",
    "\n",
    "The Adjacency Matrix will be stored in the Matrices folder of Data"
   ]
  },
  {
   "cell_type": "code",
   "execution_count": null,
   "metadata": {},
   "outputs": [],
   "source": [
    "k = 0\n",
    "os.chdir('../Matrices/')\n",
    "for start_date, end_date in tqdm(zip(date1, date2)):\n",
    "    # get tweets by current day between start_date and end_date\n",
    "    test = tweets[(tweets['Date'] >= start_date) & (tweets['Date'] <= end_date)]\n",
    "\n",
    "    # 'rts' dataframe contains the Author ID and the Referenced Author ID in the \n",
    "    # timeframe we are interested.\n",
    "    rts = test.loc[(test[\"Reference Type\"] == \"retweeted\") & (test[\"Referenced Tweet Author ID\"].isin(users)),\n",
    "                                                    [\"Author ID\", \"Referenced Tweet Author ID\"]]\n",
    "\n",
    "    # We rename the 'rts' dataframe columns for code easyness now.\n",
    "    new_column_names = {'Author ID':'user1', 'Referenced Tweet Author ID':'user2'}\n",
    "    rts = rts.rename(columns = new_column_names)\n",
    "    \n",
    "    # Because of the data structure, we use a sparse matrix.\n",
    "    A = sp.csr_matrix((len(users), len(users)), dtype = int)\n",
    "    lil = lil_matrix(A.shape)\n",
    "\n",
    "    for row in rts.itertuples(index = False):\n",
    "        user1, user2 = row.user1, row.user2\n",
    "    \n",
    "        idx_user1 = user_indices[user1]\n",
    "        idx_user2 = user_indices[user2]\n",
    "\n",
    "        lil[idx_user1, idx_user2] += 1\n",
    "        lil[idx_user2, idx_user1] += 1\n",
    "\n",
    "    if is_matrix_nonzero(lil):\n",
    "        pass\n",
    "    else:\n",
    "        print(\"Matrix is zero\")\n",
    "    \n",
    "    # This matrices are sparse. Therefore, we save it as such.\n",
    "    A = lil.tocsr()\n",
    "    filename = f'adj_end_of_{datestr[k]}.csr'\n",
    "    sp.save_npz(filename, A, compressed = False)\n",
    "    k += 1"
   ]
  }
 ],
 "metadata": {
  "kernelspec": {
   "display_name": "Python 3",
   "language": "python",
   "name": "python3"
  },
  "language_info": {
   "codemirror_mode": {
    "name": "ipython",
    "version": 3
   },
   "file_extension": ".py",
   "mimetype": "text/x-python",
   "name": "python",
   "nbconvert_exporter": "python",
   "pygments_lexer": "ipython3",
   "version": "3.11.5"
  },
  "orig_nbformat": 4
 },
 "nbformat": 4,
 "nbformat_minor": 2
}
