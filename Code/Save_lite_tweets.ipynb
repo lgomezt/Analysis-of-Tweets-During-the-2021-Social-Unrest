{
 "cells": [
  {
   "cell_type": "markdown",
   "metadata": {},
   "source": [
    "# Data Import"
   ]
  },
  {
   "cell_type": "markdown",
   "metadata": {},
   "source": [
    "In this Notebook we load all the files from the *Usuarios_V1* Folder into a Big Dataframe and export it as a pickle file"
   ]
  },
  {
   "cell_type": "code",
   "execution_count": 15,
   "metadata": {},
   "outputs": [],
   "source": [
    "import pandas as pd\n",
    "import os\n",
    "import pickle\n",
    "from tqdm import tqdm\n",
    "import glob"
   ]
  },
  {
   "cell_type": "code",
   "execution_count": 41,
   "metadata": {},
   "outputs": [],
   "source": [
    "# Get just the columns that we need\n",
    "cols = ['Author ID',\n",
    "        'Date',\n",
    "        'Reference Type',\n",
    "        'Referenced Tweet Author ID']\n",
    "\n",
    "# We create an empty aux list that will store the tweets.\n",
    "tweets_lite_aux = []\n",
    "ID = []"
   ]
  },
  {
   "cell_type": "code",
   "execution_count": 42,
   "metadata": {},
   "outputs": [
    {
     "name": "stderr",
     "output_type": "stream",
     "text": [
      "100%|██████████| 37307/37307 [08:42<00:00, 71.40it/s] \n"
     ]
    }
   ],
   "source": [
    "files = glob.glob('../../Data/Usuarios_V1/*.csv')\n",
    "\n",
    "# We store the tweets in the list.\n",
    "for file in tqdm(files):\n",
    "    tweets_lite_aux.append(pd.read_csv(file, usecols = cols))\n",
    "\n",
    "    # Extract the XXXXX part by splitting the filename at the underscore and taking the second part\n",
    "    number = file.split(\"\\\\\")[1]\n",
    "    \n",
    "    # Remove the file extension if present\n",
    "    number = number.split('.')[0].split('_')[1]\n",
    "    ID.append(number)\n",
    "\n",
    "# We concat the list and then deleted\n",
    "tweets_lite = pd.concat(tweets_lite_aux)\n",
    "del tweets_lite_aux\n",
    "\n",
    "# Now we add the ID to the Dataframe\n",
    "ID = set(ID)\n",
    "ID = {int(element) for element in ID}\n",
    "minimum = min(ID)\n",
    "tweets_lite = tweets_lite[tweets_lite['Author ID'] >= minimum]"
   ]
  },
  {
   "cell_type": "code",
   "execution_count": null,
   "metadata": {},
   "outputs": [],
   "source": [
    "tweets_aux = []\n",
    "tweets_not_read = []\n",
    "\n",
    "for file in tqdm(files):\n",
    "    tweets_aux.append(pd.read_csv(file))"
   ]
  },
  {
   "cell_type": "markdown",
   "metadata": {},
   "source": [
    "With the tweets already loaded, we export this result into a pickle file for later use"
   ]
  },
  {
   "cell_type": "code",
   "execution_count": 44,
   "metadata": {},
   "outputs": [],
   "source": [
    "tweets_lite.to_pickle('../Data/tweets_lite.pkl')"
   ]
  }
 ],
 "metadata": {
  "kernelspec": {
   "display_name": "Python 3",
   "language": "python",
   "name": "python3"
  },
  "language_info": {
   "codemirror_mode": {
    "name": "ipython",
    "version": 3
   },
   "file_extension": ".py",
   "mimetype": "text/x-python",
   "name": "python",
   "nbconvert_exporter": "python",
   "pygments_lexer": "ipython3",
   "version": "3.8.10"
  },
  "orig_nbformat": 4
 },
 "nbformat": 4,
 "nbformat_minor": 2
}
