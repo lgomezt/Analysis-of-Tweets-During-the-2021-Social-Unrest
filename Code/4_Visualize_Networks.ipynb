{
 "cells": [
  {
   "cell_type": "markdown",
   "metadata": {},
   "source": [
    "# Visualize Networkss"
   ]
  },
  {
   "cell_type": "code",
   "execution_count": 25,
   "metadata": {},
   "outputs": [
    {
     "data": {
      "text/plain": [
       "<module 'Functions' from '/mnt/disk2/fcastrillon/Analysis-of-Tweets-During-the-2021-Social-Unrest/Code/Functions.py'>"
      ]
     },
     "execution_count": 25,
     "metadata": {},
     "output_type": "execute_result"
    }
   ],
   "source": [
    "# Mathematical and Data Managment\n",
    "import numpy as np\n",
    "import pandas as pd\n",
    "import scipy.sparse as sp\n",
    "\n",
    "# Graph Managment\n",
    "import graph_tool.all as gt\n",
    "import networkx as nx\n",
    "import Functions as Fun\n",
    "import Segregation as Seg\n",
    "\n",
    "# Data Visualization\n",
    "import seaborn as sns\n",
    "import matplotlib.pyplot as plt\n",
    "%matplotlib inline\n",
    "import cython\n",
    "import Cython\n",
    "from forceatlas2 import forceatlas2_networkx_layout\n",
    "\n",
    "# Miscellaneous\n",
    "from glob import glob\n",
    "from tqdm import tqdm\n",
    "import random\n",
    "import os\n",
    "import time\n",
    "import multiprocessing as mp\n",
    "import concurrent.futures\n",
    "\n",
    "# Reload Utils\n",
    "import importlib\n",
    "importlib.reload(Seg)\n",
    "importlib.reload(Fun)"
   ]
  },
  {
   "cell_type": "code",
   "execution_count": 21,
   "metadata": {},
   "outputs": [],
   "source": [
    "ls = []\n",
    "files = glob('/mnt/disk2/Data/3_Day_Graphs/*.graphml')\n",
    "\n",
    "for file in files:\n",
    "    g = gt.load_graph(file)\n",
    "    N = g.num_vertices()\n",
    "    ls.append((file,N))\n",
    "\n",
    "sorted_ls = sorted(ls, key=lambda x: x[1], reverse=True)\n",
    "sorted_files = [g[0] for g in sorted_ls]"
   ]
  },
  {
   "cell_type": "code",
   "execution_count": 22,
   "metadata": {},
   "outputs": [],
   "source": [
    "sub_files = sorted_files[0:16]"
   ]
  },
  {
   "cell_type": "code",
   "execution_count": 17,
   "metadata": {},
   "outputs": [],
   "source": [
    "# PASO 0\n",
    "def initial_pos():\n",
    "    master_id = pd.read_csv('/mnt/disk2/Data/3_Day_Graphs/Nodes.csv', sep = ';')\n",
    "    pos = {i: (random.random(), random.random()) for i in master_id['Idx in Graph']}\n",
    "    return pos\n",
    "\n",
    "# PASO 1\n",
    "def read_graph(file):\n",
    "    g = gt.load_graph(file)  \n",
    "    date = file.split('/')[-1].split('.')[0].split('_')[-1]    \n",
    "    #sub = Fun.fraction_graph(g, fraction, seed = 2)\n",
    "    g_nx = Fun.to_networkx(g)\n",
    "    g_nx = g_nx.to_undirected()\n",
    "    return g_nx, date\n",
    "\n",
    "# PASO 2.1\n",
    "def colors_list(g_nx):\n",
    "    nodes = g_nx.nodes(data=True)\n",
    "    colors = [node[1]['Color'] for node in nodes]\n",
    "    return colors\n",
    "\n",
    "# PASO 2.2\n",
    "def node_size(g_nx):\n",
    "    node_degree = [g_nx.degree(node) for node in g_nx.nodes]\n",
    "    return node_degree\n",
    "\n",
    "# PASO 2.3\n",
    "def self_loops(g_nx):\n",
    "    self_loops = list(nx.selfloop_edges(g_nx))\n",
    "    non_self_loop_edges = [(u, v) for u, v in g_nx.edges() if (u, v) not in self_loops and (v, u) not in self_loops]\n",
    "    return non_self_loop_edges\n",
    "\n",
    "# PASO 3\n",
    "def layout(g_nx, pos):\n",
    "    fa2_layout = forceatlas2_networkx_layout(g_nx, pos, niter=1000)\n",
    "    return fa2_layout\n",
    "\n",
    "# PASO 4\n",
    "def draw(g_nx, fa2_layout, node_degree, colors_list, non_self_loop_edges, file):\n",
    "    fig, ax = plt.subplots(figsize=(18, 12))\n",
    "\n",
    "    nx.draw_networkx_nodes(g_nx,\n",
    "                                fa2_layout,\n",
    "                                node_size = node_degree,\n",
    "                                node_color = colors_list,\n",
    "                                edgecolors=(0,0,0,0.1),\n",
    "                                ax = ax)\n",
    "\n",
    "    #nx.draw_networkx_edges(g_nx, fa2_layout, edgelist=non_self_loop_edges, alpha=0.1, ax=ax)\n",
    "    plt.axis('off')\n",
    "    filename = f'starting_{file}'\n",
    "    plt.savefig(f'../Results/3_Day_graphs_Viz/{filename}.png')\n",
    "    plt.close()\n",
    "    return filename"
   ]
  },
  {
   "cell_type": "code",
   "execution_count": 18,
   "metadata": {},
   "outputs": [
    {
     "name": "stdout",
     "output_type": "stream",
     "text": [
      "Done with starting_2021-05-24\n",
      "Done with starting_2021-05-07\n",
      "Done with starting_2021-05-09\n",
      "Done with starting_2021-05-25\n",
      "Done with starting_2021-05-29\n",
      "Done with starting_2021-04-30\n",
      "Done with starting_2021-05-28\n",
      "Done with starting_2021-05-27\n",
      "Done with starting_2021-05-06\n",
      "Done with starting_2021-05-26\n",
      "Done with starting_2021-05-08\n",
      "Done with starting_2021-05-01\n",
      "Done with starting_2021-05-05\n",
      "Done with starting_2021-05-02\n",
      "Done with starting_2021-05-04\n",
      "Done with starting_2021-05-03\n",
      "Done with starting_2021-05-30\n",
      "Done with starting_2021-05-23\n",
      "Done with starting_2021-05-10\n",
      "Done with starting_2021-04-29\n",
      "Finished in 3109.81 second(s)\n"
     ]
    }
   ],
   "source": [
    "if __name__ == '__main__':\n",
    "\n",
    "    start = time.perf_counter()\n",
    "    \n",
    "    # PASO 0\n",
    "    pos = initial_pos()\n",
    "            \n",
    "    def Program(file):\n",
    "        # PASO 1\n",
    "        g_nx, date = read_graph(file)\n",
    "            \n",
    "        # PASO 2\n",
    "        colors = colors_list(g_nx)\n",
    "        size = node_size(g_nx)\n",
    "        non_self_loop_edges = self_loops(g_nx)\n",
    "            \n",
    "        # PASO 3 YUCA\n",
    "        fa2_layout = layout(g_nx, pos)\n",
    "            \n",
    "        # PASO 4\n",
    "        filename = draw(g_nx, fa2_layout, size, colors, non_self_loop_edges, date)\n",
    "        print(f'Done with {filename}')\n",
    "        return fa2_layout\n",
    "    \n",
    "    with concurrent.futures.ProcessPoolExecutor() as executor:\n",
    "        executor.map(Program, sub_files)\n",
    "\n",
    "    finish = time.perf_counter()\n",
    "    \n",
    "    print(f'Finished in {round(finish-start, 2)} second(s)')"
   ]
  }
 ],
 "metadata": {
  "kernelspec": {
   "display_name": "gt",
   "language": "python",
   "name": "python3"
  },
  "language_info": {
   "codemirror_mode": {
    "name": "ipython",
    "version": 3
   },
   "file_extension": ".py",
   "mimetype": "text/x-python",
   "name": "python",
   "nbconvert_exporter": "python",
   "pygments_lexer": "ipython3",
   "version": "3.11.6"
  },
  "orig_nbformat": 4
 },
 "nbformat": 4,
 "nbformat_minor": 2
}
