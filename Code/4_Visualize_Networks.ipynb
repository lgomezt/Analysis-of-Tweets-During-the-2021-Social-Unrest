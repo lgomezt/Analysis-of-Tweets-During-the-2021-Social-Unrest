{
 "cells": [
  {
   "cell_type": "markdown",
   "metadata": {},
   "source": [
    "# Visualize Networkss"
   ]
  },
  {
   "cell_type": "code",
<<<<<<< HEAD
   "execution_count": 2,
   "metadata": {},
   "outputs": [],
=======
   "execution_count": 13,
   "metadata": {},
   "outputs": [
    {
     "data": {
      "text/plain": [
       "<module 'utils.Functions' from '/mnt/disk2/fcastrillon/Analysis-of-Tweets-During-the-2021-Social-Unrest/Code/utils/Functions.py'>"
      ]
     },
     "execution_count": 13,
     "metadata": {},
     "output_type": "execute_result"
    }
   ],
>>>>>>> 76123e9f2078f3d8da12455b3fab88d5c3368509
   "source": [
    "# Mathematical and Data Managment\n",
    "import numpy as np\n",
    "import pandas as pd\n",
    "\n",
    "# Graph Managment\n",
    "import graph_tool.all as gt\n",
    "import networkx as nx\n",
    "import utils.Functions as Fun\n",
    "import utils.Segregation as Seg\n",
    "\n",
    "# Data Visualization\n",
    "import matplotlib.pyplot as plt\n",
<<<<<<< HEAD
    "\n",
=======
    "%matplotlib inline\n",
    "from forceatlas2 import forceatlas2_networkx_layout\n",
>>>>>>> 76123e9f2078f3d8da12455b3fab88d5c3368509
    "\n",
    "# Miscellaneous\n",
    "from glob import glob\n",
    "import random\n",
<<<<<<< HEAD
    "import time"
   ]
  },
  {
   "cell_type": "markdown",
   "metadata": {},
   "source": [
    "# Using Layout from Gephi"
   ]
  },
  {
   "cell_type": "code",
   "execution_count": 3,
   "metadata": {},
   "outputs": [
    {
     "ename": "NameError",
     "evalue": "name 's' is not defined",
     "output_type": "error",
     "traceback": [
      "\u001b[0;31m---------------------------------------------------------------------------\u001b[0m",
      "\u001b[0;31mNameError\u001b[0m                                 Traceback (most recent call last)",
      "\u001b[1;32m/mnt/disk2/lgomezt/Analysis-of-Tweets-During-the-2021-Social-Unrest/Code/4_Visualize_Networks.ipynb Cell 4\u001b[0m line \u001b[0;36m1\n\u001b[0;32m----> <a href='vscode-notebook-cell://ssh-remote%2B157.253.242.110/mnt/disk2/lgomezt/Analysis-of-Tweets-During-the-2021-Social-Unrest/Code/4_Visualize_Networks.ipynb#X13sdnNjb2RlLXJlbW90ZQ%3D%3D?line=0'>1</a>\u001b[0m s\n",
      "\u001b[0;31mNameError\u001b[0m: name 's' is not defined"
     ]
    }
   ],
   "source": [
    "s"
   ]
  },
  {
   "cell_type": "markdown",
   "metadata": {},
   "source": [
    "# Deprecated"
   ]
  },
  {
   "cell_type": "code",
   "execution_count": null,
   "metadata": {},
   "outputs": [],
   "source": [
    "# from forceatlas2 import forceatlas2_networkx_layout"
   ]
  },
  {
   "cell_type": "code",
   "execution_count": 8,
   "metadata": {},
   "outputs": [
    {
     "name": "stdout",
     "output_type": "stream",
     "text": [
      "<Graph object, directed, with 25939 vertices and 262464 edges, 3 internal vertex properties, 1 internal edge property, at 0x7fb33458d4d0>\n"
     ]
    },
    {
     "data": {
      "text/html": [
       "<div>\n",
       "<style scoped>\n",
       "    .dataframe tbody tr th:only-of-type {\n",
       "        vertical-align: middle;\n",
       "    }\n",
       "\n",
       "    .dataframe tbody tr th {\n",
       "        vertical-align: top;\n",
       "    }\n",
       "\n",
       "    .dataframe thead th {\n",
       "        text-align: right;\n",
       "    }\n",
       "</style>\n",
       "<table border=\"1\" class=\"dataframe\">\n",
       "  <thead>\n",
       "    <tr style=\"text-align: right;\">\n",
       "      <th></th>\n",
       "      <th>Idx in Graph</th>\n",
       "      <th>ID</th>\n",
       "      <th>Label</th>\n",
       "      <th>Political Affiliation</th>\n",
       "      <th>Color</th>\n",
       "    </tr>\n",
       "  </thead>\n",
       "  <tbody>\n",
       "    <tr>\n",
       "      <th>0</th>\n",
       "      <td>0</td>\n",
       "      <td>12</td>\n",
       "      <td>0</td>\n",
       "      <td>No Retweets</td>\n",
       "      <td>(0, 0, 0, 0.7)</td>\n",
       "    </tr>\n",
       "    <tr>\n",
       "      <th>1</th>\n",
       "      <td>1</td>\n",
       "      <td>12996</td>\n",
       "      <td>alerios</td>\n",
       "      <td>Izquierda</td>\n",
       "      <td>(0, 0, 1, 0.7)</td>\n",
       "    </tr>\n",
       "    <tr>\n",
       "      <th>2</th>\n",
       "      <td>2</td>\n",
       "      <td>777978</td>\n",
       "      <td>ranaberden</td>\n",
       "      <td>Centro</td>\n",
       "      <td>(0, 1, 0, 0.7)</td>\n",
       "    </tr>\n",
       "    <tr>\n",
       "      <th>3</th>\n",
       "      <td>3</td>\n",
       "      <td>784125</td>\n",
       "      <td>jsanti</td>\n",
       "      <td>Izquierda</td>\n",
       "      <td>(0, 0, 1, 0.7)</td>\n",
       "    </tr>\n",
       "    <tr>\n",
       "      <th>4</th>\n",
       "      <td>4</td>\n",
       "      <td>1061601</td>\n",
       "      <td>thisgoblin</td>\n",
       "      <td>Izquierda</td>\n",
       "      <td>(0, 0, 1, 0.7)</td>\n",
       "    </tr>\n",
       "  </tbody>\n",
       "</table>\n",
       "</div>"
      ],
      "text/plain": [
       "   Idx in Graph       ID       Label Political Affiliation           Color\n",
       "0             0       12           0           No Retweets  (0, 0, 0, 0.7)\n",
       "1             1    12996     alerios             Izquierda  (0, 0, 1, 0.7)\n",
       "2             2   777978  ranaberden                Centro  (0, 1, 0, 0.7)\n",
       "3             3   784125      jsanti             Izquierda  (0, 0, 1, 0.7)\n",
       "4             4  1061601  thisgoblin             Izquierda  (0, 0, 1, 0.7)"
      ]
     },
     "execution_count": 8,
     "metadata": {},
     "output_type": "execute_result"
    }
   ],
   "source": [
    "# Load the graph\n",
    "g = gt.load_graph(\"/mnt/disk2/Data/Daily_graphs/2021-05-03.graphml\")\n",
    "master_id = pd.read_csv('/mnt/disk2/Data/3_Day_Graphs/Nodes.csv', sep = ';')\n",
    "print(g)\n",
    "master_id.head()"
   ]
  },
  {
   "cell_type": "code",
   "execution_count": 11,
   "metadata": {},
   "outputs": [
    {
     "ename": "KeyError",
     "evalue": "('v', 'name')",
     "output_type": "error",
     "traceback": [
      "\u001b[0;31m---------------------------------------------------------------------------\u001b[0m",
      "\u001b[0;31mKeyError\u001b[0m                                  Traceback (most recent call last)",
      "\u001b[1;32m/mnt/disk2/fcastrillon/Analysis-of-Tweets-During-the-2021-Social-Unrest/Code/4_Visualize_Networks.ipynb Cell 4\u001b[0m line \u001b[0;36m1\n\u001b[0;32m----> <a href='vscode-notebook-cell://ssh-remote%2B157.253.242.110/mnt/disk2/fcastrillon/Analysis-of-Tweets-During-the-2021-Social-Unrest/Code/4_Visualize_Networks.ipynb#X11sdnNjb2RlLXJlbW90ZQ%3D%3D?line=0'>1</a>\u001b[0m g\u001b[39m.\u001b[39mvp[\u001b[39m'\u001b[39m\u001b[39mID\u001b[39m\u001b[39m'\u001b[39m][look_up_graph(g,\u001b[39m3\u001b[39;49m)]\n",
      "File \u001b[0;32m/mnt/disk2/fcastrillon/Analysis-of-Tweets-During-the-2021-Social-Unrest/Code/utils/Functions.py:235\u001b[0m, in \u001b[0;36mlook_up_graph\u001b[0;34m(g, idx)\u001b[0m\n\u001b[1;32m    234\u001b[0m \u001b[39mdef\u001b[39;00m \u001b[39mlook_up_graph\u001b[39m(g: gt\u001b[39m.\u001b[39mGraph, idx:\u001b[39mint\u001b[39m):\n\u001b[0;32m--> 235\u001b[0m     array \u001b[39m=\u001b[39m \u001b[39mlist\u001b[39m(g\u001b[39m.\u001b[39;49mvp[\u001b[39m'\u001b[39;49m\u001b[39mname\u001b[39;49m\u001b[39m'\u001b[39;49m]\u001b[39m.\u001b[39ma)\n\u001b[1;32m    236\u001b[0m     in_graph \u001b[39m=\u001b[39m array\u001b[39m.\u001b[39mindex(idx)\n\u001b[1;32m    237\u001b[0m     \u001b[39mreturn\u001b[39;00m in_graph\n",
      "File \u001b[0;32m/mnt/disk2/anaconda3/envs/gt_global/lib/python3.11/site-packages/graph_tool/__init__.py:1467\u001b[0m, in \u001b[0;36mPropertyDict.__getitem__\u001b[0;34m(self, key)\u001b[0m\n\u001b[1;32m   1465\u001b[0m     p \u001b[39m=\u001b[39m \u001b[39mself\u001b[39m\u001b[39m.\u001b[39m__properties[(\u001b[39mself\u001b[39m\u001b[39m.\u001b[39m__t, key)]\n\u001b[1;32m   1466\u001b[0m     \u001b[39mreturn\u001b[39;00m p[p\u001b[39m.\u001b[39mget_graph()]\n\u001b[0;32m-> 1467\u001b[0m \u001b[39mreturn\u001b[39;00m \u001b[39mself\u001b[39;49m\u001b[39m.\u001b[39;49m__properties[(\u001b[39mself\u001b[39;49m\u001b[39m.\u001b[39;49m__t, key)]\n",
      "\u001b[0;31mKeyError\u001b[0m: ('v', 'name')"
     ]
    }
   ],
   "source": [
    "g.vp['ID'][look_up_graph(g,3)]"
=======
    "import time\n",
    "import multiprocessing as mp\n",
    "import concurrent.futures\n",
    "\n",
    "# Reload Utils\n",
    "import importlib\n",
    "importlib.reload(Seg)\n",
    "importlib.reload(Fun)"
>>>>>>> 76123e9f2078f3d8da12455b3fab88d5c3368509
   ]
  },
  {
   "cell_type": "code",
   "execution_count": 14,
   "metadata": {},
   "outputs": [],
   "source": [
    "ls = []\n",
    "files = glob('/mnt/disk2/Data/3_Day_Graphs/*.graphml')\n",
    "\n",
    "for file in files:\n",
    "    g = gt.load_graph(file)\n",
    "    N = g.num_vertices()\n",
    "    ls.append((file,N))\n",
    "\n",
    "sorted_ls = sorted(ls, key=lambda x: x[1], reverse=True)\n",
    "sorted_files = [g[0] for g in sorted_ls]"
   ]
  },
  {
   "cell_type": "code",
   "execution_count": 37,
   "metadata": {},
   "outputs": [],
   "source": [
    "# PASO 0\n",
    "def initial_pos():\n",
    "    master_id = pd.read_csv('/mnt/disk2/Data/3_Day_Graphs/Nodes.csv', sep = ';')\n",
    "    pos = {i: (random.random(), random.random()) for i in master_id['Idx in Graph']}\n",
    "    return pos\n",
    "\n",
    "# PASO 1\n",
    "def read_graph(file, fraction):\n",
    "    g = gt.load_graph(file)\n",
    "    g = Fun.fraction_graph(g,fraction)\n",
    "    date = file.split('/')[-1].split('.')[0].split('_')[-1]    \n",
    "    g_nx = Fun.to_networkx(g)\n",
    "    g_nx = g_nx.to_undirected()\n",
    "    return g_nx, date\n",
    "\n",
    "# PASO 2.1\n",
    "def colors_list(g_nx):\n",
    "    nodes = g_nx.nodes(data=True)\n",
    "    colors = [node[1]['Color'] for node in nodes]\n",
    "    return colors\n",
    "\n",
    "# PASO 2.2\n",
    "def node_size(g_nx):\n",
    "    node_degree = [g_nx.degree(node) for node in g_nx.nodes]\n",
    "    return node_degree\n",
    "\n",
    "# PASO 2.3\n",
    "def self_loops(g_nx):\n",
    "    self_loops = list(nx.selfloop_edges(g_nx))\n",
    "    non_self_loop_edges = [(u, v) for u, v in g_nx.edges() if (u, v) not in self_loops and (v, u) not in self_loops]\n",
    "    return non_self_loop_edges\n",
    "\n",
    "# PASO 3\n",
    "def layout(g_nx, pos, iter):\n",
    "    fa2_layout = forceatlas2_networkx_layout(g_nx, pos, niter=iter)\n",
    "    return fa2_layout\n",
    "\n",
    "# PASO 4\n",
    "def draw(g_nx, fa2_layout, node_degree, colors_list, non_self_loop_edges, file):\n",
    "    fig, ax = plt.subplots(figsize=(18, 12))\n",
    "\n",
    "    nx.draw_networkx_nodes(g_nx,\n",
    "                                fa2_layout,\n",
    "                                node_size = node_degree,\n",
    "                                node_color = colors_list,\n",
    "                                edgecolors=(0,0,0,0.1),\n",
    "                                ax = ax)\n",
    "\n",
    "    #nx.draw_networkx_edges(g_nx, fa2_layout, edgelist=non_self_loop_edges, alpha=0.1, ax=ax)\n",
    "    plt.axis('off')\n",
    "    filename = f'starting_{file}'\n",
    "    plt.savefig(f'../Results/3_Day_graphs_Viz/{filename}.png')\n",
    "    plt.close()\n",
    "    return filename"
   ]
  },
  {
   "cell_type": "code",
   "execution_count": 38,
   "metadata": {},
   "outputs": [
    {
     "name": "stdout",
     "output_type": "stream",
     "text": [
      "Finished in 11.92 second(s)\n",
      "Finished in 271.75 second(s)\n",
      "Finished in 1196.18 second(s)\n"
     ]
    },
    {
     "ename": "KeyboardInterrupt",
     "evalue": "",
     "output_type": "error",
     "traceback": [
      "\u001b[0;31m---------------------------------------------------------------------------\u001b[0m",
      "\u001b[0;31mKeyboardInterrupt\u001b[0m                         Traceback (most recent call last)",
      "Cell \u001b[0;32mIn[38], line 35\u001b[0m\n\u001b[1;32m     31\u001b[0m     \u001b[38;5;28;01mexcept\u001b[39;00m \u001b[38;5;167;01mException\u001b[39;00m \u001b[38;5;28;01mas\u001b[39;00m e:\n\u001b[1;32m     32\u001b[0m         \u001b[38;5;66;03m# Log the exception or handle it appropriately\u001b[39;00m\n\u001b[1;32m     33\u001b[0m         \u001b[38;5;28mprint\u001b[39m(\u001b[38;5;124mf\u001b[39m\u001b[38;5;124m\"\u001b[39m\u001b[38;5;124mException in parallel task: \u001b[39m\u001b[38;5;132;01m{\u001b[39;00me\u001b[38;5;132;01m}\u001b[39;00m\u001b[38;5;124m\"\u001b[39m)\n\u001b[0;32m---> 35\u001b[0m \u001b[43m\u001b[49m\u001b[38;5;28;43;01mwith\u001b[39;49;00m\u001b[43m \u001b[49m\u001b[43mconcurrent\u001b[49m\u001b[38;5;241;43m.\u001b[39;49m\u001b[43mfutures\u001b[49m\u001b[38;5;241;43m.\u001b[39;49m\u001b[43mProcessPoolExecutor\u001b[49m\u001b[43m(\u001b[49m\u001b[43m)\u001b[49m\u001b[43m \u001b[49m\u001b[38;5;28;43;01mas\u001b[39;49;00m\u001b[43m \u001b[49m\u001b[43mexecutor\u001b[49m\u001b[43m:\u001b[49m\n\u001b[1;32m     36\u001b[0m \u001b[43m    \u001b[49m\u001b[43mlayouts\u001b[49m\u001b[43m \u001b[49m\u001b[38;5;241;43m=\u001b[39;49m\u001b[43m \u001b[49m\u001b[43mexecutor\u001b[49m\u001b[38;5;241;43m.\u001b[39;49m\u001b[43mmap\u001b[49m\u001b[43m(\u001b[49m\u001b[43mProgram\u001b[49m\u001b[43m,\u001b[49m\u001b[43m \u001b[49m\u001b[43msub_files\u001b[49m\u001b[43m)\u001b[49m\n\u001b[1;32m     38\u001b[0m finish \u001b[38;5;241m=\u001b[39m time\u001b[38;5;241m.\u001b[39mperf_counter()\n",
      "File \u001b[0;32m/mnt/disk2/anaconda3/envs/gt_global/lib/python3.11/concurrent/futures/_base.py:647\u001b[0m, in \u001b[0;36mExecutor.__exit__\u001b[0;34m(self, exc_type, exc_val, exc_tb)\u001b[0m\n\u001b[1;32m    646\u001b[0m \u001b[38;5;28;01mdef\u001b[39;00m \u001b[38;5;21m__exit__\u001b[39m(\u001b[38;5;28mself\u001b[39m, exc_type, exc_val, exc_tb):\n\u001b[0;32m--> 647\u001b[0m     \u001b[38;5;28;43mself\u001b[39;49m\u001b[38;5;241;43m.\u001b[39;49m\u001b[43mshutdown\u001b[49m\u001b[43m(\u001b[49m\u001b[43mwait\u001b[49m\u001b[38;5;241;43m=\u001b[39;49m\u001b[38;5;28;43;01mTrue\u001b[39;49;00m\u001b[43m)\u001b[49m\n\u001b[1;32m    648\u001b[0m     \u001b[38;5;28;01mreturn\u001b[39;00m \u001b[38;5;28;01mFalse\u001b[39;00m\n",
      "File \u001b[0;32m/mnt/disk2/anaconda3/envs/gt_global/lib/python3.11/concurrent/futures/process.py:851\u001b[0m, in \u001b[0;36mProcessPoolExecutor.shutdown\u001b[0;34m(self, wait, cancel_futures)\u001b[0m\n\u001b[1;32m    848\u001b[0m         \u001b[38;5;28mself\u001b[39m\u001b[38;5;241m.\u001b[39m_executor_manager_thread_wakeup\u001b[38;5;241m.\u001b[39mwakeup()\n\u001b[1;32m    850\u001b[0m \u001b[38;5;28;01mif\u001b[39;00m \u001b[38;5;28mself\u001b[39m\u001b[38;5;241m.\u001b[39m_executor_manager_thread \u001b[38;5;129;01mis\u001b[39;00m \u001b[38;5;129;01mnot\u001b[39;00m \u001b[38;5;28;01mNone\u001b[39;00m \u001b[38;5;129;01mand\u001b[39;00m wait:\n\u001b[0;32m--> 851\u001b[0m     \u001b[38;5;28;43mself\u001b[39;49m\u001b[38;5;241;43m.\u001b[39;49m\u001b[43m_executor_manager_thread\u001b[49m\u001b[38;5;241;43m.\u001b[39;49m\u001b[43mjoin\u001b[49m\u001b[43m(\u001b[49m\u001b[43m)\u001b[49m\n\u001b[1;32m    852\u001b[0m \u001b[38;5;66;03m# To reduce the risk of opening too many files, remove references to\u001b[39;00m\n\u001b[1;32m    853\u001b[0m \u001b[38;5;66;03m# objects that use file descriptors.\u001b[39;00m\n\u001b[1;32m    854\u001b[0m \u001b[38;5;28mself\u001b[39m\u001b[38;5;241m.\u001b[39m_executor_manager_thread \u001b[38;5;241m=\u001b[39m \u001b[38;5;28;01mNone\u001b[39;00m\n",
      "File \u001b[0;32m/mnt/disk2/anaconda3/envs/gt_global/lib/python3.11/threading.py:1119\u001b[0m, in \u001b[0;36mThread.join\u001b[0;34m(self, timeout)\u001b[0m\n\u001b[1;32m   1116\u001b[0m     \u001b[38;5;28;01mraise\u001b[39;00m \u001b[38;5;167;01mRuntimeError\u001b[39;00m(\u001b[38;5;124m\"\u001b[39m\u001b[38;5;124mcannot join current thread\u001b[39m\u001b[38;5;124m\"\u001b[39m)\n\u001b[1;32m   1118\u001b[0m \u001b[38;5;28;01mif\u001b[39;00m timeout \u001b[38;5;129;01mis\u001b[39;00m \u001b[38;5;28;01mNone\u001b[39;00m:\n\u001b[0;32m-> 1119\u001b[0m     \u001b[38;5;28;43mself\u001b[39;49m\u001b[38;5;241;43m.\u001b[39;49m\u001b[43m_wait_for_tstate_lock\u001b[49m\u001b[43m(\u001b[49m\u001b[43m)\u001b[49m\n\u001b[1;32m   1120\u001b[0m \u001b[38;5;28;01melse\u001b[39;00m:\n\u001b[1;32m   1121\u001b[0m     \u001b[38;5;66;03m# the behavior of a negative timeout isn't documented, but\u001b[39;00m\n\u001b[1;32m   1122\u001b[0m     \u001b[38;5;66;03m# historically .join(timeout=x) for x<0 has acted as if timeout=0\u001b[39;00m\n\u001b[1;32m   1123\u001b[0m     \u001b[38;5;28mself\u001b[39m\u001b[38;5;241m.\u001b[39m_wait_for_tstate_lock(timeout\u001b[38;5;241m=\u001b[39m\u001b[38;5;28mmax\u001b[39m(timeout, \u001b[38;5;241m0\u001b[39m))\n",
      "File \u001b[0;32m/mnt/disk2/anaconda3/envs/gt_global/lib/python3.11/threading.py:1139\u001b[0m, in \u001b[0;36mThread._wait_for_tstate_lock\u001b[0;34m(self, block, timeout)\u001b[0m\n\u001b[1;32m   1136\u001b[0m     \u001b[38;5;28;01mreturn\u001b[39;00m\n\u001b[1;32m   1138\u001b[0m \u001b[38;5;28;01mtry\u001b[39;00m:\n\u001b[0;32m-> 1139\u001b[0m     \u001b[38;5;28;01mif\u001b[39;00m \u001b[43mlock\u001b[49m\u001b[38;5;241;43m.\u001b[39;49m\u001b[43macquire\u001b[49m\u001b[43m(\u001b[49m\u001b[43mblock\u001b[49m\u001b[43m,\u001b[49m\u001b[43m \u001b[49m\u001b[43mtimeout\u001b[49m\u001b[43m)\u001b[49m:\n\u001b[1;32m   1140\u001b[0m         lock\u001b[38;5;241m.\u001b[39mrelease()\n\u001b[1;32m   1141\u001b[0m         \u001b[38;5;28mself\u001b[39m\u001b[38;5;241m.\u001b[39m_stop()\n",
      "\u001b[0;31mKeyboardInterrupt\u001b[0m: "
     ]
    }
   ],
   "source": [
    "if __name__ == '__main__':\n",
    "    \n",
    "    start = time.perf_counter()\n",
    "    # PASO 0\n",
    "    random.seed(427)\n",
    "    pos = initial_pos()\n",
    "    iteration=[]\n",
    "    for i in range(1, 41, 5):     \n",
    "        def Program(file):\n",
    "            try:\n",
    "                start = time.perf_counter()\n",
    "                # PASO 1\n",
    "                random.seed(427)\n",
    "                g_nx, date = read_graph(file,i)\n",
    "                    \n",
    "                # PASO 2\n",
    "                colors = colors_list(g_nx)\n",
    "                size = node_size(g_nx)\n",
    "                non_self_loop_edges = self_loops(g_nx)\n",
    "                    \n",
    "                # PASO 3 YUCA\n",
    "                fa2_layout = layout(g_nx, pos, 100)\n",
    "                    \n",
    "                # PASO 4\n",
    "                filename = draw(g_nx, fa2_layout, size, colors, non_self_loop_edges, date)\n",
    "                #print(f'Done with {filename}')\n",
    "                \n",
    "                finish = time.perf_counter()\n",
    "                return filename\n",
    "        \n",
    "            except Exception as e:\n",
    "                # Log the exception or handle it appropriately\n",
    "                print(f\"Exception in parallel task: {e}\")\n",
    "        \n",
    "        with concurrent.futures.ProcessPoolExecutor() as executor:\n",
    "            layouts = executor.map(Program, sub_files)\n",
    "        \n",
    "        finish = time.perf_counter()\n",
    "        iteration.append(finish-start)\n",
    "        print(f'Finished in {round(finish-start, 2)} second(s)')"
   ]
  }
 ],
 "metadata": {
  "kernelspec": {
   "display_name": "gt",
   "language": "python",
   "name": "python3"
  },
  "language_info": {
   "codemirror_mode": {
    "name": "ipython",
    "version": 3
   },
   "file_extension": ".py",
   "mimetype": "text/x-python",
   "name": "python",
   "nbconvert_exporter": "python",
   "pygments_lexer": "ipython3",
   "version": "3.11.6"
  },
  "orig_nbformat": 4
 },
 "nbformat": 4,
 "nbformat_minor": 2
}
