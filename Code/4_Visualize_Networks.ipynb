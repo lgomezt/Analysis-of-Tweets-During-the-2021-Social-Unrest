{
 "cells": [
  {
   "cell_type": "markdown",
   "metadata": {},
   "source": [
    "# Visualize Networkss"
   ]
  },
  {
   "cell_type": "code",
   "execution_count": 2,
   "metadata": {},
   "outputs": [
    {
     "name": "stderr",
     "output_type": "stream",
     "text": [
      "/mnt/disk2/anaconda3/envs/gt_global/lib/python3.11/site-packages/graph_tool/draw/cairo_draw.py:1544: RuntimeWarning: Error importing Gtk module: ; GTK+ drawing will not work.\n",
      "  warnings.warn(msg, RuntimeWarning)\n"
     ]
    },
    {
     "name": "stdout",
     "output_type": "stream",
     "text": [
      "Warning: uncompiled fa2util module.  Compile with cython for a 10-100x speed boost.\n"
     ]
    }
   ],
   "source": [
    "# Mathematical and Data Managment\n",
    "import numpy as np\n",
    "import pandas as pd\n",
    "import scipy.sparse as sp\n",
    "\n",
    "# Graph Managment\n",
    "import graph_tool.all as gt\n",
    "import networkx as nx\n",
    "from utils.Functions import *\n",
    "from utils.Segregation import *\n",
    "\n",
    "# Data Visualization\n",
    "import seaborn as sns\n",
    "import matplotlib.pyplot as plt\n",
    "from forceatlas2 import forceatlas2_networkx_layout\n",
    "\n",
    "# Miscellaneous\n",
    "from glob import glob\n",
    "from tqdm import tqdm\n",
    "import random\n",
    "import time"
   ]
  },
  {
   "cell_type": "code",
   "execution_count": 8,
   "metadata": {},
   "outputs": [
    {
     "name": "stdout",
     "output_type": "stream",
     "text": [
      "<Graph object, directed, with 25939 vertices and 262464 edges, 3 internal vertex properties, 1 internal edge property, at 0x7fb33458d4d0>\n"
     ]
    },
    {
     "data": {
      "text/html": [
       "<div>\n",
       "<style scoped>\n",
       "    .dataframe tbody tr th:only-of-type {\n",
       "        vertical-align: middle;\n",
       "    }\n",
       "\n",
       "    .dataframe tbody tr th {\n",
       "        vertical-align: top;\n",
       "    }\n",
       "\n",
       "    .dataframe thead th {\n",
       "        text-align: right;\n",
       "    }\n",
       "</style>\n",
       "<table border=\"1\" class=\"dataframe\">\n",
       "  <thead>\n",
       "    <tr style=\"text-align: right;\">\n",
       "      <th></th>\n",
       "      <th>Idx in Graph</th>\n",
       "      <th>ID</th>\n",
       "      <th>Label</th>\n",
       "      <th>Political Affiliation</th>\n",
       "      <th>Color</th>\n",
       "    </tr>\n",
       "  </thead>\n",
       "  <tbody>\n",
       "    <tr>\n",
       "      <th>0</th>\n",
       "      <td>0</td>\n",
       "      <td>12</td>\n",
       "      <td>0</td>\n",
       "      <td>No Retweets</td>\n",
       "      <td>(0, 0, 0, 0.7)</td>\n",
       "    </tr>\n",
       "    <tr>\n",
       "      <th>1</th>\n",
       "      <td>1</td>\n",
       "      <td>12996</td>\n",
       "      <td>alerios</td>\n",
       "      <td>Izquierda</td>\n",
       "      <td>(0, 0, 1, 0.7)</td>\n",
       "    </tr>\n",
       "    <tr>\n",
       "      <th>2</th>\n",
       "      <td>2</td>\n",
       "      <td>777978</td>\n",
       "      <td>ranaberden</td>\n",
       "      <td>Centro</td>\n",
       "      <td>(0, 1, 0, 0.7)</td>\n",
       "    </tr>\n",
       "    <tr>\n",
       "      <th>3</th>\n",
       "      <td>3</td>\n",
       "      <td>784125</td>\n",
       "      <td>jsanti</td>\n",
       "      <td>Izquierda</td>\n",
       "      <td>(0, 0, 1, 0.7)</td>\n",
       "    </tr>\n",
       "    <tr>\n",
       "      <th>4</th>\n",
       "      <td>4</td>\n",
       "      <td>1061601</td>\n",
       "      <td>thisgoblin</td>\n",
       "      <td>Izquierda</td>\n",
       "      <td>(0, 0, 1, 0.7)</td>\n",
       "    </tr>\n",
       "  </tbody>\n",
       "</table>\n",
       "</div>"
      ],
      "text/plain": [
       "   Idx in Graph       ID       Label Political Affiliation           Color\n",
       "0             0       12           0           No Retweets  (0, 0, 0, 0.7)\n",
       "1             1    12996     alerios             Izquierda  (0, 0, 1, 0.7)\n",
       "2             2   777978  ranaberden                Centro  (0, 1, 0, 0.7)\n",
       "3             3   784125      jsanti             Izquierda  (0, 0, 1, 0.7)\n",
       "4             4  1061601  thisgoblin             Izquierda  (0, 0, 1, 0.7)"
      ]
     },
     "execution_count": 8,
     "metadata": {},
     "output_type": "execute_result"
    }
   ],
   "source": [
    "# Load the graph\n",
    "g = gt.load_graph(\"/mnt/disk2/Data/Daily_graphs/2021-05-03.graphml\")\n",
    "master_id = pd.read_csv('/mnt/disk2/Data/3_Day_Graphs/Nodes.csv', sep = ';')\n",
    "print(g)\n",
    "master_id.head()"
   ]
  },
  {
   "cell_type": "code",
   "execution_count": 11,
   "metadata": {},
   "outputs": [
    {
     "ename": "KeyError",
     "evalue": "('v', 'name')",
     "output_type": "error",
     "traceback": [
      "\u001b[0;31m---------------------------------------------------------------------------\u001b[0m",
      "\u001b[0;31mKeyError\u001b[0m                                  Traceback (most recent call last)",
      "\u001b[1;32m/mnt/disk2/fcastrillon/Analysis-of-Tweets-During-the-2021-Social-Unrest/Code/4_Visualize_Networks.ipynb Cell 4\u001b[0m line \u001b[0;36m1\n\u001b[0;32m----> <a href='vscode-notebook-cell://ssh-remote%2B157.253.242.110/mnt/disk2/fcastrillon/Analysis-of-Tweets-During-the-2021-Social-Unrest/Code/4_Visualize_Networks.ipynb#X11sdnNjb2RlLXJlbW90ZQ%3D%3D?line=0'>1</a>\u001b[0m g\u001b[39m.\u001b[39mvp[\u001b[39m'\u001b[39m\u001b[39mID\u001b[39m\u001b[39m'\u001b[39m][look_up_graph(g,\u001b[39m3\u001b[39;49m)]\n",
      "File \u001b[0;32m/mnt/disk2/fcastrillon/Analysis-of-Tweets-During-the-2021-Social-Unrest/Code/utils/Functions.py:235\u001b[0m, in \u001b[0;36mlook_up_graph\u001b[0;34m(g, idx)\u001b[0m\n\u001b[1;32m    234\u001b[0m \u001b[39mdef\u001b[39;00m \u001b[39mlook_up_graph\u001b[39m(g: gt\u001b[39m.\u001b[39mGraph, idx:\u001b[39mint\u001b[39m):\n\u001b[0;32m--> 235\u001b[0m     array \u001b[39m=\u001b[39m \u001b[39mlist\u001b[39m(g\u001b[39m.\u001b[39;49mvp[\u001b[39m'\u001b[39;49m\u001b[39mname\u001b[39;49m\u001b[39m'\u001b[39;49m]\u001b[39m.\u001b[39ma)\n\u001b[1;32m    236\u001b[0m     in_graph \u001b[39m=\u001b[39m array\u001b[39m.\u001b[39mindex(idx)\n\u001b[1;32m    237\u001b[0m     \u001b[39mreturn\u001b[39;00m in_graph\n",
      "File \u001b[0;32m/mnt/disk2/anaconda3/envs/gt_global/lib/python3.11/site-packages/graph_tool/__init__.py:1467\u001b[0m, in \u001b[0;36mPropertyDict.__getitem__\u001b[0;34m(self, key)\u001b[0m\n\u001b[1;32m   1465\u001b[0m     p \u001b[39m=\u001b[39m \u001b[39mself\u001b[39m\u001b[39m.\u001b[39m__properties[(\u001b[39mself\u001b[39m\u001b[39m.\u001b[39m__t, key)]\n\u001b[1;32m   1466\u001b[0m     \u001b[39mreturn\u001b[39;00m p[p\u001b[39m.\u001b[39mget_graph()]\n\u001b[0;32m-> 1467\u001b[0m \u001b[39mreturn\u001b[39;00m \u001b[39mself\u001b[39;49m\u001b[39m.\u001b[39;49m__properties[(\u001b[39mself\u001b[39;49m\u001b[39m.\u001b[39;49m__t, key)]\n",
      "\u001b[0;31mKeyError\u001b[0m: ('v', 'name')"
     ]
    }
   ],
   "source": [
    "g.vp['ID'][look_up_graph(g,3)]"
   ]
  },
  {
   "cell_type": "code",
   "execution_count": 4,
   "metadata": {},
   "outputs": [],
   "source": [
    "pos = {i: (random.random(), random.random()) for i in master_id['Idx in Graph']}\n",
    "\n",
    "# Calculate aesthetics fo visualization\n",
    "colors = list(master_id['Color'])"
   ]
  },
  {
   "cell_type": "code",
   "execution_count": 6,
   "metadata": {},
   "outputs": [],
   "source": [
    "ls = []\n",
    "files = glob('/mnt/disk2/Data/Daily_graphs/*.graphml')\n",
    "\n",
    "for file in files:\n",
    "    g = gt.load_graph(file)\n",
    "    N = g.num_vertices()\n",
    "    ls.append((file,N))\n",
    "\n",
    "sorted_ls = sorted(ls, key=lambda x: x[1], reverse=True)\n",
    "sorted_files = [g[0] for g in sorted_ls]"
   ]
  },
  {
   "cell_type": "code",
   "execution_count": 1,
   "metadata": {},
   "outputs": [
    {
     "ename": "NameError",
     "evalue": "name 'tqdm' is not defined",
     "output_type": "error",
     "traceback": [
      "\u001b[0;31m---------------------------------------------------------------------------\u001b[0m",
      "\u001b[0;31mNameError\u001b[0m                                 Traceback (most recent call last)",
      "\u001b[1;32m/mnt/disk2/fcastrillon/Analysis-of-Tweets-During-the-2021-Social-Unrest/Code/4_Visualize_Networks.ipynb Cell 7\u001b[0m line \u001b[0;36m2\n\u001b[1;32m      <a href='vscode-notebook-cell://ssh-remote%2B157.253.242.110/mnt/disk2/fcastrillon/Analysis-of-Tweets-During-the-2021-Social-Unrest/Code/4_Visualize_Networks.ipynb#W6sdnNjb2RlLXJlbW90ZQ%3D%3D?line=0'>1</a>\u001b[0m times \u001b[39m=\u001b[39m []\n\u001b[0;32m----> <a href='vscode-notebook-cell://ssh-remote%2B157.253.242.110/mnt/disk2/fcastrillon/Analysis-of-Tweets-During-the-2021-Social-Unrest/Code/4_Visualize_Networks.ipynb#W6sdnNjb2RlLXJlbW90ZQ%3D%3D?line=1'>2</a>\u001b[0m \u001b[39mfor\u001b[39;00m idx, file \u001b[39min\u001b[39;00m tqdm(\u001b[39menumerate\u001b[39m(sorted_files)):\n\u001b[1;32m      <a href='vscode-notebook-cell://ssh-remote%2B157.253.242.110/mnt/disk2/fcastrillon/Analysis-of-Tweets-During-the-2021-Social-Unrest/Code/4_Visualize_Networks.ipynb#W6sdnNjb2RlLXJlbW90ZQ%3D%3D?line=3'>4</a>\u001b[0m     start_time \u001b[39m=\u001b[39m time\u001b[39m.\u001b[39mtime()\n\u001b[1;32m      <a href='vscode-notebook-cell://ssh-remote%2B157.253.242.110/mnt/disk2/fcastrillon/Analysis-of-Tweets-During-the-2021-Social-Unrest/Code/4_Visualize_Networks.ipynb#W6sdnNjb2RlLXJlbW90ZQ%3D%3D?line=5'>6</a>\u001b[0m     g \u001b[39m=\u001b[39m gt\u001b[39m.\u001b[39mload_graph(file)\n",
      "\u001b[0;31mNameError\u001b[0m: name 'tqdm' is not defined"
     ]
    }
   ],
   "source": [
    "times = []\n",
    "for idx, file in tqdm(enumerate(sorted_files)):\n",
    "    \n",
    "    start_time = time.time()\n",
    "    \n",
    "    g = gt.load_graph(file)\n",
    "    g_nx = to_networkx(g)\n",
    "    date = file.split('.')[-2].split('/')[-1]\n",
    "    \n",
    "    # Node Size\n",
    "    node_in_degree = [g_nx.in_degree(node) for node in g_nx.nodes]\n",
    "\n",
    "    # For Layout Algorythim, calculate it as undirected\n",
    "    g_nx_undir = g_nx.to_undirected()\n",
    "    \n",
    "    # Initalizice Layout\n",
    "    if idx == 0:\n",
    "\n",
    "        # Apply ForceAtlas2 layout algorithm First time\n",
    "        layout = forceatlas2_networkx_layout(g_nx_undir, pos, niter=30)\n",
    "        print('First Layout')\n",
    "    \n",
    "    else:\n",
    "\n",
    "        # Apply ForceAtlas2 layout algorithm\n",
    "        layout = forceatlas2_networkx_layout(g_nx_undir, pos, niter=15)\n",
    "    \n",
    "    # Re assign new map\n",
    "    for key in layout:\n",
    "        if key in pos:\n",
    "            pos[key] = layout[key]\n",
    "    \n",
    "    # Draw the network using matplotlib\n",
    "    nx.draw_networkx_nodes(g_nx_undir, layout, node_color=colors,\n",
    "                                    node_size = node_in_degree,\n",
    "                                    edgecolors=(0,0,0,0.1))\n",
    "\n",
    "    # Display the plot\n",
    "    plt.savefig(f'../{date}_FA2_viz.png') \n",
    "    \n",
    "    if idx%10 == 0:\n",
    "        print(f'Grafo número {idx}')\n",
    "    else:\n",
    "        pass\n",
    "    \n",
    "    end_time = time.time()\n",
    "    t = end_time - start_time\n",
    "    times.append(t)"
   ]
  }
 ],
 "metadata": {
  "kernelspec": {
   "display_name": "gt",
   "language": "python",
   "name": "python3"
  },
  "language_info": {
   "codemirror_mode": {
    "name": "ipython",
    "version": 3
   },
   "file_extension": ".py",
   "mimetype": "text/x-python",
   "name": "python",
   "nbconvert_exporter": "python",
   "pygments_lexer": "ipython3",
   "version": "3.11.6"
  },
  "orig_nbformat": 4
 },
 "nbformat": 4,
 "nbformat_minor": 2
}
