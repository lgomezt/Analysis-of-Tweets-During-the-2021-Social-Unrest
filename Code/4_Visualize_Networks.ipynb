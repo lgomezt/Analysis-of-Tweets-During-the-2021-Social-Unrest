{
 "cells": [
  {
   "cell_type": "markdown",
   "metadata": {},
   "source": [
    "# Visualize Networkss"
   ]
  },
  {
   "cell_type": "code",
   "execution_count": 13,
   "metadata": {},
   "outputs": [
    {
     "data": {
      "text/plain": [
       "<module 'Functions' from '/mnt/disk2/fcastrillon/Analysis-of-Tweets-During-the-2021-Social-Unrest/Code/Functions.py'>"
      ]
     },
     "execution_count": 13,
     "metadata": {},
     "output_type": "execute_result"
    }
   ],
   "source": [
    "# Mathematical and Data Managment\n",
    "import numpy as np\n",
    "import pandas as pd\n",
    "import scipy.sparse as sp\n",
    "\n",
    "# Graph Managment\n",
    "import graph_tool.all as gt\n",
    "import networkx as nx\n",
    "import Functions as Fun\n",
    "import Segregation as Seg\n",
    "\n",
    "# Data Visualization\n",
    "import seaborn as sns\n",
    "import matplotlib.pyplot as plt\n",
    "%matplotlib inline\n",
    "from forceatlas2 import forceatlas2_networkx_layout\n",
    "\n",
    "# Miscellaneous\n",
    "from glob import glob\n",
    "from tqdm import tqdm\n",
    "import random\n",
    "import os\n",
    "import time\n",
    "import multiprocessing as mp\n",
    "import concurrent.futures\n",
    "\n",
    "# Reload Utils\n",
    "import importlib\n",
    "importlib.reload(Seg)\n",
    "importlib.reload(Fun)"
   ]
  },
  {
   "cell_type": "code",
   "execution_count": 14,
   "metadata": {},
   "outputs": [],
   "source": [
    "ls = []\n",
    "files = glob('/mnt/disk2/Data/3_Day_Graphs/*.graphml')\n",
    "\n",
    "for file in files:\n",
    "    g = gt.load_graph(file)\n",
    "    N = g.num_vertices()\n",
    "    ls.append((file,N))\n",
    "\n",
    "sorted_ls = sorted(ls, key=lambda x: x[1], reverse=True)\n",
    "sorted_files = [g[0] for g in sorted_ls]"
   ]
  },
  {
   "cell_type": "code",
   "execution_count": 17,
   "metadata": {},
   "outputs": [],
   "source": [
    "sub_files = sorted_files[0:16]\n",
    "del sorted_ls"
   ]
  },
  {
   "cell_type": "code",
   "execution_count": 37,
   "metadata": {},
   "outputs": [],
   "source": [
    "# PASO 0\n",
    "def initial_pos():\n",
    "    master_id = pd.read_csv('/mnt/disk2/Data/3_Day_Graphs/Nodes.csv', sep = ';')\n",
    "    pos = {i: (random.random(), random.random()) for i in master_id['Idx in Graph']}\n",
    "    return pos\n",
    "\n",
    "# PASO 1\n",
    "def read_graph(file, fraction):\n",
    "    g = gt.load_graph(file)\n",
    "    g = Fun.fraction_graph(g,fraction)\n",
    "    date = file.split('/')[-1].split('.')[0].split('_')[-1]    \n",
    "    g_nx = Fun.to_networkx(g)\n",
    "    g_nx = g_nx.to_undirected()\n",
    "    return g_nx, date\n",
    "\n",
    "# PASO 2.1\n",
    "def colors_list(g_nx):\n",
    "    nodes = g_nx.nodes(data=True)\n",
    "    colors = [node[1]['Color'] for node in nodes]\n",
    "    return colors\n",
    "\n",
    "# PASO 2.2\n",
    "def node_size(g_nx):\n",
    "    node_degree = [g_nx.degree(node) for node in g_nx.nodes]\n",
    "    return node_degree\n",
    "\n",
    "# PASO 2.3\n",
    "def self_loops(g_nx):\n",
    "    self_loops = list(nx.selfloop_edges(g_nx))\n",
    "    non_self_loop_edges = [(u, v) for u, v in g_nx.edges() if (u, v) not in self_loops and (v, u) not in self_loops]\n",
    "    return non_self_loop_edges\n",
    "\n",
    "# PASO 3\n",
    "def layout(g_nx, pos, iter):\n",
    "    fa2_layout = forceatlas2_networkx_layout(g_nx, pos, niter=iter)\n",
    "    return fa2_layout\n",
    "\n",
    "# PASO 4\n",
    "def draw(g_nx, fa2_layout, node_degree, colors_list, non_self_loop_edges, file):\n",
    "    fig, ax = plt.subplots(figsize=(18, 12))\n",
    "\n",
    "    nx.draw_networkx_nodes(g_nx,\n",
    "                                fa2_layout,\n",
    "                                node_size = node_degree,\n",
    "                                node_color = colors_list,\n",
    "                                edgecolors=(0,0,0,0.1),\n",
    "                                ax = ax)\n",
    "\n",
    "    #nx.draw_networkx_edges(g_nx, fa2_layout, edgelist=non_self_loop_edges, alpha=0.1, ax=ax)\n",
    "    plt.axis('off')\n",
    "    filename = f'starting_{file}'\n",
    "    plt.savefig(f'../Results/3_Day_graphs_Viz/{filename}.png')\n",
    "    plt.close()\n",
    "    return filename"
   ]
  },
  {
   "cell_type": "code",
   "execution_count": 38,
   "metadata": {},
   "outputs": [
    {
     "name": "stdout",
     "output_type": "stream",
     "text": [
      "Finished in 11.92 second(s)\n",
      "Finished in 271.75 second(s)\n",
      "Finished in 1196.18 second(s)\n"
     ]
    },
    {
     "ename": "KeyboardInterrupt",
     "evalue": "",
     "output_type": "error",
     "traceback": [
      "\u001b[0;31m---------------------------------------------------------------------------\u001b[0m",
      "\u001b[0;31mKeyboardInterrupt\u001b[0m                         Traceback (most recent call last)",
      "Cell \u001b[0;32mIn[38], line 35\u001b[0m\n\u001b[1;32m     31\u001b[0m     \u001b[38;5;28;01mexcept\u001b[39;00m \u001b[38;5;167;01mException\u001b[39;00m \u001b[38;5;28;01mas\u001b[39;00m e:\n\u001b[1;32m     32\u001b[0m         \u001b[38;5;66;03m# Log the exception or handle it appropriately\u001b[39;00m\n\u001b[1;32m     33\u001b[0m         \u001b[38;5;28mprint\u001b[39m(\u001b[38;5;124mf\u001b[39m\u001b[38;5;124m\"\u001b[39m\u001b[38;5;124mException in parallel task: \u001b[39m\u001b[38;5;132;01m{\u001b[39;00me\u001b[38;5;132;01m}\u001b[39;00m\u001b[38;5;124m\"\u001b[39m)\n\u001b[0;32m---> 35\u001b[0m \u001b[43m\u001b[49m\u001b[38;5;28;43;01mwith\u001b[39;49;00m\u001b[43m \u001b[49m\u001b[43mconcurrent\u001b[49m\u001b[38;5;241;43m.\u001b[39;49m\u001b[43mfutures\u001b[49m\u001b[38;5;241;43m.\u001b[39;49m\u001b[43mProcessPoolExecutor\u001b[49m\u001b[43m(\u001b[49m\u001b[43m)\u001b[49m\u001b[43m \u001b[49m\u001b[38;5;28;43;01mas\u001b[39;49;00m\u001b[43m \u001b[49m\u001b[43mexecutor\u001b[49m\u001b[43m:\u001b[49m\n\u001b[1;32m     36\u001b[0m \u001b[43m    \u001b[49m\u001b[43mlayouts\u001b[49m\u001b[43m \u001b[49m\u001b[38;5;241;43m=\u001b[39;49m\u001b[43m \u001b[49m\u001b[43mexecutor\u001b[49m\u001b[38;5;241;43m.\u001b[39;49m\u001b[43mmap\u001b[49m\u001b[43m(\u001b[49m\u001b[43mProgram\u001b[49m\u001b[43m,\u001b[49m\u001b[43m \u001b[49m\u001b[43msub_files\u001b[49m\u001b[43m)\u001b[49m\n\u001b[1;32m     38\u001b[0m finish \u001b[38;5;241m=\u001b[39m time\u001b[38;5;241m.\u001b[39mperf_counter()\n",
      "File \u001b[0;32m/mnt/disk2/anaconda3/envs/gt_global/lib/python3.11/concurrent/futures/_base.py:647\u001b[0m, in \u001b[0;36mExecutor.__exit__\u001b[0;34m(self, exc_type, exc_val, exc_tb)\u001b[0m\n\u001b[1;32m    646\u001b[0m \u001b[38;5;28;01mdef\u001b[39;00m \u001b[38;5;21m__exit__\u001b[39m(\u001b[38;5;28mself\u001b[39m, exc_type, exc_val, exc_tb):\n\u001b[0;32m--> 647\u001b[0m     \u001b[38;5;28;43mself\u001b[39;49m\u001b[38;5;241;43m.\u001b[39;49m\u001b[43mshutdown\u001b[49m\u001b[43m(\u001b[49m\u001b[43mwait\u001b[49m\u001b[38;5;241;43m=\u001b[39;49m\u001b[38;5;28;43;01mTrue\u001b[39;49;00m\u001b[43m)\u001b[49m\n\u001b[1;32m    648\u001b[0m     \u001b[38;5;28;01mreturn\u001b[39;00m \u001b[38;5;28;01mFalse\u001b[39;00m\n",
      "File \u001b[0;32m/mnt/disk2/anaconda3/envs/gt_global/lib/python3.11/concurrent/futures/process.py:851\u001b[0m, in \u001b[0;36mProcessPoolExecutor.shutdown\u001b[0;34m(self, wait, cancel_futures)\u001b[0m\n\u001b[1;32m    848\u001b[0m         \u001b[38;5;28mself\u001b[39m\u001b[38;5;241m.\u001b[39m_executor_manager_thread_wakeup\u001b[38;5;241m.\u001b[39mwakeup()\n\u001b[1;32m    850\u001b[0m \u001b[38;5;28;01mif\u001b[39;00m \u001b[38;5;28mself\u001b[39m\u001b[38;5;241m.\u001b[39m_executor_manager_thread \u001b[38;5;129;01mis\u001b[39;00m \u001b[38;5;129;01mnot\u001b[39;00m \u001b[38;5;28;01mNone\u001b[39;00m \u001b[38;5;129;01mand\u001b[39;00m wait:\n\u001b[0;32m--> 851\u001b[0m     \u001b[38;5;28;43mself\u001b[39;49m\u001b[38;5;241;43m.\u001b[39;49m\u001b[43m_executor_manager_thread\u001b[49m\u001b[38;5;241;43m.\u001b[39;49m\u001b[43mjoin\u001b[49m\u001b[43m(\u001b[49m\u001b[43m)\u001b[49m\n\u001b[1;32m    852\u001b[0m \u001b[38;5;66;03m# To reduce the risk of opening too many files, remove references to\u001b[39;00m\n\u001b[1;32m    853\u001b[0m \u001b[38;5;66;03m# objects that use file descriptors.\u001b[39;00m\n\u001b[1;32m    854\u001b[0m \u001b[38;5;28mself\u001b[39m\u001b[38;5;241m.\u001b[39m_executor_manager_thread \u001b[38;5;241m=\u001b[39m \u001b[38;5;28;01mNone\u001b[39;00m\n",
      "File \u001b[0;32m/mnt/disk2/anaconda3/envs/gt_global/lib/python3.11/threading.py:1119\u001b[0m, in \u001b[0;36mThread.join\u001b[0;34m(self, timeout)\u001b[0m\n\u001b[1;32m   1116\u001b[0m     \u001b[38;5;28;01mraise\u001b[39;00m \u001b[38;5;167;01mRuntimeError\u001b[39;00m(\u001b[38;5;124m\"\u001b[39m\u001b[38;5;124mcannot join current thread\u001b[39m\u001b[38;5;124m\"\u001b[39m)\n\u001b[1;32m   1118\u001b[0m \u001b[38;5;28;01mif\u001b[39;00m timeout \u001b[38;5;129;01mis\u001b[39;00m \u001b[38;5;28;01mNone\u001b[39;00m:\n\u001b[0;32m-> 1119\u001b[0m     \u001b[38;5;28;43mself\u001b[39;49m\u001b[38;5;241;43m.\u001b[39;49m\u001b[43m_wait_for_tstate_lock\u001b[49m\u001b[43m(\u001b[49m\u001b[43m)\u001b[49m\n\u001b[1;32m   1120\u001b[0m \u001b[38;5;28;01melse\u001b[39;00m:\n\u001b[1;32m   1121\u001b[0m     \u001b[38;5;66;03m# the behavior of a negative timeout isn't documented, but\u001b[39;00m\n\u001b[1;32m   1122\u001b[0m     \u001b[38;5;66;03m# historically .join(timeout=x) for x<0 has acted as if timeout=0\u001b[39;00m\n\u001b[1;32m   1123\u001b[0m     \u001b[38;5;28mself\u001b[39m\u001b[38;5;241m.\u001b[39m_wait_for_tstate_lock(timeout\u001b[38;5;241m=\u001b[39m\u001b[38;5;28mmax\u001b[39m(timeout, \u001b[38;5;241m0\u001b[39m))\n",
      "File \u001b[0;32m/mnt/disk2/anaconda3/envs/gt_global/lib/python3.11/threading.py:1139\u001b[0m, in \u001b[0;36mThread._wait_for_tstate_lock\u001b[0;34m(self, block, timeout)\u001b[0m\n\u001b[1;32m   1136\u001b[0m     \u001b[38;5;28;01mreturn\u001b[39;00m\n\u001b[1;32m   1138\u001b[0m \u001b[38;5;28;01mtry\u001b[39;00m:\n\u001b[0;32m-> 1139\u001b[0m     \u001b[38;5;28;01mif\u001b[39;00m \u001b[43mlock\u001b[49m\u001b[38;5;241;43m.\u001b[39;49m\u001b[43macquire\u001b[49m\u001b[43m(\u001b[49m\u001b[43mblock\u001b[49m\u001b[43m,\u001b[49m\u001b[43m \u001b[49m\u001b[43mtimeout\u001b[49m\u001b[43m)\u001b[49m:\n\u001b[1;32m   1140\u001b[0m         lock\u001b[38;5;241m.\u001b[39mrelease()\n\u001b[1;32m   1141\u001b[0m         \u001b[38;5;28mself\u001b[39m\u001b[38;5;241m.\u001b[39m_stop()\n",
      "\u001b[0;31mKeyboardInterrupt\u001b[0m: "
     ]
    }
   ],
   "source": [
    "if __name__ == '__main__':\n",
    "    \n",
    "    start = time.perf_counter()\n",
    "    # PASO 0\n",
    "    random.seed(427)\n",
    "    pos = initial_pos()\n",
    "    iteration=[]\n",
    "    for i in range(1, 41, 5):     \n",
    "        def Program(file):\n",
    "            try:\n",
    "                start = time.perf_counter()\n",
    "                # PASO 1\n",
    "                random.seed(427)\n",
    "                g_nx, date = read_graph(file,i)\n",
    "                    \n",
    "                # PASO 2\n",
    "                colors = colors_list(g_nx)\n",
    "                size = node_size(g_nx)\n",
    "                non_self_loop_edges = self_loops(g_nx)\n",
    "                    \n",
    "                # PASO 3 YUCA\n",
    "                fa2_layout = layout(g_nx, pos, 100)\n",
    "                    \n",
    "                # PASO 4\n",
    "                filename = draw(g_nx, fa2_layout, size, colors, non_self_loop_edges, date)\n",
    "                #print(f'Done with {filename}')\n",
    "                \n",
    "                finish = time.perf_counter()\n",
    "                return filename\n",
    "        \n",
    "            except Exception as e:\n",
    "                # Log the exception or handle it appropriately\n",
    "                print(f\"Exception in parallel task: {e}\")\n",
    "        \n",
    "        with concurrent.futures.ProcessPoolExecutor() as executor:\n",
    "            layouts = executor.map(Program, sub_files)\n",
    "        \n",
    "        finish = time.perf_counter()\n",
    "        iteration.append(finish-start)\n",
    "        print(f'Finished in {round(finish-start, 2)} second(s)')"
   ]
  },
  {
   "cell_type": "code",
   "execution_count": 40,
   "metadata": {},
   "outputs": [
    {
     "data": {
      "text/plain": [
       "[11.917949309106916, 271.74816972995177, 1196.1838760836981]"
      ]
     },
     "execution_count": 40,
     "metadata": {},
     "output_type": "execute_result"
    }
   ],
   "source": [
    "iteration"
   ]
  },
  {
   "cell_type": "code",
   "execution_count": 39,
   "metadata": {},
   "outputs": [
    {
     "data": {
      "image/png": "[encoded data removed]",
      "text/plain": [
       "<Figure size 640x480 with 1 Axes>"
      ]
     },
     "metadata": {},
     "output_type": "display_data"
    }
   ],
   "source": [
    "import matplotlib.pyplot as plt\n",
    "import math\n",
    "# Example data\n",
    "list_of_numbers = iteration\n",
    "range_0_to_100 = list(range(1, len(iteration)*10, 10))\n",
    "cuadratica = [x*math.log(x,2) for x in [1,6,11]]\n",
    "\n",
    "# Plotting\n",
    "plt.plot(list_of_numbers, [1,6,11], label='List of Numbers')\n",
    "plt.plot(cuadratica, [1,6,11] label='XD')\n",
    "\n",
    "# Add labels and legend\n",
    "plt.xlabel('Index')\n",
    "plt.ylabel('Values')\n",
    "plt.legend()\n",
    "\n",
    "# Show the plot\n",
    "plt.show()"
   ]
  }
 ],
 "metadata": {
  "kernelspec": {
   "display_name": "gt",
   "language": "python",
   "name": "python3"
  },
  "language_info": {
   "codemirror_mode": {
    "name": "ipython",
    "version": 3
   },
   "file_extension": ".py",
   "mimetype": "text/x-python",
   "name": "python",
   "nbconvert_exporter": "python",
   "pygments_lexer": "ipython3",
   "version": "3.11.6"
  },
  "orig_nbformat": 4
 },
 "nbformat": 4,
 "nbformat_minor": 2
}
