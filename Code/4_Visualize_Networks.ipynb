{
 "cells": [
  {
   "cell_type": "markdown",
   "metadata": {},
   "source": [
    "# Visualize Networks"
   ]
  },
  {
   "cell_type": "code",
   "execution_count": 1,
   "metadata": {},
   "outputs": [],
   "source": [
    "import graph_tool.all as gt\n",
    "import graph_tool.draw as gtd\n",
    "from graph_tool.stats import vertex_hist\n",
    "import numpy as np"
   ]
  },
  {
   "cell_type": "code",
   "execution_count": 2,
   "metadata": {},
   "outputs": [
    {
     "data": {
      "text/plain": [
       "<Graph object, directed, with 624358 vertices and 460845 edges, 3 internal vertex properties, 1 internal edge property, at 0x7f4b27ea4f10>"
      ]
     },
     "execution_count": 2,
     "metadata": {},
     "output_type": "execute_result"
    }
   ],
   "source": [
    "# Load the graph\n",
    "g = gt.load_graph(\"../../../Data/Daily_graphs/2021-04-28.graphml\")\n",
    "g"
   ]
  },
  {
   "cell_type": "code",
   "execution_count": 3,
   "metadata": {},
   "outputs": [],
   "source": [
    "# Layout\n",
    "pos_fruchterman_reingold = gtd.fruchterman_reingold_layout(g)\n",
    "pos_sfdp = gtd.sfdp_layout(g)"
   ]
  },
  {
   "cell_type": "code",
   "execution_count": null,
   "metadata": {},
   "outputs": [],
   "source": [
    "# Assign colors based on 'Political Affiliation'\n",
    "color_dict = {\n",
    "    'No Retweets': [0.5, 0.5, 0.5, 1],        # Gray for 'No Retweets'\n",
    "    'Retweets Centro': [0, 1, 0, 1],          # Green for 'Retweets Centro'\n",
    "    'Retweets Derecha': [1, 0, 0, 1],         # Red for 'Retweets Derecha'\n",
    "    'Retweets Izquierda': [0, 0, 1, 1],       # Blue for 'Retweets Izquierda'\n",
    "    'nan': [0.5, 0.5, 0.5, 1],                # Gray for 'nan'\n",
    "}"
   ]
  },
  {
   "cell_type": "code",
   "execution_count": null,
   "metadata": {},
   "outputs": [],
   "source": [
    "# Get vertex colors from the dictionary\n",
    "vertex_colors = g.new_vertex_property('vector<double>')\n",
    "for v in g.vertices():\n",
    "    affiliation = g.vertex_properties[\"Political Affiliation\"][v]\n",
    "    vertex_colors[v] = color_dict.get(affiliation, [0.5, 0.5, 0.5, 1])  # Default to gray if not found\n",
    "\n",
    "# Node Size based on Degree (influenced by edge weights)\n",
    "weight = g.edge_properties[\"weight\"]\n",
    "hist, _ = vertex_hist(g, \"total\", weight=weight)\n",
    "max_size = 25\n",
    "min_size = 5\n",
    "vertex_sizes = g.new_vertex_property('double')\n",
    "size_factor = (hist - hist.min()) / (hist.max() - hist.min())\n",
    "vertex_sizes.a = size_factor * (max_size - min_size) + min_size"
   ]
  },
  {
   "cell_type": "code",
   "execution_count": null,
   "metadata": {},
   "outputs": [],
   "source": [
    "# Draw the graph\n",
    "gtd.graph_draw(g, pos_fruchterman_reingold, vertex_fill_color = vertex_colors, vertex_size = vertex_sizes, output_size = (1000, 1000))"
   ]
  }
 ],
 "metadata": {
  "kernelspec": {
   "display_name": "gt",
   "language": "python",
   "name": "python3"
  },
  "language_info": {
   "codemirror_mode": {
    "name": "ipython",
    "version": 3
   },
   "file_extension": ".py",
   "mimetype": "text/x-python",
   "name": "python",
   "nbconvert_exporter": "python",
   "pygments_lexer": "ipython3",
   "version": "3.1.0"
  },
  "orig_nbformat": 4
 },
 "nbformat": 4,
 "nbformat_minor": 2
}
