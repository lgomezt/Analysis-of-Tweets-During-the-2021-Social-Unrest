{
 "cells": [
  {
   "cell_type": "markdown",
   "metadata": {},
   "source": [
    "# Visualize Networkss"
   ]
  },
  {
   "cell_type": "code",
   "execution_count": 2,
   "metadata": {},
   "outputs": [],
   "source": [
    "# Mathematical and Data Managment\n",
    "import numpy as np\n",
    "import pandas as pd\n",
    "import scipy.sparse as sp\n",
    "\n",
    "# Graph Managment\n",
    "import graph_tool.all as gt\n",
    "import networkx as nx\n",
    "from utils.Functions import *\n",
    "from utils.Segregation import *\n",
    "\n",
    "# Data Visualization\n",
    "import seaborn as sns\n",
    "import matplotlib.pyplot as plt\n",
    "from forceatlas2 import forceatlas2_networkx_layout\n",
    "\n",
    "# Miscellaneous\n",
    "from glob import glob\n",
    "from tqdm import tqdm\n",
    "import random"
   ]
  },
  {
   "cell_type": "code",
   "execution_count": 5,
   "metadata": {},
   "outputs": [
    {
     "name": "stdout",
     "output_type": "stream",
     "text": [
      "<Graph object, directed, with 31443 vertices and 607679 edges, 5 internal vertex properties, 3 internal edge properties, at 0x7fcaa80e6b10>\n"
     ]
    },
    {
     "data": {
      "text/html": [
       "<div>\n",
       "<style scoped>\n",
       "    .dataframe tbody tr th:only-of-type {\n",
       "        vertical-align: middle;\n",
       "    }\n",
       "\n",
       "    .dataframe tbody tr th {\n",
       "        vertical-align: top;\n",
       "    }\n",
       "\n",
       "    .dataframe thead th {\n",
       "        text-align: right;\n",
       "    }\n",
       "</style>\n",
       "<table border=\"1\" class=\"dataframe\">\n",
       "  <thead>\n",
       "    <tr style=\"text-align: right;\">\n",
       "      <th></th>\n",
       "      <th>Idx in Graph</th>\n",
       "      <th>ID</th>\n",
       "      <th>Label</th>\n",
       "      <th>Political Affiliation</th>\n",
       "      <th>Color</th>\n",
       "    </tr>\n",
       "  </thead>\n",
       "  <tbody>\n",
       "    <tr>\n",
       "      <th>0</th>\n",
       "      <td>0</td>\n",
       "      <td>12</td>\n",
       "      <td>0</td>\n",
       "      <td>No Retweets</td>\n",
       "      <td>(0, 0, 0, 0.7)</td>\n",
       "    </tr>\n",
       "    <tr>\n",
       "      <th>1</th>\n",
       "      <td>1</td>\n",
       "      <td>12996</td>\n",
       "      <td>alerios</td>\n",
       "      <td>Izquierda</td>\n",
       "      <td>(0, 0, 1, 0.7)</td>\n",
       "    </tr>\n",
       "    <tr>\n",
       "      <th>2</th>\n",
       "      <td>2</td>\n",
       "      <td>777978</td>\n",
       "      <td>ranaberden</td>\n",
       "      <td>Centro</td>\n",
       "      <td>(0, 1, 0, 0.7)</td>\n",
       "    </tr>\n",
       "    <tr>\n",
       "      <th>3</th>\n",
       "      <td>3</td>\n",
       "      <td>784125</td>\n",
       "      <td>jsanti</td>\n",
       "      <td>Izquierda</td>\n",
       "      <td>(0, 0, 1, 0.7)</td>\n",
       "    </tr>\n",
       "    <tr>\n",
       "      <th>4</th>\n",
       "      <td>4</td>\n",
       "      <td>1061601</td>\n",
       "      <td>thisgoblin</td>\n",
       "      <td>Izquierda</td>\n",
       "      <td>(0, 0, 1, 0.7)</td>\n",
       "    </tr>\n",
       "  </tbody>\n",
       "</table>\n",
       "</div>"
      ],
      "text/plain": [
       "   Idx in Graph       ID       Label Political Affiliation           Color\n",
       "0             0       12           0           No Retweets  (0, 0, 0, 0.7)\n",
       "1             1    12996     alerios             Izquierda  (0, 0, 1, 0.7)\n",
       "2             2   777978  ranaberden                Centro  (0, 1, 0, 0.7)\n",
       "3             3   784125      jsanti             Izquierda  (0, 0, 1, 0.7)\n",
       "4             4  1061601  thisgoblin             Izquierda  (0, 0, 1, 0.7)"
      ]
     },
     "execution_count": 5,
     "metadata": {},
     "output_type": "execute_result"
    }
   ],
   "source": [
    "# Load the graph\n",
    "g = gt.load_graph(\"/mnt/disk2/Data/3_Day_Graphs/2021-05-03.graphml\")\n",
    "master_id = pd.read_csv('/mnt/disk2/Data/3_Day_Graphs/Nodes.csv', sep = ';')\n",
    "print(g)\n",
    "master_id.head()"
   ]
  },
  {
   "cell_type": "code",
   "execution_count": 7,
   "metadata": {},
   "outputs": [],
   "source": [
    "pos = {i: (random.random(), random.random()) for i in master_id['Idx in Graph']}\n",
    "\n",
    "# Calculate aesthetics fo visualization\n",
    "colors = list(master_id['Color'])"
   ]
  },
  {
   "cell_type": "code",
   "execution_count": 57,
   "metadata": {},
   "outputs": [
    {
     "ename": "KeyError",
     "evalue": "36964",
     "output_type": "error",
     "traceback": [
      "\u001b[0;31m---------------------------------------------------------------------------\u001b[0m",
      "\u001b[0;31mKeyError\u001b[0m                                  Traceback (most recent call last)",
      "\u001b[1;32m/mnt/disk2/fcastrillon/Analysis-of-Tweets-During-the-2021-Social-Unrest/Code/4_Visualize_Networks.ipynb Cell 11\u001b[0m line \u001b[0;36m1\n\u001b[1;32m     <a href='vscode-notebook-cell://ssh-remote%2B157.253.242.110/mnt/disk2/fcastrillon/Analysis-of-Tweets-During-the-2021-Social-Unrest/Code/4_Visualize_Networks.ipynb#X15sdnNjb2RlLXJlbW90ZQ%3D%3D?line=14'>15</a>\u001b[0m g_nx_undir \u001b[39m=\u001b[39m g_nx\u001b[39m.\u001b[39mto_undirected()\n\u001b[1;32m     <a href='vscode-notebook-cell://ssh-remote%2B157.253.242.110/mnt/disk2/fcastrillon/Analysis-of-Tweets-During-the-2021-Social-Unrest/Code/4_Visualize_Networks.ipynb#X15sdnNjb2RlLXJlbW90ZQ%3D%3D?line=16'>17</a>\u001b[0m \u001b[39m# Apply ForceAtlas2 layout algorithm First time\u001b[39;00m\n\u001b[0;32m---> <a href='vscode-notebook-cell://ssh-remote%2B157.253.242.110/mnt/disk2/fcastrillon/Analysis-of-Tweets-During-the-2021-Social-Unrest/Code/4_Visualize_Networks.ipynb#X15sdnNjb2RlLXJlbW90ZQ%3D%3D?line=17'>18</a>\u001b[0m layout \u001b[39m=\u001b[39m forceatlas2_networkx_layout(g_nx_undir, pos, niter\u001b[39m=\u001b[39;49m\u001b[39m100\u001b[39;49m)\n\u001b[1;32m     <a href='vscode-notebook-cell://ssh-remote%2B157.253.242.110/mnt/disk2/fcastrillon/Analysis-of-Tweets-During-the-2021-Social-Unrest/Code/4_Visualize_Networks.ipynb#X15sdnNjb2RlLXJlbW90ZQ%3D%3D?line=18'>19</a>\u001b[0m \u001b[39mprint\u001b[39m(\u001b[39m'\u001b[39m\u001b[39mFirst Layout\u001b[39m\u001b[39m'\u001b[39m)\n\u001b[1;32m     <a href='vscode-notebook-cell://ssh-remote%2B157.253.242.110/mnt/disk2/fcastrillon/Analysis-of-Tweets-During-the-2021-Social-Unrest/Code/4_Visualize_Networks.ipynb#X15sdnNjb2RlLXJlbW90ZQ%3D%3D?line=20'>21</a>\u001b[0m \u001b[39m# Draw the network using matplotlib\u001b[39;00m\n",
      "File \u001b[0;32m~/.local/lib/python3.11/site-packages/forceatlas2/forceatlas2.py:221\u001b[0m, in \u001b[0;36mforceatlas2_networkx_layout\u001b[0;34m(G, pos, **kwargs)\u001b[0m\n\u001b[1;32m    219\u001b[0m     l \u001b[39m=\u001b[39m forceatlas2(M, pos\u001b[39m=\u001b[39m\u001b[39mNone\u001b[39;00m, \u001b[39m*\u001b[39m\u001b[39m*\u001b[39mkwargs)\n\u001b[1;32m    220\u001b[0m \u001b[39melse\u001b[39;00m:\n\u001b[0;32m--> 221\u001b[0m     poslist \u001b[39m=\u001b[39m numpy\u001b[39m.\u001b[39masarray([pos[i] \u001b[39mfor\u001b[39;49;00m i \u001b[39min\u001b[39;49;00m G\u001b[39m.\u001b[39;49mnodes()])\n\u001b[1;32m    222\u001b[0m     l \u001b[39m=\u001b[39m forceatlas2(M, pos\u001b[39m=\u001b[39mposlist, \u001b[39m*\u001b[39m\u001b[39m*\u001b[39mkwargs)\n\u001b[1;32m    223\u001b[0m \u001b[39mreturn\u001b[39;00m \u001b[39mdict\u001b[39m(\u001b[39mzip\u001b[39m(G\u001b[39m.\u001b[39mnodes(), l))\n",
      "File \u001b[0;32m~/.local/lib/python3.11/site-packages/forceatlas2/forceatlas2.py:221\u001b[0m, in \u001b[0;36m<listcomp>\u001b[0;34m(.0)\u001b[0m\n\u001b[1;32m    219\u001b[0m     l \u001b[39m=\u001b[39m forceatlas2(M, pos\u001b[39m=\u001b[39m\u001b[39mNone\u001b[39;00m, \u001b[39m*\u001b[39m\u001b[39m*\u001b[39mkwargs)\n\u001b[1;32m    220\u001b[0m \u001b[39melse\u001b[39;00m:\n\u001b[0;32m--> 221\u001b[0m     poslist \u001b[39m=\u001b[39m numpy\u001b[39m.\u001b[39masarray([pos[i] \u001b[39mfor\u001b[39;00m i \u001b[39min\u001b[39;00m G\u001b[39m.\u001b[39mnodes()])\n\u001b[1;32m    222\u001b[0m     l \u001b[39m=\u001b[39m forceatlas2(M, pos\u001b[39m=\u001b[39mposlist, \u001b[39m*\u001b[39m\u001b[39m*\u001b[39mkwargs)\n\u001b[1;32m    223\u001b[0m \u001b[39mreturn\u001b[39;00m \u001b[39mdict\u001b[39m(\u001b[39mzip\u001b[39m(G\u001b[39m.\u001b[39mnodes(), l))\n",
      "\u001b[0;31mKeyError\u001b[0m: 36964"
     ]
    }
   ],
   "source": [
    "files = glob('/mnt/disk2/Data/3_Day_Graphs/*.graphml')\n",
    "\n",
    "for idx, file in enumerate(files):\n",
    "    g = gt.load_graph(file)\n",
    "    g_nx = to_networkx(g)\n",
    "    date = file.split('.')[-2].split('/')[-1]\n",
    "    \n",
    "    # Node Size\n",
    "    node_in_degree = [g_nx.in_degree(node) for node in g_nx.nodes]\n",
    "\n",
    "    # For Layout Algorythim, calculate it as undirected\n",
    "    g_nx_undir = g_nx.to_undirected()\n",
    "    \n",
    "    # Initalizice Layout\n",
    "    if idx == 0:\n",
    "\n",
    "        # Apply ForceAtlas2 layout algorithm First time\n",
    "        layout = forceatlas2_networkx_layout(g_nx_undir, pos, niter=100)\n",
    "        print('First Layout')\n",
    "    \n",
    "    else:\n",
    "\n",
    "        # Apply ForceAtlas2 layout algorithm\n",
    "        layout = forceatlas2_networkx_layout(g_nx_undir, pos, niter=15)\n",
    "    \n",
    "    # Re assign new map\n",
    "    for key in layout:\n",
    "        if key in pos:\n",
    "            pos[key] = layout[key]\n",
    "    \n",
    "    # Draw the network using matplotlib\n",
    "    nx.draw_networkx_nodes(g_nx_undir, layout, node_color=colors,\n",
    "                                    node_size = node_in_degree,\n",
    "                                    edgecolors=(0,0,0,0.1))\n",
    "\n",
    "    # Display the plot\n",
    "    plt.savefig(f'../{date}_FA2_viz.png') \n",
    "    \n",
    "    if idx%10 == 0:\n",
    "        print(f'Grafo número {idx}')\n",
    "    else:\n",
    "        pass"
   ]
  }
 ],
 "metadata": {
  "kernelspec": {
   "display_name": "gt",
   "language": "python",
   "name": "python3"
  },
  "language_info": {
   "codemirror_mode": {
    "name": "ipython",
    "version": 3
   },
   "file_extension": ".py",
   "mimetype": "text/x-python",
   "name": "python",
   "nbconvert_exporter": "python",
   "pygments_lexer": "ipython3",
   "version": "3.11.6"
  },
  "orig_nbformat": 4
 },
 "nbformat": 4,
 "nbformat_minor": 2
}
