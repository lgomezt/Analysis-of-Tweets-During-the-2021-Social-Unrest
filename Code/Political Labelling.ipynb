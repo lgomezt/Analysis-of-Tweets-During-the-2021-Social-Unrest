{
 "cells": [
  {
   "cell_type": "markdown",
   "metadata": {},
   "source": [
    "# Political Labelling"
   ]
  },
  {
   "cell_type": "markdown",
   "metadata": {},
   "source": [
    "In this Notebook we will asing every tweet a political affiliation based on the list of political influencer made by \"La Silla Vacia\". label every ReTweet as \"Centro\", \"Derecha\", \"Izquierda\" based on this political mapping. The we agreggate by User and asssign a POlitical Lable mased on the maximun number of Retweets this user made."
   ]
  },
  {
   "cell_type": "code",
   "execution_count": 3,
   "metadata": {},
   "outputs": [],
   "source": [
    "import pickle\n",
    "import pandas as pd\n",
    "import numpy as np"
   ]
  },
  {
   "cell_type": "markdown",
   "metadata": {},
   "source": [
    "Load all pickle files will need"
   ]
  },
  {
   "cell_type": "code",
   "execution_count": 5,
   "metadata": {},
   "outputs": [],
   "source": [
    "tweets = pd.read_pickle('../fcastrillon/Data/tweets_lite.pkl')\n",
    "\n",
    "with open(\"../fcastrillon/Data/mapa.pkl\", \"rb\") as file:\n",
    "    mapa = pickle.load(file)"
   ]
  },
  {
   "cell_type": "code",
   "execution_count": 6,
   "metadata": {},
   "outputs": [
    {
     "data": {
      "text/plain": [
       "Party\n",
       "Izquierda    3443228\n",
       "Derecha       814456\n",
       "Centro        430559\n",
       "Name: count, dtype: int64"
      ]
     },
     "execution_count": 6,
     "metadata": {},
     "output_type": "execute_result"
    }
   ],
   "source": [
    "# Now we assign each RT a political label according to its influencer's label.\n",
    "tweets.loc[tweets[\"Reference Type\"] == \"retweeted\", \"Party\"] = tweets.loc[tweets[\"Reference Type\"] == \"retweeted\",\n",
    "                                                                         \"Referenced Tweet Author ID\"].map(mapa)\n",
    "\n",
    "# We select all non-NA labeled RT.\n",
    "tweets[tweets[\"Party\"].notna()]\n",
    "\n",
    "tweets[\"Party\"].value_counts()"
   ]
  },
  {
   "cell_type": "markdown",
   "metadata": {},
   "source": [
    "We create a 3x1 positive integer vector for every tweeter in the community that registers the number of RTs that the user has based on the political affilation. "
   ]
  },
  {
   "cell_type": "code",
   "execution_count": 7,
   "metadata": {},
   "outputs": [
    {
     "data": {
      "text/html": [
       "<div>\n",
       "<style scoped>\n",
       "    .dataframe tbody tr th:only-of-type {\n",
       "        vertical-align: middle;\n",
       "    }\n",
       "\n",
       "    .dataframe tbody tr th {\n",
       "        vertical-align: top;\n",
       "    }\n",
       "\n",
       "    .dataframe thead th {\n",
       "        text-align: right;\n",
       "    }\n",
       "</style>\n",
       "<table border=\"1\" class=\"dataframe\">\n",
       "  <thead>\n",
       "    <tr style=\"text-align: right;\">\n",
       "      <th></th>\n",
       "      <th>Retweets Derecha</th>\n",
       "      <th>Retweets Izquierda</th>\n",
       "      <th>Retweets Centro</th>\n",
       "      <th>Retweets Totales</th>\n",
       "      <th>Dummy Derecha</th>\n",
       "      <th>Dummy Izquierda</th>\n",
       "      <th>Dummy Centro</th>\n",
       "      <th>No Retweets</th>\n",
       "    </tr>\n",
       "    <tr>\n",
       "      <th>Author ID</th>\n",
       "      <th></th>\n",
       "      <th></th>\n",
       "      <th></th>\n",
       "      <th></th>\n",
       "      <th></th>\n",
       "      <th></th>\n",
       "      <th></th>\n",
       "      <th></th>\n",
       "    </tr>\n",
       "  </thead>\n",
       "  <tbody>\n",
       "    <tr>\n",
       "      <th>12996.0</th>\n",
       "      <td>1</td>\n",
       "      <td>321</td>\n",
       "      <td>109</td>\n",
       "      <td>431</td>\n",
       "      <td>1</td>\n",
       "      <td>1</td>\n",
       "      <td>1</td>\n",
       "      <td>0</td>\n",
       "    </tr>\n",
       "    <tr>\n",
       "      <th>777978.0</th>\n",
       "      <td>1</td>\n",
       "      <td>1</td>\n",
       "      <td>1</td>\n",
       "      <td>3</td>\n",
       "      <td>1</td>\n",
       "      <td>1</td>\n",
       "      <td>1</td>\n",
       "      <td>0</td>\n",
       "    </tr>\n",
       "    <tr>\n",
       "      <th>784125.0</th>\n",
       "      <td>0</td>\n",
       "      <td>46</td>\n",
       "      <td>10</td>\n",
       "      <td>56</td>\n",
       "      <td>0</td>\n",
       "      <td>1</td>\n",
       "      <td>1</td>\n",
       "      <td>0</td>\n",
       "    </tr>\n",
       "    <tr>\n",
       "      <th>1061601.0</th>\n",
       "      <td>0</td>\n",
       "      <td>223</td>\n",
       "      <td>3</td>\n",
       "      <td>226</td>\n",
       "      <td>0</td>\n",
       "      <td>1</td>\n",
       "      <td>1</td>\n",
       "      <td>0</td>\n",
       "    </tr>\n",
       "    <tr>\n",
       "      <th>1488031.0</th>\n",
       "      <td>0</td>\n",
       "      <td>0</td>\n",
       "      <td>0</td>\n",
       "      <td>0</td>\n",
       "      <td>0</td>\n",
       "      <td>0</td>\n",
       "      <td>0</td>\n",
       "      <td>1</td>\n",
       "    </tr>\n",
       "  </tbody>\n",
       "</table>\n",
       "</div>"
      ],
      "text/plain": [
       "           Retweets Derecha  Retweets Izquierda  Retweets Centro  \\\n",
       "Author ID                                                          \n",
       "12996.0                   1                 321              109   \n",
       "777978.0                  1                   1                1   \n",
       "784125.0                  0                  46               10   \n",
       "1061601.0                 0                 223                3   \n",
       "1488031.0                 0                   0                0   \n",
       "\n",
       "           Retweets Totales  Dummy Derecha  Dummy Izquierda  Dummy Centro  \\\n",
       "Author ID                                                                   \n",
       "12996.0                 431              1                1             1   \n",
       "777978.0                  3              1                1             1   \n",
       "784125.0                 56              0                1             1   \n",
       "1061601.0               226              0                1             1   \n",
       "1488031.0                 0              0                0             0   \n",
       "\n",
       "           No Retweets  \n",
       "Author ID               \n",
       "12996.0              0  \n",
       "777978.0             0  \n",
       "784125.0             0  \n",
       "1061601.0            0  \n",
       "1488031.0            1  "
      ]
     },
     "execution_count": 7,
     "metadata": {},
     "output_type": "execute_result"
    }
   ],
   "source": [
    "# We create lambda-functions that count the number of RTs for each political \n",
    "# label.\n",
    "a = lambda x: np.sum(x == \"Derecha\")\n",
    "b = lambda x: np.sum(x == \"Izquierda\")\n",
    "c = lambda x: np.sum(x == \"Centro\")\n",
    "\n",
    "# given per political label for each user using the lambda-functions.\n",
    "rts_usuario = tweets.groupby(\"Author ID\").agg({\"Party\": [a,b,c]})\n",
    "\n",
    "rts_usuario.columns = [\"Retweets Derecha\", \n",
    "                       \"Retweets Izquierda\", \n",
    "                       \"Retweets Centro\"]\n",
    "\n",
    "# Total RTs...\n",
    "rts_usuario[\"Retweets Totales\"] = rts_usuario.sum(axis=1)\n",
    "# We generate dummy variables for each political label...\n",
    "rts_usuario[\"Dummy Derecha\"] = (rts_usuario[\"Retweets Derecha\"] != 0).astype('int32')\n",
    "rts_usuario[\"Dummy Izquierda\"] = (rts_usuario[\"Retweets Izquierda\"] != 0).astype('int32')\n",
    "rts_usuario[\"Dummy Centro\"] = (rts_usuario[\"Retweets Centro\"] != 0).astype('int32')\n",
    "\n",
    "# Now we determine the political affiliation by checking the index with the maximum.\n",
    "rts_usuario[\"No Retweets\"] = (rts_usuario[\"Retweets Totales\"] == 0).astype('int32')\n",
    "rts_usuario.head()"
   ]
  },
  {
   "cell_type": "code",
   "execution_count": 8,
   "metadata": {},
   "outputs": [
    {
     "data": {
      "text/plain": [
       "Afiliacion\n",
       "Retweets Izquierda    23138\n",
       "Retweets Derecha       6812\n",
       "No Retweets            3815\n",
       "Retweets Centro        3543\n",
       "Name: count, dtype: int64"
      ]
     },
     "execution_count": 8,
     "metadata": {},
     "output_type": "execute_result"
    }
   ],
   "source": [
    "# Now we determine the political affiliation by checking the index with the maximum.\n",
    "rts_usuario[\"Afiliacion\"] = rts_usuario[[\"Retweets Centro\", \n",
    "                                         \"Retweets Derecha\", \n",
    "                                         \"Retweets Izquierda\", \n",
    "                                         \"No Retweets\"]].idxmax(axis=1)\n",
    "\n",
    "rts_usuario['Afiliacion'].value_counts()"
   ]
  },
  {
   "cell_type": "code",
   "execution_count": 13,
   "metadata": {},
   "outputs": [],
   "source": [
    "# Finally, we create a dictionary which stores the affiliation for each user.\n",
    "user_to_party = {}\n",
    "\n",
    "for index, row in rts_usuario.iterrows():\n",
    "    author_id = int(index)\n",
    "    afiliacion = row['Afiliacion']\n",
    "    \n",
    "    # Adding the author ID and affiliation to the dictionary\n",
    "    user_to_party[author_id] = afiliacion\n",
    "\n",
    "with open(\"../fcastrillon/Data/user_to_party.pkl\", 'wb') as file:\n",
    "    pickle.dump(user_to_party,file)"
   ]
  },
  {
   "cell_type": "markdown",
   "metadata": {},
   "source": [
    "We export the Dictionary a Pickle File for Further usage"
   ]
  },
  {
   "cell_type": "code",
   "execution_count": 22,
   "metadata": {},
   "outputs": [],
   "source": [
    "rts_usuario.to_pickle('../Twitter/Code/Repositorio/Data/rts_usuario.pkl')"
   ]
  }
 ],
 "metadata": {
  "kernelspec": {
   "display_name": "Python 3",
   "language": "python",
   "name": "python3"
  },
  "language_info": {
   "codemirror_mode": {
    "name": "ipython",
    "version": 3
   },
   "file_extension": ".py",
   "mimetype": "text/x-python",
   "name": "python",
   "nbconvert_exporter": "python",
   "pygments_lexer": "ipython3",
   "version": "3.8.10"
  },
  "orig_nbformat": 4
 },
 "nbformat": 4,
 "nbformat_minor": 2
}
