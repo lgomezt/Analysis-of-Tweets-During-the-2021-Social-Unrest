{
 "cells": [
  {
   "cell_type": "markdown",
   "metadata": {},
   "source": [
    "# Political Labelling\n",
    "\n",
    "This script determines the political affiliation (left, center, right) of each user in our sample by analyzing the retweets they've made.\n",
    "\n",
    "We use a list of political influencers that have been previously categorized as left, center, or right by La Silla Vacia, a Colombian news outlet. For each user, we tally the number of retweets (excluding those with comments) corresponding to each influencer. From this, we calculate the total number of tweets associated with each political category.\n",
    "\n",
    "This process is made for the Tweets during the \"Paro Nacional\" and for that tweets that arern't from this period across 3 chapters.\n",
    "\n",
    "1. Paro Nacional tweets\n",
    "2. Tweets that aren't from the Paro Nacional\n",
    "3. Conclusion"
   ]
  },
  {
   "cell_type": "code",
   "execution_count": 1,
   "metadata": {},
   "outputs": [],
   "source": [
    "import pickle\n",
    "import pandas as pd\n",
    "import numpy as np"
   ]
  },
  {
   "cell_type": "markdown",
   "metadata": {},
   "source": [
    "## 1. Paro Nacional Tweets"
   ]
  },
  {
   "cell_type": "markdown",
   "metadata": {},
   "source": [
    "Load all pickle files will need"
   ]
  },
  {
   "cell_type": "code",
   "execution_count": 4,
   "metadata": {},
   "outputs": [],
   "source": [
    "# Run time: 1 Minute aprox.\n",
    "\n",
    "# We load the tweets_lite DataFrame for the analysis\n",
    "tweets = pd.read_pickle('/mnt/disk2/Data/Tweets_DataFrames/tweets_lite.pkl')\n",
    "\n",
    "# We load the map that relates an ID to a political Label\n",
    "with open(\"/mnt/disk2/Data/Pickle/mapa.pkl\", \"rb\") as file:\n",
    "    mapa = pickle.load(file)"
   ]
  },
  {
   "cell_type": "code",
   "execution_count": 5,
   "metadata": {},
   "outputs": [
    {
     "data": {
      "text/plain": [
       "Party\n",
       "Izquierda    3443228\n",
       "Derecha       814456\n",
       "Centro        430559\n",
       "Name: count, dtype: int64"
      ]
     },
     "execution_count": 5,
     "metadata": {},
     "output_type": "execute_result"
    }
   ],
   "source": [
    "# Now we assign each RT a political label according to its influencer's label.\n",
    "tweets.loc[tweets[\"Reference Type\"] == \"retweeted\", \"Party\"] = tweets.loc[tweets[\"Reference Type\"] == \"retweeted\",\n",
    "                                                                         \"Referenced Tweet Author ID\"].map(mapa)\n",
    "\n",
    "# We select all non-NA labeled RT.\n",
    "tweets[tweets[\"Party\"].notna()]\n",
    "\n",
    "tweets[\"Party\"].value_counts()"
   ]
  },
  {
   "cell_type": "markdown",
   "metadata": {},
   "source": [
    "We create a 3x1 positive integer vector for every tweeter in the community that registers the number of RTs that the user has based on the political affilation. "
   ]
  },
  {
   "cell_type": "code",
   "execution_count": 27,
   "metadata": {},
   "outputs": [
    {
     "name": "stdout",
     "output_type": "stream",
     "text": [
      "Vector Datbase size is:  (34901, 8)\n"
     ]
    },
    {
     "data": {
      "text/html": [
       "<div>\n",
       "<style scoped>\n",
       "    .dataframe tbody tr th:only-of-type {\n",
       "        vertical-align: middle;\n",
       "    }\n",
       "\n",
       "    .dataframe tbody tr th {\n",
       "        vertical-align: top;\n",
       "    }\n",
       "\n",
       "    .dataframe thead th {\n",
       "        text-align: right;\n",
       "    }\n",
       "</style>\n",
       "<table border=\"1\" class=\"dataframe\">\n",
       "  <thead>\n",
       "    <tr style=\"text-align: right;\">\n",
       "      <th></th>\n",
       "      <th>Retweets Derecha</th>\n",
       "      <th>Retweets Izquierda</th>\n",
       "      <th>Retweets Centro</th>\n",
       "      <th>Retweets Totales</th>\n",
       "      <th>Dummy Derecha</th>\n",
       "      <th>Dummy Izquierda</th>\n",
       "      <th>Dummy Centro</th>\n",
       "      <th>No Retweets</th>\n",
       "    </tr>\n",
       "    <tr>\n",
       "      <th>Author ID</th>\n",
       "      <th></th>\n",
       "      <th></th>\n",
       "      <th></th>\n",
       "      <th></th>\n",
       "      <th></th>\n",
       "      <th></th>\n",
       "      <th></th>\n",
       "      <th></th>\n",
       "    </tr>\n",
       "  </thead>\n",
       "  <tbody>\n",
       "    <tr>\n",
       "      <th>12996</th>\n",
       "      <td>0</td>\n",
       "      <td>10</td>\n",
       "      <td>7</td>\n",
       "      <td>17</td>\n",
       "      <td>0</td>\n",
       "      <td>1</td>\n",
       "      <td>1</td>\n",
       "      <td>0</td>\n",
       "    </tr>\n",
       "    <tr>\n",
       "      <th>777978</th>\n",
       "      <td>0</td>\n",
       "      <td>0</td>\n",
       "      <td>0</td>\n",
       "      <td>0</td>\n",
       "      <td>0</td>\n",
       "      <td>0</td>\n",
       "      <td>0</td>\n",
       "      <td>1</td>\n",
       "    </tr>\n",
       "    <tr>\n",
       "      <th>784125</th>\n",
       "      <td>0</td>\n",
       "      <td>30</td>\n",
       "      <td>3</td>\n",
       "      <td>33</td>\n",
       "      <td>0</td>\n",
       "      <td>1</td>\n",
       "      <td>1</td>\n",
       "      <td>0</td>\n",
       "    </tr>\n",
       "    <tr>\n",
       "      <th>1061601</th>\n",
       "      <td>0</td>\n",
       "      <td>15</td>\n",
       "      <td>1</td>\n",
       "      <td>16</td>\n",
       "      <td>0</td>\n",
       "      <td>1</td>\n",
       "      <td>1</td>\n",
       "      <td>0</td>\n",
       "    </tr>\n",
       "    <tr>\n",
       "      <th>1488031</th>\n",
       "      <td>0</td>\n",
       "      <td>0</td>\n",
       "      <td>0</td>\n",
       "      <td>0</td>\n",
       "      <td>0</td>\n",
       "      <td>0</td>\n",
       "      <td>0</td>\n",
       "      <td>1</td>\n",
       "    </tr>\n",
       "  </tbody>\n",
       "</table>\n",
       "</div>"
      ],
      "text/plain": [
       "           Retweets Derecha  Retweets Izquierda  Retweets Centro  \\\n",
       "Author ID                                                          \n",
       "12996                     0                  10                7   \n",
       "777978                    0                   0                0   \n",
       "784125                    0                  30                3   \n",
       "1061601                   0                  15                1   \n",
       "1488031                   0                   0                0   \n",
       "\n",
       "           Retweets Totales  Dummy Derecha  Dummy Izquierda  Dummy Centro  \\\n",
       "Author ID                                                                   \n",
       "12996                    17              0                1             1   \n",
       "777978                    0              0                0             0   \n",
       "784125                   33              0                1             1   \n",
       "1061601                  16              0                1             1   \n",
       "1488031                   0              0                0             0   \n",
       "\n",
       "           No Retweets  \n",
       "Author ID               \n",
       "12996                0  \n",
       "777978               1  \n",
       "784125               0  \n",
       "1061601              0  \n",
       "1488031              1  "
      ]
     },
     "execution_count": 27,
     "metadata": {},
     "output_type": "execute_result"
    }
   ],
   "source": [
    "# We create lambda-functions that count the number of RTs for each political \n",
    "# label.\n",
    "a = lambda x: np.sum(x == \"Derecha\")\n",
    "b = lambda x: np.sum(x == \"Izquierda\")\n",
    "c = lambda x: np.sum(x == \"Centro\")\n",
    "\n",
    "# given per political label for each user using the lambda-functions.\n",
    "rts_usuario_paro = tweets.groupby(\"Author ID\").agg({\"Party\": [a,b,c]})\n",
    "\n",
    "rts_usuario_paro.columns = [\"Retweets Derecha\", \n",
    "                       \"Retweets Izquierda\", \n",
    "                       \"Retweets Centro\"]\n",
    "\n",
    "# Total RTs...\n",
    "rts_usuario_paro[\"Retweets Totales\"] = rts_usuario_paro.sum(axis=1)\n",
    "# We generate dummy variables for each political label...\n",
    "rts_usuario_paro[\"Dummy Derecha\"] = (rts_usuario_paro[\"Retweets Derecha\"] != 0).astype('int32')\n",
    "rts_usuario_paro[\"Dummy Izquierda\"] = (rts_usuario_paro[\"Retweets Izquierda\"] != 0).astype('int32')\n",
    "rts_usuario_paro[\"Dummy Centro\"] = (rts_usuario_paro[\"Retweets Centro\"] != 0).astype('int32')\n",
    "\n",
    "# Now we determine the political affiliation by checking the index with the maximum.\n",
    "rts_usuario_paro[\"No Retweets\"] = (rts_usuario_paro[\"Retweets Totales\"] == 0).astype('int32')\n",
    "print('Vector Datbase size is: ',rts_usuario_paro.shape)\n",
    "rts_usuario_paro.head()"
   ]
  },
  {
   "cell_type": "code",
   "execution_count": 7,
   "metadata": {},
   "outputs": [
    {
     "data": {
      "text/plain": [
       "Afiliacion\n",
       "Retweets Izquierda    23138\n",
       "Retweets Derecha       6812\n",
       "No Retweets            3815\n",
       "Retweets Centro        3543\n",
       "Name: count, dtype: int64"
      ]
     },
     "execution_count": 7,
     "metadata": {},
     "output_type": "execute_result"
    }
   ],
   "source": [
    "# Now we determine the political affiliation by checking the index with the maximum.\n",
    "rts_usuario_paro[\"Afiliacion\"] = rts_usuario_paro[[\"Retweets Centro\", \n",
    "                                         \"Retweets Derecha\", \n",
    "                                         \"Retweets Izquierda\", \n",
    "                                         \"No Retweets\"]].idxmax(axis=1)\n",
    "\n",
    "rts_usuario_paro['Afiliacion'].value_counts()"
   ]
  },
  {
   "cell_type": "code",
   "execution_count": 9,
   "metadata": {},
   "outputs": [],
   "source": [
    "# Finally, we create a dictionary which stores the affiliation for each user.\n",
    "user_to_party = {}\n",
    "\n",
    "for index, row in rts_usuario_paro.iterrows():\n",
    "    author_id = int(index)\n",
    "    afiliacion = row['Afiliacion']\n",
    "    \n",
    "    # Adding the author ID and affiliation to the dictionary\n",
    "    user_to_party[author_id] = afiliacion\n",
    "\n",
    "with open(\"/mnt/disk2/Data/Pickle/user_to_party.pkl\", 'wb') as file:\n",
    "    pickle.dump(user_to_party,file)"
   ]
  },
  {
   "cell_type": "markdown",
   "metadata": {},
   "source": [
    "We export the Dictionary a Pickle File for Further usage"
   ]
  },
  {
   "cell_type": "code",
   "execution_count": 10,
   "metadata": {},
   "outputs": [],
   "source": [
    "rts_usuario_paro.to_pickle('/mnt/disk2/Data/Pickle/rts_usuario_paro.pkl')"
   ]
  },
  {
   "cell_type": "markdown",
   "metadata": {},
   "source": [
    "## 2. Tweets That aren´t from the Paro Nacional"
   ]
  },
  {
   "cell_type": "markdown",
   "metadata": {},
   "source": [
    "Load all Pickle files needed"
   ]
  },
  {
   "cell_type": "code",
   "execution_count": 19,
   "metadata": {},
   "outputs": [],
   "source": [
    "# We create an aux empty list to concatenate Tweets from January and October\n",
    "aux = []"
   ]
  },
  {
   "cell_type": "code",
   "execution_count": 20,
   "metadata": {},
   "outputs": [
    {
     "name": "stdout",
     "output_type": "stream",
     "text": [
      "October Shape:  (5424132, 25)\n",
      "January Shape:  (5893802, 25)\n",
      "Total Shape:  (11317934, 25)\n"
     ]
    }
   ],
   "source": [
    "# We load January tweets\n",
    "tweets_jan = pd.read_pickle('/mnt/disk2/Data/Tweets_DataFrames/tweets_jan21.gzip', compression='gzip')\n",
    "\n",
    "# We load October tweets\n",
    "tweets_oct = pd.read_pickle('/mnt/disk2/Data/Tweets_DataFrames/tweets_oct19.gzip', compression='gzip')\n",
    "\n",
    "# Append both to the auxiliary list and concat them\n",
    "aux.append(tweets_jan)\n",
    "aux.append(tweets_oct)\n",
    "tweets = pd.concat(aux)\n",
    "print('October Shape: ', tweets_oct.shape)\n",
    "print('January Shape: ', tweets_jan.shape)\n",
    "print('Total Shape: ', tweets.shape)\n"
   ]
  },
  {
   "cell_type": "code",
   "execution_count": 21,
   "metadata": {},
   "outputs": [],
   "source": [
    "# We load the map that relates an ID to a political Label\n",
    "with open(\"/mnt/disk2/Data/Pickle/mapa.pkl\", \"rb\") as file:\n",
    "    mapa = pickle.load(file)"
   ]
  },
  {
   "cell_type": "code",
   "execution_count": 22,
   "metadata": {},
   "outputs": [
    {
     "data": {
      "text/plain": [
       "Party\n",
       "Izquierda    548466\n",
       "Derecha      173499\n",
       "Centro       124886\n",
       "Name: count, dtype: int64"
      ]
     },
     "execution_count": 22,
     "metadata": {},
     "output_type": "execute_result"
    }
   ],
   "source": [
    "# Now we assign each RT a political label according to its influencer's label.\n",
    "tweets.loc[tweets[\"Reference Type\"] == \"retweeted\", \"Party\"] = tweets.loc[tweets[\"Reference Type\"] == \"retweeted\",\n",
    "                                                                         \"Referenced Tweet Author ID\"].map(mapa)\n",
    "\n",
    "# We select all non-NA labeled RT.\n",
    "tweets[tweets[\"Party\"].notna()]\n",
    "\n",
    "tweets[\"Party\"].value_counts()"
   ]
  },
  {
   "cell_type": "code",
   "execution_count": 29,
   "metadata": {},
   "outputs": [
    {
     "name": "stdout",
     "output_type": "stream",
     "text": [
      "Vector Datbase size is:  (34901, 8)\n"
     ]
    },
    {
     "data": {
      "text/html": [
       "<div>\n",
       "<style scoped>\n",
       "    .dataframe tbody tr th:only-of-type {\n",
       "        vertical-align: middle;\n",
       "    }\n",
       "\n",
       "    .dataframe tbody tr th {\n",
       "        vertical-align: top;\n",
       "    }\n",
       "\n",
       "    .dataframe thead th {\n",
       "        text-align: right;\n",
       "    }\n",
       "</style>\n",
       "<table border=\"1\" class=\"dataframe\">\n",
       "  <thead>\n",
       "    <tr style=\"text-align: right;\">\n",
       "      <th></th>\n",
       "      <th>Retweets Derecha</th>\n",
       "      <th>Retweets Izquierda</th>\n",
       "      <th>Retweets Centro</th>\n",
       "      <th>Retweets Totales</th>\n",
       "      <th>Dummy Derecha</th>\n",
       "      <th>Dummy Izquierda</th>\n",
       "      <th>Dummy Centro</th>\n",
       "      <th>No Retweets</th>\n",
       "    </tr>\n",
       "    <tr>\n",
       "      <th>Author ID</th>\n",
       "      <th></th>\n",
       "      <th></th>\n",
       "      <th></th>\n",
       "      <th></th>\n",
       "      <th></th>\n",
       "      <th></th>\n",
       "      <th></th>\n",
       "      <th></th>\n",
       "    </tr>\n",
       "  </thead>\n",
       "  <tbody>\n",
       "    <tr>\n",
       "      <th>12996</th>\n",
       "      <td>0</td>\n",
       "      <td>10</td>\n",
       "      <td>7</td>\n",
       "      <td>17</td>\n",
       "      <td>0</td>\n",
       "      <td>1</td>\n",
       "      <td>1</td>\n",
       "      <td>0</td>\n",
       "    </tr>\n",
       "    <tr>\n",
       "      <th>777978</th>\n",
       "      <td>0</td>\n",
       "      <td>0</td>\n",
       "      <td>0</td>\n",
       "      <td>0</td>\n",
       "      <td>0</td>\n",
       "      <td>0</td>\n",
       "      <td>0</td>\n",
       "      <td>1</td>\n",
       "    </tr>\n",
       "    <tr>\n",
       "      <th>784125</th>\n",
       "      <td>0</td>\n",
       "      <td>30</td>\n",
       "      <td>3</td>\n",
       "      <td>33</td>\n",
       "      <td>0</td>\n",
       "      <td>1</td>\n",
       "      <td>1</td>\n",
       "      <td>0</td>\n",
       "    </tr>\n",
       "    <tr>\n",
       "      <th>1061601</th>\n",
       "      <td>0</td>\n",
       "      <td>15</td>\n",
       "      <td>1</td>\n",
       "      <td>16</td>\n",
       "      <td>0</td>\n",
       "      <td>1</td>\n",
       "      <td>1</td>\n",
       "      <td>0</td>\n",
       "    </tr>\n",
       "    <tr>\n",
       "      <th>1488031</th>\n",
       "      <td>0</td>\n",
       "      <td>0</td>\n",
       "      <td>0</td>\n",
       "      <td>0</td>\n",
       "      <td>0</td>\n",
       "      <td>0</td>\n",
       "      <td>0</td>\n",
       "      <td>1</td>\n",
       "    </tr>\n",
       "  </tbody>\n",
       "</table>\n",
       "</div>"
      ],
      "text/plain": [
       "           Retweets Derecha  Retweets Izquierda  Retweets Centro  \\\n",
       "Author ID                                                          \n",
       "12996                     0                  10                7   \n",
       "777978                    0                   0                0   \n",
       "784125                    0                  30                3   \n",
       "1061601                   0                  15                1   \n",
       "1488031                   0                   0                0   \n",
       "\n",
       "           Retweets Totales  Dummy Derecha  Dummy Izquierda  Dummy Centro  \\\n",
       "Author ID                                                                   \n",
       "12996                    17              0                1             1   \n",
       "777978                    0              0                0             0   \n",
       "784125                   33              0                1             1   \n",
       "1061601                  16              0                1             1   \n",
       "1488031                   0              0                0             0   \n",
       "\n",
       "           No Retweets  \n",
       "Author ID               \n",
       "12996                0  \n",
       "777978               1  \n",
       "784125               0  \n",
       "1061601              0  \n",
       "1488031              1  "
      ]
     },
     "execution_count": 29,
     "metadata": {},
     "output_type": "execute_result"
    }
   ],
   "source": [
    "# We create lambda-functions that count the number of RTs for each political \n",
    "# label.\n",
    "a = lambda x: np.sum(x == \"Derecha\")\n",
    "b = lambda x: np.sum(x == \"Izquierda\")\n",
    "c = lambda x: np.sum(x == \"Centro\")\n",
    "\n",
    "# given per political label for each user using the lambda-functions.\n",
    "rts_usuario_jan_oct = tweets.groupby(\"Author ID\").agg({\"Party\": [a,b,c]})\n",
    "\n",
    "rts_usuario_jan_oct.columns = [\"Retweets Derecha\", \n",
    "                       \"Retweets Izquierda\", \n",
    "                       \"Retweets Centro\"]\n",
    "\n",
    "# Total RTs...\n",
    "rts_usuario_jan_oct[\"Retweets Totales\"] = rts_usuario_jan_oct.sum(axis=1)\n",
    "# We generate dummy variables for each political label...\n",
    "rts_usuario_jan_oct[\"Dummy Derecha\"] = (rts_usuario_jan_oct[\"Retweets Derecha\"] != 0).astype('int32')\n",
    "rts_usuario_jan_oct[\"Dummy Izquierda\"] = (rts_usuario_jan_oct[\"Retweets Izquierda\"] != 0).astype('int32')\n",
    "rts_usuario_jan_oct[\"Dummy Centro\"] = (rts_usuario_jan_oct[\"Retweets Centro\"] != 0).astype('int32')\n",
    "\n",
    "# Now we determine the political affiliation by checking the index with the maximum.\n",
    "rts_usuario_jan_oct[\"No Retweets\"] = (rts_usuario_jan_oct[\"Retweets Totales\"] == 0).astype('int32')\n",
    "print('Vector Datbase size is: ',rts_usuario_jan_oct.shape)\n",
    "rts_usuario_jan_oct.head()"
   ]
  },
  {
   "cell_type": "code",
   "execution_count": 33,
   "metadata": {},
   "outputs": [
    {
     "data": {
      "text/plain": [
       "Afiliacion\n",
       "Retweets Izquierda    13983\n",
       "No Retweets           10378\n",
       "Retweets Centro        5337\n",
       "Retweets Derecha       5203\n",
       "Name: count, dtype: int64"
      ]
     },
     "execution_count": 33,
     "metadata": {},
     "output_type": "execute_result"
    }
   ],
   "source": [
    "# Now we determine the political affiliation by checking the index with the maximum.\n",
    "rts_usuario_jan_oct[\"Afiliacion\"] = rts_usuario_jan_oct[[\"Retweets Centro\", \n",
    "                                         \"Retweets Derecha\", \n",
    "                                         \"Retweets Izquierda\", \n",
    "                                         \"No Retweets\"]].idxmax(axis=1)\n",
    "\n",
    "rts_usuario_jan_oct['Afiliacion'].value_counts()"
   ]
  },
  {
   "cell_type": "code",
   "execution_count": 34,
   "metadata": {},
   "outputs": [],
   "source": [
    "# Finally, we create a dictionary which stores the affiliation for each user.\n",
    "user_to_party_jan_oct = {}\n",
    "\n",
    "for index, row in rts_usuario_jan_oct.iterrows():\n",
    "    author_id = int(index)\n",
    "    afiliacion = row['Afiliacion']\n",
    "    \n",
    "    # Adding the author ID and affiliation to the dictionary\n",
    "    user_to_party_jan_oct[author_id] = afiliacion\n",
    "\n",
    "with open(\"/mnt/disk2/Data/Pickle/user_to_party_jan_oct.pkl\", 'wb') as file:\n",
    "    pickle.dump(user_to_party_jan_oct,file)"
   ]
  },
  {
   "cell_type": "code",
   "execution_count": 35,
   "metadata": {},
   "outputs": [],
   "source": [
    "rts_usuario_jan_oct.to_pickle('/mnt/disk2/Data/Pickle/rts_usuario_jan_oct.pkl')"
   ]
  },
  {
   "cell_type": "markdown",
   "metadata": {},
   "source": [
    "## 3. Conclusion\n",
    "\n",
    "The output of this Notebook is listed Below:\n",
    "\n",
    "- **user_to_party**: A Python Dictionary stored in a Pickle File with the Party affiliatin of every user based on the Retweets during the Paro Nacional\n",
    "\n",
    "- **user_to_party_jan_oct**: A Python Dictionary stored in a Pickle File with the Party affiliatin of every user based on the Retweets from January 2021 and October 2019\n",
    "\n",
    "- **rts_usuario_paro**: DataFrame that contains the amount of Left-wing, Right-wing and Center-Wing for every User during the Paro\n",
    "\n",
    "- **rts_usuario_jan_oct**: DataFrame that contains the amount of Left-wing, Right-wing and Center-Wing for every user \n"
   ]
  }
 ],
 "metadata": {
  "kernelspec": {
   "display_name": "Python 3",
   "language": "python",
   "name": "python3"
  },
  "language_info": {
   "codemirror_mode": {
    "name": "ipython",
    "version": 3
   },
   "file_extension": ".py",
   "mimetype": "text/x-python",
   "name": "python",
   "nbconvert_exporter": "python",
   "pygments_lexer": "ipython3",
   "version": "3.11.5"
  },
  "orig_nbformat": 4
 },
 "nbformat": 4,
 "nbformat_minor": 2
}
