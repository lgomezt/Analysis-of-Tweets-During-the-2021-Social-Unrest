{
 "cells": [
  {
   "cell_type": "markdown",
   "metadata": {},
   "source": [
    "# Retweets Networks"
   ]
  },
  {
   "cell_type": "markdown",
   "metadata": {},
   "source": [
    "In this notebook, we create a daily retweet network. First, we transform our dataset into a Source-Target DataFrame. Afterward, we construct a `graph-tool` object.\n",
    "\n",
    "We have 45,330,718 Tweets from 37330 from which 30,918,011 are ReTweets"
   ]
  },
  {
   "cell_type": "code",
   "execution_count": 26,
   "metadata": {},
   "outputs": [],
   "source": [
    "import pandas as pd\n",
    "import numpy as np\n",
    "import pickle\n",
    "import os\n",
    "from tqdm import tqdm\n",
    "import scipy.sparse as sp\n",
    "from scipy.sparse import lil_matrix\n",
    "from scipy.sparse import csr_matrix\n",
    "from scipy.sparse import find\n",
    "import scipy.sparse\n",
    "import graph_tool.all as gt\n",
    "import glob"
   ]
  },
  {
   "cell_type": "code",
   "execution_count": 38,
   "metadata": {},
   "outputs": [],
   "source": [
    "save_path = \"../../../Data/3_Day_Graphs\""
   ]
  },
  {
   "cell_type": "markdown",
   "metadata": {},
   "source": [
    "## Retweet network with a 3-day rolling window"
   ]
  },
  {
   "cell_type": "code",
   "execution_count": 28,
   "metadata": {},
   "outputs": [
    {
     "name": "stdout",
     "output_type": "stream",
     "text": [
      "Shape: (45330718, 4)\n"
     ]
    },
    {
     "data": {
      "text/html": [
       "<div>\n",
       "<style scoped>\n",
       "    .dataframe tbody tr th:only-of-type {\n",
       "        vertical-align: middle;\n",
       "    }\n",
       "\n",
       "    .dataframe tbody tr th {\n",
       "        vertical-align: top;\n",
       "    }\n",
       "\n",
       "    .dataframe thead th {\n",
       "        text-align: right;\n",
       "    }\n",
       "</style>\n",
       "<table border=\"1\" class=\"dataframe\">\n",
       "  <thead>\n",
       "    <tr style=\"text-align: right;\">\n",
       "      <th></th>\n",
       "      <th>Author ID</th>\n",
       "      <th>Date</th>\n",
       "      <th>Reference Type</th>\n",
       "      <th>Referenced Tweet Author ID</th>\n",
       "    </tr>\n",
       "  </thead>\n",
       "  <tbody>\n",
       "    <tr>\n",
       "      <th>0</th>\n",
       "      <td>9.180596e+17</td>\n",
       "      <td>2021/06/29 23:37:59</td>\n",
       "      <td>retweeted</td>\n",
       "      <td>1.419439e+08</td>\n",
       "    </tr>\n",
       "    <tr>\n",
       "      <th>1</th>\n",
       "      <td>9.180596e+17</td>\n",
       "      <td>2021/06/29 23:37:16</td>\n",
       "      <td>retweeted</td>\n",
       "      <td>8.628063e+17</td>\n",
       "    </tr>\n",
       "    <tr>\n",
       "      <th>2</th>\n",
       "      <td>9.180596e+17</td>\n",
       "      <td>2021/06/29 23:31:36</td>\n",
       "      <td>retweeted</td>\n",
       "      <td>1.402301e+18</td>\n",
       "    </tr>\n",
       "    <tr>\n",
       "      <th>3</th>\n",
       "      <td>9.180596e+17</td>\n",
       "      <td>2021/06/29 23:30:41</td>\n",
       "      <td>retweeted</td>\n",
       "      <td>3.824198e+08</td>\n",
       "    </tr>\n",
       "    <tr>\n",
       "      <th>4</th>\n",
       "      <td>9.180596e+17</td>\n",
       "      <td>2021/06/29 23:29:39</td>\n",
       "      <td>retweeted</td>\n",
       "      <td>1.483430e+07</td>\n",
       "    </tr>\n",
       "  </tbody>\n",
       "</table>\n",
       "</div>"
      ],
      "text/plain": [
       "      Author ID                 Date Reference Type  \\\n",
       "0  9.180596e+17  2021/06/29 23:37:59      retweeted   \n",
       "1  9.180596e+17  2021/06/29 23:37:16      retweeted   \n",
       "2  9.180596e+17  2021/06/29 23:31:36      retweeted   \n",
       "3  9.180596e+17  2021/06/29 23:30:41      retweeted   \n",
       "4  9.180596e+17  2021/06/29 23:29:39      retweeted   \n",
       "\n",
       "   Referenced Tweet Author ID  \n",
       "0                1.419439e+08  \n",
       "1                8.628063e+17  \n",
       "2                1.402301e+18  \n",
       "3                3.824198e+08  \n",
       "4                1.483430e+07  "
      ]
     },
     "execution_count": 28,
     "metadata": {},
     "output_type": "execute_result"
    }
   ],
   "source": [
    "tweets = pd.read_pickle('../../../Data/Tweets_DataFrames/tweets_lite.gzip', compression='gzip')\n",
    "print('Shape:', tweets.shape)\n",
    "tweets.head()"
   ]
  },
  {
   "cell_type": "code",
   "execution_count": 34,
   "metadata": {},
   "outputs": [
    {
     "name": "stdout",
     "output_type": "stream",
     "text": [
      "Tenemos :30918011 Retweets\n"
     ]
    },
    {
     "data": {
      "text/html": [
       "<div>\n",
       "<style scoped>\n",
       "    .dataframe tbody tr th:only-of-type {\n",
       "        vertical-align: middle;\n",
       "    }\n",
       "\n",
       "    .dataframe tbody tr th {\n",
       "        vertical-align: top;\n",
       "    }\n",
       "\n",
       "    .dataframe thead th {\n",
       "        text-align: right;\n",
       "    }\n",
       "</style>\n",
       "<table border=\"1\" class=\"dataframe\">\n",
       "  <thead>\n",
       "    <tr style=\"text-align: right;\">\n",
       "      <th></th>\n",
       "      <th>Author ID</th>\n",
       "      <th>Date</th>\n",
       "      <th>Referenced Tweet Author ID</th>\n",
       "    </tr>\n",
       "  </thead>\n",
       "  <tbody>\n",
       "    <tr>\n",
       "      <th>0</th>\n",
       "      <td>9.180596e+17</td>\n",
       "      <td>2021-06-29</td>\n",
       "      <td>1.419439e+08</td>\n",
       "    </tr>\n",
       "    <tr>\n",
       "      <th>1</th>\n",
       "      <td>9.180596e+17</td>\n",
       "      <td>2021-06-29</td>\n",
       "      <td>8.628063e+17</td>\n",
       "    </tr>\n",
       "    <tr>\n",
       "      <th>2</th>\n",
       "      <td>9.180596e+17</td>\n",
       "      <td>2021-06-29</td>\n",
       "      <td>1.402301e+18</td>\n",
       "    </tr>\n",
       "    <tr>\n",
       "      <th>3</th>\n",
       "      <td>9.180596e+17</td>\n",
       "      <td>2021-06-29</td>\n",
       "      <td>3.824198e+08</td>\n",
       "    </tr>\n",
       "    <tr>\n",
       "      <th>4</th>\n",
       "      <td>9.180596e+17</td>\n",
       "      <td>2021-06-29</td>\n",
       "      <td>1.483430e+07</td>\n",
       "    </tr>\n",
       "  </tbody>\n",
       "</table>\n",
       "</div>"
      ],
      "text/plain": [
       "      Author ID        Date  Referenced Tweet Author ID\n",
       "0  9.180596e+17  2021-06-29                1.419439e+08\n",
       "1  9.180596e+17  2021-06-29                8.628063e+17\n",
       "2  9.180596e+17  2021-06-29                1.402301e+18\n",
       "3  9.180596e+17  2021-06-29                3.824198e+08\n",
       "4  9.180596e+17  2021-06-29                1.483430e+07"
      ]
     },
     "execution_count": 34,
     "metadata": {},
     "output_type": "execute_result"
    }
   ],
   "source": [
    "retweets = tweets[tweets['Reference Type'] == 'retweeted']\n",
    "retweets = retweets.drop(columns=['Reference Type'])\n",
    "retweets[\"Date\"] = pd.to_datetime(retweets[\"Date\"]).dt.date\n",
    "print(f'Tenemos :{retweets.shape[0]} Retweets')\n",
    "retweets.head()"
   ]
  },
  {
   "cell_type": "code",
   "execution_count": 35,
   "metadata": {},
   "outputs": [],
   "source": [
    "# List of Twitter users\n",
    "users = np.unique(retweets[['Author ID']].values)\n",
    "users = [ int(x) for x in users ]\n",
    "\n",
    "# Dates of the Paro Nacional\n",
    "v1_start = '2021-04-28 00:00:00'\n",
    "v1_end = '2021-06-27 00:00:00'\n",
    "date_start = pd.date_range(start = v1_start, end = v1_end, freq = 'D')\n",
    "\n",
    "v2_start = '2021-04-30 23:59:59'\n",
    "v2_end = '2021-06-29 23:59:59'\n",
    "date_end = pd.date_range(start = v2_start, end = v2_end, freq = 'D')\n",
    "\n",
    "user_indices = {user: idx for idx, user in enumerate(users)}\n",
    "datestr = list(date_end.strftime(\"%d-%m-%Y\"))"
   ]
  },
  {
   "cell_type": "code",
   "execution_count": 36,
   "metadata": {},
   "outputs": [
    {
     "name": "stdout",
     "output_type": "stream",
     "text": [
      "Faltan clasificar 587246 usuarios\n"
     ]
    },
    {
     "data": {
      "text/html": [
       "<div>\n",
       "<style scoped>\n",
       "    .dataframe tbody tr th:only-of-type {\n",
       "        vertical-align: middle;\n",
       "    }\n",
       "\n",
       "    .dataframe tbody tr th {\n",
       "        vertical-align: top;\n",
       "    }\n",
       "\n",
       "    .dataframe thead th {\n",
       "        text-align: right;\n",
       "    }\n",
       "</style>\n",
       "<table border=\"1\" class=\"dataframe\">\n",
       "  <thead>\n",
       "    <tr style=\"text-align: right;\">\n",
       "      <th></th>\n",
       "      <th>Author ID</th>\n",
       "      <th>Date</th>\n",
       "      <th>Referenced Tweet Author ID</th>\n",
       "    </tr>\n",
       "  </thead>\n",
       "  <tbody>\n",
       "    <tr>\n",
       "      <th>0</th>\n",
       "      <td>9.180596e+17</td>\n",
       "      <td>2021-06-29</td>\n",
       "      <td>1.419439e+08</td>\n",
       "    </tr>\n",
       "    <tr>\n",
       "      <th>1</th>\n",
       "      <td>9.180596e+17</td>\n",
       "      <td>2021-06-29</td>\n",
       "      <td>8.628063e+17</td>\n",
       "    </tr>\n",
       "    <tr>\n",
       "      <th>2</th>\n",
       "      <td>9.180596e+17</td>\n",
       "      <td>2021-06-29</td>\n",
       "      <td>1.402301e+18</td>\n",
       "    </tr>\n",
       "    <tr>\n",
       "      <th>3</th>\n",
       "      <td>9.180596e+17</td>\n",
       "      <td>2021-06-29</td>\n",
       "      <td>3.824198e+08</td>\n",
       "    </tr>\n",
       "    <tr>\n",
       "      <th>4</th>\n",
       "      <td>9.180596e+17</td>\n",
       "      <td>2021-06-29</td>\n",
       "      <td>1.483430e+07</td>\n",
       "    </tr>\n",
       "  </tbody>\n",
       "</table>\n",
       "</div>"
      ],
      "text/plain": [
       "      Author ID        Date  Referenced Tweet Author ID\n",
       "0  9.180596e+17  2021-06-29                1.419439e+08\n",
       "1  9.180596e+17  2021-06-29                8.628063e+17\n",
       "2  9.180596e+17  2021-06-29                1.402301e+18\n",
       "3  9.180596e+17  2021-06-29                3.824198e+08\n",
       "4  9.180596e+17  2021-06-29                1.483430e+07"
      ]
     },
     "execution_count": 36,
     "metadata": {},
     "output_type": "execute_result"
    }
   ],
   "source": [
    "# Import political labelling dictionary\n",
    "user_to_party_paro = pd.read_pickle(\"../../../Data/Pickle/user_to_party_paro.pkl\")\n",
    "\n",
    "ids_faltantes1 = set(retweets[\"Author ID\"]) - set(user_to_party_paro.keys())\n",
    "ids_faltantes2 = set(retweets[\"Referenced Tweet Author ID\"]) - set(user_to_party_paro.keys())\n",
    "ids_faltantes = np.concatenate((list(ids_faltantes1), list(ids_faltantes2)))\n",
    "print(f\"Faltan clasificar {len(np.unique(ids_faltantes))} usuarios\")\n",
    "\n",
    "# Los dejamos como inclasificados \n",
    "for usuario in ids_faltantes:\n",
    "    user_to_party_paro[usuario] = np.nan\n",
    "\n",
    "retweets.head()"
   ]
  },
  {
   "cell_type": "code",
   "execution_count": 42,
   "metadata": {},
   "outputs": [
    {
     "name": "stderr",
     "output_type": "stream",
     "text": [
      "61it [05:34,  5.49s/it]\n"
     ]
    }
   ],
   "source": [
    "for d_s, d_e in tqdm(zip(date_start, date_end)):\n",
    "    # Select the retweets from the desired date\n",
    "    temp = retweets[(retweets['Date'] >= d_s.date()) & (retweets['Date'] < d_e.date())]\n",
    "\n",
    "    # Get total of Tweets during that period\n",
    "    rts_per_user = temp.groupby('Author ID').size().reset_index(name = 'total')\n",
    "\n",
    "    # Join\n",
    "    temp = temp.merge(rts_per_user, how = 'right', on='Author ID')\n",
    "    temp = temp.groupby([\"Author ID\", \"Referenced Tweet Author ID\"]).size().reset_index(name = \"w\")\n",
    "    temp.columns = [\"source\", \"target\", \"w\"]\n",
    "\n",
    "    # Assign political affiliation\n",
    "    temp[\"source_political_afilliation\"] = temp[\"source\"].apply(lambda x: user_to_party_paro[x])\n",
    "    temp[\"target_political_afilliation\"] = temp[\"target\"].apply(lambda x: user_to_party_paro[x])\n",
    "    \n",
    "    # Save results as csv\n",
    "    temp.to_csv(os.path.join(save_path, \"Source-Target\", str(d_e.date()) + \".csv\"), index = False, sep = \";\")"
   ]
  },
  {
   "cell_type": "code",
   "execution_count": 47,
   "metadata": {},
   "outputs": [
    {
     "name": "stdout",
     "output_type": "stream",
     "text": [
      "Nodos que Retweeteados pero que no Retweetean: 6658\n",
      "Nodos que Retweetean a alguien pero no Son Retweeteados: 587712\n",
      "Nodos que tienen un self loop: 3\n",
      "Total de nodos en la muestra: 624358\n"
     ]
    }
   ],
   "source": [
    "nodes_no_receipt = set(retweets[\"Author ID\"]) -  set(retweets[\"Referenced Tweet Author ID\"])\n",
    "nodes_no_send = set(retweets[\"Referenced Tweet Author ID\"]) - set(retweets[\"Author ID\"])\n",
    "self_loops = set(retweets[retweets['Author ID'] == retweets['Referenced Tweet Author ID']])\n",
    "\n",
    "print(f'Nodos que Retweeteados pero que no Retweetean: {len(nodes_no_receipt)}')\n",
    "print(f'Nodos que Retweetean a alguien pero no Son Retweeteados: {len(nodes_no_send)}')\n",
    "print(f'Nodos que tienen un self loop: {len(self_loops)}')\n",
    "\n",
    "nodes_id = list(set(retweets[\"Author ID\"]).union(set(retweets[\"Referenced Tweet Author ID\"])))\n",
    "print(f'Total de nodos en la muestra: {len(nodes_id)}')"
   ]
  },
  {
   "cell_type": "code",
   "execution_count": 51,
   "metadata": {},
   "outputs": [
    {
     "name": "stderr",
     "output_type": "stream",
     "text": [
      "100%|██████████| 624358/624358 [00:00<00:00, 1333630.36it/s]\n"
     ]
    }
   ],
   "source": [
    "nodes_political_affilitation = []\n",
    "\n",
    "for i in tqdm(nodes_id):\n",
    "    # Assign Political Affiliation\n",
    "    pa = user_to_party_paro.get(i, np.nan) # using .get() for safe dictionary lookup\n",
    "    nodes_political_affilitation.append(pa)\n",
    "\n",
    "num_nodes = len(nodes_id)\n",
    "nodes_idx = [i for i in range(num_nodes)]\n",
    "\n",
    "# Create dictionary\n",
    "nodes_dict = {\n",
    "    'id': nodes_id,\n",
    "    'idx': nodes_idx,\n",
    "    'pa': nodes_political_affilitation\n",
    "}\n",
    "\n",
    "# Save as pickle\n",
    "with open(\"../../../Data/3_Day_Graphs/nodes_dict.pkl\", \"wb\") as f:\n",
    "    pickle.dump(nodes_dict, f)"
   ]
  },
  {
   "cell_type": "code",
   "execution_count": 178,
   "metadata": {},
   "outputs": [
    {
     "name": "stdout",
     "output_type": "stream",
     "text": [
      "Property of [1 9] is 1. Type of Edge: <class 'numpy.ndarray'>\n",
      "Property of [3 8] is 2. Type of Edge: <class 'numpy.ndarray'>\n",
      "Property of [4 7] is 3. Type of Edge: <class 'numpy.ndarray'>\n",
      "Property of [5 6] is 4. Type of Edge: <class 'numpy.ndarray'>\n",
      "<EdgePropertyMap object with value type 'double', for Graph 0x7f285a6f8b90, at 0x7f2a96756890>\n"
     ]
    },
    {
     "data": {
      "text/plain": [
       "<Graph object, directed, with 10 vertices and 4 edges, 1 internal edge property, at 0x7f285a6f8b90>"
      ]
     },
     "execution_count": 178,
     "metadata": {},
     "output_type": "execute_result"
    }
   ],
   "source": [
    "#SANDBOX\n",
    "# Sorce-target ex\n",
    "data = {\n",
    "    'source': [1,3,4,5],\n",
    "    'source_label': ['par' if i%2 == 0  else 'impar' for i in [1,3,4,5]],\n",
    "    'target': [9,8,7,6],\n",
    "    'target_label': ['par' if i%2 == 0  else 'impar' for i in [9,8,7,6]],\n",
    "    'weight': [1,2,3,4],\n",
    "}\n",
    "\n",
    "Df = pd.DataFrame(data)\n",
    "s_t = Df[['source', 'target']]\n",
    "s_t = [ tuple(row) for row in s_t.itertuples(index=False)]\n",
    "\n",
    "g = gt.Graph(directed = True)\n",
    "g.add_edge_list(s_t)\n",
    "\n",
    "modulo_2 = g.new_edge_property('double')\n",
    "for i, edge in enumerate(g.get_edges()):\n",
    "    print(f'Property of {edge} is {Df.weight[i]}. Type of Edge: {type(edge)}')\n",
    "    modulo_2[edge] = Df.weight[i]\n",
    "\n",
    "print(modulo_2)\n",
    "g.edge_properties['modulo_2'] = modulo_2\n",
    "g"
   ]
  },
  {
   "cell_type": "code",
   "execution_count": 65,
   "metadata": {},
   "outputs": [
    {
     "data": {
      "text/plain": [
       "9"
      ]
     },
     "execution_count": 65,
     "metadata": {},
     "output_type": "execute_result"
    }
   ],
   "source": [
    "len(set([1,3,4,5,6,3,6,7,8]).union(set([9,8,7,6,5,4,3,2,1])))"
   ]
  },
  {
   "cell_type": "code",
   "execution_count": 174,
   "metadata": {},
   "outputs": [
    {
     "name": "stdout",
     "output_type": "stream",
     "text": [
      "Property of [0 1] is 5.0. Type of Edge: <class 'numpy.ndarray'>\n",
      "Property of [1 2] is 3.2. Type of Edge: <class 'numpy.ndarray'>\n",
      "Property of [2 3] is 7.1. Type of Edge: <class 'numpy.ndarray'>\n",
      "0 0\n",
      "Property of 0 is par. Type of Edge: <class 'numpy.int64'>\n",
      "1 1\n",
      "Property of 1 is impar. Type of Edge: <class 'numpy.int64'>\n",
      "2 2\n",
      "Property of 2 is par. Type of Edge: <class 'numpy.int64'>\n",
      "3 3\n",
      "Property of 3 is impar. Type of Edge: <class 'numpy.int64'>\n",
      "Label of Vertex 0: par\n",
      "Label of Vertex 1: impar\n",
      "Label of Vertex 2: par\n",
      "Label of Vertex 3: impar\n"
     ]
    },
    {
     "data": {
      "text/plain": [
       "<Graph object, undirected, with 4 vertices and 3 edges, at 0x7f285a6b1a50>"
      ]
     },
     "execution_count": 174,
     "metadata": {},
     "output_type": "execute_result"
    }
   ],
   "source": [
    "import graph_tool.all as gt\n",
    "\n",
    "# Create a graph\n",
    "g = gt.Graph(directed=False)\n",
    "v1 = g.add_vertex()\n",
    "v2 = g.add_vertex()\n",
    "v3 = g.add_vertex()\n",
    "v4 = g.add_vertex()\n",
    "\n",
    "# Add edges\n",
    "e1 = g.add_edge(v1, v2)\n",
    "e2 = g.add_edge(v2, v3)\n",
    "e3 = g.add_edge(v3, v4)\n",
    "\n",
    "# Create an edge property map for weights\n",
    "edge_weight_map = g.new_edge_property(\"double\")\n",
    "\n",
    "# Create a Vertex property map for labels\n",
    "vertex_label_map = g.new_vertex_property('string')\n",
    "\n",
    "# Assign weights to the edges using a for loop\n",
    "edge_list = g.get_edges()\n",
    "weights = [5.0, 3.2, 7.1]  # Example weights\n",
    "for i, e in enumerate(edge_list):\n",
    "    print(f'Property of {e} is {weights[i]}. Type of Edge: {type(e)}')\n",
    "    edge_weight_map[e] = weights[i]\n",
    "\n",
    "# Assign Labels to vertices using loop\n",
    "vertex_list = g.get_vertices()\n",
    "labels = ['par', 'impar', 'par', 'impar']\n",
    "for i,v in enumerate(vertex_list):\n",
    "    print(i,v)\n",
    "    print(f'Property of {v} is {labels[i]}. Type of Edge: {type(v)}')\n",
    "    vertex_label_map[v] = labels[i]\n",
    "\n",
    "# Access and print the weights for each edge\n",
    "for v in g.vertices():\n",
    "    print(f\"Label of Vertex {v}: {vertex_label_map[v]}\")\n",
    "\n",
    "g"
   ]
  },
  {
   "cell_type": "code",
   "execution_count": null,
   "metadata": {},
   "outputs": [],
   "source": [
    "# Create a dictionary for O(1) lookup time of indices\n",
    "id_to_idx = {node_id: idx for idx, node_id in enumerate(nodes_dict['id'])}\n",
    "\n",
    "for d_s, d_e in tqdm(zip(date_start, date_end)):\n",
    "    # Filter retweets first\n",
    "    filtered_retweets = retweets[(retweets['Date'] >= d_s.date()) & (retweets['Date'] < d_e.date())]\n",
    "    \n",
    "    # Create weights\n",
    "    test = filtered_retweets.groupby(['Author ID', 'Referenced Tweet Author ID']).size().reset_index(name=\"w\")\n",
    "    \n",
    "    # Use dictionary lookups for index mappings\n",
    "    test['idx_s'] = [id_to_idx.get(x, np.nan) for x in test['Author ID']]\n",
    "    test['idx_t'] = [id_to_idx.get(x, np.nan) for x in test['Referenced Tweet Author ID']]\n",
    "    \n",
    "    # The edge list should be based on the idx of the nodes and include weights\n",
    "    edges_list_with_weights = list(zip(test['idx_s'].dropna().astype(int), test['idx_t'].dropna().astype(int), test['w']))\n",
    "    \n",
    "    # Create graph\n",
    "    g = gt.Graph(directed=True)\n",
    "    g.add_vertex(num_nodes)\n",
    "    \n",
    "    # Node attributes\n",
    "    node_id = g.new_vertex_property(\"string\", vals=nodes_dict['id'])\n",
    "    node_label = g.new_vertex_property(\"string\", vals=nodes_dict['label'])\n",
    "    node_affiliation = g.new_vertex_property(\"string\", vals=nodes_dict['pa'])\n",
    "    \n",
    "    # Assign attributes to graph\n",
    "    g.vertex_properties[\"ID\"] = node_id\n",
    "    g.vertex_properties[\"Label\"] = node_label\n",
    "    g.vertex_properties[\"Political Affiliation\"] = node_affiliation\n",
    "    \n",
    "    # Edge weight attribute\n",
    "    edge_weights = g.new_edge_property(\"int\")\n",
    "    \n",
    "    # Add edges and assign weights\n",
    "    for source, target, weight in edges_list_with_weights:\n",
    "        e = g.add_edge(source, target)\n",
    "        edge_weights[e] = weight\n",
    "\n",
    "    g.edge_properties[\"weight\"] = edge_weights\n",
    "    \n",
    "    g.save(os.path.join(save_path, str(d.date()) + \".graphml\"))"
   ]
  },
  {
   "cell_type": "markdown",
   "metadata": {},
   "source": [
    "## Daily retweet network (with no rolling window)"
   ]
  },
  {
   "cell_type": "code",
   "execution_count": 3,
   "metadata": {},
   "outputs": [
    {
     "data": {
      "text/plain": [
       "['/mnt/disk2/Data/Tweets_DataFrames/tweets_paro_4.gzip',\n",
       " '/mnt/disk2/Data/Tweets_DataFrames/tweets_paro_5.gzip',\n",
       " '/mnt/disk2/Data/Tweets_DataFrames/tweets_paro_3.gzip',\n",
       " '/mnt/disk2/Data/Tweets_DataFrames/tweets_paro_2.gzip',\n",
       " '/mnt/disk2/Data/Tweets_DataFrames/tweets_paro_1.gzip']"
      ]
     },
     "execution_count": 3,
     "metadata": {},
     "output_type": "execute_result"
    }
   ],
   "source": [
    "tweets_paro = glob.glob('/mnt/disk2/Data/Tweets_DataFrames/tweets_paro_*')\n",
    "tweets_paro"
   ]
  },
  {
   "cell_type": "code",
   "execution_count": 4,
   "metadata": {},
   "outputs": [
    {
     "name": "stderr",
     "output_type": "stream",
     "text": [
      "100%|██████████| 5/5 [03:44<00:00, 44.84s/it]\n"
     ]
    },
    {
     "name": "stdout",
     "output_type": "stream",
     "text": [
      "Shape: (30918011, 24)\n"
     ]
    }
   ],
   "source": [
    "# Import the tweets from Paro but select only the retweets\n",
    "retweets = pd.DataFrame()\n",
    "for file in tqdm(tweets_paro):\n",
    "    tweets = pd.read_pickle(file, compression = \"gzip\")\n",
    "\n",
    "    # Select only retweets\n",
    "    rts = tweets.loc[tweets[\"Reference Type\"] == \"retweeted\",:].reset_index(drop = True)\n",
    "    rts = rts.drop(columns = 'Reference Type')\n",
    "    retweets = pd.concat([retweets, rts], axis = 0)\n",
    "retweets = retweets.reset_index(drop = True)\n",
    "del rts, tweets \n",
    "print('Shape:', retweets.shape)"
   ]
  },
  {
   "cell_type": "code",
   "execution_count": 5,
   "metadata": {},
   "outputs": [
    {
     "data": {
      "text/html": [
       "<div>\n",
       "<style scoped>\n",
       "    .dataframe tbody tr th:only-of-type {\n",
       "        vertical-align: middle;\n",
       "    }\n",
       "\n",
       "    .dataframe tbody tr th {\n",
       "        vertical-align: top;\n",
       "    }\n",
       "\n",
       "    .dataframe thead th {\n",
       "        text-align: right;\n",
       "    }\n",
       "</style>\n",
       "<table border=\"1\" class=\"dataframe\">\n",
       "  <thead>\n",
       "    <tr style=\"text-align: right;\">\n",
       "      <th></th>\n",
       "      <th>ID</th>\n",
       "      <th>Permalink</th>\n",
       "      <th>Author ID</th>\n",
       "      <th>Author Name</th>\n",
       "      <th>Author Location</th>\n",
       "      <th>Author Description</th>\n",
       "      <th>Author Followers</th>\n",
       "      <th>Author Following</th>\n",
       "      <th>Author Tweets</th>\n",
       "      <th>Author Profile Image</th>\n",
       "      <th>...</th>\n",
       "      <th>Retweets</th>\n",
       "      <th>Favorites</th>\n",
       "      <th>Quotes</th>\n",
       "      <th>is Retweet?</th>\n",
       "      <th>Reply To User Name</th>\n",
       "      <th>Mentions</th>\n",
       "      <th>Referenced Tweet</th>\n",
       "      <th>Referenced Tweet Author ID</th>\n",
       "      <th>Media URLs</th>\n",
       "      <th>Media Keys</th>\n",
       "    </tr>\n",
       "  </thead>\n",
       "  <tbody>\n",
       "    <tr>\n",
       "      <th>0</th>\n",
       "      <td>1.409944e+18</td>\n",
       "      <td>/wilman_86/status/1409944432011628548</td>\n",
       "      <td>325932532.0</td>\n",
       "      <td>wilman_86</td>\n",
       "      <td>Colombia</td>\n",
       "      <td>Gregario del día a día. El mas combativo en lo...</td>\n",
       "      <td>609.0</td>\n",
       "      <td>1139.0</td>\n",
       "      <td>65944.0</td>\n",
       "      <td>https://pbs.twimg.com/profile_images/160707892...</td>\n",
       "      <td>...</td>\n",
       "      <td>131.0</td>\n",
       "      <td>0.0</td>\n",
       "      <td>0.0</td>\n",
       "      <td>True</td>\n",
       "      <td>NaN</td>\n",
       "      <td>udsnoexisten</td>\n",
       "      <td>1.409943e+18</td>\n",
       "      <td>2.195296e+07</td>\n",
       "      <td>NaN</td>\n",
       "      <td>NaN</td>\n",
       "    </tr>\n",
       "    <tr>\n",
       "      <th>1</th>\n",
       "      <td>1.409726e+18</td>\n",
       "      <td>/wilman_86/status/1409725681546760200</td>\n",
       "      <td>325932532.0</td>\n",
       "      <td>wilman_86</td>\n",
       "      <td>Colombia</td>\n",
       "      <td>Gregario del día a día. El mas combativo en lo...</td>\n",
       "      <td>609.0</td>\n",
       "      <td>1139.0</td>\n",
       "      <td>65944.0</td>\n",
       "      <td>https://pbs.twimg.com/profile_images/160707892...</td>\n",
       "      <td>...</td>\n",
       "      <td>1.0</td>\n",
       "      <td>0.0</td>\n",
       "      <td>0.0</td>\n",
       "      <td>True</td>\n",
       "      <td>NaN</td>\n",
       "      <td>charlasamenas63</td>\n",
       "      <td>1.409726e+18</td>\n",
       "      <td>9.273397e+17</td>\n",
       "      <td>NaN</td>\n",
       "      <td>NaN</td>\n",
       "    </tr>\n",
       "    <tr>\n",
       "      <th>2</th>\n",
       "      <td>1.409498e+18</td>\n",
       "      <td>/wilman_86/status/1409498069096353800</td>\n",
       "      <td>325932532.0</td>\n",
       "      <td>wilman_86</td>\n",
       "      <td>Colombia</td>\n",
       "      <td>Gregario del día a día. El mas combativo en lo...</td>\n",
       "      <td>609.0</td>\n",
       "      <td>1139.0</td>\n",
       "      <td>65944.0</td>\n",
       "      <td>https://pbs.twimg.com/profile_images/160707892...</td>\n",
       "      <td>...</td>\n",
       "      <td>1.0</td>\n",
       "      <td>0.0</td>\n",
       "      <td>0.0</td>\n",
       "      <td>True</td>\n",
       "      <td>NaN</td>\n",
       "      <td>elyrxc</td>\n",
       "      <td>1.409352e+18</td>\n",
       "      <td>1.402825e+18</td>\n",
       "      <td>https://pbs.twimg.com/ext_tw_video_thumb/14093...</td>\n",
       "      <td>7_1409351854983725057</td>\n",
       "    </tr>\n",
       "    <tr>\n",
       "      <th>3</th>\n",
       "      <td>1.409266e+18</td>\n",
       "      <td>/wilman_86/status/1409265731489964032</td>\n",
       "      <td>325932532.0</td>\n",
       "      <td>wilman_86</td>\n",
       "      <td>Colombia</td>\n",
       "      <td>Gregario del día a día. El mas combativo en lo...</td>\n",
       "      <td>609.0</td>\n",
       "      <td>1139.0</td>\n",
       "      <td>65944.0</td>\n",
       "      <td>https://pbs.twimg.com/profile_images/160707892...</td>\n",
       "      <td>...</td>\n",
       "      <td>84.0</td>\n",
       "      <td>0.0</td>\n",
       "      <td>0.0</td>\n",
       "      <td>True</td>\n",
       "      <td>NaN</td>\n",
       "      <td>Lidio_Dominante</td>\n",
       "      <td>1.409202e+18</td>\n",
       "      <td>1.391738e+18</td>\n",
       "      <td>NaN</td>\n",
       "      <td>NaN</td>\n",
       "    </tr>\n",
       "    <tr>\n",
       "      <th>4</th>\n",
       "      <td>1.408904e+18</td>\n",
       "      <td>/wilman_86/status/1408904423372378112</td>\n",
       "      <td>325932532.0</td>\n",
       "      <td>wilman_86</td>\n",
       "      <td>Colombia</td>\n",
       "      <td>Gregario del día a día. El mas combativo en lo...</td>\n",
       "      <td>609.0</td>\n",
       "      <td>1139.0</td>\n",
       "      <td>65944.0</td>\n",
       "      <td>https://pbs.twimg.com/profile_images/160707892...</td>\n",
       "      <td>...</td>\n",
       "      <td>17.0</td>\n",
       "      <td>0.0</td>\n",
       "      <td>0.0</td>\n",
       "      <td>True</td>\n",
       "      <td>NaN</td>\n",
       "      <td>Lidio_Dominante</td>\n",
       "      <td>1.408853e+18</td>\n",
       "      <td>1.391738e+18</td>\n",
       "      <td>NaN</td>\n",
       "      <td>NaN</td>\n",
       "    </tr>\n",
       "  </tbody>\n",
       "</table>\n",
       "<p>5 rows × 24 columns</p>\n",
       "</div>"
      ],
      "text/plain": [
       "             ID                              Permalink    Author ID  \\\n",
       "0  1.409944e+18  /wilman_86/status/1409944432011628548  325932532.0   \n",
       "1  1.409726e+18  /wilman_86/status/1409725681546760200  325932532.0   \n",
       "2  1.409498e+18  /wilman_86/status/1409498069096353800  325932532.0   \n",
       "3  1.409266e+18  /wilman_86/status/1409265731489964032  325932532.0   \n",
       "4  1.408904e+18  /wilman_86/status/1408904423372378112  325932532.0   \n",
       "\n",
       "  Author Name Author Location  \\\n",
       "0   wilman_86        Colombia   \n",
       "1   wilman_86        Colombia   \n",
       "2   wilman_86        Colombia   \n",
       "3   wilman_86        Colombia   \n",
       "4   wilman_86        Colombia   \n",
       "\n",
       "                                  Author Description  Author Followers  \\\n",
       "0  Gregario del día a día. El mas combativo en lo...             609.0   \n",
       "1  Gregario del día a día. El mas combativo en lo...             609.0   \n",
       "2  Gregario del día a día. El mas combativo en lo...             609.0   \n",
       "3  Gregario del día a día. El mas combativo en lo...             609.0   \n",
       "4  Gregario del día a día. El mas combativo en lo...             609.0   \n",
       "\n",
       "   Author Following  Author Tweets  \\\n",
       "0            1139.0        65944.0   \n",
       "1            1139.0        65944.0   \n",
       "2            1139.0        65944.0   \n",
       "3            1139.0        65944.0   \n",
       "4            1139.0        65944.0   \n",
       "\n",
       "                                Author Profile Image  ... Retweets Favorites  \\\n",
       "0  https://pbs.twimg.com/profile_images/160707892...  ...    131.0       0.0   \n",
       "1  https://pbs.twimg.com/profile_images/160707892...  ...      1.0       0.0   \n",
       "2  https://pbs.twimg.com/profile_images/160707892...  ...      1.0       0.0   \n",
       "3  https://pbs.twimg.com/profile_images/160707892...  ...     84.0       0.0   \n",
       "4  https://pbs.twimg.com/profile_images/160707892...  ...     17.0       0.0   \n",
       "\n",
       "  Quotes  is Retweet?  Reply To User Name          Mentions  Referenced Tweet  \\\n",
       "0    0.0         True                 NaN      udsnoexisten      1.409943e+18   \n",
       "1    0.0         True                 NaN   charlasamenas63      1.409726e+18   \n",
       "2    0.0         True                 NaN            elyrxc      1.409352e+18   \n",
       "3    0.0         True                 NaN   Lidio_Dominante      1.409202e+18   \n",
       "4    0.0         True                 NaN   Lidio_Dominante      1.408853e+18   \n",
       "\n",
       "  Referenced Tweet Author ID  \\\n",
       "0               2.195296e+07   \n",
       "1               9.273397e+17   \n",
       "2               1.402825e+18   \n",
       "3               1.391738e+18   \n",
       "4               1.391738e+18   \n",
       "\n",
       "                                          Media URLs             Media Keys  \n",
       "0                                                NaN                    NaN  \n",
       "1                                                NaN                    NaN  \n",
       "2  https://pbs.twimg.com/ext_tw_video_thumb/14093...  7_1409351854983725057  \n",
       "3                                                NaN                    NaN  \n",
       "4                                                NaN                    NaN  \n",
       "\n",
       "[5 rows x 24 columns]"
      ]
     },
     "execution_count": 5,
     "metadata": {},
     "output_type": "execute_result"
    }
   ],
   "source": [
    "retweets.head()"
   ]
  },
  {
   "cell_type": "code",
   "execution_count": 7,
   "metadata": {},
   "outputs": [],
   "source": [
    "# Fix data types\n",
    "retweets[\"ID\"] = retweets[\"ID\"].astype(int)\n",
    "retweets[\"Author ID\"] = retweets[\"Author ID\"].astype(int)\n",
    "retweets['Referenced Tweet Author ID'] = retweets['Referenced Tweet Author ID'].astype(int)\n",
    "retweets['Referenced Tweet'] = retweets['Referenced Tweet'].astype(int)\n",
    "\n",
    "# Remove time from retweets date\n",
    "retweets[\"Date\"] = pd.to_datetime(retweets[\"Date\"]).dt.date"
   ]
  },
  {
   "cell_type": "code",
   "execution_count": 8,
   "metadata": {},
   "outputs": [
    {
     "name": "stdout",
     "output_type": "stream",
     "text": [
      "Faltan clasificar 587246 usuarios\n"
     ]
    }
   ],
   "source": [
    "# Import political labelling dictionary\n",
    "user_to_party_paro = pd.read_pickle(\"/mnt/disk2/Data/Pickle/user_to_party_paro.pkl\")\n",
    "\n",
    "ids_faltantes1 = set(retweets[\"Author ID\"]) - set(user_to_party_paro.keys())\n",
    "ids_faltantes2 = set(retweets[\"Referenced Tweet Author ID\"]) - set(user_to_party_paro.keys())\n",
    "ids_faltantes = np.concatenate((list(ids_faltantes1), list(ids_faltantes2)))\n",
    "print(f\"Faltan clasificar {len(np.unique(ids_faltantes))} usuarios\")\n",
    "\n",
    "# Los dejamos como inclasificados \n",
    "for usuario in ids_faltantes:\n",
    "    user_to_party_paro[usuario] = np.nan"
   ]
  },
  {
   "cell_type": "markdown",
   "metadata": {},
   "source": [
    "### Create Source-Target DataFrame"
   ]
  },
  {
   "cell_type": "code",
   "execution_count": 9,
   "metadata": {},
   "outputs": [],
   "source": [
    "save_path = \"../../Data/Daily_graphs\""
   ]
  },
  {
   "cell_type": "code",
   "execution_count": 17,
   "metadata": {},
   "outputs": [
    {
     "name": "stdout",
     "output_type": "stream",
     "text": [
      "We have retweets from 2021-04-28 to 2021-06-29\n"
     ]
    }
   ],
   "source": [
    "fecha_min = retweets[\"Date\"].min()\n",
    "fecha_max = retweets[\"Date\"].max()\n",
    "print(f\"We have retweets from {fecha_min.strftime('%Y-%m-%d')} to {fecha_max.strftime('%Y-%m-%d')}\")\n",
    "daily_grid = pd.date_range(start = fecha_min, end = fecha_max, freq = 'D')"
   ]
  },
  {
   "cell_type": "code",
   "execution_count": 11,
   "metadata": {},
   "outputs": [],
   "source": [
    "users_information = pd.read_pickle(\"../../../Data/Tweets_DataFrames/users_information.gzip\", compression = \"gzip\")"
   ]
  },
  {
   "cell_type": "code",
   "execution_count": 12,
   "metadata": {},
   "outputs": [
    {
     "data": {
      "text/html": [
       "<div>\n",
       "<style scoped>\n",
       "    .dataframe tbody tr th:only-of-type {\n",
       "        vertical-align: middle;\n",
       "    }\n",
       "\n",
       "    .dataframe tbody tr th {\n",
       "        vertical-align: top;\n",
       "    }\n",
       "\n",
       "    .dataframe thead th {\n",
       "        text-align: right;\n",
       "    }\n",
       "</style>\n",
       "<table border=\"1\" class=\"dataframe\">\n",
       "  <thead>\n",
       "    <tr style=\"text-align: right;\">\n",
       "      <th></th>\n",
       "      <th></th>\n",
       "      <th>Author Location</th>\n",
       "      <th>Author Description</th>\n",
       "      <th>Author Followers</th>\n",
       "      <th>Author Following</th>\n",
       "      <th>Author Tweets</th>\n",
       "      <th>Author Verified</th>\n",
       "    </tr>\n",
       "    <tr>\n",
       "      <th>Author ID</th>\n",
       "      <th>Author Name</th>\n",
       "      <th></th>\n",
       "      <th></th>\n",
       "      <th></th>\n",
       "      <th></th>\n",
       "      <th></th>\n",
       "      <th></th>\n",
       "    </tr>\n",
       "  </thead>\n",
       "  <tbody>\n",
       "    <tr>\n",
       "      <th>0.000000e+00</th>\n",
       "      <th>0</th>\n",
       "      <td>True, False, True, False</td>\n",
       "      <td>nan, equidad_mujer, mariumega, PattyRosi24</td>\n",
       "      <td>NaN</td>\n",
       "      <td>1.384355e+18</td>\n",
       "      <td>NaN</td>\n",
       "      <td>nan, https://pbs.twimg.com/media/E2C38-kXEAIkE...</td>\n",
       "    </tr>\n",
       "    <tr>\n",
       "      <th>1.000000e+00</th>\n",
       "      <th>0</th>\n",
       "      <td>False</td>\n",
       "      <td>nan, equidad_mujer</td>\n",
       "      <td>NaN</td>\n",
       "      <td>1.398276e+18</td>\n",
       "      <td>NaN</td>\n",
       "      <td>nan, https://pbs.twimg.com/media/E19UAtWXsAYjz...</td>\n",
       "    </tr>\n",
       "    <tr>\n",
       "      <th>2.000000e+00</th>\n",
       "      <th>0</th>\n",
       "      <td>False</td>\n",
       "      <td>nan, estoacaquees, thearchipielago, equidad_mu...</td>\n",
       "      <td>NaN</td>\n",
       "      <td>1.396578e+18</td>\n",
       "      <td>NaN</td>\n",
       "      <td>https://pbs.twimg.com/ext_tw_video_thumb/14011...</td>\n",
       "    </tr>\n",
       "    <tr>\n",
       "      <th rowspan=\"2\" valign=\"top\">3.000000e+00</th>\n",
       "      <th>0</th>\n",
       "      <td>False, True</td>\n",
       "      <td>MinTransporteCo, nan, Supertransporte</td>\n",
       "      <td>NaN</td>\n",
       "      <td>1.396701e+18</td>\n",
       "      <td>NaN</td>\n",
       "      <td>https://pbs.twimg.com/media/E0ysfTuWUAUo8by.jp...</td>\n",
       "    </tr>\n",
       "    <tr>\n",
       "      <th>1</th>\n",
       "      <td>False</td>\n",
       "      <td>nan</td>\n",
       "      <td>NaN</td>\n",
       "      <td>NaN</td>\n",
       "      <td>NaN</td>\n",
       "      <td>https://pbs.twimg.com/media/E1dlhtaXEAYTwol.jpg</td>\n",
       "    </tr>\n",
       "    <tr>\n",
       "      <th>...</th>\n",
       "      <th>...</th>\n",
       "      <td>...</td>\n",
       "      <td>...</td>\n",
       "      <td>...</td>\n",
       "      <td>...</td>\n",
       "      <td>...</td>\n",
       "      <td>...</td>\n",
       "    </tr>\n",
       "    <tr>\n",
       "      <th>1.389722e+18</th>\n",
       "      <th>Neoplasticista</th>\n",
       "      <td>Colombia</td>\n",
       "      <td>Arquitecto. Contra Corriente.</td>\n",
       "      <td>91.0</td>\n",
       "      <td>4.980000e+02</td>\n",
       "      <td>3534.0</td>\n",
       "      <td>False</td>\n",
       "    </tr>\n",
       "    <tr>\n",
       "      <th>1.389737e+18</th>\n",
       "      <th>JC13177979</th>\n",
       "      <td>Bogotá, D.C., Colombia</td>\n",
       "      <td>Aunque nadie ha podido regresar y hacer un nue...</td>\n",
       "      <td>94.0</td>\n",
       "      <td>1.780000e+02</td>\n",
       "      <td>7083.0</td>\n",
       "      <td>False</td>\n",
       "    </tr>\n",
       "    <tr>\n",
       "      <th>1.389741e+18</th>\n",
       "      <th>JhonatanVRojo</th>\n",
       "      <td>Medellín, Colombia</td>\n",
       "      <td>El mundo es más que blanco &amp; negro.</td>\n",
       "      <td>103.0</td>\n",
       "      <td>4.270000e+02</td>\n",
       "      <td>1257.0</td>\n",
       "      <td>False</td>\n",
       "    </tr>\n",
       "    <tr>\n",
       "      <th>1.389769e+18</th>\n",
       "      <th>VaneLen18</th>\n",
       "      <td>Colombia</td>\n",
       "      <td>nan</td>\n",
       "      <td>8.0</td>\n",
       "      <td>9.300000e+01</td>\n",
       "      <td>1179.0</td>\n",
       "      <td>False</td>\n",
       "    </tr>\n",
       "    <tr>\n",
       "      <th>1.389784e+18</th>\n",
       "      <th>kars0518</th>\n",
       "      <td>COL.</td>\n",
       "      <td>nan</td>\n",
       "      <td>53.0</td>\n",
       "      <td>8.700000e+01</td>\n",
       "      <td>768.0</td>\n",
       "      <td>False</td>\n",
       "    </tr>\n",
       "  </tbody>\n",
       "</table>\n",
       "<p>37344 rows × 6 columns</p>\n",
       "</div>"
      ],
      "text/plain": [
       "                                      Author Location  \\\n",
       "Author ID    Author Name                                \n",
       "0.000000e+00 0               True, False, True, False   \n",
       "1.000000e+00 0                                  False   \n",
       "2.000000e+00 0                                  False   \n",
       "3.000000e+00 0                            False, True   \n",
       "             1                                  False   \n",
       "...                                               ...   \n",
       "1.389722e+18 Neoplasticista                  Colombia   \n",
       "1.389737e+18 JC13177979        Bogotá, D.C., Colombia   \n",
       "1.389741e+18 JhonatanVRojo         Medellín, Colombia   \n",
       "1.389769e+18 VaneLen18                       Colombia   \n",
       "1.389784e+18 kars0518                            COL.   \n",
       "\n",
       "                                                            Author Description  \\\n",
       "Author ID    Author Name                                                         \n",
       "0.000000e+00 0                      nan, equidad_mujer, mariumega, PattyRosi24   \n",
       "1.000000e+00 0                                              nan, equidad_mujer   \n",
       "2.000000e+00 0               nan, estoacaquees, thearchipielago, equidad_mu...   \n",
       "3.000000e+00 0                           MinTransporteCo, nan, Supertransporte   \n",
       "             1                                                             nan   \n",
       "...                                                                        ...   \n",
       "1.389722e+18 Neoplasticista                      Arquitecto. Contra Corriente.   \n",
       "1.389737e+18 JC13177979      Aunque nadie ha podido regresar y hacer un nue...   \n",
       "1.389741e+18 JhonatanVRojo                 El mundo es más que blanco & negro.   \n",
       "1.389769e+18 VaneLen18                                                     nan   \n",
       "1.389784e+18 kars0518                                                      nan   \n",
       "\n",
       "                             Author Followers  Author Following  \\\n",
       "Author ID    Author Name                                          \n",
       "0.000000e+00 0                            NaN      1.384355e+18   \n",
       "1.000000e+00 0                            NaN      1.398276e+18   \n",
       "2.000000e+00 0                            NaN      1.396578e+18   \n",
       "3.000000e+00 0                            NaN      1.396701e+18   \n",
       "             1                            NaN               NaN   \n",
       "...                                       ...               ...   \n",
       "1.389722e+18 Neoplasticista              91.0      4.980000e+02   \n",
       "1.389737e+18 JC13177979                  94.0      1.780000e+02   \n",
       "1.389741e+18 JhonatanVRojo              103.0      4.270000e+02   \n",
       "1.389769e+18 VaneLen18                    8.0      9.300000e+01   \n",
       "1.389784e+18 kars0518                    53.0      8.700000e+01   \n",
       "\n",
       "                             Author Tweets  \\\n",
       "Author ID    Author Name                     \n",
       "0.000000e+00 0                         NaN   \n",
       "1.000000e+00 0                         NaN   \n",
       "2.000000e+00 0                         NaN   \n",
       "3.000000e+00 0                         NaN   \n",
       "             1                         NaN   \n",
       "...                                    ...   \n",
       "1.389722e+18 Neoplasticista         3534.0   \n",
       "1.389737e+18 JC13177979             7083.0   \n",
       "1.389741e+18 JhonatanVRojo          1257.0   \n",
       "1.389769e+18 VaneLen18              1179.0   \n",
       "1.389784e+18 kars0518                768.0   \n",
       "\n",
       "                                                               Author Verified  \n",
       "Author ID    Author Name                                                        \n",
       "0.000000e+00 0               nan, https://pbs.twimg.com/media/E2C38-kXEAIkE...  \n",
       "1.000000e+00 0               nan, https://pbs.twimg.com/media/E19UAtWXsAYjz...  \n",
       "2.000000e+00 0               https://pbs.twimg.com/ext_tw_video_thumb/14011...  \n",
       "3.000000e+00 0               https://pbs.twimg.com/media/E0ysfTuWUAUo8by.jp...  \n",
       "             1                 https://pbs.twimg.com/media/E1dlhtaXEAYTwol.jpg  \n",
       "...                                                                        ...  \n",
       "1.389722e+18 Neoplasticista                                              False  \n",
       "1.389737e+18 JC13177979                                                  False  \n",
       "1.389741e+18 JhonatanVRojo                                               False  \n",
       "1.389769e+18 VaneLen18                                                   False  \n",
       "1.389784e+18 kars0518                                                    False  \n",
       "\n",
       "[37344 rows x 6 columns]"
      ]
     },
     "execution_count": 12,
     "metadata": {},
     "output_type": "execute_result"
    }
   ],
   "source": [
    "users_information"
   ]
  },
  {
   "cell_type": "code",
   "execution_count": 30,
   "metadata": {},
   "outputs": [],
   "source": [
    "# Label Referenced Tweet Author\n",
    "retweets = users_information.reset_index()[[\"Author ID\", \"Author Name\"]] \\\n",
    "    .rename(columns = {\"Author ID\": \"Referenced Tweet Author ID\", \n",
    "                       \"Author Name\": \"Referenced Tweet Author Name\"}) \\\n",
    "                       .merge(retweets, how = \"right\", on = \"Referenced Tweet Author ID\")"
   ]
  },
  {
   "cell_type": "code",
   "execution_count": 31,
   "metadata": {},
   "outputs": [
    {
     "data": {
      "text/html": [
       "<div>\n",
       "<style scoped>\n",
       "    .dataframe tbody tr th:only-of-type {\n",
       "        vertical-align: middle;\n",
       "    }\n",
       "\n",
       "    .dataframe tbody tr th {\n",
       "        vertical-align: top;\n",
       "    }\n",
       "\n",
       "    .dataframe thead th {\n",
       "        text-align: right;\n",
       "    }\n",
       "</style>\n",
       "<table border=\"1\" class=\"dataframe\">\n",
       "  <thead>\n",
       "    <tr style=\"text-align: right;\">\n",
       "      <th></th>\n",
       "      <th>Referenced Tweet Author ID</th>\n",
       "      <th>Referenced Tweet Author Name</th>\n",
       "      <th>ID</th>\n",
       "      <th>Permalink</th>\n",
       "      <th>Author ID</th>\n",
       "      <th>Author Name</th>\n",
       "      <th>Author Location</th>\n",
       "      <th>Author Description</th>\n",
       "      <th>Author Followers</th>\n",
       "      <th>Author Following</th>\n",
       "      <th>...</th>\n",
       "      <th>Replies</th>\n",
       "      <th>Retweets</th>\n",
       "      <th>Favorites</th>\n",
       "      <th>Quotes</th>\n",
       "      <th>is Retweet?</th>\n",
       "      <th>Reply To User Name</th>\n",
       "      <th>Mentions</th>\n",
       "      <th>Referenced Tweet</th>\n",
       "      <th>Media URLs</th>\n",
       "      <th>Media Keys</th>\n",
       "    </tr>\n",
       "  </thead>\n",
       "  <tbody>\n",
       "    <tr>\n",
       "      <th>0</th>\n",
       "      <td>2.195296e+07</td>\n",
       "      <td>NaN</td>\n",
       "      <td>1409944432011628544</td>\n",
       "      <td>/wilman_86/status/1409944432011628548</td>\n",
       "      <td>325932532</td>\n",
       "      <td>wilman_86</td>\n",
       "      <td>Colombia</td>\n",
       "      <td>Gregario del día a día. El mas combativo en lo...</td>\n",
       "      <td>609.0</td>\n",
       "      <td>1139.0</td>\n",
       "      <td>...</td>\n",
       "      <td>0.0</td>\n",
       "      <td>131.0</td>\n",
       "      <td>0.0</td>\n",
       "      <td>0.0</td>\n",
       "      <td>True</td>\n",
       "      <td>NaN</td>\n",
       "      <td>udsnoexisten</td>\n",
       "      <td>1409942622140088320</td>\n",
       "      <td>NaN</td>\n",
       "      <td>NaN</td>\n",
       "    </tr>\n",
       "    <tr>\n",
       "      <th>1</th>\n",
       "      <td>9.273397e+17</td>\n",
       "      <td>charlasamenas63</td>\n",
       "      <td>1409725681546760192</td>\n",
       "      <td>/wilman_86/status/1409725681546760200</td>\n",
       "      <td>325932532</td>\n",
       "      <td>wilman_86</td>\n",
       "      <td>Colombia</td>\n",
       "      <td>Gregario del día a día. El mas combativo en lo...</td>\n",
       "      <td>609.0</td>\n",
       "      <td>1139.0</td>\n",
       "      <td>...</td>\n",
       "      <td>0.0</td>\n",
       "      <td>1.0</td>\n",
       "      <td>0.0</td>\n",
       "      <td>0.0</td>\n",
       "      <td>True</td>\n",
       "      <td>NaN</td>\n",
       "      <td>charlasamenas63</td>\n",
       "      <td>1409725505893457920</td>\n",
       "      <td>NaN</td>\n",
       "      <td>NaN</td>\n",
       "    </tr>\n",
       "    <tr>\n",
       "      <th>2</th>\n",
       "      <td>1.402825e+18</td>\n",
       "      <td>NaN</td>\n",
       "      <td>1409498069096353792</td>\n",
       "      <td>/wilman_86/status/1409498069096353800</td>\n",
       "      <td>325932532</td>\n",
       "      <td>wilman_86</td>\n",
       "      <td>Colombia</td>\n",
       "      <td>Gregario del día a día. El mas combativo en lo...</td>\n",
       "      <td>609.0</td>\n",
       "      <td>1139.0</td>\n",
       "      <td>...</td>\n",
       "      <td>0.0</td>\n",
       "      <td>1.0</td>\n",
       "      <td>0.0</td>\n",
       "      <td>0.0</td>\n",
       "      <td>True</td>\n",
       "      <td>NaN</td>\n",
       "      <td>elyrxc</td>\n",
       "      <td>1409351876420771840</td>\n",
       "      <td>https://pbs.twimg.com/ext_tw_video_thumb/14093...</td>\n",
       "      <td>7_1409351854983725057</td>\n",
       "    </tr>\n",
       "    <tr>\n",
       "      <th>3</th>\n",
       "      <td>1.391738e+18</td>\n",
       "      <td>NaN</td>\n",
       "      <td>1409265731489964032</td>\n",
       "      <td>/wilman_86/status/1409265731489964032</td>\n",
       "      <td>325932532</td>\n",
       "      <td>wilman_86</td>\n",
       "      <td>Colombia</td>\n",
       "      <td>Gregario del día a día. El mas combativo en lo...</td>\n",
       "      <td>609.0</td>\n",
       "      <td>1139.0</td>\n",
       "      <td>...</td>\n",
       "      <td>0.0</td>\n",
       "      <td>84.0</td>\n",
       "      <td>0.0</td>\n",
       "      <td>0.0</td>\n",
       "      <td>True</td>\n",
       "      <td>NaN</td>\n",
       "      <td>Lidio_Dominante</td>\n",
       "      <td>1409202187637510144</td>\n",
       "      <td>NaN</td>\n",
       "      <td>NaN</td>\n",
       "    </tr>\n",
       "    <tr>\n",
       "      <th>4</th>\n",
       "      <td>1.391738e+18</td>\n",
       "      <td>NaN</td>\n",
       "      <td>1408904423372378112</td>\n",
       "      <td>/wilman_86/status/1408904423372378112</td>\n",
       "      <td>325932532</td>\n",
       "      <td>wilman_86</td>\n",
       "      <td>Colombia</td>\n",
       "      <td>Gregario del día a día. El mas combativo en lo...</td>\n",
       "      <td>609.0</td>\n",
       "      <td>1139.0</td>\n",
       "      <td>...</td>\n",
       "      <td>0.0</td>\n",
       "      <td>17.0</td>\n",
       "      <td>0.0</td>\n",
       "      <td>0.0</td>\n",
       "      <td>True</td>\n",
       "      <td>NaN</td>\n",
       "      <td>Lidio_Dominante</td>\n",
       "      <td>1408852871446253568</td>\n",
       "      <td>NaN</td>\n",
       "      <td>NaN</td>\n",
       "    </tr>\n",
       "  </tbody>\n",
       "</table>\n",
       "<p>5 rows × 25 columns</p>\n",
       "</div>"
      ],
      "text/plain": [
       "   Referenced Tweet Author ID Referenced Tweet Author Name  \\\n",
       "0                2.195296e+07                          NaN   \n",
       "1                9.273397e+17              charlasamenas63   \n",
       "2                1.402825e+18                          NaN   \n",
       "3                1.391738e+18                          NaN   \n",
       "4                1.391738e+18                          NaN   \n",
       "\n",
       "                    ID                              Permalink  Author ID  \\\n",
       "0  1409944432011628544  /wilman_86/status/1409944432011628548  325932532   \n",
       "1  1409725681546760192  /wilman_86/status/1409725681546760200  325932532   \n",
       "2  1409498069096353792  /wilman_86/status/1409498069096353800  325932532   \n",
       "3  1409265731489964032  /wilman_86/status/1409265731489964032  325932532   \n",
       "4  1408904423372378112  /wilman_86/status/1408904423372378112  325932532   \n",
       "\n",
       "  Author Name Author Location  \\\n",
       "0   wilman_86        Colombia   \n",
       "1   wilman_86        Colombia   \n",
       "2   wilman_86        Colombia   \n",
       "3   wilman_86        Colombia   \n",
       "4   wilman_86        Colombia   \n",
       "\n",
       "                                  Author Description  Author Followers  \\\n",
       "0  Gregario del día a día. El mas combativo en lo...             609.0   \n",
       "1  Gregario del día a día. El mas combativo en lo...             609.0   \n",
       "2  Gregario del día a día. El mas combativo en lo...             609.0   \n",
       "3  Gregario del día a día. El mas combativo en lo...             609.0   \n",
       "4  Gregario del día a día. El mas combativo en lo...             609.0   \n",
       "\n",
       "   Author Following  ...  Replies Retweets Favorites Quotes is Retweet?  \\\n",
       "0            1139.0  ...      0.0    131.0       0.0    0.0        True   \n",
       "1            1139.0  ...      0.0      1.0       0.0    0.0        True   \n",
       "2            1139.0  ...      0.0      1.0       0.0    0.0        True   \n",
       "3            1139.0  ...      0.0     84.0       0.0    0.0        True   \n",
       "4            1139.0  ...      0.0     17.0       0.0    0.0        True   \n",
       "\n",
       "   Reply To User Name          Mentions     Referenced Tweet  \\\n",
       "0                 NaN      udsnoexisten  1409942622140088320   \n",
       "1                 NaN   charlasamenas63  1409725505893457920   \n",
       "2                 NaN            elyrxc  1409351876420771840   \n",
       "3                 NaN   Lidio_Dominante  1409202187637510144   \n",
       "4                 NaN   Lidio_Dominante  1408852871446253568   \n",
       "\n",
       "                                          Media URLs             Media Keys  \n",
       "0                                                NaN                    NaN  \n",
       "1                                                NaN                    NaN  \n",
       "2  https://pbs.twimg.com/ext_tw_video_thumb/14093...  7_1409351854983725057  \n",
       "3                                                NaN                    NaN  \n",
       "4                                                NaN                    NaN  \n",
       "\n",
       "[5 rows x 25 columns]"
      ]
     },
     "execution_count": 31,
     "metadata": {},
     "output_type": "execute_result"
    }
   ],
   "source": [
    "retweets.head()"
   ]
  },
  {
   "cell_type": "code",
   "execution_count": 33,
   "metadata": {},
   "outputs": [
    {
     "data": {
      "text/plain": [
       "Referenced Tweet Author ID           0\n",
       "Referenced Tweet Author Name    587246\n",
       "dtype: int64"
      ]
     },
     "execution_count": 33,
     "metadata": {},
     "output_type": "execute_result"
    }
   ],
   "source": [
    "# Users without name\n",
    "retweets.iloc[:, 0:2].drop_duplicates().isna().sum()"
   ]
  },
  {
   "cell_type": "code",
   "execution_count": 46,
   "metadata": {},
   "outputs": [
    {
     "name": "stderr",
     "output_type": "stream",
     "text": [
      "100%|██████████| 63/63 [03:11<00:00,  3.04s/it]\n"
     ]
    }
   ],
   "source": [
    "for d in tqdm(daily_grid):\n",
    "    # Select the retweets from the desired date\n",
    "    temp = retweets[retweets['Date'] == d.date()]\n",
    "    temp = temp.groupby([\"Author ID\", \"Author Name\", \"Date\", \"Referenced Tweet Author ID\", \"Referenced Tweet Author Name\"]).size().reset_index(name = \"w\")\n",
    "    temp.columns = [\"source\", \"source_label\", \"date\", \"target\", \"target_label\", \"w\"]\n",
    "    # Assign political affiliation\n",
    "    temp[\"source_political_afilliation\"] = temp[\"source\"].apply(lambda x: user_to_party_paro[x])\n",
    "    temp[\"target_political_afilliation\"] = temp[\"target\"].apply(lambda x: user_to_party_paro[x])\n",
    "    # Save results as csv\n",
    "    temp.to_csv(os.path.join(save_path, \"Source-Target\", str(d.date()) + \".csv\"), index = False, sep = \";\")"
   ]
  },
  {
   "cell_type": "markdown",
   "metadata": {},
   "source": [
    "### Create networks"
   ]
  },
  {
   "cell_type": "code",
   "execution_count": 54,
   "metadata": {},
   "outputs": [
    {
     "data": {
      "text/plain": [
       "624358"
      ]
     },
     "execution_count": 54,
     "metadata": {},
     "output_type": "execute_result"
    }
   ],
   "source": [
    "# Node list\n",
    "nodes_id = list(set(retweets[\"Author ID\"]).union(set(retweets[\"Referenced Tweet Author ID\"])))\n",
    "len(nodes_id)"
   ]
  },
  {
   "cell_type": "code",
   "execution_count": 55,
   "metadata": {},
   "outputs": [
    {
     "data": {
      "text/plain": [
       "(37344, 6)"
      ]
     },
     "execution_count": 55,
     "metadata": {},
     "output_type": "execute_result"
    }
   ],
   "source": [
    "users_information.shape"
   ]
  },
  {
   "cell_type": "code",
   "execution_count": 72,
   "metadata": {},
   "outputs": [],
   "source": [
    "users_information = users_information.reset_index()"
   ]
  },
  {
   "cell_type": "code",
   "execution_count": 207,
   "metadata": {},
   "outputs": [
    {
     "name": "stderr",
     "output_type": "stream",
     "text": [
      "  0%|          | 0/624358 [00:00<?, ?it/s]"
     ]
    },
    {
     "name": "stderr",
     "output_type": "stream",
     "text": [
      "100%|██████████| 624358/624358 [00:01<00:00, 429591.22it/s]\n"
     ]
    }
   ],
   "source": [
    "# Convert users_information DataFrame to a dictionary for fast lookup\n",
    "users_info_dict = users_information.set_index('Author ID')['Author Name'].to_dict()\n",
    "\n",
    "nodes_label = []\n",
    "nodes_political_affilitation = []\n",
    "for i in tqdm(nodes_id):\n",
    "    # Assign label\n",
    "    label = users_info_dict.get(i, np.nan) # using .get() for safe dictionary lookup\n",
    "    nodes_label.append(label)\n",
    "\n",
    "    # Assign Political Affiliation\n",
    "    pa = user_to_party_paro.get(i, np.nan) # using .get() for safe dictionary lookup\n",
    "    nodes_political_affilitation.append(pa)\n",
    "\n",
    "num_nodes = len(nodes_id)\n",
    "nodes_idx = [i for i in range(num_nodes)]\n",
    "\n",
    "# Create dictionary\n",
    "nodes_dict = {\n",
    "    'id': nodes_id,\n",
    "    'idx': nodes_idx,\n",
    "    'label': nodes_label,\n",
    "    'pa': nodes_political_affilitation\n",
    "}\n",
    "\n",
    "# Save as pickle\n",
    "with open(\"../../../Data/Daily_graphs/nodes_dict.pkl\", \"wb\") as f:\n",
    "    pickle.dump(nodes_dict, f)"
   ]
  },
  {
   "cell_type": "code",
   "execution_count": 215,
   "metadata": {},
   "outputs": [
    {
     "name": "stderr",
     "output_type": "stream",
     "text": [
      " 33%|███▎      | 21/63 [19:38<36:55, 52.75s/it]"
     ]
    }
   ],
   "source": [
    "# Create a dictionary for O(1) lookup time of indices\n",
    "id_to_idx = {node_id: idx for idx, node_id in enumerate(nodes_dict['id'])}\n",
    "\n",
    "for d in tqdm(daily_grid):\n",
    "    # Filter retweets first\n",
    "    filtered_retweets = retweets[retweets['Date'] == d.date()]\n",
    "    \n",
    "    # Create weights\n",
    "    test = filtered_retweets.groupby(['Author ID', 'Referenced Tweet Author ID']).size().reset_index(name=\"w\")\n",
    "    \n",
    "    # Use dictionary lookups for index mappings\n",
    "    test['idx_s'] = [id_to_idx.get(x, np.nan) for x in test['Author ID']]\n",
    "    test['idx_t'] = [id_to_idx.get(x, np.nan) for x in test['Referenced Tweet Author ID']]\n",
    "    \n",
    "    # The edge list should be based on the idx of the nodes and include weights\n",
    "    edges_list_with_weights = list(zip(test['idx_s'].dropna().astype(int), test['idx_t'].dropna().astype(int), test['w']))\n",
    "    \n",
    "    # Create graph\n",
    "    g = gt.Graph(directed=True)\n",
    "    g.add_vertex(num_nodes)\n",
    "    \n",
    "    # Node attributes\n",
    "    node_id = g.new_vertex_property(\"string\", vals=nodes_dict['id'])\n",
    "    node_label = g.new_vertex_property(\"string\", vals=nodes_dict['label'])\n",
    "    node_affiliation = g.new_vertex_property(\"string\", vals=nodes_dict['pa'])\n",
    "    \n",
    "    # Assign attributes to graph\n",
    "    g.vertex_properties[\"ID\"] = node_id\n",
    "    g.vertex_properties[\"Label\"] = node_label\n",
    "    g.vertex_properties[\"Political Affiliation\"] = node_affiliation\n",
    "    \n",
    "    # Edge weight attribute\n",
    "    edge_weights = g.new_edge_property(\"int\")\n",
    "    \n",
    "    # Add edges and assign weights\n",
    "    for source, target, weight in edges_list_with_weights:\n",
    "        e = g.add_edge(source, target)\n",
    "        edge_weights[e] = weight\n",
    "\n",
    "    g.edge_properties[\"weight\"] = edge_weights\n",
    "    \n",
    "    g.save(os.path.join(save_path, str(d.date()) + \".graphml\"))"
   ]
  },
  {
   "cell_type": "code",
   "execution_count": null,
   "metadata": {},
   "outputs": [
    {
     "name": "stdout",
     "output_type": "stream",
     "text": [
      "<Graph object, directed, with 624358 vertices and 460845 edges, 3 internal vertex properties, at 0x7f08b17f8150>\n",
      "113246190\n",
      "renlopezs\n",
      "Retweets Centro\n"
     ]
    }
   ],
   "source": [
    "print(g)\n",
    "print(g.vp[\"ID\"][624353])\n",
    "print(g.vp[\"Label\"][624353])\n",
    "print(g.vp[\"Political Affiliation\"][624353])"
   ]
  }
 ],
 "metadata": {
  "kernelspec": {
   "display_name": "Python 3",
   "language": "python",
   "name": "python3"
  },
  "language_info": {
   "codemirror_mode": {
    "name": "ipython",
    "version": 3
   },
   "file_extension": ".py",
   "mimetype": "text/x-python",
   "name": "python",
   "nbconvert_exporter": "python",
   "pygments_lexer": "ipython3",
   "version": "3.11.5"
  },
  "orig_nbformat": 4
 },
 "nbformat": 4,
 "nbformat_minor": 2
}
