{
 "cells": [
  {
   "cell_type": "markdown",
   "metadata": {},
   "source": [
    "# Retweets Networks"
   ]
  },
  {
   "cell_type": "markdown",
   "metadata": {},
   "source": [
    "In this notebook, we create a daily retweet network. First, we transform our dataset into a Source-Target DataFrame. Afterward, we construct a `graph-tool` object.\n",
    "\n",
    "We have 45,330,718 Tweets from 37330 from which 30,918,011 are ReTweets"
   ]
  },
  {
   "cell_type": "code",
   "execution_count": 1,
   "metadata": {},
   "outputs": [
    {
     "name": "stderr",
     "output_type": "stream",
     "text": [
      "/mnt/disk2/anaconda3/envs/gt_global/lib/python3.11/site-packages/graph_tool/draw/cairo_draw.py:1544: RuntimeWarning: Error importing Gtk module: ; GTK+ drawing will not work.\n",
      "  warnings.warn(msg, RuntimeWarning)\n"
     ]
    }
   ],
   "source": [
    "import pandas as pd\n",
    "import numpy as np\n",
    "import pickle\n",
    "import os\n",
    "from tqdm import tqdm\n",
    "import graph_tool.all as gt\n",
    "import glob"
   ]
  },
  {
   "cell_type": "markdown",
   "metadata": {},
   "source": [
    "## Retweet network with a 3-day rolling window"
   ]
  },
  {
   "cell_type": "code",
   "execution_count": 2,
   "metadata": {},
   "outputs": [],
   "source": [
    "save_path = \"../../../Data/3_Day_Graphs\""
   ]
  },
  {
   "cell_type": "code",
   "execution_count": 3,
   "metadata": {},
   "outputs": [
    {
     "name": "stdout",
     "output_type": "stream",
     "text": [
      "Cantidad de filas (Tweets): 45,330,718. Cantidad de Columnas: 4\n",
      "Total usuarios: 5,759,089\n"
     ]
    },
    {
     "data": {
      "text/html": [
       "<div>\n",
       "<style scoped>\n",
       "    .dataframe tbody tr th:only-of-type {\n",
       "        vertical-align: middle;\n",
       "    }\n",
       "\n",
       "    .dataframe tbody tr th {\n",
       "        vertical-align: top;\n",
       "    }\n",
       "\n",
       "    .dataframe thead th {\n",
       "        text-align: right;\n",
       "    }\n",
       "</style>\n",
       "<table border=\"1\" class=\"dataframe\">\n",
       "  <thead>\n",
       "    <tr style=\"text-align: right;\">\n",
       "      <th></th>\n",
       "      <th>Author ID</th>\n",
       "      <th>Date</th>\n",
       "      <th>Reference Type</th>\n",
       "      <th>Referenced Tweet Author ID</th>\n",
       "    </tr>\n",
       "  </thead>\n",
       "  <tbody>\n",
       "    <tr>\n",
       "      <th>0</th>\n",
       "      <td>9.180596e+17</td>\n",
       "      <td>2021/06/29 23:37:59</td>\n",
       "      <td>retweeted</td>\n",
       "      <td>1.419439e+08</td>\n",
       "    </tr>\n",
       "    <tr>\n",
       "      <th>1</th>\n",
       "      <td>9.180596e+17</td>\n",
       "      <td>2021/06/29 23:37:16</td>\n",
       "      <td>retweeted</td>\n",
       "      <td>8.628063e+17</td>\n",
       "    </tr>\n",
       "    <tr>\n",
       "      <th>2</th>\n",
       "      <td>9.180596e+17</td>\n",
       "      <td>2021/06/29 23:31:36</td>\n",
       "      <td>retweeted</td>\n",
       "      <td>1.402301e+18</td>\n",
       "    </tr>\n",
       "    <tr>\n",
       "      <th>3</th>\n",
       "      <td>9.180596e+17</td>\n",
       "      <td>2021/06/29 23:30:41</td>\n",
       "      <td>retweeted</td>\n",
       "      <td>3.824198e+08</td>\n",
       "    </tr>\n",
       "    <tr>\n",
       "      <th>4</th>\n",
       "      <td>9.180596e+17</td>\n",
       "      <td>2021/06/29 23:29:39</td>\n",
       "      <td>retweeted</td>\n",
       "      <td>1.483430e+07</td>\n",
       "    </tr>\n",
       "  </tbody>\n",
       "</table>\n",
       "</div>"
      ],
      "text/plain": [
       "      Author ID                 Date Reference Type  \\\n",
       "0  9.180596e+17  2021/06/29 23:37:59      retweeted   \n",
       "1  9.180596e+17  2021/06/29 23:37:16      retweeted   \n",
       "2  9.180596e+17  2021/06/29 23:31:36      retweeted   \n",
       "3  9.180596e+17  2021/06/29 23:30:41      retweeted   \n",
       "4  9.180596e+17  2021/06/29 23:29:39      retweeted   \n",
       "\n",
       "   Referenced Tweet Author ID  \n",
       "0                1.419439e+08  \n",
       "1                8.628063e+17  \n",
       "2                1.402301e+18  \n",
       "3                3.824198e+08  \n",
       "4                1.483430e+07  "
      ]
     },
     "execution_count": 3,
     "metadata": {},
     "output_type": "execute_result"
    }
   ],
   "source": [
    "tweets = pd.read_pickle('../../../Data/Tweets_DataFrames/tweets_lite.gzip', compression='gzip')\n",
    "print(f'Cantidad de filas (Tweets): {tweets.shape[0]:,}. Cantidad de Columnas: {tweets.shape[1]:,}')\n",
    "print('Total usuarios: ' + f\"{len(set(tweets['Author ID']).union(set(tweets['Referenced Tweet Author ID']))):,}\")\n",
    "tweets.head()"
   ]
  },
  {
   "cell_type": "code",
   "execution_count": 4,
   "metadata": {},
   "outputs": [
    {
     "name": "stdout",
     "output_type": "stream",
     "text": [
      "Tenemos: 30,918,011 Retweets y 624,358 Usario con Rts o Retwiteados\n"
     ]
    },
    {
     "data": {
      "text/html": [
       "<div>\n",
       "<style scoped>\n",
       "    .dataframe tbody tr th:only-of-type {\n",
       "        vertical-align: middle;\n",
       "    }\n",
       "\n",
       "    .dataframe tbody tr th {\n",
       "        vertical-align: top;\n",
       "    }\n",
       "\n",
       "    .dataframe thead th {\n",
       "        text-align: right;\n",
       "    }\n",
       "</style>\n",
       "<table border=\"1\" class=\"dataframe\">\n",
       "  <thead>\n",
       "    <tr style=\"text-align: right;\">\n",
       "      <th></th>\n",
       "      <th>Author ID</th>\n",
       "      <th>Date</th>\n",
       "      <th>Referenced Tweet Author ID</th>\n",
       "    </tr>\n",
       "  </thead>\n",
       "  <tbody>\n",
       "    <tr>\n",
       "      <th>0</th>\n",
       "      <td>373097280.0</td>\n",
       "      <td>2021-06-09</td>\n",
       "      <td>12.0</td>\n",
       "    </tr>\n",
       "    <tr>\n",
       "      <th>1</th>\n",
       "      <td>411495598.0</td>\n",
       "      <td>2021-06-10</td>\n",
       "      <td>12.0</td>\n",
       "    </tr>\n",
       "    <tr>\n",
       "      <th>2</th>\n",
       "      <td>411495598.0</td>\n",
       "      <td>2021-06-10</td>\n",
       "      <td>12.0</td>\n",
       "    </tr>\n",
       "    <tr>\n",
       "      <th>3</th>\n",
       "      <td>94589151.0</td>\n",
       "      <td>2021-06-04</td>\n",
       "      <td>12.0</td>\n",
       "    </tr>\n",
       "    <tr>\n",
       "      <th>4</th>\n",
       "      <td>36158466.0</td>\n",
       "      <td>2021-06-04</td>\n",
       "      <td>12.0</td>\n",
       "    </tr>\n",
       "  </tbody>\n",
       "</table>\n",
       "</div>"
      ],
      "text/plain": [
       "     Author ID        Date  Referenced Tweet Author ID\n",
       "0  373097280.0  2021-06-09                        12.0\n",
       "1  411495598.0  2021-06-10                        12.0\n",
       "2  411495598.0  2021-06-10                        12.0\n",
       "3   94589151.0  2021-06-04                        12.0\n",
       "4   36158466.0  2021-06-04                        12.0"
      ]
     },
     "execution_count": 4,
     "metadata": {},
     "output_type": "execute_result"
    }
   ],
   "source": [
    "# We will just get the Retweets\n",
    "retweets_total = tweets[tweets['Reference Type'] == 'retweeted']\n",
    "retweets_total = retweets_total.drop(columns=['Reference Type'])\n",
    "retweets_total[\"Date\"] = pd.to_datetime(retweets_total[\"Date\"]).dt.date\n",
    "retweets_total = retweets_total.sort_values('Referenced Tweet Author ID').reset_index(drop = True)\n",
    "\n",
    "users = set(retweets_total['Author ID']).union(set(retweets_total['Referenced Tweet Author ID']))\n",
    "print(f'Tenemos: {retweets_total.shape[0]:,} Retweets y {len(users):,} Usario con Rts o Retwiteados')\n",
    "del tweets, users\n",
    "\n",
    "# This will be our Sorce-Target List. Will include the weights of each tweets\n",
    "retweets_total.head()"
   ]
  },
  {
   "cell_type": "code",
   "execution_count": 5,
   "metadata": {},
   "outputs": [
    {
     "name": "stdout",
     "output_type": "stream",
     "text": [
      "Faltan clasificar 587,246 usuarios\n"
     ]
    },
    {
     "data": {
      "text/plain": [
       "Political Affiliation\n",
       "NaN            587246\n",
       "Izquierda       23138\n",
       "Derecha          6812\n",
       "No Retweets      3844\n",
       "Centro           3543\n",
       "Name: count, dtype: int64"
      ]
     },
     "execution_count": 5,
     "metadata": {},
     "output_type": "execute_result"
    }
   ],
   "source": [
    "# Import political labelling dictionary\n",
    "user_to_party_paro = pd.read_pickle(\"../../../Data/Pickle/user_to_party_paro.pkl\")\n",
    "\n",
    "ids_faltantes1 = set(retweets_total[\"Author ID\"]) - set(user_to_party_paro.keys())\n",
    "ids_faltantes2 = set(retweets_total[\"Referenced Tweet Author ID\"]) - set(user_to_party_paro.keys())\n",
    "ids_faltantes = np.concatenate((list(ids_faltantes1), list(ids_faltantes2)))\n",
    "print(f\"Faltan clasificar {len(np.unique(ids_faltantes)):,} usuarios\")\n",
    "\n",
    "# Los dejamos como inclasificados \n",
    "for usuario in ids_faltantes:\n",
    "    user_to_party_paro[usuario] = np.nan\n",
    "\n",
    "affilliation_df = pd.DataFrame(list(user_to_party_paro.items()), columns=['User ID', 'Political Affiliation'])\n",
    "affilliation_df['Political Affiliation'].value_counts(dropna=False)"
   ]
  },
  {
   "cell_type": "code",
   "execution_count": 6,
   "metadata": {},
   "outputs": [
    {
     "data": {
      "text/html": [
       "<div>\n",
       "<style scoped>\n",
       "    .dataframe tbody tr th:only-of-type {\n",
       "        vertical-align: middle;\n",
       "    }\n",
       "\n",
       "    .dataframe tbody tr th {\n",
       "        vertical-align: top;\n",
       "    }\n",
       "\n",
       "    .dataframe thead th {\n",
       "        text-align: right;\n",
       "    }\n",
       "</style>\n",
       "<table border=\"1\" class=\"dataframe\">\n",
       "  <thead>\n",
       "    <tr style=\"text-align: right;\">\n",
       "      <th></th>\n",
       "      <th>ID</th>\n",
       "      <th>Label</th>\n",
       "      <th>Political Affiliation</th>\n",
       "      <th>Color</th>\n",
       "    </tr>\n",
       "  </thead>\n",
       "  <tbody>\n",
       "    <tr>\n",
       "      <th>0</th>\n",
       "      <td>0.000000e+00</td>\n",
       "      <td>0</td>\n",
       "      <td>No Retweets</td>\n",
       "      <td>(0, 0, 0)</td>\n",
       "    </tr>\n",
       "    <tr>\n",
       "      <th>1</th>\n",
       "      <td>1.000000e+00</td>\n",
       "      <td>0</td>\n",
       "      <td>No Retweets</td>\n",
       "      <td>(0, 0, 0)</td>\n",
       "    </tr>\n",
       "    <tr>\n",
       "      <th>2</th>\n",
       "      <td>2.000000e+00</td>\n",
       "      <td>0</td>\n",
       "      <td>No Retweets</td>\n",
       "      <td>(0, 0, 0)</td>\n",
       "    </tr>\n",
       "    <tr>\n",
       "      <th>3</th>\n",
       "      <td>3.000000e+00</td>\n",
       "      <td>0</td>\n",
       "      <td>No Retweets</td>\n",
       "      <td>(0, 0, 0)</td>\n",
       "    </tr>\n",
       "    <tr>\n",
       "      <th>5</th>\n",
       "      <td>4.000000e+00</td>\n",
       "      <td>0</td>\n",
       "      <td>No Retweets</td>\n",
       "      <td>(0, 0, 0)</td>\n",
       "    </tr>\n",
       "    <tr>\n",
       "      <th>...</th>\n",
       "      <td>...</td>\n",
       "      <td>...</td>\n",
       "      <td>...</td>\n",
       "      <td>...</td>\n",
       "    </tr>\n",
       "    <tr>\n",
       "      <th>37339</th>\n",
       "      <td>1.389722e+18</td>\n",
       "      <td>Neoplasticista</td>\n",
       "      <td>Izquierda</td>\n",
       "      <td>(0, 0, 1)</td>\n",
       "    </tr>\n",
       "    <tr>\n",
       "      <th>37340</th>\n",
       "      <td>1.389737e+18</td>\n",
       "      <td>JC13177979</td>\n",
       "      <td>Derecha</td>\n",
       "      <td>(1, 0, 0)</td>\n",
       "    </tr>\n",
       "    <tr>\n",
       "      <th>37341</th>\n",
       "      <td>1.389741e+18</td>\n",
       "      <td>JhonatanVRojo</td>\n",
       "      <td>No Retweets</td>\n",
       "      <td>(0, 0, 0)</td>\n",
       "    </tr>\n",
       "    <tr>\n",
       "      <th>37342</th>\n",
       "      <td>1.389769e+18</td>\n",
       "      <td>VaneLen18</td>\n",
       "      <td>Izquierda</td>\n",
       "      <td>(0, 0, 1)</td>\n",
       "    </tr>\n",
       "    <tr>\n",
       "      <th>37343</th>\n",
       "      <td>1.389784e+18</td>\n",
       "      <td>kars0518</td>\n",
       "      <td>Izquierda</td>\n",
       "      <td>(0, 0, 1)</td>\n",
       "    </tr>\n",
       "  </tbody>\n",
       "</table>\n",
       "<p>37337 rows × 4 columns</p>\n",
       "</div>"
      ],
      "text/plain": [
       "                 ID           Label Political Affiliation      Color\n",
       "0      0.000000e+00               0           No Retweets  (0, 0, 0)\n",
       "1      1.000000e+00               0           No Retweets  (0, 0, 0)\n",
       "2      2.000000e+00               0           No Retweets  (0, 0, 0)\n",
       "3      3.000000e+00               0           No Retweets  (0, 0, 0)\n",
       "5      4.000000e+00               0           No Retweets  (0, 0, 0)\n",
       "...             ...             ...                   ...        ...\n",
       "37339  1.389722e+18  Neoplasticista             Izquierda  (0, 0, 1)\n",
       "37340  1.389737e+18      JC13177979               Derecha  (1, 0, 0)\n",
       "37341  1.389741e+18   JhonatanVRojo           No Retweets  (0, 0, 0)\n",
       "37342  1.389769e+18       VaneLen18             Izquierda  (0, 0, 1)\n",
       "37343  1.389784e+18        kars0518             Izquierda  (0, 0, 1)\n",
       "\n",
       "[37337 rows x 4 columns]"
      ]
     },
     "execution_count": 6,
     "metadata": {},
     "output_type": "execute_result"
    }
   ],
   "source": [
    "#del affilliation_df,ids_faltantes, ids_faltantes1, ids_faltantes2, usuario\n",
    "# Importamos master ids para filtrar\n",
    "# Bring Master ID file\n",
    "users_information = pd.read_pickle('/mnt/disk2/Data/Tweets_DataFrames/users_information.gzip', compression='gzip')\n",
    "master_id = users_information.reset_index()[['Author ID', 'Author Name']]\n",
    "master_id = master_id.rename(columns={\n",
    "    'Author ID': 'ID',\n",
    "    'Author Name': 'Label'\n",
    "})\n",
    "\n",
    "# dict for color\n",
    "color = {\n",
    "    'Izquierda': (0,0,1),\n",
    "    'Derecha': (1,0,0),\n",
    "    'Centro': (0,1,0),\n",
    "    'No Retweets': (0,0,0)\n",
    "}\n",
    "\n",
    "master_id['Political Affiliation'] = master_id['ID'].apply(lambda x: user_to_party_paro[x])\n",
    "master_id['Color'] = master_id['Political Affiliation'].apply(lambda x: color[x])\n",
    "master_id = master_id.drop_duplicates(subset = 'ID')\n",
    "master_id"
   ]
  },
  {
   "cell_type": "code",
   "execution_count": 7,
   "metadata": {},
   "outputs": [
    {
     "name": "stdout",
     "output_type": "stream",
     "text": [
      "Cantidad de filas (Tweets): 13,784,608. Cantidad de Columns: 9\n",
      "Tenemos: 13,784,608 Retweets y 36,964 Usuarios con Rts o Retwiteados\n"
     ]
    },
    {
     "data": {
      "text/html": [
       "<div>\n",
       "<style scoped>\n",
       "    .dataframe tbody tr th:only-of-type {\n",
       "        vertical-align: middle;\n",
       "    }\n",
       "\n",
       "    .dataframe tbody tr th {\n",
       "        vertical-align: top;\n",
       "    }\n",
       "\n",
       "    .dataframe thead th {\n",
       "        text-align: right;\n",
       "    }\n",
       "</style>\n",
       "<table border=\"1\" class=\"dataframe\">\n",
       "  <thead>\n",
       "    <tr style=\"text-align: right;\">\n",
       "      <th></th>\n",
       "      <th>Idx in Graph</th>\n",
       "      <th>ID</th>\n",
       "      <th>Label</th>\n",
       "      <th>Political Affiliation</th>\n",
       "      <th>Color</th>\n",
       "    </tr>\n",
       "  </thead>\n",
       "  <tbody>\n",
       "    <tr>\n",
       "      <th>0</th>\n",
       "      <td>14</td>\n",
       "      <td>12</td>\n",
       "      <td>0</td>\n",
       "      <td>No Retweets</td>\n",
       "      <td>(0, 0, 0)</td>\n",
       "    </tr>\n",
       "    <tr>\n",
       "      <th>1</th>\n",
       "      <td>36</td>\n",
       "      <td>12996</td>\n",
       "      <td>alerios</td>\n",
       "      <td>Izquierda</td>\n",
       "      <td>(0, 0, 1)</td>\n",
       "    </tr>\n",
       "    <tr>\n",
       "      <th>2</th>\n",
       "      <td>37</td>\n",
       "      <td>777978</td>\n",
       "      <td>ranaberden</td>\n",
       "      <td>Centro</td>\n",
       "      <td>(0, 1, 0)</td>\n",
       "    </tr>\n",
       "    <tr>\n",
       "      <th>3</th>\n",
       "      <td>38</td>\n",
       "      <td>784125</td>\n",
       "      <td>jsanti</td>\n",
       "      <td>Izquierda</td>\n",
       "      <td>(0, 0, 1)</td>\n",
       "    </tr>\n",
       "    <tr>\n",
       "      <th>4</th>\n",
       "      <td>39</td>\n",
       "      <td>1061601</td>\n",
       "      <td>thisgoblin</td>\n",
       "      <td>Izquierda</td>\n",
       "      <td>(0, 0, 1)</td>\n",
       "    </tr>\n",
       "    <tr>\n",
       "      <th>...</th>\n",
       "      <td>...</td>\n",
       "      <td>...</td>\n",
       "      <td>...</td>\n",
       "      <td>...</td>\n",
       "      <td>...</td>\n",
       "    </tr>\n",
       "    <tr>\n",
       "      <th>36959</th>\n",
       "      <td>37339</td>\n",
       "      <td>1389721694961651712</td>\n",
       "      <td>Neoplasticista</td>\n",
       "      <td>Izquierda</td>\n",
       "      <td>(0, 0, 1)</td>\n",
       "    </tr>\n",
       "    <tr>\n",
       "      <th>36960</th>\n",
       "      <td>37340</td>\n",
       "      <td>1389737202742071296</td>\n",
       "      <td>JC13177979</td>\n",
       "      <td>Derecha</td>\n",
       "      <td>(1, 0, 0)</td>\n",
       "    </tr>\n",
       "    <tr>\n",
       "      <th>36961</th>\n",
       "      <td>37341</td>\n",
       "      <td>1389741234370064384</td>\n",
       "      <td>JhonatanVRojo</td>\n",
       "      <td>No Retweets</td>\n",
       "      <td>(0, 0, 0)</td>\n",
       "    </tr>\n",
       "    <tr>\n",
       "      <th>36962</th>\n",
       "      <td>37342</td>\n",
       "      <td>1389769251704147968</td>\n",
       "      <td>VaneLen18</td>\n",
       "      <td>Izquierda</td>\n",
       "      <td>(0, 0, 1)</td>\n",
       "    </tr>\n",
       "    <tr>\n",
       "      <th>36963</th>\n",
       "      <td>37343</td>\n",
       "      <td>1389784145417678848</td>\n",
       "      <td>kars0518</td>\n",
       "      <td>Izquierda</td>\n",
       "      <td>(0, 0, 1)</td>\n",
       "    </tr>\n",
       "  </tbody>\n",
       "</table>\n",
       "<p>36964 rows × 5 columns</p>\n",
       "</div>"
      ],
      "text/plain": [
       "       Idx in Graph                   ID           Label  \\\n",
       "0                14                   12               0   \n",
       "1                36                12996         alerios   \n",
       "2                37               777978      ranaberden   \n",
       "3                38               784125          jsanti   \n",
       "4                39              1061601      thisgoblin   \n",
       "...             ...                  ...             ...   \n",
       "36959         37339  1389721694961651712  Neoplasticista   \n",
       "36960         37340  1389737202742071296      JC13177979   \n",
       "36961         37341  1389741234370064384   JhonatanVRojo   \n",
       "36962         37342  1389769251704147968       VaneLen18   \n",
       "36963         37343  1389784145417678848        kars0518   \n",
       "\n",
       "      Political Affiliation      Color  \n",
       "0               No Retweets  (0, 0, 0)  \n",
       "1                 Izquierda  (0, 0, 1)  \n",
       "2                    Centro  (0, 1, 0)  \n",
       "3                 Izquierda  (0, 0, 1)  \n",
       "4                 Izquierda  (0, 0, 1)  \n",
       "...                     ...        ...  \n",
       "36959             Izquierda  (0, 0, 1)  \n",
       "36960               Derecha  (1, 0, 0)  \n",
       "36961           No Retweets  (0, 0, 0)  \n",
       "36962             Izquierda  (0, 0, 1)  \n",
       "36963             Izquierda  (0, 0, 1)  \n",
       "\n",
       "[36964 rows x 5 columns]"
      ]
     },
     "execution_count": 7,
     "metadata": {},
     "output_type": "execute_result"
    }
   ],
   "source": [
    "# Adding Source Labels\n",
    "temp = retweets_total.merge(master_id, how = 'inner', left_on = 'Author ID', right_on='ID')\n",
    "temp = temp.rename(columns = {'Label': 'Source Label', 'Political Affiliation': 'Source PA'}).drop(columns='ID')\n",
    "\n",
    "# Adding Target Labels\n",
    "retweets = temp.merge(master_id, how = 'inner', left_on = 'Referenced Tweet Author ID', right_on='ID')\n",
    "retweets = retweets.rename(columns = {'Label': 'Target Label', 'Political Affiliation': 'Target PA'})\n",
    "retweets = retweets.drop(columns= 'ID')\n",
    "\n",
    "# Count how many tweets and users we have now\n",
    "users = list(set(retweets['Author ID']).union(set(retweets['Referenced Tweet Author ID'])))\n",
    "print(f'Cantidad de filas (Tweets): {retweets.shape[0]:,}. Cantidad de Columns: {retweets.shape[1]:,}')\n",
    "print(f'Tenemos: {retweets.shape[0]:,} Retweets y {len(users):,} Usuarios con Rts o Retwiteados')\n",
    "\n",
    "# Save this Dataframe for Nodes List\n",
    "master_id = master_id[master_id['ID'].isin(users)] # Filter in Retweets DataFrame\n",
    "master_id = master_id.astype({\n",
    "    'ID': int,\n",
    "    'Label': str,\n",
    "    'Political Affiliation': str\n",
    "}).reset_index()\n",
    "master_id = master_id.rename(columns = {'index': 'Idx in Graph'})\n",
    "\n",
    "#master_id.to_csv(os.path.join(save_path, 'Nodes' + \".csv\"), index = False, sep = \";\")\n",
    "id_to_label = master_id.set_index('ID').to_dict()['Label']\n",
    "#del temp, retweets_total, users\n",
    "master_id"
   ]
  },
  {
   "cell_type": "code",
   "execution_count": 8,
   "metadata": {},
   "outputs": [
    {
     "name": "stdout",
     "output_type": "stream",
     "text": [
      "Nodos Retweeteados por alguien pero que no Retweetean: 6,510\n",
      "Nodos que Retweetean a alguien pero no son Retweeteados: 833\n",
      "Nodos que tienen un self loop: 9\n",
      "primer nodo: 12.0 último nodo: 1.3897841454176788e+18\n",
      "Total de nodos en la muestra: 36,964\n"
     ]
    }
   ],
   "source": [
    "nodes_no_receipt = set(retweets[\"Author ID\"]) -  set(retweets[\"Referenced Tweet Author ID\"])\n",
    "nodes_no_send = set(retweets[\"Referenced Tweet Author ID\"]) - set(retweets[\"Author ID\"])\n",
    "self_loops = set(retweets[retweets['Author ID'] == retweets['Referenced Tweet Author ID']])\n",
    "\n",
    "print(f'Nodos Retweeteados por alguien pero que no Retweetean: {len(nodes_no_receipt):,}')\n",
    "print(f'Nodos que Retweetean a alguien pero no son Retweeteados: {len(nodes_no_send):,}')\n",
    "print(f'Nodos que tienen un self loop: {len(self_loops)}')\n",
    "\n",
    "print(f'primer nodo: {min(users)} último nodo: {max(users)}')\n",
    "print(f'Total de nodos en la muestra: {len(users):,}')\n",
    "\n",
    "del nodes_no_receipt, nodes_no_send, self_loops, users"
   ]
  },
  {
   "cell_type": "code",
   "execution_count": 9,
   "metadata": {},
   "outputs": [],
   "source": [
    "# Dates of the Paro Nacional\n",
    "v1_start = '2021-04-28 00:00:00'\n",
    "v1_end = '2021-06-27 00:00:00'\n",
    "date_start = pd.date_range(start = v1_start, end = v1_end, freq = 'D')\n",
    "\n",
    "del v1_end, v1_start\n",
    "\n",
    "v2_start = '2021-05-01 23:59:59'\n",
    "v2_end = '2021-06-30 23:59:59'\n",
    "date_end = pd.date_range(start = v2_start, end = v2_end, freq = 'D')\n",
    "\n",
    "del v2_start, v2_end"
   ]
  },
  {
   "cell_type": "code",
   "execution_count": 10,
   "metadata": {},
   "outputs": [
    {
     "data": {
      "text/html": [
       "<div>\n",
       "<style scoped>\n",
       "    .dataframe tbody tr th:only-of-type {\n",
       "        vertical-align: middle;\n",
       "    }\n",
       "\n",
       "    .dataframe tbody tr th {\n",
       "        vertical-align: top;\n",
       "    }\n",
       "\n",
       "    .dataframe thead th {\n",
       "        text-align: right;\n",
       "    }\n",
       "</style>\n",
       "<table border=\"1\" class=\"dataframe\">\n",
       "  <thead>\n",
       "    <tr style=\"text-align: right;\">\n",
       "      <th></th>\n",
       "      <th>index</th>\n",
       "      <th>ID</th>\n",
       "    </tr>\n",
       "  </thead>\n",
       "  <tbody>\n",
       "    <tr>\n",
       "      <th>0</th>\n",
       "      <td>0</td>\n",
       "      <td>12</td>\n",
       "    </tr>\n",
       "    <tr>\n",
       "      <th>1</th>\n",
       "      <td>1</td>\n",
       "      <td>12996</td>\n",
       "    </tr>\n",
       "    <tr>\n",
       "      <th>2</th>\n",
       "      <td>2</td>\n",
       "      <td>777978</td>\n",
       "    </tr>\n",
       "    <tr>\n",
       "      <th>3</th>\n",
       "      <td>3</td>\n",
       "      <td>784125</td>\n",
       "    </tr>\n",
       "    <tr>\n",
       "      <th>4</th>\n",
       "      <td>4</td>\n",
       "      <td>1061601</td>\n",
       "    </tr>\n",
       "    <tr>\n",
       "      <th>...</th>\n",
       "      <td>...</td>\n",
       "      <td>...</td>\n",
       "    </tr>\n",
       "    <tr>\n",
       "      <th>36959</th>\n",
       "      <td>36959</td>\n",
       "      <td>1389721694961651712</td>\n",
       "    </tr>\n",
       "    <tr>\n",
       "      <th>36960</th>\n",
       "      <td>36960</td>\n",
       "      <td>1389737202742071296</td>\n",
       "    </tr>\n",
       "    <tr>\n",
       "      <th>36961</th>\n",
       "      <td>36961</td>\n",
       "      <td>1389741234370064384</td>\n",
       "    </tr>\n",
       "    <tr>\n",
       "      <th>36962</th>\n",
       "      <td>36962</td>\n",
       "      <td>1389769251704147968</td>\n",
       "    </tr>\n",
       "    <tr>\n",
       "      <th>36963</th>\n",
       "      <td>36963</td>\n",
       "      <td>1389784145417678848</td>\n",
       "    </tr>\n",
       "  </tbody>\n",
       "</table>\n",
       "<p>36964 rows × 2 columns</p>\n",
       "</div>"
      ],
      "text/plain": [
       "       index                   ID\n",
       "0          0                   12\n",
       "1          1                12996\n",
       "2          2               777978\n",
       "3          3               784125\n",
       "4          4              1061601\n",
       "...      ...                  ...\n",
       "36959  36959  1389721694961651712\n",
       "36960  36960  1389737202742071296\n",
       "36961  36961  1389741234370064384\n",
       "36962  36962  1389769251704147968\n",
       "36963  36963  1389784145417678848\n",
       "\n",
       "[36964 rows x 2 columns]"
      ]
     },
     "execution_count": 10,
     "metadata": {},
     "output_type": "execute_result"
    }
   ],
   "source": [
    "# Open Master Index in Any case\n",
    "master_id = pd.read_csv('/mnt/disk2/Data/3_Day_Graphs/Nodes.csv', sep = ';')\n",
    "index = master_id['ID'].reset_index()\n",
    "# Useful Dicts\n",
    "idx_to_id = master_id['ID'].reset_index().to_dict()['ID']\n",
    "idx_to_pa = master_id['Political Affiliation'].reset_index().to_dict()['Political Affiliation']\n",
    "idx_to_label = master_id['Label'].reset_index().to_dict()['Label']\n",
    "\n",
    "# Dict for lookup in Graph\n",
    "id_to_idx = {id:idx for idx, id in idx_to_id.items()}\n",
    "\n",
    "# dict for color\n",
    "color = {\n",
    "    'Izquierda': (0,0,1),\n",
    "    'Derecha': (1,0,0),\n",
    "    'Centro': (0,1,0),\n",
    "    'No Retweets': (0,0,0)\n",
    "}\n",
    "index"
   ]
  },
  {
   "cell_type": "code",
   "execution_count": null,
   "metadata": {},
   "outputs": [],
   "source": [
    "# Runtime 5 minutes\n",
    "for d_s, d_e in tqdm(zip(date_start, date_end)):\n",
    "    # Get 3 days Retweets\n",
    "    window = retweets[(retweets['Date'] >= d_s.date()) & (retweets['Date'] < d_e.date())] \n",
    "\n",
    "    # Get total of Tweets during that period\n",
    "    rts_per_user= window.groupby('Author ID').size().reset_index(name = 'total')\n",
    "\n",
    "    # Create Normalize Weight\n",
    "    temp = window.groupby([\"Author ID\", \"Referenced Tweet Author ID\"]).size().reset_index(name = \"number of rts\")\n",
    "    temp = temp.merge(rts_per_user, how = 'right', on='Author ID')\n",
    "    temp['normal weight'] = temp['number of rts']/temp['total']\n",
    "    temp['normal weight'] = temp['normal weight'].round(3)\n",
    "    temp.columns = [\"Source ID\", \"Target ID\", \"Number of rts\", \"Total of rts\", \"Normal weight\"]\n",
    "\n",
    "    # Assign political affiliation\n",
    "    temp[\"source_political_afilliation\"] = temp[\"Source ID\"].apply(lambda x: user_to_party_paro[x])\n",
    "    temp[\"target_political_afilliation\"] = temp[\"Target ID\"].apply(lambda x: user_to_party_paro[x])\n",
    "    temp.dropna(subset=['target_political_afilliation', 'source_political_afilliation'], inplace=True)\n",
    "    \n",
    "    # Assign Label\n",
    "    temp['source_label'] = temp['Source ID'].apply(lambda x: id_to_label[x])\n",
    "    temp['target_label'] = temp['Target ID'].apply(lambda x: id_to_label[x])\n",
    "\n",
    "    # Add ending date\n",
    "    temp['Ending date'] = d_e.date()\n",
    "    \n",
    "    # Replace Source IDs for Indexes\n",
    "    temp = temp.merge(index, how = 'left', left_on='Source ID', right_on = 'ID')\n",
    "    temp = temp.rename(columns = {'index': 'Source Index'}).drop(columns=['ID'])\n",
    "    \n",
    "    # Replace Target IDs for Indexes\n",
    "    temp = temp.merge(index, how = 'left', left_on='Target ID', right_on = 'ID')\n",
    "    temp = temp.rename(columns = {'index': 'Target Index'}).drop(columns=['ID'])\n",
    "\n",
    "    #Adding dtypes\n",
    "    temp = temp.astype({\n",
    "        'Source ID': int,\n",
    "        'Target ID': int,\n",
    "        'Number of rts': int,\n",
    "        'Total of rts': int,\n",
    "        'Normal weight': float,\n",
    "        'Source Index': int,\n",
    "        'Target Index': int\n",
    "    })\n",
    "    temp = temp[['Source Index', 'Target Index', 'Number of rts', 'Total of rts', 'Normal weight', 'Ending date']] \n",
    "    \n",
    "    # Save results as csv\n",
    "    temp.to_csv(os.path.join(save_path, \"Source_Target\", str(d_e.date()) + \".csv\"), index = False, sep = \";\")\n",
    "\n",
    "del d_s, d_e"
   ]
  },
  {
   "cell_type": "code",
   "execution_count": null,
   "metadata": {},
   "outputs": [],
   "source": [
    "# Example of our lists\n",
    "ej_csv = pd.read_csv(save_path + '/Source_Target/2021-05-16.csv', sep = ';')\n",
    "nodes = set(set(ej_csv['Source Index'].unique()).union(set(ej_csv['Target Index'].unique())))\n",
    "print(f\" Numero de Arcos: {ej_csv.shape[0]:,}. Nodos Source: {len(ej_csv['Source Index'].unique()):,}. Nodos Target {len(ej_csv['Target Index'].unique()):,}. Total de Nodos {len(nodes):,}\")\n",
    "ej_csv.head()"
   ]
  },
  {
   "cell_type": "code",
   "execution_count": null,
   "metadata": {},
   "outputs": [],
   "source": [
    "# Open Master Index in Any case\n",
    "master_id = pd.read_csv('/mnt/disk2/Data/3_Day_Graphs/Nodes.csv', sep = ';')\n",
    "index = master_id['ID'].reset_index()\n",
    "# Useful Dicts\n",
    "idx_to_id = master_id['ID'].reset_index().to_dict()['ID']\n",
    "idx_to_pa = master_id['Political Affiliation'].reset_index().to_dict()['Political Affiliation']\n",
    "idx_to_label = master_id['Label'].reset_index().to_dict()['Label']\n",
    "\n",
    "# Dict for lookup in Graph\n",
    "id_to_idx = {id:idx for idx, id in idx_to_id.items()}"
   ]
  },
  {
   "cell_type": "code",
   "execution_count": null,
   "metadata": {},
   "outputs": [],
   "source": [
    "# Create Graph Runtime 5 minutes\n",
    "files = glob.glob('../../../Data/3_Day_Graphs/Source_Target/*.csv')\n",
    "\n",
    "for file in tqdm(files):\n",
    "    date = file.split('.')[-2].split('/')[-1]\n",
    "\n",
    "    # Initialice Directed Graph\n",
    "    g = gt.load_graph_from_csv(file,\n",
    "                               directed=True,\n",
    "                               eprop_types=['int','int',\"float\",'string'],\n",
    "                               eprop_names=['Number of rts','Total of rts', 'Normal Weights', 'Ending date'],\n",
    "                               skip_first=True,\n",
    "                               hashed=False,\n",
    "                               hash_type='int',\n",
    "                               csv_options={'delimiter': ';'})\n",
    "\n",
    "    # Create a Vertex property map for labels\n",
    "    vertex_PA_map = g.new_vertex_property('string')\n",
    "    vertex_ID_map = g.new_vertex_property('int64_t')\n",
    "    vertex_label_map = g.new_vertex_property('string')\n",
    "    vertex_color_map = g.new_vertex_property('vector<double>')\n",
    "\n",
    "    # Assign Labels to vertices using loop\n",
    "    vertex_list = g.get_vertices()\n",
    "    for v in vertex_list:\n",
    "        vertex_PA_map[v] = idx_to_pa[v]\n",
    "        vertex_ID_map[v] = idx_to_id[v]\n",
    "        vertex_label_map[v] = idx_to_label[v]\n",
    "        vertex_color_map[v] = color[idx_to_pa[v]]\n",
    "        \n",
    "    del vertex_list\n",
    "\n",
    "    # # Add properties\n",
    "    g.vp['Political Label'] = vertex_PA_map\n",
    "    g.vp['User ID'] = vertex_ID_map\n",
    "    g.vp['Label'] = vertex_label_map\n",
    "    g.vp['Color'] = vertex_color_map\n",
    "\n",
    "    # Save Graphs\n",
    "    filename = os.path.join(save_path, date + \".graphml\")\n",
    "    g.save(filename)"
   ]
  },
  {
   "cell_type": "code",
   "execution_count": null,
   "metadata": {},
   "outputs": [],
   "source": [
    "# Example of our graphs\n",
    "ej_g = gt.load_graph(save_path + f'/2021-05-28.graphml')\n",
    "ej_g"
   ]
  },
  {
   "cell_type": "code",
   "execution_count": null,
   "metadata": {},
   "outputs": [],
   "source": [
    "# Checking properties of Vertex\n",
    "test_id = 20560294\n",
    "test_idx = id_to_idx[test_id]\n",
    "print(f'Idx in Graph: {test_idx}')\n",
    "print(ej_g.vp['User ID'][test_idx])\n",
    "print(ej_g.vp['Label'][test_idx])\n",
    "print(ej_g.vp['Political Label'][test_idx])\n",
    "master_id.iloc[test_idx]"
   ]
  },
  {
   "cell_type": "code",
   "execution_count": null,
   "metadata": {},
   "outputs": [],
   "source": [
    "ej_csv = pd.read_csv(save_path + '/Source_Target/2021-05-28.csv', sep = ';')\n",
    "\n",
    "# Checking properties of Vertex\n",
    "test_id_source = 784125\n",
    "test_id_target = 110010608\n",
    "\n",
    "source_idx = id_to_idx[test_id_source]\n",
    "target_idx = id_to_idx[test_id_target]\n",
    "\n",
    "test_edge_idx = (source_idx, target_idx)\n",
    "\n",
    "print(f'Edge in Graph: {test_edge_idx}')\n",
    "print(f\"normal Weight {ej_g.ep['Normal Weights'][test_edge_idx]}\")\n",
    "print('-----------------')\n",
    "print('Value in Edge List')\n",
    "ej_csv['Normal weight'][(ej_csv['Source Index'] == source_idx) & (ej_csv['Target Index'] == target_idx)]"
   ]
  },
  {
   "cell_type": "markdown",
   "metadata": {},
   "source": [
    "## Daily retweet network (with no rolling window)"
   ]
  },
  {
   "cell_type": "code",
   "execution_count": 39,
   "metadata": {},
   "outputs": [],
   "source": [
    "save_path = \"../../../Data/Daily_graphs\""
   ]
  },
  {
   "cell_type": "code",
   "execution_count": 3,
   "metadata": {},
   "outputs": [
    {
     "data": {
      "text/plain": [
       "['/mnt/disk2/Data/Tweets_DataFrames/tweets_paro_4.gzip',\n",
       " '/mnt/disk2/Data/Tweets_DataFrames/tweets_paro_5.gzip',\n",
       " '/mnt/disk2/Data/Tweets_DataFrames/tweets_paro_3.gzip',\n",
       " '/mnt/disk2/Data/Tweets_DataFrames/tweets_paro_2.gzip',\n",
       " '/mnt/disk2/Data/Tweets_DataFrames/tweets_paro_1.gzip']"
      ]
     },
     "execution_count": 3,
     "metadata": {},
     "output_type": "execute_result"
    }
   ],
   "source": [
    "tweets_paro = glob.glob('/mnt/disk2/Data/Tweets_DataFrames/tweets_paro_*')\n",
    "tweets_paro"
   ]
  },
  {
   "cell_type": "code",
   "execution_count": 4,
   "metadata": {},
   "outputs": [
    {
     "name": "stderr",
     "output_type": "stream",
     "text": [
      "  0%|          | 0/5 [00:00<?, ?it/s]"
     ]
    },
    {
     "name": "stderr",
     "output_type": "stream",
     "text": [
      "100%|██████████| 5/5 [03:44<00:00, 44.86s/it]\n"
     ]
    },
    {
     "name": "stdout",
     "output_type": "stream",
     "text": [
      "Shape: (30918011, 24)\n"
     ]
    }
   ],
   "source": [
    "# Import the tweets from Paro but select only the retweets\n",
    "retweets = pd.DataFrame()\n",
    "for file in tqdm(tweets_paro):\n",
    "    tweets = pd.read_pickle(file, compression = \"gzip\")\n",
    "\n",
    "    # Select only retweets\n",
    "    rts = tweets.loc[tweets[\"Reference Type\"] == \"retweeted\",:].reset_index(drop = True)\n",
    "    rts = rts.drop(columns = 'Reference Type')\n",
    "    retweets = pd.concat([retweets, rts], axis = 0)\n",
    "retweets = retweets.reset_index(drop = True)\n",
    "del rts, tweets \n",
    "print('Shape:', retweets.shape)"
   ]
  },
  {
   "cell_type": "code",
   "execution_count": 5,
   "metadata": {},
   "outputs": [
    {
     "name": "stdout",
     "output_type": "stream",
     "text": [
      "Tenemos: 30,918,011 Retweets y 624,358 Usario con Rts o Retwiteados\n"
     ]
    }
   ],
   "source": [
    "users = set(retweets['Author ID']).union(set(retweets['Referenced Tweet Author ID']))\n",
    "print(f'Tenemos: {retweets.shape[0]:,} Retweets y {len(users):,} Usario con Rts o Retwiteados')"
   ]
  },
  {
   "cell_type": "code",
   "execution_count": 6,
   "metadata": {},
   "outputs": [],
   "source": [
    "# Fix data types\n",
    "retweets[\"ID\"] = retweets[\"ID\"].astype(int)\n",
    "retweets[\"Author ID\"] = retweets[\"Author ID\"].astype(int)\n",
    "retweets['Referenced Tweet Author ID'] = retweets['Referenced Tweet Author ID'].astype(int)\n",
    "retweets['Referenced Tweet'] = retweets['Referenced Tweet'].astype(int)\n",
    "\n",
    "# Remove time from retweets date\n",
    "retweets[\"Date\"] = pd.to_datetime(retweets[\"Date\"]).dt.date"
   ]
  },
  {
   "cell_type": "code",
   "execution_count": 7,
   "metadata": {},
   "outputs": [
    {
     "name": "stdout",
     "output_type": "stream",
     "text": [
      "Faltan clasificar 587,246 usuarios\n"
     ]
    }
   ],
   "source": [
    "# Filter to include users with political affiliation (with political affiliation)\n",
    "master_id = pd.read_pickle('../../../Data/Tweets_DataFrames/users_information.gzip', compression = 'gzip')\n",
    "master_id = master_id.reset_index()[['Author ID', 'Author Name']]\n",
    "master_id = master_id.drop_duplicates(subset = 'Author ID').reset_index(drop = True)\n",
    "\n",
    "# Import political labelling dictionary\n",
    "user_to_party_paro = pd.read_pickle(\"../../../Data/Pickle/user_to_party_paro.pkl\")\n",
    "\n",
    "ids_faltantes1 = set(retweets[\"Author ID\"]) - set(user_to_party_paro.keys())\n",
    "ids_faltantes2 = set(retweets[\"Referenced Tweet Author ID\"]) - set(user_to_party_paro.keys())\n",
    "ids_faltantes = np.concatenate((list(ids_faltantes1), list(ids_faltantes2)))\n",
    "print(f\"Faltan clasificar {len(np.unique(ids_faltantes)):,} usuarios\")\n",
    "\n",
    "# Users without political labelling are nans\n",
    "for usuario in ids_faltantes:\n",
    "    user_to_party_paro[usuario] = np.nan"
   ]
  },
  {
   "cell_type": "code",
   "execution_count": 10,
   "metadata": {},
   "outputs": [
    {
     "name": "stdout",
     "output_type": "stream",
     "text": [
      "Tenemos: 13,784,608 Retweets y 36,964 Usuarios con Rts o Retwiteados\n"
     ]
    }
   ],
   "source": [
    "# Filter relevant columns\n",
    "retweets = retweets[[\"ID\", \"Author ID\", \"Author Name\", 'Date', 'Referenced Tweet', 'Referenced Tweet Author ID']].reset_index(drop = True)\n",
    "\n",
    "# Add political labelling \n",
    "retweets[\"Source Label\"] = retweets[\"Author ID\"].apply(lambda x: user_to_party_paro[x])\n",
    "retweets[\"Target Label\"] = retweets[\"Referenced Tweet Author ID\"].apply(lambda x: user_to_party_paro[x])\n",
    "\n",
    "# Remove unclassified tweets (both source and target)\n",
    "retweets = retweets.dropna(subset = [\"Source Label\", \"Target Label\"]).reset_index(drop = True)\n",
    "\n",
    "# Add Referenced Author Name\n",
    "master_id.columns = [\"Referenced Tweet Author ID\", \"Referenced Tweet Author Name\"]\n",
    "retweets = retweets.merge(master_id, how = \"left\", on = \"Referenced Tweet Author ID\")\n",
    "\n",
    "users = list(set(retweets['Author ID']).union(set(retweets['Referenced Tweet Author ID'])))\n",
    "print(f'Tenemos: {retweets.shape[0]:,} Retweets y {len(users):,} Usuarios con Rts o Retwiteados')"
   ]
  },
  {
   "cell_type": "markdown",
   "metadata": {},
   "source": [
    "### Create Source-Target DataFrame"
   ]
  },
  {
   "cell_type": "code",
   "execution_count": 40,
   "metadata": {},
   "outputs": [],
   "source": [
    "save_path = \"../../../Data/Daily_graphs\""
   ]
  },
  {
   "cell_type": "code",
   "execution_count": 12,
   "metadata": {},
   "outputs": [
    {
     "name": "stdout",
     "output_type": "stream",
     "text": [
      "We have retweets from 2021-04-28 to 2021-06-29\n"
     ]
    }
   ],
   "source": [
    "fecha_min = retweets[\"Date\"].min()\n",
    "fecha_max = retweets[\"Date\"].max()\n",
    "print(f\"We have retweets from {fecha_min.strftime('%Y-%m-%d')} to {fecha_max.strftime('%Y-%m-%d')}\")\n",
    "daily_grid = pd.date_range(start = fecha_min, end = fecha_max, freq = 'D')"
   ]
  },
  {
   "cell_type": "code",
   "execution_count": 50,
   "metadata": {},
   "outputs": [
    {
     "name": "stderr",
     "output_type": "stream",
     "text": [
      "100%|██████████| 63/63 [01:47<00:00,  1.70s/it]\n"
     ]
    }
   ],
   "source": [
    "for d in tqdm(daily_grid):\n",
    "    # Select the retweets from the desired date\n",
    "    temp = retweets[retweets['Date'] == d.date()]\n",
    "    temp = temp.groupby([\"Date\", \"Author ID\", \"Author Name\", 'Source Label', \n",
    "        \"Referenced Tweet Author ID\", \"Referenced Tweet Author Name\", 'Target Label']).size().reset_index(name = \"w\")\n",
    "    temp.columns = [\"date\", \"source_id\", \"source_name\", \"source_label\",  \"target_id\", \"target_name\", \"target_label\", \"w\"]\n",
    "    temp = temp[[\"date\", \"source_id\", \"source_name\", \"source_label\", \"target_id\", \"target_name\", \"target_label\", \"w\"]]\n",
    "    # Save results as csv\n",
    "    temp.to_csv(os.path.join(save_path, \"Source-Target\", str(d.date()) + \".csv\"), index = False, sep = \";\")"
   ]
  },
  {
   "cell_type": "markdown",
   "metadata": {},
   "source": [
    "### Create networks"
   ]
  },
  {
   "cell_type": "code",
   "execution_count": 97,
   "metadata": {},
   "outputs": [
    {
     "name": "stderr",
     "output_type": "stream",
     "text": [
      "100%|██████████| 63/63 [02:26<00:00,  2.33s/it]\n"
     ]
    }
   ],
   "source": [
    "# We are not going to have nodes without links!\n",
    "# Runtime ~2m 30s\n",
    "for d in tqdm(daily_grid):\n",
    "    # Import Source-Target data frame :)\n",
    "    temp = pd.read_csv(os.path.join(save_path, \"Source-Target\", str(d.date()) + \".csv\"), sep = \";\")\n",
    "\n",
    "    # Create nodes\n",
    "    temp_s = temp[[\"source_id\", \"source_name\", \"source_label\"]]\n",
    "    temp_s.columns = [\"id\", \"name\", \"label\"]\n",
    "    temp_t = temp[[\"target_id\", \"target_name\", \"target_label\"]]\n",
    "    temp_t.columns = [\"id\", \"name\", \"label\"]\n",
    "    nodes_information = pd.concat([temp_s, temp_t], axis = 0).drop_duplicates().sort_values(by = \"id\").reset_index(drop = True).reset_index()\n",
    "    num_nodes = nodes_information.shape[0]\n",
    "\n",
    "    # Create graph\n",
    "    g = gt.Graph(directed = True)\n",
    "    g.add_vertex(num_nodes)\n",
    "\n",
    "    # Node attributes\n",
    "    node_id = g.new_vertex_property(\"string\", vals = nodes_information['id'])\n",
    "    node_name = g.new_vertex_property(\"string\", vals = nodes_information['name'])\n",
    "    node_label = g.new_vertex_property(\"string\", vals = nodes_information['label'])\n",
    "\n",
    "    # Assign attributes to graph\n",
    "    g.vertex_properties[\"ID\"] = node_id\n",
    "    g.vertex_properties[\"Name\"] = node_name\n",
    "    g.vertex_properties[\"Label\"] = node_label\n",
    "\n",
    "    # Edge list\n",
    "    id_to_idx = dict(zip(nodes_information[\"id\"], nodes_information[\"index\"]))\n",
    "    temp[\"source_idx\"] = temp[\"source_id\"].apply(lambda x: id_to_idx[x])\n",
    "    temp[\"target_idx\"] = temp[\"target_id\"].apply(lambda x: id_to_idx[x])\n",
    "    # The edge list should be based on the idx of the nodes and include weights\n",
    "    edges_list_with_weights = list(zip(temp['source_idx'].astype(int), temp['target_idx'].astype(int), temp['w']))\n",
    "\n",
    "    # Edge weight attribute\n",
    "    edge_weights = g.new_edge_property(\"int\")\n",
    "\n",
    "    # Add edges and assign weights\n",
    "    for source, target, weight in edges_list_with_weights:\n",
    "        e = g.add_edge(source, target)\n",
    "        edge_weights[e] = weight\n",
    "\n",
    "    g.edge_properties[\"weight\"] = edge_weights\n",
    "\n",
    "    g.save(os.path.join(save_path, str(d.date()) + \".graphml\"))"
   ]
  },
  {
   "cell_type": "code",
   "execution_count": 98,
   "metadata": {},
   "outputs": [
    {
     "name": "stdout",
     "output_type": "stream",
     "text": [
      "<Graph object, directed, with 19409 vertices and 101121 edges, 3 internal vertex properties, 1 internal edge property, at 0x7f803e0a4f90>\n",
      "12996\n",
      "alerios\n",
      "Izquierda\n"
     ]
    }
   ],
   "source": [
    "print(g)\n",
    "print(g.vp[\"ID\"][0])\n",
    "print(g.vp[\"Name\"][0])\n",
    "print(g.vp[\"Label\"][0])"
   ]
  }
 ],
 "metadata": {
  "kernelspec": {
   "display_name": "Python 3",
   "language": "python",
   "name": "python3"
  },
  "language_info": {
   "codemirror_mode": {
    "name": "ipython",
    "version": 3
   },
   "file_extension": ".py",
   "mimetype": "text/x-python",
   "name": "python",
   "nbconvert_exporter": "python",
   "pygments_lexer": "ipython3",
   "version": "3.11.6"
  },
  "orig_nbformat": 4
 },
 "nbformat": 4,
 "nbformat_minor": 2
}
