{
 "cells": [
  {
   "cell_type": "code",
   "execution_count": 78,
   "metadata": {},
   "outputs": [],
   "source": [
    "import os \n",
    "import pandas as pd\n",
    "import re\n",
    "from datetime import datetime\n",
    "from scipy.stats import iqr\n",
    "import numpy as np\n",
    "import matplotlib.pyplot as plt\n",
    "import seaborn as sns"
   ]
  },
  {
   "cell_type": "markdown",
   "metadata": {},
   "source": [
    "# Eventos Críticos"
   ]
  },
  {
   "cell_type": "code",
   "execution_count": 55,
   "metadata": {},
   "outputs": [],
   "source": [
    "acled = pd.read_csv(\"../../../Data/ACLED Colombia (2018-01-01-2023-10-31).csv\", sep = \";\")\n",
    "\n",
    "# Arreglamos los formatos de fecha\n",
    "acled[\"timestamp\"] = acled[\"timestamp\"].apply(lambda x: datetime.utcfromtimestamp(x))\n",
    "acled[\"event_date\"] = pd.to_datetime(acled[\"event_date\"])\n",
    "\n",
    "inter_code_dict = {1: \"State Forces\", 2: \"Rebel Groups\", 3: \"Political Militias\", 4: \"Identity Militias\", \n",
    "                   5: \"Rioters\", 6: \"Protesters\", 7: \"Civilians\", 8: \"External/Other Force\"}\n",
    "\n",
    "acled['inter1'] = acled['inter1'].map(inter_code_dict)\n",
    "\n",
    "interaction_code_dict = {10: \"SOLE STATE FORCES ACTION\", 11: \"STATE FORCES VERSUS STATE FORCES\", 12: \"STATE FORCES VERSUS REBELS\",\n",
    "                         13: \"STATE FORCES VERSUS POLITICAL MILITIA\", 14: \"STATE FORCES VERSUS IDENTITY MILITIA\", \n",
    "                         15: \"STATE FORCES VERSUS RIOTERS\", 16: \"STATE FORCES VERSUS PROTESTERS\", 17: \"STATE FORCES VERSUS CIVILIANS\",\n",
    "                         18: \"STATE FORCES VERSUS EXTERNAL/OTHER FORCES\", 20: \"SOLE REBEL ACTION\",\n",
    "                         22: \"REBELS VERSUS REBELS\", 23: \"REBELS VERSUS POLITICAL MILITIA\", 24: \"REBELS VERSUS IDENTITY MILITIA\",\n",
    "                         25: \"REBELS VERSUS RIOTERS\", 26: \"REBELS VERSUS PROTESTERS\", 27: \"REBELS VERSUS CIVILIANS\", 28: \"REBELS VERSUS OTHERS\",\n",
    "                         30: \"SOLE POLITICAL MILITIA ACTION\", 33: \"POLITICAL MILITIA VERSUS POLITICAL MILITIA\", 34: \"POLITICAL MILITIA VERSUS IDENTITY MILITIA\",\n",
    "                         35: \"POLITICAL MILITIA VERSUS RIOTERS\", 36: \"POLITICAL MILITIA VERSUS PROTESTERS\", 37: \"POLITICAL MILITIA VERSUS CIVILIANS\",\n",
    "                         38: \"POLITICAL MILITIA VERSUS OTHERS\", 40: \"SOLE IDENTITY MILITIA ACTION\", 44: \"IDENTITY MILITIA VERSUS IDENTITY MILITIA\",\n",
    "                         45: \"IDENTITY MILITIA VERSUS RIOTERS\", 46: \"IDENTITY MILITIA VERSUS PROTESTERS\", 47: \"IDENTITY MILITIA VERSUS CIVILIANS\",\n",
    "                         48: \"IDENTITY MILITIA VERSUS OTHER\", 50: \"SOLE RIOTER ACTION\", 55: \"RIOTERS VERSUS RIOTERS\", 56: \"RIOTERS VERSUS PROTESTERS\",\n",
    "                         57: \"RIOTERS VERSUS CIVILIANS\", 58: \"RIOTERS VERSUS OTHERS\", 60: \"SOLE PROTESTER ACTION\", 66: \"PROTESTERS VERSUS PROTESTERS\",\n",
    "                         67: \"PROTESTERS VERSUS CIVILIANS\", 68: \"PROTESTERS VERSUS OTHER\", 70: \"SOLE CIVILIAN ACTION\", 77: \"CIVILIANS VERSUS CIVILIANS\",\n",
    "                         78: \"OTHER ACTOR VERSUS CIVILIANS\", 80: \"SOLE OTHER ACTION\", 88: \"OTHER VERSUS OTHER\"}\n",
    "\n",
    "acled['interaction'] = acled['interaction'].map(interaction_code_dict)"
   ]
  },
  {
   "cell_type": "code",
   "execution_count": 85,
   "metadata": {},
   "outputs": [
    {
     "data": {
      "text/plain": [
       "0.0625"
      ]
     },
     "execution_count": 85,
     "metadata": {},
     "output_type": "execute_result"
    }
   ],
   "source": [
    "eventos_diarios = acled[[\"event_id_cnty\", \"event_date\"]].drop_duplicates().groupby([\"event_date\"]).size().reset_index(name = \"n\")\n",
    "\n",
    "# Filtramos fechas\n",
    "eventos_diarios = eventos_diarios.loc[eventos_diarios[\"event_date\"].between('2021-04-27', '2021-06-29')]\n",
    "\n",
    "# Vamos a encontrar número de eventos anómalos\n",
    "corte1 = eventos_diarios[\"n\"].mean() + eventos_diarios[\"n\"].std()\n",
    "(eventos_diarios[\"n\"] > corte1).mean() # 12.5%\n",
    "\n",
    "corte2 = eventos_diarios[\"n\"].mean() + 2*eventos_diarios[\"n\"].std()\n",
    "(eventos_diarios[\"n\"] > corte2).mean() # 6.25%\n",
    "\n",
    "corte3 = np.percentile(eventos_diarios[\"n\"], 75) + 1.5 * iqr(eventos_diarios[\"n\"])\n",
    "(eventos_diarios[\"n\"] > corte3).mean() # 6.25%"
   ]
  },
  {
   "cell_type": "code",
   "execution_count": 91,
   "metadata": {},
   "outputs": [
    {
     "data": {
      "text/html": [
       "<div>\n",
       "<style scoped>\n",
       "    .dataframe tbody tr th:only-of-type {\n",
       "        vertical-align: middle;\n",
       "    }\n",
       "\n",
       "    .dataframe tbody tr th {\n",
       "        vertical-align: top;\n",
       "    }\n",
       "\n",
       "    .dataframe thead th {\n",
       "        text-align: right;\n",
       "    }\n",
       "</style>\n",
       "<table border=\"1\" class=\"dataframe\">\n",
       "  <thead>\n",
       "    <tr style=\"text-align: right;\">\n",
       "      <th></th>\n",
       "      <th>event_date</th>\n",
       "      <th>n</th>\n",
       "    </tr>\n",
       "  </thead>\n",
       "  <tbody>\n",
       "    <tr>\n",
       "      <th>1208</th>\n",
       "      <td>2021-04-28</td>\n",
       "      <td>108</td>\n",
       "    </tr>\n",
       "    <tr>\n",
       "      <th>1213</th>\n",
       "      <td>2021-05-03</td>\n",
       "      <td>102</td>\n",
       "    </tr>\n",
       "    <tr>\n",
       "      <th>1214</th>\n",
       "      <td>2021-05-04</td>\n",
       "      <td>111</td>\n",
       "    </tr>\n",
       "    <tr>\n",
       "      <th>1215</th>\n",
       "      <td>2021-05-05</td>\n",
       "      <td>105</td>\n",
       "    </tr>\n",
       "    <tr>\n",
       "      <th>1217</th>\n",
       "      <td>2021-05-07</td>\n",
       "      <td>75</td>\n",
       "    </tr>\n",
       "    <tr>\n",
       "      <th>1218</th>\n",
       "      <td>2021-05-08</td>\n",
       "      <td>70</td>\n",
       "    </tr>\n",
       "    <tr>\n",
       "      <th>1222</th>\n",
       "      <td>2021-05-12</td>\n",
       "      <td>80</td>\n",
       "    </tr>\n",
       "    <tr>\n",
       "      <th>1229</th>\n",
       "      <td>2021-05-19</td>\n",
       "      <td>85</td>\n",
       "    </tr>\n",
       "  </tbody>\n",
       "</table>\n",
       "</div>"
      ],
      "text/plain": [
       "     event_date    n\n",
       "1208 2021-04-28  108\n",
       "1213 2021-05-03  102\n",
       "1214 2021-05-04  111\n",
       "1215 2021-05-05  105\n",
       "1217 2021-05-07   75\n",
       "1218 2021-05-08   70\n",
       "1222 2021-05-12   80\n",
       "1229 2021-05-19   85"
      ]
     },
     "execution_count": 91,
     "metadata": {},
     "output_type": "execute_result"
    }
   ],
   "source": [
    "eventos_diarios.loc[eventos_diarios[\"n\"] > corte1, ]"
   ]
  },
  {
   "cell_type": "code",
   "execution_count": 94,
   "metadata": {},
   "outputs": [],
   "source": [
    "serie_disorder_type = acled[[\"event_id_cnty\", \"event_date\", \"disorder_type\"]].drop_duplicates().reset_index(drop = True)\n",
    "# Tenemos entradas como \"Political violence; Demonstrations\". Queremos partir en dos estos eventos\n",
    "s = serie_disorder_type['disorder_type'].str.split('; ', expand=True).stack()\n",
    "s.index = s.index.droplevel(-1)  \n",
    "s.name = 'disorder_type'  \n",
    "# Eliminamos la columna original para cambiarla por la nueva\n",
    "del serie_disorder_type['disorder_type']\n",
    "# Se pega la columna nueva en la base original\n",
    "serie_disorder_type = serie_disorder_type.join(s)\n",
    "serie_disorder_type = serie_disorder_type.reset_index(drop=True)\n",
    "# Contamos ocurrencias\n",
    "serie_disorder_type = serie_disorder_type.groupby([\"event_date\", \"disorder_type\"]).size().reset_index(name = \"n\")\n",
    "# Filtramos fechas\n",
    "serie_disorder_type = serie_disorder_type.loc[serie_disorder_type[\"event_date\"].between('2021-04-27', '2021-06-29')]"
   ]
  },
  {
   "cell_type": "code",
   "execution_count": 103,
   "metadata": {},
   "outputs": [
    {
     "name": "stdout",
     "output_type": "stream",
     "text": [
      "0.1875\n",
      "0.015625\n",
      "0.0\n"
     ]
    },
    {
     "data": {
      "text/html": [
       "<div>\n",
       "<style scoped>\n",
       "    .dataframe tbody tr th:only-of-type {\n",
       "        vertical-align: middle;\n",
       "    }\n",
       "\n",
       "    .dataframe tbody tr th {\n",
       "        vertical-align: top;\n",
       "    }\n",
       "\n",
       "    .dataframe thead th {\n",
       "        text-align: right;\n",
       "    }\n",
       "</style>\n",
       "<table border=\"1\" class=\"dataframe\">\n",
       "  <thead>\n",
       "    <tr style=\"text-align: right;\">\n",
       "      <th></th>\n",
       "      <th>event_date</th>\n",
       "      <th>disorder_type</th>\n",
       "      <th>n</th>\n",
       "    </tr>\n",
       "  </thead>\n",
       "  <tbody>\n",
       "    <tr>\n",
       "      <th>2659</th>\n",
       "      <td>2021-05-04</td>\n",
       "      <td>Political violence</td>\n",
       "      <td>15</td>\n",
       "    </tr>\n",
       "  </tbody>\n",
       "</table>\n",
       "</div>"
      ],
      "text/plain": [
       "     event_date       disorder_type   n\n",
       "2659 2021-05-04  Political violence  15"
      ]
     },
     "execution_count": 103,
     "metadata": {},
     "output_type": "execute_result"
    }
   ],
   "source": [
    "serie_disorder_type2 = serie_disorder_type[serie_disorder_type[\"disorder_type\"] == \"Political violence\"]\n",
    "\n",
    "# Vamos a encontrar número de eventos anómalos\n",
    "corte1 = serie_disorder_type2[\"n\"].mean() + serie_disorder_type2[\"n\"].std()\n",
    "print((serie_disorder_type2[\"n\"] > corte1).mean()) # 18.75%\n",
    "\n",
    "corte2 = serie_disorder_type2[\"n\"].mean() + 2*serie_disorder_type2[\"n\"].std()\n",
    "print((serie_disorder_type2[\"n\"] > corte2).mean()) # 1.56%\n",
    "\n",
    "corte3 = np.percentile(serie_disorder_type2[\"n\"], 75) + 1.5 * iqr(serie_disorder_type2[\"n\"])\n",
    "print((serie_disorder_type2[\"n\"] > corte3).mean()) # 0.0%\n",
    "\n",
    "serie_disorder_type2.loc[serie_disorder_type2[\"n\"] > corte2, ]"
   ]
  },
  {
   "cell_type": "code",
   "execution_count": 107,
   "metadata": {},
   "outputs": [],
   "source": [
    "serie_event_type = acled[[\"event_id_cnty\", \"event_date\", \"event_type\"]].drop_duplicates() \\\n",
    "    .groupby([\"event_date\", \"event_type\"]).size().reset_index(name = \"n\")\n",
    "# Filtramos fechas\n",
    "serie_event_type = serie_event_type.loc[serie_event_type[\"event_date\"].between('2021-04-27', '2021-06-29')]\n",
    "\n",
    "serie_sub_event_type = acled[[\"event_id_cnty\", \"event_date\", \"sub_event_type\"]].drop_duplicates() \\\n",
    "    .groupby([\"event_date\", \"sub_event_type\"]).size().reset_index(name = \"n\")\n",
    "# Filtramos fechas\n",
    "serie_sub_event_type = serie_sub_event_type.loc[serie_sub_event_type[\"event_date\"].between('2021-04-27', '2021-06-29')]"
   ]
  },
  {
   "cell_type": "code",
   "execution_count": 114,
   "metadata": {},
   "outputs": [
    {
     "name": "stdout",
     "output_type": "stream",
     "text": [
      "0.2222222222222222\n",
      "0.015873015873015872\n",
      "0.015873015873015872\n"
     ]
    },
    {
     "data": {
      "text/html": [
       "<div>\n",
       "<style scoped>\n",
       "    .dataframe tbody tr th:only-of-type {\n",
       "        vertical-align: middle;\n",
       "    }\n",
       "\n",
       "    .dataframe tbody tr th {\n",
       "        vertical-align: top;\n",
       "    }\n",
       "\n",
       "    .dataframe thead th {\n",
       "        text-align: right;\n",
       "    }\n",
       "</style>\n",
       "<table border=\"1\" class=\"dataframe\">\n",
       "  <thead>\n",
       "    <tr style=\"text-align: right;\">\n",
       "      <th></th>\n",
       "      <th>event_date</th>\n",
       "      <th>event_type</th>\n",
       "      <th>n</th>\n",
       "    </tr>\n",
       "  </thead>\n",
       "  <tbody>\n",
       "    <tr>\n",
       "      <th>4306</th>\n",
       "      <td>2021-05-04</td>\n",
       "      <td>Violence against civilians</td>\n",
       "      <td>9</td>\n",
       "    </tr>\n",
       "    <tr>\n",
       "      <th>4331</th>\n",
       "      <td>2021-05-09</td>\n",
       "      <td>Violence against civilians</td>\n",
       "      <td>9</td>\n",
       "    </tr>\n",
       "    <tr>\n",
       "      <th>4336</th>\n",
       "      <td>2021-05-10</td>\n",
       "      <td>Violence against civilians</td>\n",
       "      <td>7</td>\n",
       "    </tr>\n",
       "    <tr>\n",
       "      <th>4362</th>\n",
       "      <td>2021-05-15</td>\n",
       "      <td>Violence against civilians</td>\n",
       "      <td>7</td>\n",
       "    </tr>\n",
       "    <tr>\n",
       "      <th>4383</th>\n",
       "      <td>2021-05-19</td>\n",
       "      <td>Violence against civilians</td>\n",
       "      <td>7</td>\n",
       "    </tr>\n",
       "    <tr>\n",
       "      <th>4405</th>\n",
       "      <td>2021-05-23</td>\n",
       "      <td>Violence against civilians</td>\n",
       "      <td>8</td>\n",
       "    </tr>\n",
       "    <tr>\n",
       "      <th>4410</th>\n",
       "      <td>2021-05-24</td>\n",
       "      <td>Violence against civilians</td>\n",
       "      <td>7</td>\n",
       "    </tr>\n",
       "    <tr>\n",
       "      <th>4424</th>\n",
       "      <td>2021-05-27</td>\n",
       "      <td>Violence against civilians</td>\n",
       "      <td>7</td>\n",
       "    </tr>\n",
       "    <tr>\n",
       "      <th>4456</th>\n",
       "      <td>2021-06-02</td>\n",
       "      <td>Violence against civilians</td>\n",
       "      <td>7</td>\n",
       "    </tr>\n",
       "    <tr>\n",
       "      <th>4536</th>\n",
       "      <td>2021-06-20</td>\n",
       "      <td>Violence against civilians</td>\n",
       "      <td>11</td>\n",
       "    </tr>\n",
       "    <tr>\n",
       "      <th>4546</th>\n",
       "      <td>2021-06-22</td>\n",
       "      <td>Violence against civilians</td>\n",
       "      <td>7</td>\n",
       "    </tr>\n",
       "    <tr>\n",
       "      <th>4555</th>\n",
       "      <td>2021-06-24</td>\n",
       "      <td>Violence against civilians</td>\n",
       "      <td>8</td>\n",
       "    </tr>\n",
       "    <tr>\n",
       "      <th>4558</th>\n",
       "      <td>2021-06-25</td>\n",
       "      <td>Violence against civilians</td>\n",
       "      <td>7</td>\n",
       "    </tr>\n",
       "    <tr>\n",
       "      <th>4562</th>\n",
       "      <td>2021-06-26</td>\n",
       "      <td>Violence against civilians</td>\n",
       "      <td>8</td>\n",
       "    </tr>\n",
       "  </tbody>\n",
       "</table>\n",
       "</div>"
      ],
      "text/plain": [
       "     event_date                  event_type   n\n",
       "4306 2021-05-04  Violence against civilians   9\n",
       "4331 2021-05-09  Violence against civilians   9\n",
       "4336 2021-05-10  Violence against civilians   7\n",
       "4362 2021-05-15  Violence against civilians   7\n",
       "4383 2021-05-19  Violence against civilians   7\n",
       "4405 2021-05-23  Violence against civilians   8\n",
       "4410 2021-05-24  Violence against civilians   7\n",
       "4424 2021-05-27  Violence against civilians   7\n",
       "4456 2021-06-02  Violence against civilians   7\n",
       "4536 2021-06-20  Violence against civilians  11\n",
       "4546 2021-06-22  Violence against civilians   7\n",
       "4555 2021-06-24  Violence against civilians   8\n",
       "4558 2021-06-25  Violence against civilians   7\n",
       "4562 2021-06-26  Violence against civilians   8"
      ]
     },
     "execution_count": 114,
     "metadata": {},
     "output_type": "execute_result"
    }
   ],
   "source": [
    "serie_event_type2 = serie_event_type[serie_event_type[\"event_type\"] == \"Violence against civilians\"]\n",
    "\n",
    "# Vamos a encontrar número de eventos anómalos\n",
    "corte1 = serie_event_type2[\"n\"].mean() + serie_event_type2[\"n\"].std()\n",
    "print((serie_event_type2[\"n\"] > corte1).mean()) \n",
    "\n",
    "corte2 = serie_event_type2[\"n\"].mean() + 2*serie_event_type2[\"n\"].std()\n",
    "print((serie_event_type2[\"n\"] > corte2).mean()) \n",
    "\n",
    "corte3 = np.percentile(serie_event_type2[\"n\"], 75) + 1.5 * iqr(serie_event_type2[\"n\"])\n",
    "print((serie_event_type2[\"n\"] > corte3).mean())\n",
    "\n",
    "serie_event_type2.loc[serie_event_type2[\"n\"] > corte1, ]"
   ]
  },
  {
   "cell_type": "code",
   "execution_count": 120,
   "metadata": {},
   "outputs": [
    {
     "data": {
      "text/plain": [
       "sub_event_type\n",
       "Peaceful protest             1299\n",
       "Violent demonstration         343\n",
       "Attack                        274\n",
       "Armed clash                   123\n",
       "Protest with intervention      67\n",
       "Name: n, dtype: int64"
      ]
     },
     "execution_count": 120,
     "metadata": {},
     "output_type": "execute_result"
    }
   ],
   "source": [
    "serie_sub_event_type.groupby(\"sub_event_type\")[\"n\"].sum().sort_values(ascending = False).head()"
   ]
  },
  {
   "cell_type": "code",
   "execution_count": 122,
   "metadata": {},
   "outputs": [
    {
     "name": "stdout",
     "output_type": "stream",
     "text": [
      "0.1509433962264151\n",
      "0.09433962264150944\n",
      "0.03773584905660377\n"
     ]
    },
    {
     "data": {
      "text/html": [
       "<div>\n",
       "<style scoped>\n",
       "    .dataframe tbody tr th:only-of-type {\n",
       "        vertical-align: middle;\n",
       "    }\n",
       "\n",
       "    .dataframe tbody tr th {\n",
       "        vertical-align: top;\n",
       "    }\n",
       "\n",
       "    .dataframe thead th {\n",
       "        text-align: right;\n",
       "    }\n",
       "</style>\n",
       "<table border=\"1\" class=\"dataframe\">\n",
       "  <thead>\n",
       "    <tr style=\"text-align: right;\">\n",
       "      <th></th>\n",
       "      <th>event_date</th>\n",
       "      <th>sub_event_type</th>\n",
       "      <th>n</th>\n",
       "    </tr>\n",
       "  </thead>\n",
       "  <tbody>\n",
       "    <tr>\n",
       "      <th>5061</th>\n",
       "      <td>2021-05-01</td>\n",
       "      <td>Violent demonstration</td>\n",
       "      <td>18</td>\n",
       "    </tr>\n",
       "    <tr>\n",
       "      <th>5074</th>\n",
       "      <td>2021-05-03</td>\n",
       "      <td>Violent demonstration</td>\n",
       "      <td>18</td>\n",
       "    </tr>\n",
       "    <tr>\n",
       "      <th>5084</th>\n",
       "      <td>2021-05-04</td>\n",
       "      <td>Violent demonstration</td>\n",
       "      <td>23</td>\n",
       "    </tr>\n",
       "    <tr>\n",
       "      <th>5092</th>\n",
       "      <td>2021-05-05</td>\n",
       "      <td>Violent demonstration</td>\n",
       "      <td>18</td>\n",
       "    </tr>\n",
       "    <tr>\n",
       "      <th>5437</th>\n",
       "      <td>2021-06-28</td>\n",
       "      <td>Violent demonstration</td>\n",
       "      <td>21</td>\n",
       "    </tr>\n",
       "  </tbody>\n",
       "</table>\n",
       "</div>"
      ],
      "text/plain": [
       "     event_date         sub_event_type   n\n",
       "5061 2021-05-01  Violent demonstration  18\n",
       "5074 2021-05-03  Violent demonstration  18\n",
       "5084 2021-05-04  Violent demonstration  23\n",
       "5092 2021-05-05  Violent demonstration  18\n",
       "5437 2021-06-28  Violent demonstration  21"
      ]
     },
     "execution_count": 122,
     "metadata": {},
     "output_type": "execute_result"
    }
   ],
   "source": [
    "serie_sub_event_type2 = serie_sub_event_type[serie_sub_event_type[\"sub_event_type\"] == \"Violent demonstration\"]\n",
    "\n",
    "# Vamos a encontrar número de eventos anómalos\n",
    "corte1 = serie_sub_event_type2[\"n\"].mean() + serie_sub_event_type2[\"n\"].std()\n",
    "print((serie_sub_event_type2[\"n\"] > corte1).mean()) \n",
    "\n",
    "corte2 = serie_sub_event_type2[\"n\"].mean() + 2*serie_sub_event_type2[\"n\"].std()\n",
    "print((serie_sub_event_type2[\"n\"] > corte2).mean()) \n",
    "\n",
    "corte3 = np.percentile(serie_sub_event_type2[\"n\"], 75) + 1.5 * iqr(serie_sub_event_type2[\"n\"])\n",
    "print((serie_sub_event_type2[\"n\"] > corte3).mean())\n",
    "\n",
    "serie_sub_event_type2.loc[serie_sub_event_type2[\"n\"] > corte2, ]"
   ]
  },
  {
   "cell_type": "code",
   "execution_count": 123,
   "metadata": {},
   "outputs": [
    {
     "name": "stdout",
     "output_type": "stream",
     "text": [
      "0.1746031746031746\n",
      "0.031746031746031744\n",
      "0.015873015873015872\n"
     ]
    },
    {
     "data": {
      "text/html": [
       "<div>\n",
       "<style scoped>\n",
       "    .dataframe tbody tr th:only-of-type {\n",
       "        vertical-align: middle;\n",
       "    }\n",
       "\n",
       "    .dataframe tbody tr th {\n",
       "        vertical-align: top;\n",
       "    }\n",
       "\n",
       "    .dataframe thead th {\n",
       "        text-align: right;\n",
       "    }\n",
       "</style>\n",
       "<table border=\"1\" class=\"dataframe\">\n",
       "  <thead>\n",
       "    <tr style=\"text-align: right;\">\n",
       "      <th></th>\n",
       "      <th>event_date</th>\n",
       "      <th>sub_event_type</th>\n",
       "      <th>n</th>\n",
       "    </tr>\n",
       "  </thead>\n",
       "  <tbody>\n",
       "    <tr>\n",
       "      <th>5113</th>\n",
       "      <td>2021-05-09</td>\n",
       "      <td>Attack</td>\n",
       "      <td>9</td>\n",
       "    </tr>\n",
       "    <tr>\n",
       "      <th>5391</th>\n",
       "      <td>2021-06-20</td>\n",
       "      <td>Attack</td>\n",
       "      <td>11</td>\n",
       "    </tr>\n",
       "  </tbody>\n",
       "</table>\n",
       "</div>"
      ],
      "text/plain": [
       "     event_date sub_event_type   n\n",
       "5113 2021-05-09         Attack   9\n",
       "5391 2021-06-20         Attack  11"
      ]
     },
     "execution_count": 123,
     "metadata": {},
     "output_type": "execute_result"
    }
   ],
   "source": [
    "serie_sub_event_type2 = serie_sub_event_type[serie_sub_event_type[\"sub_event_type\"] == \"Attack\"]\n",
    "\n",
    "# Vamos a encontrar número de eventos anómalos\n",
    "corte1 = serie_sub_event_type2[\"n\"].mean() + serie_sub_event_type2[\"n\"].std()\n",
    "print((serie_sub_event_type2[\"n\"] > corte1).mean()) \n",
    "\n",
    "corte2 = serie_sub_event_type2[\"n\"].mean() + 2*serie_sub_event_type2[\"n\"].std()\n",
    "print((serie_sub_event_type2[\"n\"] > corte2).mean()) \n",
    "\n",
    "corte3 = np.percentile(serie_sub_event_type2[\"n\"], 75) + 1.5 * iqr(serie_sub_event_type2[\"n\"])\n",
    "print((serie_sub_event_type2[\"n\"] > corte3).mean())\n",
    "\n",
    "serie_sub_event_type2.loc[serie_sub_event_type2[\"n\"] > corte2, ]"
   ]
  },
  {
   "cell_type": "code",
   "execution_count": 125,
   "metadata": {},
   "outputs": [],
   "source": [
    "filtro = acled[\"interaction\"].isin([\"STATE FORCES VERSUS RIOTERS\", \"STATE FORCES VERSUS PROTESTERS\", \"STATE FORCES VERSUS CIVILIANS\"])\n",
    "serie_policia_civiles = acled.loc[filtro, [\"event_id_cnty\", \"event_date\", \"interaction\"]].drop_duplicates()\n",
    "serie_policia_civiles = serie_policia_civiles.groupby([\"event_date\", \"interaction\"]).size().reset_index(name = \"n\")\n",
    "# Filtramos fechas\n",
    "serie_policia_civiles = serie_policia_civiles.loc[serie_policia_civiles[\"event_date\"].between('2021-04-27', '2021-06-29')]\n",
    "eventos_diarios[\"interaction\"] = \"TOTAL\"\n",
    "serie_policia_civiles = pd.concat([serie_policia_civiles, eventos_diarios], axis = 0)"
   ]
  },
  {
   "cell_type": "code",
   "execution_count": 127,
   "metadata": {},
   "outputs": [
    {
     "name": "stdout",
     "output_type": "stream",
     "text": [
      "0.16326530612244897\n",
      "0.061224489795918366\n",
      "0.04081632653061224\n"
     ]
    },
    {
     "data": {
      "text/html": [
       "<div>\n",
       "<style scoped>\n",
       "    .dataframe tbody tr th:only-of-type {\n",
       "        vertical-align: middle;\n",
       "    }\n",
       "\n",
       "    .dataframe tbody tr th {\n",
       "        vertical-align: top;\n",
       "    }\n",
       "\n",
       "    .dataframe thead th {\n",
       "        text-align: right;\n",
       "    }\n",
       "</style>\n",
       "<table border=\"1\" class=\"dataframe\">\n",
       "  <thead>\n",
       "    <tr style=\"text-align: right;\">\n",
       "      <th></th>\n",
       "      <th>event_date</th>\n",
       "      <th>interaction</th>\n",
       "      <th>n</th>\n",
       "    </tr>\n",
       "  </thead>\n",
       "  <tbody>\n",
       "    <tr>\n",
       "      <th>418</th>\n",
       "      <td>2021-04-28</td>\n",
       "      <td>STATE FORCES VERSUS RIOTERS</td>\n",
       "      <td>14</td>\n",
       "    </tr>\n",
       "    <tr>\n",
       "      <th>432</th>\n",
       "      <td>2021-05-04</td>\n",
       "      <td>STATE FORCES VERSUS RIOTERS</td>\n",
       "      <td>16</td>\n",
       "    </tr>\n",
       "    <tr>\n",
       "      <th>512</th>\n",
       "      <td>2021-06-28</td>\n",
       "      <td>STATE FORCES VERSUS RIOTERS</td>\n",
       "      <td>18</td>\n",
       "    </tr>\n",
       "  </tbody>\n",
       "</table>\n",
       "</div>"
      ],
      "text/plain": [
       "    event_date                  interaction   n\n",
       "418 2021-04-28  STATE FORCES VERSUS RIOTERS  14\n",
       "432 2021-05-04  STATE FORCES VERSUS RIOTERS  16\n",
       "512 2021-06-28  STATE FORCES VERSUS RIOTERS  18"
      ]
     },
     "execution_count": 127,
     "metadata": {},
     "output_type": "execute_result"
    }
   ],
   "source": [
    "serie_policia_civiles2 = serie_policia_civiles[serie_policia_civiles[\"interaction\"] == \"STATE FORCES VERSUS RIOTERS\"]\n",
    "\n",
    "# Vamos a encontrar número de eventos anómalos\n",
    "corte1 = serie_policia_civiles2[\"n\"].mean() + serie_policia_civiles2[\"n\"].std()\n",
    "print((serie_policia_civiles2[\"n\"] > corte1).mean()) \n",
    "\n",
    "corte2 = serie_policia_civiles2[\"n\"].mean() + 2*serie_policia_civiles2[\"n\"].std()\n",
    "print((serie_policia_civiles2[\"n\"] > corte2).mean()) \n",
    "\n",
    "corte3 = np.percentile(serie_policia_civiles2[\"n\"], 75) + 1.5 * iqr(serie_policia_civiles2[\"n\"])\n",
    "print((serie_policia_civiles2[\"n\"] > corte3).mean())\n",
    "\n",
    "serie_policia_civiles2.loc[serie_policia_civiles2[\"n\"] > corte2, ]"
   ]
  },
  {
   "cell_type": "code",
   "execution_count": 128,
   "metadata": {},
   "outputs": [
    {
     "name": "stdout",
     "output_type": "stream",
     "text": [
      "0.15151515151515152\n",
      "0.030303030303030304\n",
      "0.030303030303030304\n"
     ]
    },
    {
     "data": {
      "text/html": [
       "<div>\n",
       "<style scoped>\n",
       "    .dataframe tbody tr th:only-of-type {\n",
       "        vertical-align: middle;\n",
       "    }\n",
       "\n",
       "    .dataframe tbody tr th {\n",
       "        vertical-align: top;\n",
       "    }\n",
       "\n",
       "    .dataframe thead th {\n",
       "        text-align: right;\n",
       "    }\n",
       "</style>\n",
       "<table border=\"1\" class=\"dataframe\">\n",
       "  <thead>\n",
       "    <tr style=\"text-align: right;\">\n",
       "      <th></th>\n",
       "      <th>event_date</th>\n",
       "      <th>interaction</th>\n",
       "      <th>n</th>\n",
       "    </tr>\n",
       "  </thead>\n",
       "  <tbody>\n",
       "    <tr>\n",
       "      <th>424</th>\n",
       "      <td>2021-05-01</td>\n",
       "      <td>STATE FORCES VERSUS PROTESTERS</td>\n",
       "      <td>9</td>\n",
       "    </tr>\n",
       "  </tbody>\n",
       "</table>\n",
       "</div>"
      ],
      "text/plain": [
       "    event_date                     interaction  n\n",
       "424 2021-05-01  STATE FORCES VERSUS PROTESTERS  9"
      ]
     },
     "execution_count": 128,
     "metadata": {},
     "output_type": "execute_result"
    }
   ],
   "source": [
    "serie_policia_civiles2 = serie_policia_civiles[serie_policia_civiles[\"interaction\"] == \"STATE FORCES VERSUS PROTESTERS\"]\n",
    "\n",
    "# Vamos a encontrar número de eventos anómalos\n",
    "corte1 = serie_policia_civiles2[\"n\"].mean() + serie_policia_civiles2[\"n\"].std()\n",
    "print((serie_policia_civiles2[\"n\"] > corte1).mean()) \n",
    "\n",
    "corte2 = serie_policia_civiles2[\"n\"].mean() + 2*serie_policia_civiles2[\"n\"].std()\n",
    "print((serie_policia_civiles2[\"n\"] > corte2).mean()) \n",
    "\n",
    "corte3 = np.percentile(serie_policia_civiles2[\"n\"], 75) + 1.5 * iqr(serie_policia_civiles2[\"n\"])\n",
    "print((serie_policia_civiles2[\"n\"] > corte3).mean())\n",
    "\n",
    "serie_policia_civiles2.loc[serie_policia_civiles2[\"n\"] > corte2, ]"
   ]
  },
  {
   "cell_type": "code",
   "execution_count": 130,
   "metadata": {},
   "outputs": [
    {
     "name": "stdout",
     "output_type": "stream",
     "text": [
      "0.0\n",
      "0.0\n",
      "0.0\n"
     ]
    },
    {
     "data": {
      "text/html": [
       "<div>\n",
       "<style scoped>\n",
       "    .dataframe tbody tr th:only-of-type {\n",
       "        vertical-align: middle;\n",
       "    }\n",
       "\n",
       "    .dataframe tbody tr th {\n",
       "        vertical-align: top;\n",
       "    }\n",
       "\n",
       "    .dataframe thead th {\n",
       "        text-align: right;\n",
       "    }\n",
       "</style>\n",
       "<table border=\"1\" class=\"dataframe\">\n",
       "  <thead>\n",
       "    <tr style=\"text-align: right;\">\n",
       "      <th></th>\n",
       "      <th>event_date</th>\n",
       "      <th>interaction</th>\n",
       "      <th>n</th>\n",
       "    </tr>\n",
       "  </thead>\n",
       "  <tbody>\n",
       "  </tbody>\n",
       "</table>\n",
       "</div>"
      ],
      "text/plain": [
       "Empty DataFrame\n",
       "Columns: [event_date, interaction, n]\n",
       "Index: []"
      ]
     },
     "execution_count": 130,
     "metadata": {},
     "output_type": "execute_result"
    }
   ],
   "source": [
    "serie_policia_civiles2 = serie_policia_civiles[serie_policia_civiles[\"interaction\"] == \"STATE FORCES VERSUS CIVILIANS\"]\n",
    "\n",
    "# Vamos a encontrar número de eventos anómalos\n",
    "corte1 = serie_policia_civiles2[\"n\"].mean() + serie_policia_civiles2[\"n\"].std()\n",
    "print((serie_policia_civiles2[\"n\"] > corte1).mean()) \n",
    "\n",
    "corte2 = serie_policia_civiles2[\"n\"].mean() + 2*serie_policia_civiles2[\"n\"].std()\n",
    "print((serie_policia_civiles2[\"n\"] > corte2).mean()) \n",
    "\n",
    "corte3 = np.percentile(serie_policia_civiles2[\"n\"], 75) + 1.5 * iqr(serie_policia_civiles2[\"n\"])\n",
    "print((serie_policia_civiles2[\"n\"] > corte3).mean())\n",
    "\n",
    "serie_policia_civiles2.loc[serie_policia_civiles2[\"n\"] > corte2, ]"
   ]
  },
  {
   "cell_type": "code",
   "execution_count": null,
   "metadata": {},
   "outputs": [],
   "source": [
    "# Línea de tiempo Indepaz https://www.indepaz.org.co/wp-content/uploads/2021/09/Linea-de-tiempo-final.pdf\n",
    "eventos = {\n",
    "    \"2021-04-28\": {\n",
    "        \"n_eventos\" 108,\n",
    "        \"descripción\": \"inicio del paro\",\n",
    "        \"muertos\": 3,\n",
    "        \"categoria\": \"global\"\n",
    "    },\n",
    "\n",
    "    \"2021-05-03\": {\n",
    "        \"n_eventos\" 102,\n",
    "        \"descripción\": \"renuncia Carrasquilla\",\n",
    "        \"muertos\": 6,\n",
    "        \"categoria\": \"global\"\n",
    "    },\n",
    "\n",
    "    \"2021-05-04\": {\n",
    "        \"n_eventos\" 111,\n",
    "        \"descripción\": \"Siloé incomunicado, sin servicio de energía e internet, segunda noche de ataque policial. El día de más violencia política\",\n",
    "        \"muertos\": 0,\n",
    "        \"categoria\": \"global\" \n",
    "    },\n",
    "\n",
    "    \"2021-05-05\": {\n",
    "        \"n_eventos\" 105,\n",
    "        \"descripción\": \"Se declara paro indefinido\",\n",
    "        \"muertos\": 0,\n",
    "        \"categoria\": \"global\" \n",
    "    },\n",
    "\n",
    "    \"2021-05-07\" {\n",
    "        \"n_eventos\" 75,\n",
    "        \"descripción\": \"Reportan 126 agresiones en contra de misiones médicas en menos de una semana.\",\n",
    "        \"muertos\": 0,\n",
    "        \"categoria\": \"global\" \n",
    "    },\n",
    "\n",
    "    \"2021-05-08\" {\n",
    "        \"n_eventos\" 70,\n",
    "        \"descripción\": \"Minga indígena captura hombre armado que disparaba a ciudadanos en Cali.\",\n",
    "        \"muertos\": 0,\n",
    "        \"categoria\": \"global\" \n",
    "    },\n",
    "\n",
    "    \"2021-05-12\" {\n",
    "        \"n_eventos\" 80,\n",
    "        \"descripción\": \"Educación gratuita para Estratos 1, 2 y 3\",\n",
    "        \"muertos\": 1,\n",
    "        \"categoria\": \"global\" \n",
    "    },\n",
    "\n",
    "    \"2021-05-19\" {\n",
    "        \"n_eventos\" 85,\n",
    "        \"descripción\": \"Gran marcha del millón\",\n",
    "        \"muertos\": 1,\n",
    "        \"categoria\": \"global\" \n",
    "    },\n",
    "\n",
    "}"
   ]
  },
  {
   "cell_type": "markdown",
   "metadata": {},
   "source": [
    "# Atención"
   ]
  },
  {
   "cell_type": "code",
   "execution_count": 5,
   "metadata": {},
   "outputs": [
    {
     "data": {
      "text/plain": [
       "['user_to_party_jan_oct.pkl',\n",
       " 'mapa.pkl',\n",
       " 'user_to_party.pkl',\n",
       " 'global_segregation_daily.pkl',\n",
       " 'rts_usuario.pkl',\n",
       " 'pos_fruchterman_reingold.pkl',\n",
       " 'users_to_date.pkl',\n",
       " 'group_segregation.pkl',\n",
       " 'individual_segregation_daily.pkl',\n",
       " 'group_segregation_3day.pkl',\n",
       " 'rts_usuario_paro.pkl',\n",
       " 'user_to_party_paro.pkl',\n",
       " 'rts_usuario_jan_oct.pkl',\n",
       " 'user_indices.pkl',\n",
       " 'global_segregation_3day.pkl',\n",
       " 'group_segregation_daily.pkl',\n",
       " 'global_segregation.pkl',\n",
       " 'individual_segregation.pkl',\n",
       " 'layout_forceatlas2.pkl']"
      ]
     },
     "execution_count": 5,
     "metadata": {},
     "output_type": "execute_result"
    }
   ],
   "source": [
    "os.listdir(\"../../../Data/Pickle\")"
   ]
  },
  {
   "cell_type": "code",
   "execution_count": 7,
   "metadata": {},
   "outputs": [],
   "source": [
    "df = pd.read_pickle(\"../../../Data/Pickle/individual_segregation_daily.pkl\")\n",
    "df = df.reset_index()"
   ]
  },
  {
   "cell_type": "code",
   "execution_count": 13,
   "metadata": {},
   "outputs": [],
   "source": [
    "df = df.melt(id_vars = [\"Node\", \"Political Label\"])"
   ]
  },
  {
   "cell_type": "code",
   "execution_count": 21,
   "metadata": {},
   "outputs": [],
   "source": [
    "df = df.pivot(index = [\"Node\", \"variable\"], columns = \"Political Label\", values = \"value\").reset_index()"
   ]
  },
  {
   "cell_type": "code",
   "execution_count": 25,
   "metadata": {},
   "outputs": [],
   "source": [
    "df.columns.name = None"
   ]
  },
  {
   "cell_type": "code",
   "execution_count": 33,
   "metadata": {},
   "outputs": [],
   "source": [
    "df[\"variable\"] = df[\"variable\"].apply(lambda x: re.match(\".* (\\d{4}-\\d{2}-\\d{2})\", x).group(1))"
   ]
  },
  {
   "cell_type": "code",
   "execution_count": 35,
   "metadata": {},
   "outputs": [],
   "source": [
    "df = df.rename(columns = {\"variable\": \"Fecha\"})"
   ]
  },
  {
   "cell_type": "code",
   "execution_count": 37,
   "metadata": {},
   "outputs": [],
   "source": [
    "df[\"Fecha\"] = pd.to_datetime(df[\"Fecha\"])"
   ]
  },
  {
   "cell_type": "code",
   "execution_count": 43,
   "metadata": {},
   "outputs": [],
   "source": [
    "df = df.sort_values(by = [\"Fecha\", \"Node\"]).reset_index(drop = True)"
   ]
  },
  {
   "cell_type": "code",
   "execution_count": 45,
   "metadata": {},
   "outputs": [
    {
     "data": {
      "text/plain": [
       "Node              0.000000\n",
       "Fecha             0.000000\n",
       "Centro            0.413759\n",
       "Derecha           0.413759\n",
       "Izquierda         0.413759\n",
       "Sin Clasificar    0.413759\n",
       "dtype: float64"
      ]
     },
     "execution_count": 45,
     "metadata": {},
     "output_type": "execute_result"
    }
   ],
   "source": [
    "df.isna().mean()"
   ]
  },
  {
   "cell_type": "code",
   "execution_count": 46,
   "metadata": {},
   "outputs": [
    {
     "data": {
      "text/html": [
       "<div>\n",
       "<style scoped>\n",
       "    .dataframe tbody tr th:only-of-type {\n",
       "        vertical-align: middle;\n",
       "    }\n",
       "\n",
       "    .dataframe tbody tr th {\n",
       "        vertical-align: top;\n",
       "    }\n",
       "\n",
       "    .dataframe thead th {\n",
       "        text-align: right;\n",
       "    }\n",
       "</style>\n",
       "<table border=\"1\" class=\"dataframe\">\n",
       "  <thead>\n",
       "    <tr style=\"text-align: right;\">\n",
       "      <th></th>\n",
       "      <th>Node</th>\n",
       "      <th>Fecha</th>\n",
       "      <th>Centro</th>\n",
       "      <th>Derecha</th>\n",
       "      <th>Izquierda</th>\n",
       "      <th>Sin Clasificar</th>\n",
       "    </tr>\n",
       "  </thead>\n",
       "  <tbody>\n",
       "    <tr>\n",
       "      <th>0</th>\n",
       "      <td>0</td>\n",
       "      <td>2021-04-28</td>\n",
       "      <td>NaN</td>\n",
       "      <td>NaN</td>\n",
       "      <td>NaN</td>\n",
       "      <td>NaN</td>\n",
       "    </tr>\n",
       "    <tr>\n",
       "      <th>1</th>\n",
       "      <td>1</td>\n",
       "      <td>2021-04-28</td>\n",
       "      <td>NaN</td>\n",
       "      <td>NaN</td>\n",
       "      <td>NaN</td>\n",
       "      <td>NaN</td>\n",
       "    </tr>\n",
       "    <tr>\n",
       "      <th>2</th>\n",
       "      <td>2</td>\n",
       "      <td>2021-04-28</td>\n",
       "      <td>0.000000</td>\n",
       "      <td>0.0</td>\n",
       "      <td>0.000000</td>\n",
       "      <td>3.939678</td>\n",
       "    </tr>\n",
       "    <tr>\n",
       "      <th>3</th>\n",
       "      <td>3</td>\n",
       "      <td>2021-04-28</td>\n",
       "      <td>0.000000</td>\n",
       "      <td>0.0</td>\n",
       "      <td>1.384536</td>\n",
       "      <td>1.313226</td>\n",
       "    </tr>\n",
       "    <tr>\n",
       "      <th>4</th>\n",
       "      <td>4</td>\n",
       "      <td>2021-04-28</td>\n",
       "      <td>0.417253</td>\n",
       "      <td>0.0</td>\n",
       "      <td>1.928461</td>\n",
       "      <td>0.140703</td>\n",
       "    </tr>\n",
       "  </tbody>\n",
       "</table>\n",
       "</div>"
      ],
      "text/plain": [
       "   Node      Fecha    Centro  Derecha  Izquierda  Sin Clasificar\n",
       "0     0 2021-04-28       NaN      NaN        NaN             NaN\n",
       "1     1 2021-04-28       NaN      NaN        NaN             NaN\n",
       "2     2 2021-04-28  0.000000      0.0   0.000000        3.939678\n",
       "3     3 2021-04-28  0.000000      0.0   1.384536        1.313226\n",
       "4     4 2021-04-28  0.417253      0.0   1.928461        0.140703"
      ]
     },
     "execution_count": 46,
     "metadata": {},
     "output_type": "execute_result"
    }
   ],
   "source": [
    "df.head()"
   ]
  }
 ],
 "metadata": {
  "kernelspec": {
   "display_name": "gt_global",
   "language": "python",
   "name": "python3"
  },
  "language_info": {
   "codemirror_mode": {
    "name": "ipython",
    "version": 3
   },
   "file_extension": ".py",
   "mimetype": "text/x-python",
   "name": "python",
   "nbconvert_exporter": "python",
   "pygments_lexer": "ipython3",
   "version": "3.11.6"
  }
 },
 "nbformat": 4,
 "nbformat_minor": 2
}
