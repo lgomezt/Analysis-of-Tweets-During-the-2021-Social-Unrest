{
 "cells": [
  {
   "cell_type": "code",
   "execution_count": 12,
   "metadata": {},
   "outputs": [],
   "source": [
    "# Mathematical and Data Managment\n",
    "import numpy as np\n",
    "import pandas as pd\n",
    "import os\n",
    "\n",
    "# Graph Managment\n",
    "import graph_tool.all as gt\n",
    "from utils import *\n",
    "\n",
    "# Data Visualization\n",
    "import seaborn as sns\n",
    "import matplotlib.pyplot as plt\n",
    "from matplotlib.ticker import FuncFormatter\n",
    "\n",
    "# Miscellaneous\n",
    "import os\n",
    "from glob import glob\n",
    "from tqdm import tqdm\n",
    "from datetime import datetime, timedelta\n",
    "import concurrent.futures\n",
    "import re"
   ]
  },
  {
   "cell_type": "code",
   "execution_count": 2,
   "metadata": {},
   "outputs": [
    {
     "data": {
      "text/plain": [
       "['Daily_graphs',\n",
       " 'ACLED Colombia (2018-01-01-2023-10-31).csv',\n",
       " 'RawData',\n",
       " 'Proximity Between Groups',\n",
       " 'Pickle',\n",
       " 'deprecated',\n",
       " 'Tweets_DataFrames',\n",
       " '3_Day_Graphs']"
      ]
     },
     "execution_count": 2,
     "metadata": {},
     "output_type": "execute_result"
    }
   ],
   "source": [
    "os.listdir('/mnt/disk2/Data/')"
   ]
  },
  {
   "cell_type": "code",
   "execution_count": 3,
   "metadata": {},
   "outputs": [],
   "source": [
    "# Load graphs\n",
    "files = glob('/mnt/disk2/Data/Daily_graphs/Graphs/*.graphml')\n",
    "files = np.sort(files)"
   ]
  },
  {
   "cell_type": "markdown",
   "metadata": {},
   "source": [
    "### Index of Proximity Between Groups\n",
    "\n",
    "$$Prox_{j\\rightarrow k}=\\frac{W_{jk}}{(T_k/\\sum_{m\\in G} T_m)}$$"
   ]
  },
  {
   "cell_type": "markdown",
   "metadata": {},
   "source": [
    "#### Measure $W_{jk}$"
   ]
  },
  {
   "cell_type": "code",
   "execution_count": null,
   "metadata": {},
   "outputs": [],
   "source": [
    "results = []\n",
    "\n",
    "for file in tqdm(files):    \n",
    "    # Importamos el grafo\n",
    "    g = gt.load_graph(file)\n",
    "    graph_date = re.search(\"(\\d{4}-\\d{2}-\\d{2})\", file).group(1)\n",
    "\n",
    "    # Número de vertices/individuos\n",
    "    n_individuos = g.num_vertices()\n",
    "    \n",
    "    # Identifica las afiliaciones políticas únicas y asigna índices\n",
    "    political_labeling = np.array([g.vp[\"Political Label\"][j] for j in range(n_individuos)]) \n",
    "    unique_affiliations = np.unique(political_labeling)\n",
    "    affiliation_to_index = {affiliation: i for i, affiliation in enumerate(unique_affiliations)}\n",
    "            \n",
    "    # Contamos el número de rts de cada individuo hacia cada afiliación política\n",
    "    # +2 es porque necesitamos una columna de mismo y otros \n",
    "    results_matrix = np.zeros((n_individuos, len(unique_affiliations) + 2))\n",
    "    for e in g.edges():\n",
    "        s = int(e.source())\n",
    "        t = int(e.target())\n",
    "        rts = g.ep['Number of rts'][e]\n",
    "        affiliation_index = affiliation_to_index[political_labeling[t]]\n",
    "        results_matrix[s, affiliation_index] += rts\n",
    "        # Si es un rt a alguien de la misma afiliación política\n",
    "        if political_labeling[s] == political_labeling[t]:\n",
    "            results_matrix[s, len(unique_affiliations)] += rts\n",
    "        # Si es un rt a alguien de diferente afiliación política\n",
    "        else:\n",
    "            results_matrix[s, len(unique_affiliations) + 1] += rts\n",
    "    \n",
    "    # Calcular la matriz normalizada como un porcentaje del total de RTs salientes por nodo\n",
    "    total_rts_por_nodo = results_matrix[:, 0:len(unique_affiliations)].sum(axis = 1, keepdims = True)\n",
    "    total_rts_por_nodo2 = total_rts_por_nodo[:, [0]*results_matrix.shape[1]]\n",
    "    # Calculamos W_jk\n",
    "    with np.errstate(divide = 'ignore', invalid = 'ignore'):\n",
    "        results_matrix_normalizada = np.divide(results_matrix, total_rts_por_nodo2)\n",
    "    # Luego, reemplaza los valores donde total_rts_por_nodo2 es 0 con NaN\n",
    "    # Esto incluye manejar divisiones 0/0 y valores/0\n",
    "    results_matrix_normalizada[total_rts_por_nodo2 == 0] = np.nan\n",
    "\n",
    "    # Construir diccionario para consolidar resultados\n",
    "    temp = {\n",
    "        \"Nodo_ID\": list(range(n_individuos)),\n",
    "        \"Political_Affiliation\": political_labeling,\n",
    "        \"Date\": graph_date,\n",
    "        \"Total_RTs\": total_rts_por_nodo.flatten()\n",
    "    }\n",
    "\n",
    "    additional_categories = np.array([\"Mismo\", \"Otros\"])\n",
    "\n",
    "    # Concatena unique_affiliations con additional_categories\n",
    "    extended_affiliations = np.concatenate((unique_affiliations, additional_categories))\n",
    "\n",
    "    # Añade las columnas de RTs por afiliación política\n",
    "    for i, affiliation in enumerate(extended_affiliations):\n",
    "        temp[f\"rts_j_{affiliation}\"] = results_matrix[:, i]\n",
    "        temp[f\"W_j_{affiliation}\"] = results_matrix_normalizada[:, i]\n",
    "\n",
    "    df_temp = pd.DataFrame(temp)\n",
    "    results.append(df_temp)\n",
    "\n",
    "W_jk = pd.concat(results, ignore_index = True)\n",
    "W_jk.to_pickle(path = f\"../../../Data/Proximity Between Groups/W_jk.gzip\", compression = \"gzip\")"
   ]
  },
  {
   "cell_type": "markdown",
   "metadata": {},
   "source": [
    "#### Denominador"
   ]
  },
  {
   "cell_type": "code",
   "execution_count": 5,
   "metadata": {},
   "outputs": [
    {
     "name": "stderr",
     "output_type": "stream",
     "text": [
      "100%|██████████| 63/63 [01:39<00:00,  1.58s/it]\n"
     ]
    }
   ],
   "source": [
    "results = []\n",
    "\n",
    "for file in tqdm(files):  \n",
    "    # Importamos el grafo\n",
    "    g = gt.load_graph(file)\n",
    "    graph_date = re.search(\"(\\d{4}-\\d{2}-\\d{2})\", file).group(1)\n",
    "\n",
    "    # Número de vertices/individuos\n",
    "    n_individuos = g.num_vertices()\n",
    "\n",
    "    # Vamos a calcular el número de tweets por día para cada afiliación política\n",
    "\n",
    "    # Identifica las afiliaciones políticas únicas y asigna índices\n",
    "    political_labeling = np.array([g.vp[\"Political Label\"][j] for j in range(n_individuos)]) \n",
    "    unique_affiliations = np.unique(political_labeling)\n",
    "    affiliation_to_index = {affiliation: i for i, affiliation in enumerate(unique_affiliations)}\n",
    "                \n",
    "    # Contamos el número de tweets de cada individuo según su afiliación política\n",
    "    # +2 es porque necesitamos una columna de mismo y otros \n",
    "    results_matrix = np.zeros(len(unique_affiliations))\n",
    "    for v in g.vertices():\n",
    "        n = g.vp[\"Tweets\"][v]\n",
    "        pl = g.vp[\"Political Label\"][v]\n",
    "        affiliation_index = affiliation_to_index[pl]\n",
    "        results_matrix[affiliation_index] += n\n",
    "\n",
    "    # Ahora calculamos el denominador para cada afiliación\n",
    "    total = results_matrix.sum()\n",
    "    denominadores = results_matrix/total\n",
    "\n",
    "\n",
    "    # Ahora vamos a construir el denominador para cada individuo\n",
    "    denominador = np.zeros((n_individuos, 2))\n",
    "    for v in g.vertices():\n",
    "        pl = g.vp[\"Political Label\"][v]\n",
    "        affiliation_index = affiliation_to_index[pl]\n",
    "        mismo = results_matrix[affiliation_index]/total\n",
    "        otros = 1 - mismo\n",
    "        denominador[int(v), :] = [mismo, otros]\n",
    "\n",
    "    # Construir diccionario para consolidar resultados\n",
    "    temp = {\n",
    "        \"Nodo_ID\": list(range(n_individuos)),\n",
    "        \"Political_Affiliation\": political_labeling,\n",
    "        \"Date\": graph_date,\n",
    "        \"Denominador Centro\": denominadores[0],\n",
    "        \"Denominador Derecha\": denominadores[1],\n",
    "        \"Denominador Izquierda\": denominadores[2],\n",
    "        \"Denominador Sin Clasificar\": denominadores[3],\n",
    "        \"Denominador Mismo\": denominador[:, 0].flatten(),\n",
    "        \"Denominador Otros\": denominador[:, 1].flatten()\n",
    "    }\n",
    "\n",
    "    df_temp = pd.DataFrame(temp)\n",
    "    results.append(df_temp)\n",
    "denominador = pd.concat(results, ignore_index = True)"
   ]
  },
  {
   "cell_type": "code",
   "execution_count": null,
   "metadata": {},
   "outputs": [],
   "source": [
    "denominador.to_pickle(path = f\"../../../Data/Proximity Between Groups/denominador.gzip\", compression = \"gzip\")"
   ]
  },
  {
   "cell_type": "markdown",
   "metadata": {},
   "source": [
    "#### Proximidad"
   ]
  },
  {
   "cell_type": "code",
   "execution_count": 6,
   "metadata": {},
   "outputs": [
    {
     "data": {
      "text/plain": [
       "(2328732, 16)"
      ]
     },
     "execution_count": 6,
     "metadata": {},
     "output_type": "execute_result"
    }
   ],
   "source": [
    "W_jk.shape"
   ]
  },
  {
   "cell_type": "code",
   "execution_count": 7,
   "metadata": {},
   "outputs": [
    {
     "data": {
      "text/plain": [
       "(2328732, 9)"
      ]
     },
     "execution_count": 7,
     "metadata": {},
     "output_type": "execute_result"
    }
   ],
   "source": [
    "denominador.shape"
   ]
  },
  {
   "cell_type": "code",
   "execution_count": 8,
   "metadata": {},
   "outputs": [
    {
     "data": {
      "text/html": [
       "<div>\n",
       "<style scoped>\n",
       "    .dataframe tbody tr th:only-of-type {\n",
       "        vertical-align: middle;\n",
       "    }\n",
       "\n",
       "    .dataframe tbody tr th {\n",
       "        vertical-align: top;\n",
       "    }\n",
       "\n",
       "    .dataframe thead th {\n",
       "        text-align: right;\n",
       "    }\n",
       "</style>\n",
       "<table border=\"1\" class=\"dataframe\">\n",
       "  <thead>\n",
       "    <tr style=\"text-align: right;\">\n",
       "      <th></th>\n",
       "      <th>Nodo_ID</th>\n",
       "      <th>Political_Affiliation</th>\n",
       "      <th>Date</th>\n",
       "      <th>Total_RTs</th>\n",
       "      <th>P_Centro</th>\n",
       "      <th>P_Derecha</th>\n",
       "      <th>P_Izquierda</th>\n",
       "      <th>P_Sin Clasificar</th>\n",
       "      <th>P_Mismo</th>\n",
       "      <th>P_Otros</th>\n",
       "    </tr>\n",
       "  </thead>\n",
       "  <tbody>\n",
       "    <tr>\n",
       "      <th>0</th>\n",
       "      <td>0</td>\n",
       "      <td>Sin Clasificar</td>\n",
       "      <td>2021-04-28</td>\n",
       "      <td>0.0</td>\n",
       "      <td>NaN</td>\n",
       "      <td>NaN</td>\n",
       "      <td>NaN</td>\n",
       "      <td>NaN</td>\n",
       "      <td>NaN</td>\n",
       "      <td>NaN</td>\n",
       "    </tr>\n",
       "    <tr>\n",
       "      <th>1</th>\n",
       "      <td>1</td>\n",
       "      <td>Izquierda</td>\n",
       "      <td>2021-04-28</td>\n",
       "      <td>0.0</td>\n",
       "      <td>NaN</td>\n",
       "      <td>NaN</td>\n",
       "      <td>NaN</td>\n",
       "      <td>NaN</td>\n",
       "      <td>NaN</td>\n",
       "      <td>NaN</td>\n",
       "    </tr>\n",
       "    <tr>\n",
       "      <th>2</th>\n",
       "      <td>2</td>\n",
       "      <td>Centro</td>\n",
       "      <td>2021-04-28</td>\n",
       "      <td>1.0</td>\n",
       "      <td>0.000000</td>\n",
       "      <td>0.0</td>\n",
       "      <td>0.000000</td>\n",
       "      <td>3.939678</td>\n",
       "      <td>0.000000</td>\n",
       "      <td>1.093606</td>\n",
       "    </tr>\n",
       "    <tr>\n",
       "      <th>3</th>\n",
       "      <td>3</td>\n",
       "      <td>Izquierda</td>\n",
       "      <td>2021-04-28</td>\n",
       "      <td>3.0</td>\n",
       "      <td>0.000000</td>\n",
       "      <td>0.0</td>\n",
       "      <td>1.384536</td>\n",
       "      <td>1.313226</td>\n",
       "      <td>1.384536</td>\n",
       "      <td>0.642891</td>\n",
       "    </tr>\n",
       "    <tr>\n",
       "      <th>4</th>\n",
       "      <td>4</td>\n",
       "      <td>Izquierda</td>\n",
       "      <td>2021-04-28</td>\n",
       "      <td>28.0</td>\n",
       "      <td>0.417253</td>\n",
       "      <td>0.0</td>\n",
       "      <td>1.928461</td>\n",
       "      <td>0.140703</td>\n",
       "      <td>1.928461</td>\n",
       "      <td>0.137762</td>\n",
       "    </tr>\n",
       "    <tr>\n",
       "      <th>...</th>\n",
       "      <td>...</td>\n",
       "      <td>...</td>\n",
       "      <td>...</td>\n",
       "      <td>...</td>\n",
       "      <td>...</td>\n",
       "      <td>...</td>\n",
       "      <td>...</td>\n",
       "      <td>...</td>\n",
       "      <td>...</td>\n",
       "      <td>...</td>\n",
       "    </tr>\n",
       "    <tr>\n",
       "      <th>2328727</th>\n",
       "      <td>36959</td>\n",
       "      <td>Izquierda</td>\n",
       "      <td>2021-06-29</td>\n",
       "      <td>3.0</td>\n",
       "      <td>0.000000</td>\n",
       "      <td>0.0</td>\n",
       "      <td>0.817408</td>\n",
       "      <td>1.959060</td>\n",
       "      <td>0.817408</td>\n",
       "      <td>1.125732</td>\n",
       "    </tr>\n",
       "    <tr>\n",
       "      <th>2328728</th>\n",
       "      <td>36960</td>\n",
       "      <td>Derecha</td>\n",
       "      <td>2021-06-29</td>\n",
       "      <td>0.0</td>\n",
       "      <td>NaN</td>\n",
       "      <td>NaN</td>\n",
       "      <td>NaN</td>\n",
       "      <td>NaN</td>\n",
       "      <td>NaN</td>\n",
       "      <td>NaN</td>\n",
       "    </tr>\n",
       "    <tr>\n",
       "      <th>2328729</th>\n",
       "      <td>36961</td>\n",
       "      <td>Sin Clasificar</td>\n",
       "      <td>2021-06-29</td>\n",
       "      <td>1.0</td>\n",
       "      <td>0.000000</td>\n",
       "      <td>0.0</td>\n",
       "      <td>0.000000</td>\n",
       "      <td>2.938590</td>\n",
       "      <td>2.938590</td>\n",
       "      <td>0.000000</td>\n",
       "    </tr>\n",
       "    <tr>\n",
       "      <th>2328730</th>\n",
       "      <td>36962</td>\n",
       "      <td>Izquierda</td>\n",
       "      <td>2021-06-29</td>\n",
       "      <td>0.0</td>\n",
       "      <td>NaN</td>\n",
       "      <td>NaN</td>\n",
       "      <td>NaN</td>\n",
       "      <td>NaN</td>\n",
       "      <td>NaN</td>\n",
       "      <td>NaN</td>\n",
       "    </tr>\n",
       "    <tr>\n",
       "      <th>2328731</th>\n",
       "      <td>36963</td>\n",
       "      <td>Izquierda</td>\n",
       "      <td>2021-06-29</td>\n",
       "      <td>0.0</td>\n",
       "      <td>NaN</td>\n",
       "      <td>NaN</td>\n",
       "      <td>NaN</td>\n",
       "      <td>NaN</td>\n",
       "      <td>NaN</td>\n",
       "      <td>NaN</td>\n",
       "    </tr>\n",
       "  </tbody>\n",
       "</table>\n",
       "<p>2328732 rows × 10 columns</p>\n",
       "</div>"
      ],
      "text/plain": [
       "         Nodo_ID Political_Affiliation        Date  Total_RTs  P_Centro  \\\n",
       "0              0        Sin Clasificar  2021-04-28        0.0       NaN   \n",
       "1              1             Izquierda  2021-04-28        0.0       NaN   \n",
       "2              2                Centro  2021-04-28        1.0  0.000000   \n",
       "3              3             Izquierda  2021-04-28        3.0  0.000000   \n",
       "4              4             Izquierda  2021-04-28       28.0  0.417253   \n",
       "...          ...                   ...         ...        ...       ...   \n",
       "2328727    36959             Izquierda  2021-06-29        3.0  0.000000   \n",
       "2328728    36960               Derecha  2021-06-29        0.0       NaN   \n",
       "2328729    36961        Sin Clasificar  2021-06-29        1.0  0.000000   \n",
       "2328730    36962             Izquierda  2021-06-29        0.0       NaN   \n",
       "2328731    36963             Izquierda  2021-06-29        0.0       NaN   \n",
       "\n",
       "         P_Derecha  P_Izquierda  P_Sin Clasificar   P_Mismo   P_Otros  \n",
       "0              NaN          NaN               NaN       NaN       NaN  \n",
       "1              NaN          NaN               NaN       NaN       NaN  \n",
       "2              0.0     0.000000          3.939678  0.000000  1.093606  \n",
       "3              0.0     1.384536          1.313226  1.384536  0.642891  \n",
       "4              0.0     1.928461          0.140703  1.928461  0.137762  \n",
       "...            ...          ...               ...       ...       ...  \n",
       "2328727        0.0     0.817408          1.959060  0.817408  1.125732  \n",
       "2328728        NaN          NaN               NaN       NaN       NaN  \n",
       "2328729        0.0     0.000000          2.938590  2.938590  0.000000  \n",
       "2328730        NaN          NaN               NaN       NaN       NaN  \n",
       "2328731        NaN          NaN               NaN       NaN       NaN  \n",
       "\n",
       "[2328732 rows x 10 columns]"
      ]
     },
     "execution_count": 8,
     "metadata": {},
     "output_type": "execute_result"
    }
   ],
   "source": [
    "num = W_jk[[\"W_j_Centro\", \"W_j_Derecha\", \"W_j_Izquierda\", \"W_j_Sin Clasificar\", \"W_j_Mismo\", \"W_j_Otros\"]].values\n",
    "dem = denominador.iloc[:, 3::].values\n",
    "proximidad = pd.DataFrame(num/dem, columns = [\"P_Centro\", \"P_Derecha\", \"P_Izquierda\", \"P_Sin Clasificar\", \"P_Mismo\", \"P_Otros\"])\n",
    "proximidad = pd.concat([W_jk.iloc[:, :4], proximidad], axis = 1)\n",
    "proximidad"
   ]
  },
  {
   "cell_type": "code",
   "execution_count": null,
   "metadata": {},
   "outputs": [],
   "source": [
    "proximidad.to_pickle(path = f\"../../../Data/Proximity Between Groups/proximidad.gzip\", compression = \"gzip\")"
   ]
  },
  {
   "cell_type": "code",
   "execution_count": 16,
   "metadata": {},
   "outputs": [],
   "source": [
    "import pandas as pd\n",
    "import graph_tool.all as gt\n",
    "proximidad = pd.read_pickle(\"../../../Data/Proximity Between Groups/proximidad.gzip\", compression='gzip')\n",
    "W_jk = pd.read_pickle(f\"../../../Data/Proximity Between Groups/W_jk.gzip\", compression = \"gzip\")\n",
    "denominador = pd.read_pickle(f\"../../../Data/Proximity Between Groups/denominador.gzip\", compression = \"gzip\")"
   ]
  },
  {
   "cell_type": "code",
   "execution_count": 17,
   "metadata": {},
   "outputs": [],
   "source": [
    "from utils.Proximity import individual_proximity_to_h, individual_proximity_to_others, at_random_scenario\n",
    "\n",
    "# Valores de prueba\n",
    "grupo = 'Izquierda'\n",
    "vertice = 3\n",
    "fecha = '2021-05-04'\n",
    "\n",
    "G = gt.load_graph(f'/mnt/disk2/Data/Daily_graphs/Graphs/starting_{fecha}.graphml')"
   ]
  },
  {
   "cell_type": "code",
   "execution_count": 18,
   "metadata": {},
   "outputs": [
    {
     "name": "stdout",
     "output_type": "stream",
     "text": [
      "Calculos Fernando\n",
      "\n",
      "Proximidad del Nodo 3 en fecha 2021-05-04 a grupo Izquierda:\n",
      "Numerador:  0.8571428571428568\n",
      "Denominador:  0.5876857957770661\n",
      "proximidad a Izquierda: 1.4585053157691206\n",
      "\n",
      "Proximidad del Nodo 3 en fecha 2021-05-04 a otros grupos\n",
      "Numerador:  0.1428571428571428\n",
      "Denominador:  0.4123142042229339\n",
      "proximidad a Otros: 0.3464764041451782\n"
     ]
    }
   ],
   "source": [
    "w_jk_grupo = individual_proximity_to_h(G,vertice,'Political Label',grupo)\n",
    "w_jk_otros = individual_proximity_to_others(G,vertice,'Political Label')\n",
    "den_grupo = at_random_scenario(G,'Political Label', grupo, 'Proximity to Group')\n",
    "den_otros = at_random_scenario(G,'Political Label', grupo, 'Proximity to Others')\n",
    "\n",
    "print('Calculos Fernando')\n",
    "print()\n",
    "print(f\"Proximidad del Nodo {vertice} en fecha {fecha} a grupo {grupo}:\")\n",
    "print(f'Numerador:  {w_jk_grupo}')\n",
    "print(f'Denominador:  {den_grupo}')\n",
    "print(f\"proximidad a {grupo}: {w_jk_grupo/den_grupo}\")\n",
    "print()\n",
    "print(f\"Proximidad del Nodo {vertice} en fecha {fecha} a otros grupos\")\n",
    "print(f'Numerador:  {w_jk_otros}')\n",
    "print(f'Denominador:  {den_otros}')\n",
    "print(f\"proximidad a Otros: {w_jk_otros/den_otros}\")"
   ]
  },
  {
   "cell_type": "code",
   "execution_count": 21,
   "metadata": {},
   "outputs": [
    {
     "name": "stdout",
     "output_type": "stream",
     "text": [
      "Calculos Lucas\n",
      "\n",
      "Proximidad del Nodo 3 en fecha 2021-05-04 a grupo Izquierda En DataFrame\n",
      "Numerador: 0.8571428571428571\n",
      "Denominador: 0.5876857957770661\n",
      "Proximidad a Izquierda: 1.4585053157691212\n",
      "\n",
      "Proximidad del Nodo 3 en fecha 2021-05-04 a otros grupos En DataFrame\n",
      "Numerador: 0.14285714285714285\n",
      "Denominador: 0.41231420422293386\n",
      "Proximidad a Otros: 0.3464764041451784\n",
      "Numerador/Denominador: 0.3464764041451784\n"
     ]
    }
   ],
   "source": [
    "proximidad_grupo = proximidad[f\"P_{grupo}\"][(proximidad[\"Nodo_ID\"] == vertice) & (proximidad[\"Date\"] == fecha)].iloc[0]\n",
    "W_jk_grupo = W_jk[f\"W_j_{grupo}\"][(W_jk[\"Nodo_ID\"] == vertice) & (W_jk[\"Date\"] == fecha)].iloc[0]\n",
    "den_grupo = denominador[f\"Denominador {grupo}\"][(denominador[\"Nodo_ID\"] == vertice) & (denominador[\"Date\"] == fecha)].iloc[0]\n",
    "print('Calculos Lucas')\n",
    "print()\n",
    "print(f\"Proximidad del Nodo {vertice} en fecha {fecha} a grupo {grupo} En DataFrame\")\n",
    "print(f\"Numerador: {W_jk_grupo}\")\n",
    "print(f\"Denominador: {den_grupo}\")\n",
    "print(f\"Proximidad a {grupo}: {proximidad_grupo}\")\n",
    "print()\n",
    "\n",
    "W_jk_otros = W_jk[f\"W_j_Otros\"][(W_jk[\"Nodo_ID\"] == vertice) & (W_jk[\"Date\"] == fecha)].iloc[0]\n",
    "den_otros = denominador[f\"Denominador Otros\"][(denominador[\"Nodo_ID\"] == vertice) & (denominador[\"Date\"] == fecha)].iloc[0]\n",
    "proximidad_otros = proximidad[f\"P_Otros\"][(proximidad[\"Nodo_ID\"] == vertice) & (proximidad[\"Date\"] == fecha)].iloc[0]\n",
    "\n",
    "print(f\"Proximidad del Nodo {vertice} en fecha {fecha} a otros grupos En DataFrame\")\n",
    "print(f\"Numerador: {W_jk_otros}\")\n",
    "print(f\"Denominador: {den_otros}\")\n",
    "print(f\"Proximidad a Otros: {proximidad_otros}\")\n",
    "print(f\"Numerador/Denominador: {W_jk_otros/den_otros}\")"
   ]
  }
 ],
 "metadata": {
  "kernelspec": {
   "display_name": "gt_global",
   "language": "python",
   "name": "python3"
  },
  "language_info": {
   "codemirror_mode": {
    "name": "ipython",
    "version": 3
   },
   "file_extension": ".py",
   "mimetype": "text/x-python",
   "name": "python",
   "nbconvert_exporter": "python",
   "pygments_lexer": "ipython3",
   "version": "3.11.6"
  }
 },
 "nbformat": 4,
 "nbformat_minor": 2
}
