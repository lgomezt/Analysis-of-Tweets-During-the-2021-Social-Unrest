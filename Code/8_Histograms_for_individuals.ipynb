{
 "cells": [
  {
   "cell_type": "code",
   "execution_count": 1,
   "metadata": {},
   "outputs": [
    {
     "name": "stderr",
     "output_type": "stream",
     "text": [
      "/mnt/disk2/anaconda3/envs/gt_global/lib/python3.11/site-packages/graph_tool/draw/cairo_draw.py:1544: RuntimeWarning: Error importing Gtk module: ; GTK+ drawing will not work.\n",
      "  warnings.warn(msg, RuntimeWarning)\n"
     ]
    }
   ],
   "source": [
    "# Mathematical and Data Managment\n",
    "import numpy as np\n",
    "import pandas as pd\n",
    "\n",
    "# Graph Managment\n",
    "import graph_tool.all as gt\n",
    "from utils import *\n",
    "\n",
    "# Data Visualization\n",
    "import seaborn as sns\n",
    "import matplotlib.pyplot as plt\n",
    "from matplotlib.ticker import FuncFormatter\n",
    "\n",
    "# Miscellaneous\n",
    "import os\n",
    "from glob import glob\n",
    "from tqdm import tqdm\n",
    "from datetime import datetime, timedelta\n",
    "import concurrent.futures"
   ]
  },
  {
   "cell_type": "code",
   "execution_count": 2,
   "metadata": {},
   "outputs": [],
   "source": [
    "# Load graphs\n",
    "files = glob('/mnt/disk2/Data/3_Day_Graphs/Graphs/*.graphml')\n",
    "files = np.sort(files)\n",
    "\n",
    "# Political Affiliations\n",
    "categories = ['Izquierda', 'Derecha', 'Centro', 'Sin Clasificar']"
   ]
  },
  {
   "cell_type": "markdown",
   "metadata": {},
   "source": [
    "### Index of Proximity Between Groups\n",
    "\n",
    "$$Prox_{j\\rightarrow k}=\\frac{W_{jk}}{(T_k/\\sum_{m\\in G} T_m)}$$"
   ]
  },
  {
   "cell_type": "markdown",
   "metadata": {},
   "source": [
    "#### Measure $W_{jk}$"
   ]
  },
  {
   "cell_type": "code",
   "execution_count": 3,
   "metadata": {},
   "outputs": [
    {
     "name": "stderr",
     "output_type": "stream",
     "text": [
      "100%|██████████| 1/1 [02:15<00:00, 135.53s/it]\n"
     ]
    }
   ],
   "source": [
    "W_jk = pd.DataFrame()\n",
    "for file in tqdm(files):\n",
    "    # Importamos el grafo\n",
    "    g = gt.load_graph(file)\n",
    "    graph_date = file.split('/')[-1].split('.')[0].split('_')[-1]\n",
    "\n",
    "    n_individuos = g.num_vertices()\n",
    "    political_labeling = np.array([g.vp[\"Political Label\"][j] for j in range(n_individuos)])\n",
    "\n",
    "    # Vamos a crear la matriz de adyacencia teniendo en cuenta los pesos\n",
    "    adj = np.zeros((n_individuos, n_individuos))\n",
    "    for e in g.edges():\n",
    "        s = int(e.source())\n",
    "        t = int(e.target())\n",
    "        w = g.ep[\"Normal Weight\"][e]\n",
    "        adj[s, t] = w\n",
    "    \n",
    "    # Vamos a ir nodo por nodo calculando el numerador de la definición de proximidad\n",
    "    for k in range(n_individuos):\n",
    "        # Extraemos la matriz de adyacencia NO normalizada (1s y 0s)\n",
    "        # Vamos a ver todos los enlaces del nodo k con el resto de nodos\n",
    "        enlaces_jk = adj[k, :]\n",
    "        # ¿Cuál es la afiliación política del nodo k?\n",
    "        label_k = political_labeling[k]\n",
    "\n",
    "        # Suma de todos los pesos de los enlaces de k con tweets de izquierda, derecha, centro, \n",
    "        # sin clasificar, a otros como un todo y a su mismo partido\n",
    "        W_j_izquierda = enlaces_jk[political_labeling == \"Izquierda\"].sum()\n",
    "        W_j_derecha = enlaces_jk[political_labeling == \"Derecha\"].sum()\n",
    "        W_j_centro = enlaces_jk[political_labeling == \"Centro\"].sum()\n",
    "        W_j_sc = enlaces_jk[political_labeling == \"Sin Clasificar\"].sum()\n",
    "        W_j_mismo = enlaces_jk[political_labeling == label_k].sum()\n",
    "        W_j_otros = enlaces_jk[political_labeling != label_k].sum()\n",
    "        temp = pd.DataFrame({\"Ind\": k, \"Date\": graph_date, \"Political Afilliation\": label_k, \n",
    "                            \"W_j_izquierda\": W_j_izquierda, \"W_j_derecha\": W_j_derecha, \"W_j_centro\": W_j_centro, \n",
    "                            \"W_j_sc\": W_j_sc, \"W_j_mismo\": W_j_mismo, \"W_j_otros\": W_j_otros}, index = [0])\n",
    "        W_jk = pd.concat([W_jk, temp], axis = 0)\n",
    "W_jk = W_jk.reset_index(drop = True)"
   ]
  },
  {
   "cell_type": "code",
   "execution_count": 4,
   "metadata": {},
   "outputs": [
    {
     "data": {
      "text/plain": [
       "['Daily_graphs',\n",
       " 'ACLED Colombia (2018-01-01-2023-10-31).csv',\n",
       " 'nodes.csv',\n",
       " 'RawData',\n",
       " 'Pickle',\n",
       " 'retweeted_text.gzip',\n",
       " 'W_jk.gzip',\n",
       " 'count_tweets.gzip',\n",
       " 'Tweets_DataFrames',\n",
       " '3_Day_Graphs']"
      ]
     },
     "execution_count": 4,
     "metadata": {},
     "output_type": "execute_result"
    }
   ],
   "source": [
    "os.listdir(\"../../../Data\")"
   ]
  },
  {
   "cell_type": "code",
   "execution_count": 5,
   "metadata": {},
   "outputs": [],
   "source": [
    "W_jk.to_pickle(path = \"../../../Data/W_jk.gzip\", compression = \"gzip\")"
   ]
  }
 ],
 "metadata": {
  "kernelspec": {
   "display_name": "gt_global",
   "language": "python",
   "name": "python3"
  },
  "language_info": {
   "codemirror_mode": {
    "name": "ipython",
    "version": 3
   },
   "file_extension": ".py",
   "mimetype": "text/x-python",
   "name": "python",
   "nbconvert_exporter": "python",
   "pygments_lexer": "ipython3",
   "version": "3.11.6"
  }
 },
 "nbformat": 4,
 "nbformat_minor": 2
}
