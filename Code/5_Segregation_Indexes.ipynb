{
 "cells": [
  {
   "cell_type": "markdown",
   "metadata": {},
   "source": [
    "# 5. Segregation Indexes\n",
    "\n",
    "Following the Bojanowski & Corten Paper _Measuring Segregation in Social Networks_ 2014, We calculate some segregation indexes for our graphs along the time. First, we import the data and libraries ised for the creation of the functions in the Prerequiste section. Then We calculate The Freeman Segregation Index and the Spectral Segregatoin Index in The next Sections"
   ]
  },
  {
   "cell_type": "markdown",
   "metadata": {},
   "source": [
    "## 1. Prerequistes"
   ]
  },
  {
   "cell_type": "code",
   "execution_count": 1,
   "metadata": {},
   "outputs": [],
   "source": [
    "import numpy as np\n",
    "import pandas as pd\n",
    "import pickle\n",
    "import graph_tool as gt\n",
    "from graph_tool.spectral import adjacency\n",
    "import scipy.sparse as sp\n",
    "from glob import glob\n",
    "import seaborn as sns\n",
    "import matplotlib.pyplot as plt"
   ]
  },
  {
   "cell_type": "code",
   "execution_count": 2,
   "metadata": {},
   "outputs": [
    {
     "name": "stdout",
     "output_type": "stream",
     "text": [
      "There are 37337 nodes and 4 Groups\n"
     ]
    }
   ],
   "source": [
    "# Load Types Matrix\n",
    "data = np.load('/mnt/disk2/Data/Matrices/Useful_Matrices/types_matrix.npz')\n",
    "indices = data['indices']\n",
    "indptr = data['indptr']\n",
    "shape = data['shape']\n",
    "data = data['data']\n",
    "types = sp.csr_matrix((data, indices, indptr), shape = shape)\n",
    "print(f'There are {types.shape[0]} nodes and {types.shape[1]} Groups')\n",
    "\n",
    "# Load Types DF\n",
    "types_df = pd.read_pickle('/mnt/disk2/Data/Pickle/types_indicator_df.pkl')\n",
    "\n",
    "# Load user_indices file for filtering\n",
    "with open('/mnt/disk2/Data/Pickle/user_indices.pkl', 'rb') as file:\n",
    "    user_indices = pickle.load(file)"
   ]
  },
  {
   "cell_type": "code",
   "execution_count": 3,
   "metadata": {},
   "outputs": [
    {
     "name": "stdout",
     "output_type": "stream",
     "text": [
      "Tweets de Derecha: 6812\n",
      "Tweets de Izquierda: 23138\n",
      "Tweets de Centro: 3543\n",
      "No Retweets: 3844\n"
     ]
    }
   ],
   "source": [
    "#In this first attempt, our types matrix looks like this\n",
    "N, K = types.shape\n",
    "Eta_k = []\n",
    "for k in range(K):\n",
    "    Eta = np.sum(types[:,k])\n",
    "    Eta_k.append(Eta)\n",
    "Eta_k = np.array(Eta_k)\n",
    "\n",
    "# We show this amounts\n",
    "print(f'Tweets de Derecha: {Eta_k[0]}')\n",
    "print(f'Tweets de Izquierda: {Eta_k[1]}')\n",
    "print(f'Tweets de Centro: {Eta_k[2]}')\n",
    "print(f'No Retweets: {Eta_k[3]}')"
   ]
  },
  {
   "cell_type": "code",
   "execution_count": 76,
   "metadata": {},
   "outputs": [],
   "source": [
    "def freeman(adj: np.array, types: np.array) -> float:\n",
    "    \"\"\"\n",
    "    Description of your function.\n",
    "\n",
    "    Args:\n",
    "        adj (Array like): The adjacency matrix of the graph for constructing the index\n",
    "        \n",
    "        types (Array like): Matrix of N rows (Number of Nodes) and K columns (Number of Groups) where each entry of the matrix\n",
    "        specifies if that Node of row 'i' belongs to the group 'k' in column 'k'.\n",
    "\n",
    "    Returns:\n",
    "        type: Segregation Index of Freeman\n",
    "\n",
    "    \"\"\"\n",
    "    # We get the amount of vertices and groups\n",
    "    N, K = types.shape\n",
    "    \n",
    "    # Get the amount of nodes per group\n",
    "    Eta_k =[]\n",
    "    for k in range(K):\n",
    "        Eta = np.sum(types[:, k])\n",
    "        Eta_k.append(Eta)\n",
    "    Eta_k = np.array(Eta_k)\n",
    "    \n",
    "    # Calculate the contact layer Corresponds to the number of relation between and within groups acoording to the groups indexes\n",
    "    M = types.transpose().dot(adj).dot(types)\n",
    "    M = M.toarray()\n",
    "    M = np.triu(M)\n",
    "    M_no_diag = np.triu(M,k=1)\n",
    "\n",
    "    # Calculate P \n",
    "    P = M_no_diag.sum() / M.sum()\n",
    "\n",
    "    # Prepare for calculation\n",
    "    numerator = P * N * (N - 1)\n",
    "    denominator = (Eta_k.sum() **2) - (np.sum(Eta_k **2))\n",
    "\n",
    "    # calculate using the formula\n",
    "    S = 1 - (numerator / denominator)\n",
    "    \n",
    "    return S"
   ]
  },
  {
   "cell_type": "code",
   "execution_count": 139,
   "metadata": {},
   "outputs": [
    {
     "name": "stderr",
     "output_type": "stream",
     "text": [
      "/home/fcastrillon/.conda/envs/gt/lib/python3.11/site-packages/scipy/sparse/_base.py:659: RuntimeWarning: divide by zero encountered in divide\n",
      "  recip = np.true_divide(1., other)\n"
     ]
    },
    {
     "data": {
      "text/plain": [
       "(1+0j)"
      ]
     },
     "execution_count": 139,
     "metadata": {},
     "output_type": "execute_result"
    }
   ],
   "source": [
    "# SANDBOX\n",
    "\n",
    "# Example Adjacency\n",
    "data = np.load('/mnt/disk2/Data/Matrices/3_Day_Window/adj_end_of_01-05-2021.csr.npz')\n",
    "indices = data['indices']\n",
    "indptr = data['indptr']\n",
    "shape = data['shape']\n",
    "data = data['data']\n",
    "adj = sp.csr_matrix((data, indices, indptr), shape = shape)\n",
    "adj = sp.csr_matrix.tolil(adj)\n",
    "\n",
    "# Normalize adjacency\n",
    "row_sums = adj.sum(axis=1).A.ravel()\n",
    "R = adj / row_sums[:, np.newaxis]\n",
    "R = R.tocsr()\n",
    "\n",
    "# Get one group Sub Matrix\n",
    "# Get the group Indexes\n",
    "centro_id = types_df[types_df['Dummy Centro'] == 1].index\n",
    "\n",
    "# get the filter for the Adjcacency\n",
    "filter = []\n",
    "for user in centro_id:\n",
    "    filter.append(user_indices[user])\n",
    "filter\n",
    "\n",
    "# Get sub Matrix\n",
    "ixgrid = np.ix_(filter,filter)\n",
    "C = R[ixgrid]\n",
    "C = C.toarray()\n",
    "\n",
    "# Get Max EigenValue\n",
    "SSI_C = np.linalg.eig(C)\n",
    "SSI_value = np.max(SSI_C.eigenvalues)\n",
    "SSI_value"
   ]
  },
  {
   "cell_type": "code",
   "execution_count": null,
   "metadata": {},
   "outputs": [],
   "source": [
    "def Sepctral_Segregation_Index(adj: np.array, types: np.array, user_indices: dict) -> float:\n",
    "    \"\"\"\n",
    "    Description of your function.\n",
    "\n",
    "    Args:\n",
    "        adj (Array like): The adjacency matrix of the graph for constructing the index\n",
    "        \n",
    "        types (Array like): Matrix of N rows (Number of Nodes) and K columns (Number of Groups) where each entry of the matrix\n",
    "        specifies if that Node of row 'i' belongs to the group 'k' in column 'k'.\n",
    "\n",
    "    Returns:\n",
    "        type: Segregation Index of Freeman\n",
    "\n",
    "    \"\"\"\n",
    "\n",
    "    # Normalize adjacency\n",
    "    row_sums = adj.sum(axis=1).A.ravel()\n",
    "    R = adj / row_sums[:, np.newaxis]\n",
    "    R = R.tocsr()\n",
    "\n",
    "    # Get the group Indexes\n",
    "    centro_id = types_df[types_df['Dummy Centro'] == 1].index\n",
    "\n",
    "    # get the filter for the Adjcacency\n",
    "    filter = []\n",
    "    for user in centro_id:\n",
    "        filter.append(user_indices[user])\n",
    "    filter\n",
    "\n",
    "    # Get sub Matrix\n",
    "    ixgrid = np.ix_(filter,filter)\n",
    "    C = R[ixgrid]\n",
    "    C = C.toarray()\n",
    "\n",
    "    # Get Max EigenValue\n",
    "    SSI_C = np.linalg.eig(C)\n",
    "    SSI_value = np.max(SSI_C.eigenvalues)\n",
    "    SSI_value\n"
   ]
  },
  {
   "cell_type": "code",
   "execution_count": 129,
   "metadata": {},
   "outputs": [
    {
     "ename": "ValueError",
     "evalue": "matrix type must be 'f', 'd', 'F', or 'D'",
     "output_type": "error",
     "traceback": [
      "\u001b[0;31m---------------------------------------------------------------------------\u001b[0m",
      "\u001b[0;31mValueError\u001b[0m                                Traceback (most recent call last)",
      "\u001b[1;32m/mnt/disk2/fcastrillon/Analysis-of-Tweets-During-the-2021-Social-Unrest/Code/5_Segregation_Indexes.ipynb Cell 8\u001b[0m line \u001b[0;36m1\n\u001b[1;32m     <a href='vscode-notebook-cell://ssh-remote%2B157.253.242.110/mnt/disk2/fcastrillon/Analysis-of-Tweets-During-the-2021-Social-Unrest/Code/5_Segregation_Indexes.ipynb#X14sdnNjb2RlLXJlbW90ZQ%3D%3D?line=10'>11</a>\u001b[0m \u001b[39m# Compute eigenvalues (k=2 means compute the 2 largest eigenvalues)\u001b[39;00m\n\u001b[1;32m     <a href='vscode-notebook-cell://ssh-remote%2B157.253.242.110/mnt/disk2/fcastrillon/Analysis-of-Tweets-During-the-2021-Social-Unrest/Code/5_Segregation_Indexes.ipynb#X14sdnNjb2RlLXJlbW90ZQ%3D%3D?line=11'>12</a>\u001b[0m num_eigenvalues \u001b[39m=\u001b[39m \u001b[39m2\u001b[39m\n\u001b[0;32m---> <a href='vscode-notebook-cell://ssh-remote%2B157.253.242.110/mnt/disk2/fcastrillon/Analysis-of-Tweets-During-the-2021-Social-Unrest/Code/5_Segregation_Indexes.ipynb#X14sdnNjb2RlLXJlbW90ZQ%3D%3D?line=12'>13</a>\u001b[0m eigenvalues, _ \u001b[39m=\u001b[39m eigs(matrix, k\u001b[39m=\u001b[39;49mnum_eigenvalues)\n\u001b[1;32m     <a href='vscode-notebook-cell://ssh-remote%2B157.253.242.110/mnt/disk2/fcastrillon/Analysis-of-Tweets-During-the-2021-Social-Unrest/Code/5_Segregation_Indexes.ipynb#X14sdnNjb2RlLXJlbW90ZQ%3D%3D?line=14'>15</a>\u001b[0m \u001b[39mprint\u001b[39m(\u001b[39m\"\u001b[39m\u001b[39mEigenvalues:\u001b[39m\u001b[39m\"\u001b[39m)\n\u001b[1;32m     <a href='vscode-notebook-cell://ssh-remote%2B157.253.242.110/mnt/disk2/fcastrillon/Analysis-of-Tweets-During-the-2021-Social-Unrest/Code/5_Segregation_Indexes.ipynb#X14sdnNjb2RlLXJlbW90ZQ%3D%3D?line=15'>16</a>\u001b[0m \u001b[39mprint\u001b[39m(eigenvalues)\n",
      "File \u001b[0;32m~/.conda/envs/gt/lib/python3.11/site-packages/scipy/sparse/linalg/_eigen/arpack/arpack.py:1346\u001b[0m, in \u001b[0;36meigs\u001b[0;34m(A, k, M, sigma, which, v0, ncv, maxiter, tol, return_eigenvectors, Minv, OPinv, OPpart)\u001b[0m\n\u001b[1;32m   1343\u001b[0m     \u001b[39melse\u001b[39;00m:\n\u001b[1;32m   1344\u001b[0m         M_matvec \u001b[39m=\u001b[39m _aslinearoperator_with_dtype(M)\u001b[39m.\u001b[39mmatvec\n\u001b[0;32m-> 1346\u001b[0m params \u001b[39m=\u001b[39m _UnsymmetricArpackParams(n, k, A\u001b[39m.\u001b[39;49mdtype\u001b[39m.\u001b[39;49mchar, matvec, mode,\n\u001b[1;32m   1347\u001b[0m                                   M_matvec, Minv_matvec, sigma,\n\u001b[1;32m   1348\u001b[0m                                   ncv, v0, maxiter, which, tol)\n\u001b[1;32m   1350\u001b[0m \u001b[39mwith\u001b[39;00m _ARPACK_LOCK:\n\u001b[1;32m   1351\u001b[0m     \u001b[39mwhile\u001b[39;00m \u001b[39mnot\u001b[39;00m params\u001b[39m.\u001b[39mconverged:\n",
      "File \u001b[0;32m~/.conda/envs/gt/lib/python3.11/site-packages/scipy/sparse/linalg/_eigen/arpack/arpack.py:696\u001b[0m, in \u001b[0;36m_UnsymmetricArpackParams.__init__\u001b[0;34m(self, n, k, tp, matvec, mode, M_matvec, Minv_matvec, sigma, ncv, v0, maxiter, which, tol)\u001b[0m\n\u001b[1;32m    693\u001b[0m \u001b[39mif\u001b[39;00m k \u001b[39m>\u001b[39m\u001b[39m=\u001b[39m n \u001b[39m-\u001b[39m \u001b[39m1\u001b[39m:\n\u001b[1;32m    694\u001b[0m     \u001b[39mraise\u001b[39;00m \u001b[39mValueError\u001b[39;00m(\u001b[39m\"\u001b[39m\u001b[39mk must be less than ndim(A)-1, k=\u001b[39m\u001b[39m%d\u001b[39;00m\u001b[39m\"\u001b[39m \u001b[39m%\u001b[39m k)\n\u001b[0;32m--> 696\u001b[0m _ArpackParams\u001b[39m.\u001b[39;49m\u001b[39m__init__\u001b[39;49m(\u001b[39mself\u001b[39;49m, n, k, tp, mode, sigma,\n\u001b[1;32m    697\u001b[0m                        ncv, v0, maxiter, which, tol)\n\u001b[1;32m    699\u001b[0m \u001b[39mif\u001b[39;00m \u001b[39mself\u001b[39m\u001b[39m.\u001b[39mncv \u001b[39m>\u001b[39m n \u001b[39mor\u001b[39;00m \u001b[39mself\u001b[39m\u001b[39m.\u001b[39mncv \u001b[39m<\u001b[39m\u001b[39m=\u001b[39m k \u001b[39m+\u001b[39m \u001b[39m1\u001b[39m:\n\u001b[1;32m    700\u001b[0m     \u001b[39mraise\u001b[39;00m \u001b[39mValueError\u001b[39;00m(\u001b[39m\"\u001b[39m\u001b[39mncv must be k+1<ncv<=n, ncv=\u001b[39m\u001b[39m%s\u001b[39;00m\u001b[39m\"\u001b[39m \u001b[39m%\u001b[39m \u001b[39mself\u001b[39m\u001b[39m.\u001b[39mncv)\n",
      "File \u001b[0;32m~/.conda/envs/gt/lib/python3.11/site-packages/scipy/sparse/linalg/_eigen/arpack/arpack.py:322\u001b[0m, in \u001b[0;36m_ArpackParams.__init__\u001b[0;34m(self, n, k, tp, mode, sigma, ncv, v0, maxiter, which, tol)\u001b[0m\n\u001b[1;32m    319\u001b[0m     \u001b[39mraise\u001b[39;00m \u001b[39mValueError\u001b[39;00m(\u001b[39m\"\u001b[39m\u001b[39mmaxiter must be positive, maxiter=\u001b[39m\u001b[39m%d\u001b[39;00m\u001b[39m\"\u001b[39m \u001b[39m%\u001b[39m maxiter)\n\u001b[1;32m    321\u001b[0m \u001b[39mif\u001b[39;00m tp \u001b[39mnot\u001b[39;00m \u001b[39min\u001b[39;00m \u001b[39m'\u001b[39m\u001b[39mfdFD\u001b[39m\u001b[39m'\u001b[39m:\n\u001b[0;32m--> 322\u001b[0m     \u001b[39mraise\u001b[39;00m \u001b[39mValueError\u001b[39;00m(\u001b[39m\"\u001b[39m\u001b[39mmatrix type must be \u001b[39m\u001b[39m'\u001b[39m\u001b[39mf\u001b[39m\u001b[39m'\u001b[39m\u001b[39m, \u001b[39m\u001b[39m'\u001b[39m\u001b[39md\u001b[39m\u001b[39m'\u001b[39m\u001b[39m, \u001b[39m\u001b[39m'\u001b[39m\u001b[39mF\u001b[39m\u001b[39m'\u001b[39m\u001b[39m, or \u001b[39m\u001b[39m'\u001b[39m\u001b[39mD\u001b[39m\u001b[39m'\u001b[39m\u001b[39m\"\u001b[39m)\n\u001b[1;32m    324\u001b[0m \u001b[39mif\u001b[39;00m v0 \u001b[39mis\u001b[39;00m \u001b[39mnot\u001b[39;00m \u001b[39mNone\u001b[39;00m:\n\u001b[1;32m    325\u001b[0m     \u001b[39m# ARPACK overwrites its initial resid,  make a copy\u001b[39;00m\n\u001b[1;32m    326\u001b[0m     \u001b[39mself\u001b[39m\u001b[39m.\u001b[39mresid \u001b[39m=\u001b[39m np\u001b[39m.\u001b[39marray(v0, copy\u001b[39m=\u001b[39m\u001b[39mTrue\u001b[39;00m)\n",
      "\u001b[0;31mValueError\u001b[0m: matrix type must be 'f', 'd', 'F', or 'D'"
     ]
    }
   ],
   "source": [
    "import numpy as np\n",
    "from scipy.sparse import csr_matrix\n",
    "from scipy.sparse.linalg import eigs\n",
    "\n",
    "# Create a sparse CSR matrix (replace this with your matrix)\n",
    "data = np.array([3, 2, 1, 4])\n",
    "row_indices = np.array([0, 1, 1, 2])\n",
    "column_indices = np.array([1, 2, 3, 2])\n",
    "matrix = csr_matrix((data, (row_indices, column_indices)), shape=(4, 4))\n",
    "\n",
    "# Compute eigenvalues (k=2 means compute the 2 largest eigenvalues)\n",
    "num_eigenvalues = 2\n",
    "eigenvalues, _ = eigs(matrix, k=num_eigenvalues)\n",
    "\n",
    "print(\"Eigenvalues:\")\n",
    "print(eigenvalues)\n"
   ]
  },
  {
   "cell_type": "markdown",
   "metadata": {},
   "source": [
    "## 2. 3 Day rolling window Segregation Indexes"
   ]
  },
  {
   "cell_type": "code",
   "execution_count": 77,
   "metadata": {},
   "outputs": [],
   "source": [
    "# Load Adjacency matrices\n",
    "files = glob('/mnt/disk2/Data/Matrices/3_Day_Window/*csr.npz')\n",
    "data_viz = []\n",
    "\n",
    "for file in files:\n",
    "    #Loading the Adjacency Matrix as CRS\n",
    "    data = np.load(file)\n",
    "    indices = data['indices']\n",
    "    indptr = data['indptr']\n",
    "    shape = data['shape']\n",
    "    data = data['data']\n",
    "    adj = sp.csr_matrix((data, indices, indptr), shape = shape)\n",
    "\n",
    "    #Getting the name of the Matrix\n",
    "    adjacency_name = file.split('/')[-1].split('.')[0].split('_')[-1]\n",
    "\n",
    "    #Appending it to the data Visualization list\n",
    "    data = {\n",
    "        'date': [adjacency_name],\n",
    "        'segregation': [freeman(adj,types)]\n",
    "    }\n",
    "    df = pd.DataFrame(data, index = None)\n",
    "    data_viz.append(df)\n",
    "\n",
    "# We create a Dataframe for Visualization\n",
    "data_viz = pd.concat(data_viz)\n",
    "\n",
    "# Transform the list to a big dataframe\n",
    "data_viz['date'] = pd.to_datetime(data_viz['date'], format='%d-%m-%Y')"
   ]
  },
  {
   "cell_type": "code",
   "execution_count": 78,
   "metadata": {},
   "outputs": [
    {
     "data": {
      "text/html": [
       "<div>\n",
       "<style scoped>\n",
       "    .dataframe tbody tr th:only-of-type {\n",
       "        vertical-align: middle;\n",
       "    }\n",
       "\n",
       "    .dataframe tbody tr th {\n",
       "        vertical-align: top;\n",
       "    }\n",
       "\n",
       "    .dataframe thead th {\n",
       "        text-align: right;\n",
       "    }\n",
       "</style>\n",
       "<table border=\"1\" class=\"dataframe\">\n",
       "  <thead>\n",
       "    <tr style=\"text-align: right;\">\n",
       "      <th></th>\n",
       "      <th>date</th>\n",
       "      <th>segregation</th>\n",
       "    </tr>\n",
       "  </thead>\n",
       "  <tbody>\n",
       "    <tr>\n",
       "      <th>0</th>\n",
       "      <td>2021-05-26</td>\n",
       "      <td>0.755996</td>\n",
       "    </tr>\n",
       "    <tr>\n",
       "      <th>0</th>\n",
       "      <td>2021-06-03</td>\n",
       "      <td>0.761994</td>\n",
       "    </tr>\n",
       "    <tr>\n",
       "      <th>0</th>\n",
       "      <td>2021-05-05</td>\n",
       "      <td>0.749444</td>\n",
       "    </tr>\n",
       "    <tr>\n",
       "      <th>0</th>\n",
       "      <td>2021-05-09</td>\n",
       "      <td>0.783448</td>\n",
       "    </tr>\n",
       "    <tr>\n",
       "      <th>0</th>\n",
       "      <td>2021-06-24</td>\n",
       "      <td>0.719959</td>\n",
       "    </tr>\n",
       "    <tr>\n",
       "      <th>...</th>\n",
       "      <td>...</td>\n",
       "      <td>...</td>\n",
       "    </tr>\n",
       "    <tr>\n",
       "      <th>0</th>\n",
       "      <td>2021-05-27</td>\n",
       "      <td>0.752179</td>\n",
       "    </tr>\n",
       "    <tr>\n",
       "      <th>0</th>\n",
       "      <td>2021-06-01</td>\n",
       "      <td>0.792495</td>\n",
       "    </tr>\n",
       "    <tr>\n",
       "      <th>0</th>\n",
       "      <td>2021-05-22</td>\n",
       "      <td>0.776901</td>\n",
       "    </tr>\n",
       "    <tr>\n",
       "      <th>0</th>\n",
       "      <td>2021-05-25</td>\n",
       "      <td>0.761262</td>\n",
       "    </tr>\n",
       "    <tr>\n",
       "      <th>0</th>\n",
       "      <td>2021-05-23</td>\n",
       "      <td>0.773726</td>\n",
       "    </tr>\n",
       "  </tbody>\n",
       "</table>\n",
       "<p>61 rows × 2 columns</p>\n",
       "</div>"
      ],
      "text/plain": [
       "         date  segregation\n",
       "0  2021-05-26     0.755996\n",
       "0  2021-06-03     0.761994\n",
       "0  2021-05-05     0.749444\n",
       "0  2021-05-09     0.783448\n",
       "0  2021-06-24     0.719959\n",
       "..        ...          ...\n",
       "0  2021-05-27     0.752179\n",
       "0  2021-06-01     0.792495\n",
       "0  2021-05-22     0.776901\n",
       "0  2021-05-25     0.761262\n",
       "0  2021-05-23     0.773726\n",
       "\n",
       "[61 rows x 2 columns]"
      ]
     },
     "execution_count": 78,
     "metadata": {},
     "output_type": "execute_result"
    }
   ],
   "source": [
    "data_viz"
   ]
  },
  {
   "cell_type": "code",
   "execution_count": 79,
   "metadata": {},
   "outputs": [
    {
     "name": "stderr",
     "output_type": "stream",
     "text": [
      "/home/fcastrillon/.conda/envs/gt/lib/python3.11/site-packages/seaborn/axisgrid.py:123: UserWarning: The figure layout has changed to tight\n",
      "  self._figure.tight_layout(*args, **kwargs)\n"
     ]
    },
    {
     "data": {
      "image/png": "[encoded data removed]",
      "text/plain": [
       "<Figure size 500x500 with 1 Axes>"
      ]
     },
     "metadata": {},
     "output_type": "display_data"
    }
   ],
   "source": [
    "# Data Visualization\n",
    "sns.relplot(data = data_viz,\n",
    "            x ='date',\n",
    "            y ='segregation',\n",
    "            kind = 'line')\n",
    "plt.title('Índice de Segregación global de Freeman')\n",
    "plt.xticks(rotation=45)\n",
    "plt.show()"
   ]
  }
 ],
 "metadata": {
  "kernelspec": {
   "display_name": "gt",
   "language": "python",
   "name": "python3"
  },
  "language_info": {
   "codemirror_mode": {
    "name": "ipython",
    "version": 3
   },
   "file_extension": ".py",
   "mimetype": "text/x-python",
   "name": "python",
   "nbconvert_exporter": "python",
   "pygments_lexer": "ipython3",
   "version": "3.11.5"
  }
 },
 "nbformat": 4,
 "nbformat_minor": 2
}
