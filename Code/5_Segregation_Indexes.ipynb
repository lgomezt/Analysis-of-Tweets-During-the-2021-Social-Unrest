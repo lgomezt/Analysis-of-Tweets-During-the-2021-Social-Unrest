{
 "cells": [
  {
   "cell_type": "markdown",
   "metadata": {},
   "source": [
    "# 5. Segregation Indexes"
   ]
  },
  {
   "cell_type": "markdown",
   "metadata": {},
   "source": [
    "## Prerequistes"
   ]
  },
  {
   "cell_type": "code",
   "execution_count": 5,
   "metadata": {},
   "outputs": [],
   "source": [
    "import numpy as np\n",
    "import pandas as pd\n",
    "import pickle\n",
    "import graph_tool as gt\n",
    "from graph_tool.spectral import adjacency\n",
    "import scipy.sparse as sp"
   ]
  },
  {
   "cell_type": "code",
   "execution_count": 31,
   "metadata": {},
   "outputs": [],
   "source": [
    "# Load Types Matrix\n",
    "data = np.load('/mnt/disk2/Data/Matrices/Useful_Matrices/types_matrix.npz')\n",
    "indices = data['indices']\n",
    "indptr = data['indptr']\n",
    "shape = data['shape']\n",
    "data = data['data']\n",
    "types = sp.csr_matrix((data, indices, indptr), shape = shape)\n",
    "\n",
    "# Load Types Matrix\n",
    "data = np.load('/mnt/disk2/Data/Matrices/3_Day_Window/adj_end_of_30-04-2021.csr.npz')\n",
    "indices = data['indices']\n",
    "indptr = data['indptr']\n",
    "shape = data['shape']\n",
    "data = data['data']\n",
    "adj = sp.csr_matrix((data, indices, indptr), shape = shape)"
   ]
  },
  {
   "cell_type": "code",
   "execution_count": 38,
   "metadata": {},
   "outputs": [
    {
     "name": "stdout",
     "output_type": "stream",
     "text": [
      "Matriz de Tipos: \n"
     ]
    },
    {
     "data": {
      "text/plain": [
       "<37337x4 sparse matrix of type '<class 'numpy.int32'>'\n",
       "\twith 64542 stored elements in Compressed Sparse Row format>"
      ]
     },
     "execution_count": 38,
     "metadata": {},
     "output_type": "execute_result"
    }
   ],
   "source": [
    "# Types Matrix is a crs matrix. The types of the matrix is as follows: Derecha, Izquierda, Centro, No Retweet\n",
    "types"
   ]
  },
  {
   "cell_type": "code",
   "execution_count": 34,
   "metadata": {},
   "outputs": [
    {
     "data": {
      "text/plain": [
       "<37337x37337 sparse matrix of type '<class 'numpy.float64'>'\n",
       "\twith 924709 stored elements in Compressed Sparse Row format>"
      ]
     },
     "execution_count": 34,
     "metadata": {},
     "output_type": "execute_result"
    }
   ],
   "source": [
    "adj"
   ]
  },
  {
   "cell_type": "code",
   "execution_count": 39,
   "metadata": {},
   "outputs": [],
   "source": [
    "# Contact Layer. Corresponds to the number of relation between and within groups acoording to the groups indexes\n",
    "M = types.transpose().dot(adj).dot(types)\n",
    "\n",
    "M.toarray()"
   ]
  },
  {
   "cell_type": "code",
   "execution_count": 36,
   "metadata": {},
   "outputs": [
    {
     "data": {
      "text/plain": [
       "array([[ 313958.,  304581.,  314412.,   53308.],\n",
       "       [ 304581., 1113976., 1019961.,   79963.],\n",
       "       [ 314412., 1019961.,  949182.,   82660.],\n",
       "       [  53308.,   79963.,   82660.,   11668.]])"
      ]
     },
     "execution_count": 36,
     "metadata": {},
     "output_type": "execute_result"
    }
   ],
   "source": []
  }
 ],
 "metadata": {
  "kernelspec": {
   "display_name": "gt",
   "language": "python",
   "name": "python3"
  },
  "language_info": {
   "codemirror_mode": {
    "name": "ipython",
    "version": 3
   },
   "file_extension": ".py",
   "mimetype": "text/x-python",
   "name": "python",
   "nbconvert_exporter": "python",
   "pygments_lexer": "ipython3",
   "version": "3.11.5"
  }
 },
 "nbformat": 4,
 "nbformat_minor": 2
}
